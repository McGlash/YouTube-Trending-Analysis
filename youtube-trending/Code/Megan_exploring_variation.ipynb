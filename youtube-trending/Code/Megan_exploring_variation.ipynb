{
 "cells": [
  {
   "cell_type": "code",
   "execution_count": 1,
   "metadata": {},
   "outputs": [],
   "source": [
    "import pandas as pd\n",
    "import os\n",
    "import re\n",
    "from datetime import datetime as dt\n",
    "import scipy.stats as st\n",
    "import matplotlib.pyplot as plt\n",
    "import numpy as np\n",
    "import seaborn as sns\n",
    "import requests\n",
    "import time\n",
    "import random\n",
    "import pickle\n",
    "from functools import reduce\n",
    "\n",
    "from scipy.stats import linregress\n",
    "\n",
    "from IPython.core.interactiveshell import InteractiveShell\n",
    "InteractiveShell.ast_node_interactivity = 'all'"
   ]
  },
  {
   "cell_type": "markdown",
   "metadata": {},
   "source": [
    "Import and Merge Datasets\n",
    "---"
   ]
  },
  {
   "cell_type": "code",
   "execution_count": 2,
   "metadata": {},
   "outputs": [],
   "source": [
    "Total_DF=pd.read_pickle(\"../Data/VideoDF.pkl\")"
   ]
  },
  {
   "cell_type": "code",
   "execution_count": 3,
   "metadata": {},
   "outputs": [
    {
     "data": {
      "text/html": [
       "<div>\n",
       "<style scoped>\n",
       "    .dataframe tbody tr th:only-of-type {\n",
       "        vertical-align: middle;\n",
       "    }\n",
       "\n",
       "    .dataframe tbody tr th {\n",
       "        vertical-align: top;\n",
       "    }\n",
       "\n",
       "    .dataframe thead th {\n",
       "        text-align: right;\n",
       "    }\n",
       "</style>\n",
       "<table border=\"1\" class=\"dataframe\">\n",
       "  <thead>\n",
       "    <tr style=\"text-align: right;\">\n",
       "      <th></th>\n",
       "      <th>video_id</th>\n",
       "      <th>trending_date</th>\n",
       "      <th>title</th>\n",
       "      <th>channel_title</th>\n",
       "      <th>category_id</th>\n",
       "      <th>publish_time</th>\n",
       "      <th>tags</th>\n",
       "      <th>views</th>\n",
       "      <th>likes</th>\n",
       "      <th>dislikes</th>\n",
       "      <th>comment_count</th>\n",
       "      <th>thumbnail_link</th>\n",
       "      <th>comments_disabled</th>\n",
       "      <th>ratings_disabled</th>\n",
       "      <th>description</th>\n",
       "      <th>country</th>\n",
       "    </tr>\n",
       "  </thead>\n",
       "  <tbody>\n",
       "    <tr>\n",
       "      <th>0</th>\n",
       "      <td>n1WpP7iowLc</td>\n",
       "      <td>2017-11-14</td>\n",
       "      <td>Eminem - Walk On Water (Audio) ft. Beyoncé</td>\n",
       "      <td>EminemVEVO</td>\n",
       "      <td>10</td>\n",
       "      <td>2017-11-10 17:00:03</td>\n",
       "      <td>Eminem|\"Walk\"|\"On\"|\"Water\"|\"Aftermath/Shady/In...</td>\n",
       "      <td>17158579</td>\n",
       "      <td>787425</td>\n",
       "      <td>43420</td>\n",
       "      <td>125882</td>\n",
       "      <td>https://i.ytimg.com/vi/n1WpP7iowLc/default.jpg</td>\n",
       "      <td>False</td>\n",
       "      <td>False</td>\n",
       "      <td>Eminem's new track Walk on Water ft. Beyoncé i...</td>\n",
       "      <td>CA</td>\n",
       "    </tr>\n",
       "    <tr>\n",
       "      <th>1</th>\n",
       "      <td>0dBIkQ4Mz1M</td>\n",
       "      <td>2017-11-14</td>\n",
       "      <td>PLUSH - Bad Unboxing Fan Mail</td>\n",
       "      <td>iDubbbzTV</td>\n",
       "      <td>23</td>\n",
       "      <td>2017-11-13 17:00:00</td>\n",
       "      <td>plush|\"bad unboxing\"|\"unboxing\"|\"fan mail\"|\"id...</td>\n",
       "      <td>1014651</td>\n",
       "      <td>127794</td>\n",
       "      <td>1688</td>\n",
       "      <td>13030</td>\n",
       "      <td>https://i.ytimg.com/vi/0dBIkQ4Mz1M/default.jpg</td>\n",
       "      <td>False</td>\n",
       "      <td>False</td>\n",
       "      <td>STill got a lot of packages. Probably will las...</td>\n",
       "      <td>CA</td>\n",
       "    </tr>\n",
       "    <tr>\n",
       "      <th>2</th>\n",
       "      <td>5qpjK5DgCt4</td>\n",
       "      <td>2017-11-14</td>\n",
       "      <td>Racist Superman | Rudy Mancuso, King Bach &amp; Le...</td>\n",
       "      <td>Rudy Mancuso</td>\n",
       "      <td>23</td>\n",
       "      <td>2017-11-12 19:05:24</td>\n",
       "      <td>racist superman|\"rudy\"|\"mancuso\"|\"king\"|\"bach\"...</td>\n",
       "      <td>3191434</td>\n",
       "      <td>146035</td>\n",
       "      <td>5339</td>\n",
       "      <td>8181</td>\n",
       "      <td>https://i.ytimg.com/vi/5qpjK5DgCt4/default.jpg</td>\n",
       "      <td>False</td>\n",
       "      <td>False</td>\n",
       "      <td>WATCH MY PREVIOUS VIDEO ▶ \\n\\nSUBSCRIBE ► http...</td>\n",
       "      <td>CA</td>\n",
       "    </tr>\n",
       "    <tr>\n",
       "      <th>3</th>\n",
       "      <td>d380meD0W0M</td>\n",
       "      <td>2017-11-14</td>\n",
       "      <td>I Dare You: GOING BALD!?</td>\n",
       "      <td>nigahiga</td>\n",
       "      <td>24</td>\n",
       "      <td>2017-11-12 18:01:41</td>\n",
       "      <td>ryan|\"higa\"|\"higatv\"|\"nigahiga\"|\"i dare you\"|\"...</td>\n",
       "      <td>2095828</td>\n",
       "      <td>132239</td>\n",
       "      <td>1989</td>\n",
       "      <td>17518</td>\n",
       "      <td>https://i.ytimg.com/vi/d380meD0W0M/default.jpg</td>\n",
       "      <td>False</td>\n",
       "      <td>False</td>\n",
       "      <td>I know it's been a while since we did this sho...</td>\n",
       "      <td>CA</td>\n",
       "    </tr>\n",
       "    <tr>\n",
       "      <th>4</th>\n",
       "      <td>2Vv-BfVoq4g</td>\n",
       "      <td>2017-11-14</td>\n",
       "      <td>Ed Sheeran - Perfect (Official Music Video)</td>\n",
       "      <td>Ed Sheeran</td>\n",
       "      <td>10</td>\n",
       "      <td>2017-11-09 11:04:14</td>\n",
       "      <td>edsheeran|\"ed sheeran\"|\"acoustic\"|\"live\"|\"cove...</td>\n",
       "      <td>33523622</td>\n",
       "      <td>1634130</td>\n",
       "      <td>21082</td>\n",
       "      <td>85067</td>\n",
       "      <td>https://i.ytimg.com/vi/2Vv-BfVoq4g/default.jpg</td>\n",
       "      <td>False</td>\n",
       "      <td>False</td>\n",
       "      <td>🎧: https://ad.gt/yt-perfect\\n💰: https://atlant...</td>\n",
       "      <td>CA</td>\n",
       "    </tr>\n",
       "    <tr>\n",
       "      <th>...</th>\n",
       "      <td>...</td>\n",
       "      <td>...</td>\n",
       "      <td>...</td>\n",
       "      <td>...</td>\n",
       "      <td>...</td>\n",
       "      <td>...</td>\n",
       "      <td>...</td>\n",
       "      <td>...</td>\n",
       "      <td>...</td>\n",
       "      <td>...</td>\n",
       "      <td>...</td>\n",
       "      <td>...</td>\n",
       "      <td>...</td>\n",
       "      <td>...</td>\n",
       "      <td>...</td>\n",
       "      <td>...</td>\n",
       "    </tr>\n",
       "    <tr>\n",
       "      <th>360212</th>\n",
       "      <td>BZt0qjTWNhw</td>\n",
       "      <td>2018-06-14</td>\n",
       "      <td>The Cat Who Caught the Laser</td>\n",
       "      <td>AaronsAnimals</td>\n",
       "      <td>15</td>\n",
       "      <td>2018-05-18 13:00:04</td>\n",
       "      <td>aarons animals|\"aarons\"|\"animals\"|\"cat\"|\"cats\"...</td>\n",
       "      <td>1685609</td>\n",
       "      <td>38160</td>\n",
       "      <td>1385</td>\n",
       "      <td>2657</td>\n",
       "      <td>https://i.ytimg.com/vi/BZt0qjTWNhw/default.jpg</td>\n",
       "      <td>False</td>\n",
       "      <td>False</td>\n",
       "      <td>The Cat Who Caught the Laser - Aaron's Animals</td>\n",
       "      <td>US</td>\n",
       "    </tr>\n",
       "    <tr>\n",
       "      <th>360213</th>\n",
       "      <td>1h7KV2sjUWY</td>\n",
       "      <td>2018-06-14</td>\n",
       "      <td>True Facts : Ant Mutualism</td>\n",
       "      <td>zefrank1</td>\n",
       "      <td>22</td>\n",
       "      <td>2018-05-18 01:00:06</td>\n",
       "      <td>[none]</td>\n",
       "      <td>1064798</td>\n",
       "      <td>60008</td>\n",
       "      <td>382</td>\n",
       "      <td>3936</td>\n",
       "      <td>https://i.ytimg.com/vi/1h7KV2sjUWY/default.jpg</td>\n",
       "      <td>False</td>\n",
       "      <td>False</td>\n",
       "      <td></td>\n",
       "      <td>US</td>\n",
       "    </tr>\n",
       "    <tr>\n",
       "      <th>360214</th>\n",
       "      <td>D6Oy4LfoqsU</td>\n",
       "      <td>2018-06-14</td>\n",
       "      <td>I GAVE SAFIYA NYGAARD A PERFECT HAIR MAKEOVER ...</td>\n",
       "      <td>Brad Mondo</td>\n",
       "      <td>24</td>\n",
       "      <td>2018-05-18 17:34:22</td>\n",
       "      <td>I gave safiya nygaard a perfect hair makeover ...</td>\n",
       "      <td>1066451</td>\n",
       "      <td>48068</td>\n",
       "      <td>1032</td>\n",
       "      <td>3992</td>\n",
       "      <td>https://i.ytimg.com/vi/D6Oy4LfoqsU/default.jpg</td>\n",
       "      <td>False</td>\n",
       "      <td>False</td>\n",
       "      <td>I had so much fun transforming Safiyas hair in...</td>\n",
       "      <td>US</td>\n",
       "    </tr>\n",
       "    <tr>\n",
       "      <th>360215</th>\n",
       "      <td>oV0zkMe1K8s</td>\n",
       "      <td>2018-06-14</td>\n",
       "      <td>How Black Panther Should Have Ended</td>\n",
       "      <td>How It Should Have Ended</td>\n",
       "      <td>1</td>\n",
       "      <td>2018-05-17 17:00:04</td>\n",
       "      <td>Black Panther|\"HISHE\"|\"Marvel\"|\"Infinity War\"|...</td>\n",
       "      <td>5660813</td>\n",
       "      <td>192957</td>\n",
       "      <td>2846</td>\n",
       "      <td>13088</td>\n",
       "      <td>https://i.ytimg.com/vi/oV0zkMe1K8s/default.jpg</td>\n",
       "      <td>False</td>\n",
       "      <td>False</td>\n",
       "      <td>How Black Panther Should Have EndedWatch More ...</td>\n",
       "      <td>US</td>\n",
       "    </tr>\n",
       "    <tr>\n",
       "      <th>360216</th>\n",
       "      <td>ooyjaVdt-jA</td>\n",
       "      <td>2018-06-14</td>\n",
       "      <td>Official Call of Duty®: Black Ops 4 — Multipla...</td>\n",
       "      <td>Call of Duty</td>\n",
       "      <td>20</td>\n",
       "      <td>2018-05-17 17:09:38</td>\n",
       "      <td>call of duty|\"cod\"|\"activision\"|\"Black Ops 4\"</td>\n",
       "      <td>10306119</td>\n",
       "      <td>357079</td>\n",
       "      <td>212976</td>\n",
       "      <td>144795</td>\n",
       "      <td>https://i.ytimg.com/vi/ooyjaVdt-jA/default.jpg</td>\n",
       "      <td>False</td>\n",
       "      <td>False</td>\n",
       "      <td>Call of Duty: Black Ops 4 Multiplayer raises t...</td>\n",
       "      <td>US</td>\n",
       "    </tr>\n",
       "  </tbody>\n",
       "</table>\n",
       "<p>360217 rows × 16 columns</p>\n",
       "</div>"
      ],
      "text/plain": [
       "           video_id trending_date  \\\n",
       "0       n1WpP7iowLc    2017-11-14   \n",
       "1       0dBIkQ4Mz1M    2017-11-14   \n",
       "2       5qpjK5DgCt4    2017-11-14   \n",
       "3       d380meD0W0M    2017-11-14   \n",
       "4       2Vv-BfVoq4g    2017-11-14   \n",
       "...             ...           ...   \n",
       "360212  BZt0qjTWNhw    2018-06-14   \n",
       "360213  1h7KV2sjUWY    2018-06-14   \n",
       "360214  D6Oy4LfoqsU    2018-06-14   \n",
       "360215  oV0zkMe1K8s    2018-06-14   \n",
       "360216  ooyjaVdt-jA    2018-06-14   \n",
       "\n",
       "                                                    title  \\\n",
       "0              Eminem - Walk On Water (Audio) ft. Beyoncé   \n",
       "1                           PLUSH - Bad Unboxing Fan Mail   \n",
       "2       Racist Superman | Rudy Mancuso, King Bach & Le...   \n",
       "3                                I Dare You: GOING BALD!?   \n",
       "4             Ed Sheeran - Perfect (Official Music Video)   \n",
       "...                                                   ...   \n",
       "360212                       The Cat Who Caught the Laser   \n",
       "360213                         True Facts : Ant Mutualism   \n",
       "360214  I GAVE SAFIYA NYGAARD A PERFECT HAIR MAKEOVER ...   \n",
       "360215                How Black Panther Should Have Ended   \n",
       "360216  Official Call of Duty®: Black Ops 4 — Multipla...   \n",
       "\n",
       "                   channel_title  category_id        publish_time  \\\n",
       "0                     EminemVEVO           10 2017-11-10 17:00:03   \n",
       "1                      iDubbbzTV           23 2017-11-13 17:00:00   \n",
       "2                   Rudy Mancuso           23 2017-11-12 19:05:24   \n",
       "3                       nigahiga           24 2017-11-12 18:01:41   \n",
       "4                     Ed Sheeran           10 2017-11-09 11:04:14   \n",
       "...                          ...          ...                 ...   \n",
       "360212             AaronsAnimals           15 2018-05-18 13:00:04   \n",
       "360213                  zefrank1           22 2018-05-18 01:00:06   \n",
       "360214                Brad Mondo           24 2018-05-18 17:34:22   \n",
       "360215  How It Should Have Ended            1 2018-05-17 17:00:04   \n",
       "360216              Call of Duty           20 2018-05-17 17:09:38   \n",
       "\n",
       "                                                     tags     views    likes  \\\n",
       "0       Eminem|\"Walk\"|\"On\"|\"Water\"|\"Aftermath/Shady/In...  17158579   787425   \n",
       "1       plush|\"bad unboxing\"|\"unboxing\"|\"fan mail\"|\"id...   1014651   127794   \n",
       "2       racist superman|\"rudy\"|\"mancuso\"|\"king\"|\"bach\"...   3191434   146035   \n",
       "3       ryan|\"higa\"|\"higatv\"|\"nigahiga\"|\"i dare you\"|\"...   2095828   132239   \n",
       "4       edsheeran|\"ed sheeran\"|\"acoustic\"|\"live\"|\"cove...  33523622  1634130   \n",
       "...                                                   ...       ...      ...   \n",
       "360212  aarons animals|\"aarons\"|\"animals\"|\"cat\"|\"cats\"...   1685609    38160   \n",
       "360213                                             [none]   1064798    60008   \n",
       "360214  I gave safiya nygaard a perfect hair makeover ...   1066451    48068   \n",
       "360215  Black Panther|\"HISHE\"|\"Marvel\"|\"Infinity War\"|...   5660813   192957   \n",
       "360216      call of duty|\"cod\"|\"activision\"|\"Black Ops 4\"  10306119   357079   \n",
       "\n",
       "        dislikes  comment_count  \\\n",
       "0          43420         125882   \n",
       "1           1688          13030   \n",
       "2           5339           8181   \n",
       "3           1989          17518   \n",
       "4          21082          85067   \n",
       "...          ...            ...   \n",
       "360212      1385           2657   \n",
       "360213       382           3936   \n",
       "360214      1032           3992   \n",
       "360215      2846          13088   \n",
       "360216    212976         144795   \n",
       "\n",
       "                                        thumbnail_link  comments_disabled  \\\n",
       "0       https://i.ytimg.com/vi/n1WpP7iowLc/default.jpg              False   \n",
       "1       https://i.ytimg.com/vi/0dBIkQ4Mz1M/default.jpg              False   \n",
       "2       https://i.ytimg.com/vi/5qpjK5DgCt4/default.jpg              False   \n",
       "3       https://i.ytimg.com/vi/d380meD0W0M/default.jpg              False   \n",
       "4       https://i.ytimg.com/vi/2Vv-BfVoq4g/default.jpg              False   \n",
       "...                                                ...                ...   \n",
       "360212  https://i.ytimg.com/vi/BZt0qjTWNhw/default.jpg              False   \n",
       "360213  https://i.ytimg.com/vi/1h7KV2sjUWY/default.jpg              False   \n",
       "360214  https://i.ytimg.com/vi/D6Oy4LfoqsU/default.jpg              False   \n",
       "360215  https://i.ytimg.com/vi/oV0zkMe1K8s/default.jpg              False   \n",
       "360216  https://i.ytimg.com/vi/ooyjaVdt-jA/default.jpg              False   \n",
       "\n",
       "        ratings_disabled                                        description  \\\n",
       "0                  False  Eminem's new track Walk on Water ft. Beyoncé i...   \n",
       "1                  False  STill got a lot of packages. Probably will las...   \n",
       "2                  False  WATCH MY PREVIOUS VIDEO ▶ \\n\\nSUBSCRIBE ► http...   \n",
       "3                  False  I know it's been a while since we did this sho...   \n",
       "4                  False  🎧: https://ad.gt/yt-perfect\\n💰: https://atlant...   \n",
       "...                  ...                                                ...   \n",
       "360212             False     The Cat Who Caught the Laser - Aaron's Animals   \n",
       "360213             False                                                      \n",
       "360214             False  I had so much fun transforming Safiyas hair in...   \n",
       "360215             False  How Black Panther Should Have EndedWatch More ...   \n",
       "360216             False  Call of Duty: Black Ops 4 Multiplayer raises t...   \n",
       "\n",
       "       country  \n",
       "0           CA  \n",
       "1           CA  \n",
       "2           CA  \n",
       "3           CA  \n",
       "4           CA  \n",
       "...        ...  \n",
       "360212      US  \n",
       "360213      US  \n",
       "360214      US  \n",
       "360215      US  \n",
       "360216      US  \n",
       "\n",
       "[360217 rows x 16 columns]"
      ]
     },
     "execution_count": 3,
     "metadata": {},
     "output_type": "execute_result"
    }
   ],
   "source": [
    "Total_DF"
   ]
  },
  {
   "cell_type": "code",
   "execution_count": 4,
   "metadata": {},
   "outputs": [],
   "source": [
    "#read addtional video info dataset\n",
    "API_DF=pd.read_pickle(\"../Data/API_RETRIEVED_DATA.pkl\")"
   ]
  },
  {
   "cell_type": "code",
   "execution_count": 5,
   "metadata": {},
   "outputs": [],
   "source": [
    "#merge\n",
    "API_DF.reset_index(inplace=True)\n",
    "API_DF.rename(columns = {\"index\" :\"video_id\"}, inplace=True)\n",
    "Total_API_DF = pd.merge(Total_DF, API_DF, on=\"video_id\", how=\"left\")"
   ]
  },
  {
   "cell_type": "code",
   "execution_count": 6,
   "metadata": {},
   "outputs": [
    {
     "data": {
      "text/html": [
       "<div>\n",
       "<style scoped>\n",
       "    .dataframe tbody tr th:only-of-type {\n",
       "        vertical-align: middle;\n",
       "    }\n",
       "\n",
       "    .dataframe tbody tr th {\n",
       "        vertical-align: top;\n",
       "    }\n",
       "\n",
       "    .dataframe thead th {\n",
       "        text-align: right;\n",
       "    }\n",
       "</style>\n",
       "<table border=\"1\" class=\"dataframe\">\n",
       "  <thead>\n",
       "    <tr style=\"text-align: right;\">\n",
       "      <th></th>\n",
       "      <th>video_id</th>\n",
       "      <th>trending_date</th>\n",
       "      <th>title</th>\n",
       "      <th>channel_title</th>\n",
       "      <th>category_id</th>\n",
       "      <th>publish_time</th>\n",
       "      <th>tags</th>\n",
       "      <th>views</th>\n",
       "      <th>likes</th>\n",
       "      <th>dislikes</th>\n",
       "      <th>...</th>\n",
       "      <th>description</th>\n",
       "      <th>country</th>\n",
       "      <th>ChannelID</th>\n",
       "      <th>ChannelTitle</th>\n",
       "      <th>DefaultLanguage</th>\n",
       "      <th>DefaultAudioLanguage</th>\n",
       "      <th>Duration</th>\n",
       "      <th>Caption</th>\n",
       "      <th>RegionRestriction_Blocked</th>\n",
       "      <th>RegionRestriction_Allowed</th>\n",
       "    </tr>\n",
       "  </thead>\n",
       "  <tbody>\n",
       "    <tr>\n",
       "      <th>0</th>\n",
       "      <td>n1WpP7iowLc</td>\n",
       "      <td>2017-11-14</td>\n",
       "      <td>Eminem - Walk On Water (Audio) ft. Beyoncé</td>\n",
       "      <td>EminemVEVO</td>\n",
       "      <td>10</td>\n",
       "      <td>2017-11-10 17:00:03</td>\n",
       "      <td>Eminem|\"Walk\"|\"On\"|\"Water\"|\"Aftermath/Shady/In...</td>\n",
       "      <td>17158579</td>\n",
       "      <td>787425</td>\n",
       "      <td>43420</td>\n",
       "      <td>...</td>\n",
       "      <td>Eminem's new track Walk on Water ft. Beyoncé i...</td>\n",
       "      <td>CA</td>\n",
       "      <td>UC20vb-R_px4CguHzzBPhoyQ</td>\n",
       "      <td>EminemVEVO</td>\n",
       "      <td>None</td>\n",
       "      <td>en-US</td>\n",
       "      <td>PT5M5S</td>\n",
       "      <td>false</td>\n",
       "      <td>None</td>\n",
       "      <td>[MZ, EC, MX, MY, PE, EG, PG, EE, MR, MS, EH, M...</td>\n",
       "    </tr>\n",
       "    <tr>\n",
       "      <th>1</th>\n",
       "      <td>0dBIkQ4Mz1M</td>\n",
       "      <td>2017-11-14</td>\n",
       "      <td>PLUSH - Bad Unboxing Fan Mail</td>\n",
       "      <td>iDubbbzTV</td>\n",
       "      <td>23</td>\n",
       "      <td>2017-11-13 17:00:00</td>\n",
       "      <td>plush|\"bad unboxing\"|\"unboxing\"|\"fan mail\"|\"id...</td>\n",
       "      <td>1014651</td>\n",
       "      <td>127794</td>\n",
       "      <td>1688</td>\n",
       "      <td>...</td>\n",
       "      <td>STill got a lot of packages. Probably will las...</td>\n",
       "      <td>CA</td>\n",
       "      <td>UC4USoIAL9qcsx5nCZV_QRnA</td>\n",
       "      <td>iDubbbzTV</td>\n",
       "      <td>None</td>\n",
       "      <td>None</td>\n",
       "      <td>PT9M35S</td>\n",
       "      <td>false</td>\n",
       "      <td>None</td>\n",
       "      <td>None</td>\n",
       "    </tr>\n",
       "    <tr>\n",
       "      <th>2</th>\n",
       "      <td>5qpjK5DgCt4</td>\n",
       "      <td>2017-11-14</td>\n",
       "      <td>Racist Superman | Rudy Mancuso, King Bach &amp; Le...</td>\n",
       "      <td>Rudy Mancuso</td>\n",
       "      <td>23</td>\n",
       "      <td>2017-11-12 19:05:24</td>\n",
       "      <td>racist superman|\"rudy\"|\"mancuso\"|\"king\"|\"bach\"...</td>\n",
       "      <td>3191434</td>\n",
       "      <td>146035</td>\n",
       "      <td>5339</td>\n",
       "      <td>...</td>\n",
       "      <td>WATCH MY PREVIOUS VIDEO ▶ \\n\\nSUBSCRIBE ► http...</td>\n",
       "      <td>CA</td>\n",
       "      <td>UC5jkXpfnBhlDjqh0ir5FsIQ</td>\n",
       "      <td>Rudy Mancuso</td>\n",
       "      <td>en</td>\n",
       "      <td>en</td>\n",
       "      <td>PT9M29S</td>\n",
       "      <td>true</td>\n",
       "      <td>None</td>\n",
       "      <td>None</td>\n",
       "    </tr>\n",
       "    <tr>\n",
       "      <th>3</th>\n",
       "      <td>d380meD0W0M</td>\n",
       "      <td>2017-11-14</td>\n",
       "      <td>I Dare You: GOING BALD!?</td>\n",
       "      <td>nigahiga</td>\n",
       "      <td>24</td>\n",
       "      <td>2017-11-12 18:01:41</td>\n",
       "      <td>ryan|\"higa\"|\"higatv\"|\"nigahiga\"|\"i dare you\"|\"...</td>\n",
       "      <td>2095828</td>\n",
       "      <td>132239</td>\n",
       "      <td>1989</td>\n",
       "      <td>...</td>\n",
       "      <td>I know it's been a while since we did this sho...</td>\n",
       "      <td>CA</td>\n",
       "      <td>UCSAUGyc_xA8uYzaIVG6MESQ</td>\n",
       "      <td>nigahiga</td>\n",
       "      <td>en</td>\n",
       "      <td>en</td>\n",
       "      <td>PT12M13S</td>\n",
       "      <td>true</td>\n",
       "      <td>None</td>\n",
       "      <td>None</td>\n",
       "    </tr>\n",
       "    <tr>\n",
       "      <th>4</th>\n",
       "      <td>2Vv-BfVoq4g</td>\n",
       "      <td>2017-11-14</td>\n",
       "      <td>Ed Sheeran - Perfect (Official Music Video)</td>\n",
       "      <td>Ed Sheeran</td>\n",
       "      <td>10</td>\n",
       "      <td>2017-11-09 11:04:14</td>\n",
       "      <td>edsheeran|\"ed sheeran\"|\"acoustic\"|\"live\"|\"cove...</td>\n",
       "      <td>33523622</td>\n",
       "      <td>1634130</td>\n",
       "      <td>21082</td>\n",
       "      <td>...</td>\n",
       "      <td>🎧: https://ad.gt/yt-perfect\\n💰: https://atlant...</td>\n",
       "      <td>CA</td>\n",
       "      <td>UC0C-w0YjGpqDXGB8IHb662A</td>\n",
       "      <td>Ed Sheeran</td>\n",
       "      <td>None</td>\n",
       "      <td>None</td>\n",
       "      <td>PT4M40S</td>\n",
       "      <td>false</td>\n",
       "      <td>None</td>\n",
       "      <td>None</td>\n",
       "    </tr>\n",
       "  </tbody>\n",
       "</table>\n",
       "<p>5 rows × 24 columns</p>\n",
       "</div>"
      ],
      "text/plain": [
       "      video_id trending_date  \\\n",
       "0  n1WpP7iowLc    2017-11-14   \n",
       "1  0dBIkQ4Mz1M    2017-11-14   \n",
       "2  5qpjK5DgCt4    2017-11-14   \n",
       "3  d380meD0W0M    2017-11-14   \n",
       "4  2Vv-BfVoq4g    2017-11-14   \n",
       "\n",
       "                                               title channel_title  \\\n",
       "0         Eminem - Walk On Water (Audio) ft. Beyoncé    EminemVEVO   \n",
       "1                      PLUSH - Bad Unboxing Fan Mail     iDubbbzTV   \n",
       "2  Racist Superman | Rudy Mancuso, King Bach & Le...  Rudy Mancuso   \n",
       "3                           I Dare You: GOING BALD!?      nigahiga   \n",
       "4        Ed Sheeran - Perfect (Official Music Video)    Ed Sheeran   \n",
       "\n",
       "   category_id        publish_time  \\\n",
       "0           10 2017-11-10 17:00:03   \n",
       "1           23 2017-11-13 17:00:00   \n",
       "2           23 2017-11-12 19:05:24   \n",
       "3           24 2017-11-12 18:01:41   \n",
       "4           10 2017-11-09 11:04:14   \n",
       "\n",
       "                                                tags     views    likes  \\\n",
       "0  Eminem|\"Walk\"|\"On\"|\"Water\"|\"Aftermath/Shady/In...  17158579   787425   \n",
       "1  plush|\"bad unboxing\"|\"unboxing\"|\"fan mail\"|\"id...   1014651   127794   \n",
       "2  racist superman|\"rudy\"|\"mancuso\"|\"king\"|\"bach\"...   3191434   146035   \n",
       "3  ryan|\"higa\"|\"higatv\"|\"nigahiga\"|\"i dare you\"|\"...   2095828   132239   \n",
       "4  edsheeran|\"ed sheeran\"|\"acoustic\"|\"live\"|\"cove...  33523622  1634130   \n",
       "\n",
       "   dislikes  ...                                        description country  \\\n",
       "0     43420  ...  Eminem's new track Walk on Water ft. Beyoncé i...      CA   \n",
       "1      1688  ...  STill got a lot of packages. Probably will las...      CA   \n",
       "2      5339  ...  WATCH MY PREVIOUS VIDEO ▶ \\n\\nSUBSCRIBE ► http...      CA   \n",
       "3      1989  ...  I know it's been a while since we did this sho...      CA   \n",
       "4     21082  ...  🎧: https://ad.gt/yt-perfect\\n💰: https://atlant...      CA   \n",
       "\n",
       "                  ChannelID  ChannelTitle DefaultLanguage  \\\n",
       "0  UC20vb-R_px4CguHzzBPhoyQ    EminemVEVO            None   \n",
       "1  UC4USoIAL9qcsx5nCZV_QRnA     iDubbbzTV            None   \n",
       "2  UC5jkXpfnBhlDjqh0ir5FsIQ  Rudy Mancuso              en   \n",
       "3  UCSAUGyc_xA8uYzaIVG6MESQ      nigahiga              en   \n",
       "4  UC0C-w0YjGpqDXGB8IHb662A    Ed Sheeran            None   \n",
       "\n",
       "  DefaultAudioLanguage  Duration Caption RegionRestriction_Blocked  \\\n",
       "0                en-US    PT5M5S   false                      None   \n",
       "1                 None   PT9M35S   false                      None   \n",
       "2                   en   PT9M29S    true                      None   \n",
       "3                   en  PT12M13S    true                      None   \n",
       "4                 None   PT4M40S   false                      None   \n",
       "\n",
       "                           RegionRestriction_Allowed  \n",
       "0  [MZ, EC, MX, MY, PE, EG, PG, EE, MR, MS, EH, M...  \n",
       "1                                               None  \n",
       "2                                               None  \n",
       "3                                               None  \n",
       "4                                               None  \n",
       "\n",
       "[5 rows x 24 columns]"
      ]
     },
     "execution_count": 6,
     "metadata": {},
     "output_type": "execute_result"
    }
   ],
   "source": [
    "Total_API_DF.head()"
   ]
  },
  {
   "cell_type": "code",
   "execution_count": 7,
   "metadata": {},
   "outputs": [],
   "source": [
    "#read channel dataset\n",
    "channel_df = pd.read_pickle(\"../Data/Channel_API_RETRIEVED_DATA.pkl\")"
   ]
  },
  {
   "cell_type": "code",
   "execution_count": 8,
   "metadata": {},
   "outputs": [],
   "source": [
    "#merge\n",
    "channel_df.rename(columns={\"country\" : \"Country Origin\"}, inplace=True)\n",
    "#Total_API_DF.reset_index(inplace=True)\n",
    "ultimate_df= pd.merge(Total_API_DF, channel_df, on=\"ChannelID\", how=\"left\")"
   ]
  },
  {
   "cell_type": "code",
   "execution_count": 9,
   "metadata": {},
   "outputs": [
    {
     "data": {
      "text/html": [
       "<div>\n",
       "<style scoped>\n",
       "    .dataframe tbody tr th:only-of-type {\n",
       "        vertical-align: middle;\n",
       "    }\n",
       "\n",
       "    .dataframe tbody tr th {\n",
       "        vertical-align: top;\n",
       "    }\n",
       "\n",
       "    .dataframe thead th {\n",
       "        text-align: right;\n",
       "    }\n",
       "</style>\n",
       "<table border=\"1\" class=\"dataframe\">\n",
       "  <thead>\n",
       "    <tr style=\"text-align: right;\">\n",
       "      <th></th>\n",
       "      <th>video_id</th>\n",
       "      <th>trending_date</th>\n",
       "      <th>title</th>\n",
       "      <th>channel_title</th>\n",
       "      <th>category_id</th>\n",
       "      <th>publish_time</th>\n",
       "      <th>tags</th>\n",
       "      <th>views</th>\n",
       "      <th>likes</th>\n",
       "      <th>dislikes</th>\n",
       "      <th>...</th>\n",
       "      <th>RegionRestriction_Allowed</th>\n",
       "      <th>Channel_Title</th>\n",
       "      <th>Channel_Description</th>\n",
       "      <th>Channel_PublishedAt</th>\n",
       "      <th>Country Origin</th>\n",
       "      <th>defaultLanguage</th>\n",
       "      <th>keywords</th>\n",
       "      <th>GoogleAnalytics</th>\n",
       "      <th>moderateComments</th>\n",
       "      <th>topicCategories</th>\n",
       "    </tr>\n",
       "  </thead>\n",
       "  <tbody>\n",
       "    <tr>\n",
       "      <th>0</th>\n",
       "      <td>n1WpP7iowLc</td>\n",
       "      <td>2017-11-14</td>\n",
       "      <td>Eminem - Walk On Water (Audio) ft. Beyoncé</td>\n",
       "      <td>EminemVEVO</td>\n",
       "      <td>10</td>\n",
       "      <td>2017-11-10 17:00:03</td>\n",
       "      <td>Eminem|\"Walk\"|\"On\"|\"Water\"|\"Aftermath/Shady/In...</td>\n",
       "      <td>17158579</td>\n",
       "      <td>787425</td>\n",
       "      <td>43420</td>\n",
       "      <td>...</td>\n",
       "      <td>[MZ, EC, MX, MY, PE, EG, PG, EE, MR, MS, EH, M...</td>\n",
       "      <td>EminemVEVO</td>\n",
       "      <td>Eminem on Vevo - Official Music Videos, Live P...</td>\n",
       "      <td>2009-05-12T05:27:52Z</td>\n",
       "      <td>None</td>\n",
       "      <td>en</td>\n",
       "      <td>vevo music video official</td>\n",
       "      <td>True</td>\n",
       "      <td>False</td>\n",
       "      <td>Hip_hop_music | Rock_music | Music</td>\n",
       "    </tr>\n",
       "    <tr>\n",
       "      <th>1</th>\n",
       "      <td>0dBIkQ4Mz1M</td>\n",
       "      <td>2017-11-14</td>\n",
       "      <td>PLUSH - Bad Unboxing Fan Mail</td>\n",
       "      <td>iDubbbzTV</td>\n",
       "      <td>23</td>\n",
       "      <td>2017-11-13 17:00:00</td>\n",
       "      <td>plush|\"bad unboxing\"|\"unboxing\"|\"fan mail\"|\"id...</td>\n",
       "      <td>1014651</td>\n",
       "      <td>127794</td>\n",
       "      <td>1688</td>\n",
       "      <td>...</td>\n",
       "      <td>None</td>\n",
       "      <td>iDubbbzTV</td>\n",
       "      <td>YO YO YO YO YO YO YO YO YOOOOOOOOOOOOOOOOOO, W...</td>\n",
       "      <td>2012-08-18T04:11:12Z</td>\n",
       "      <td>US</td>\n",
       "      <td>None</td>\n",
       "      <td>idubbbz idubbz kickstarter crap bad unboxing c...</td>\n",
       "      <td>False</td>\n",
       "      <td>False</td>\n",
       "      <td>Entertainment | Lifestyle_(sociology)</td>\n",
       "    </tr>\n",
       "    <tr>\n",
       "      <th>2</th>\n",
       "      <td>5qpjK5DgCt4</td>\n",
       "      <td>2017-11-14</td>\n",
       "      <td>Racist Superman | Rudy Mancuso, King Bach &amp; Le...</td>\n",
       "      <td>Rudy Mancuso</td>\n",
       "      <td>23</td>\n",
       "      <td>2017-11-12 19:05:24</td>\n",
       "      <td>racist superman|\"rudy\"|\"mancuso\"|\"king\"|\"bach\"...</td>\n",
       "      <td>3191434</td>\n",
       "      <td>146035</td>\n",
       "      <td>5339</td>\n",
       "      <td>...</td>\n",
       "      <td>None</td>\n",
       "      <td>Rudy Mancuso</td>\n",
       "      <td>NEW VIDEOS EVERY WEEK! Make sure you SUBSCRIBE...</td>\n",
       "      <td>2011-09-30T23:14:41Z</td>\n",
       "      <td>US</td>\n",
       "      <td>None</td>\n",
       "      <td>\"lele pons\" \"rudy mancuso\" \"anwar jibawi\" \"del...</td>\n",
       "      <td>False</td>\n",
       "      <td>True</td>\n",
       "      <td>Entertainment | Music</td>\n",
       "    </tr>\n",
       "    <tr>\n",
       "      <th>3</th>\n",
       "      <td>d380meD0W0M</td>\n",
       "      <td>2017-11-14</td>\n",
       "      <td>I Dare You: GOING BALD!?</td>\n",
       "      <td>nigahiga</td>\n",
       "      <td>24</td>\n",
       "      <td>2017-11-12 18:01:41</td>\n",
       "      <td>ryan|\"higa\"|\"higatv\"|\"nigahiga\"|\"i dare you\"|\"...</td>\n",
       "      <td>2095828</td>\n",
       "      <td>132239</td>\n",
       "      <td>1989</td>\n",
       "      <td>...</td>\n",
       "      <td>None</td>\n",
       "      <td>nigahiga</td>\n",
       "      <td>Send me stuff here!\\nPO BOX 232355 Las Vegas, ...</td>\n",
       "      <td>2006-07-21T01:40:43Z</td>\n",
       "      <td>US</td>\n",
       "      <td>None</td>\n",
       "      <td>nigahiga ryan higa higatv</td>\n",
       "      <td>False</td>\n",
       "      <td>False</td>\n",
       "      <td>Entertainment | Film</td>\n",
       "    </tr>\n",
       "    <tr>\n",
       "      <th>4</th>\n",
       "      <td>2Vv-BfVoq4g</td>\n",
       "      <td>2017-11-14</td>\n",
       "      <td>Ed Sheeran - Perfect (Official Music Video)</td>\n",
       "      <td>Ed Sheeran</td>\n",
       "      <td>10</td>\n",
       "      <td>2017-11-09 11:04:14</td>\n",
       "      <td>edsheeran|\"ed sheeran\"|\"acoustic\"|\"live\"|\"cove...</td>\n",
       "      <td>33523622</td>\n",
       "      <td>1634130</td>\n",
       "      <td>21082</td>\n",
       "      <td>...</td>\n",
       "      <td>None</td>\n",
       "      <td>Ed Sheeran</td>\n",
       "      <td>The official YouTube channel for Ed Sheeran.</td>\n",
       "      <td>2006-08-08T13:59:50Z</td>\n",
       "      <td>None</td>\n",
       "      <td>None</td>\n",
       "      <td>edsheeran \"ed sheeran\" acoustic live cover off...</td>\n",
       "      <td>False</td>\n",
       "      <td>False</td>\n",
       "      <td>Pop_music | Hip_hop_music | Music</td>\n",
       "    </tr>\n",
       "  </tbody>\n",
       "</table>\n",
       "<p>5 rows × 33 columns</p>\n",
       "</div>"
      ],
      "text/plain": [
       "      video_id trending_date  \\\n",
       "0  n1WpP7iowLc    2017-11-14   \n",
       "1  0dBIkQ4Mz1M    2017-11-14   \n",
       "2  5qpjK5DgCt4    2017-11-14   \n",
       "3  d380meD0W0M    2017-11-14   \n",
       "4  2Vv-BfVoq4g    2017-11-14   \n",
       "\n",
       "                                               title channel_title  \\\n",
       "0         Eminem - Walk On Water (Audio) ft. Beyoncé    EminemVEVO   \n",
       "1                      PLUSH - Bad Unboxing Fan Mail     iDubbbzTV   \n",
       "2  Racist Superman | Rudy Mancuso, King Bach & Le...  Rudy Mancuso   \n",
       "3                           I Dare You: GOING BALD!?      nigahiga   \n",
       "4        Ed Sheeran - Perfect (Official Music Video)    Ed Sheeran   \n",
       "\n",
       "   category_id        publish_time  \\\n",
       "0           10 2017-11-10 17:00:03   \n",
       "1           23 2017-11-13 17:00:00   \n",
       "2           23 2017-11-12 19:05:24   \n",
       "3           24 2017-11-12 18:01:41   \n",
       "4           10 2017-11-09 11:04:14   \n",
       "\n",
       "                                                tags     views    likes  \\\n",
       "0  Eminem|\"Walk\"|\"On\"|\"Water\"|\"Aftermath/Shady/In...  17158579   787425   \n",
       "1  plush|\"bad unboxing\"|\"unboxing\"|\"fan mail\"|\"id...   1014651   127794   \n",
       "2  racist superman|\"rudy\"|\"mancuso\"|\"king\"|\"bach\"...   3191434   146035   \n",
       "3  ryan|\"higa\"|\"higatv\"|\"nigahiga\"|\"i dare you\"|\"...   2095828   132239   \n",
       "4  edsheeran|\"ed sheeran\"|\"acoustic\"|\"live\"|\"cove...  33523622  1634130   \n",
       "\n",
       "   dislikes  ...                          RegionRestriction_Allowed  \\\n",
       "0     43420  ...  [MZ, EC, MX, MY, PE, EG, PG, EE, MR, MS, EH, M...   \n",
       "1      1688  ...                                               None   \n",
       "2      5339  ...                                               None   \n",
       "3      1989  ...                                               None   \n",
       "4     21082  ...                                               None   \n",
       "\n",
       "  Channel_Title                                Channel_Description  \\\n",
       "0    EminemVEVO  Eminem on Vevo - Official Music Videos, Live P...   \n",
       "1     iDubbbzTV  YO YO YO YO YO YO YO YO YOOOOOOOOOOOOOOOOOO, W...   \n",
       "2  Rudy Mancuso  NEW VIDEOS EVERY WEEK! Make sure you SUBSCRIBE...   \n",
       "3      nigahiga  Send me stuff here!\\nPO BOX 232355 Las Vegas, ...   \n",
       "4    Ed Sheeran       The official YouTube channel for Ed Sheeran.   \n",
       "\n",
       "    Channel_PublishedAt Country Origin defaultLanguage  \\\n",
       "0  2009-05-12T05:27:52Z           None              en   \n",
       "1  2012-08-18T04:11:12Z             US            None   \n",
       "2  2011-09-30T23:14:41Z             US            None   \n",
       "3  2006-07-21T01:40:43Z             US            None   \n",
       "4  2006-08-08T13:59:50Z           None            None   \n",
       "\n",
       "                                            keywords GoogleAnalytics  \\\n",
       "0                          vevo music video official            True   \n",
       "1  idubbbz idubbz kickstarter crap bad unboxing c...           False   \n",
       "2  \"lele pons\" \"rudy mancuso\" \"anwar jibawi\" \"del...           False   \n",
       "3                          nigahiga ryan higa higatv           False   \n",
       "4  edsheeran \"ed sheeran\" acoustic live cover off...           False   \n",
       "\n",
       "  moderateComments                        topicCategories  \n",
       "0            False     Hip_hop_music | Rock_music | Music  \n",
       "1            False  Entertainment | Lifestyle_(sociology)  \n",
       "2             True                  Entertainment | Music  \n",
       "3            False                   Entertainment | Film  \n",
       "4            False      Pop_music | Hip_hop_music | Music  \n",
       "\n",
       "[5 rows x 33 columns]"
      ]
     },
     "execution_count": 9,
     "metadata": {},
     "output_type": "execute_result"
    }
   ],
   "source": [
    "ultimate_df.head()"
   ]
  },
  {
   "cell_type": "markdown",
   "metadata": {},
   "source": [
    "Analysis: \n",
    "===\n",
    "\n",
    "How do trending videos compare regarding number countries trended in and number of days videos trended?"
   ]
  },
  {
   "cell_type": "markdown",
   "metadata": {},
   "source": [
    "Data manipulation\n",
    "==="
   ]
  },
  {
   "cell_type": "code",
   "execution_count": 10,
   "metadata": {},
   "outputs": [],
   "source": [
    "#calculate no. of countries each video trended in\n",
    "\n",
    "#create dataframe limited to unique dates per id/country\n",
    "no_countries_DF = Total_DF.drop_duplicates(subset=['video_id', 'country'], keep='first')\n",
    "\n",
    "#create a dataframe with findings\n",
    "no_of_countries_df= pd.DataFrame({\"No of Countries Trended In\" : no_countries_DF.groupby('video_id')['country'].count()})\n",
    "\n",
    "#calculate the sum of days trended per video across countries\n",
    "\n",
    "    # calculate days each video trended per country\n",
    "Trending_Days = Total_DF.groupby(['video_id', \n",
    "                                  'country']).aggregate(Days_trending=('trending_date',\n",
    "                                                                  'count'))\n",
    "    #unstack to gain access\n",
    "unstacked_Trending_Days = Trending_Days.unstack()\n",
    "unstacked_Trending_Days.fillna(value=0, inplace=True)\n",
    "final_Trending_Days = pd.DataFrame(unstacked_Trending_Days.to_records()) \n",
    "\n",
    "    #sum across countries to total days trendings \n",
    "sum_of_days_trended = final_Trending_Days.sum(axis=1)\n",
    "\n",
    "     #create a dataframe with findings\n",
    "sum_of_days_df = pd.DataFrame({\"video_id\" : final_Trending_Days[\"video_id\"],\n",
    "                               \"Sum of Days trended\" : sum_of_days_trended})\n",
    "\n",
    "sum_of_days_df.set_index(\"video_id\", inplace=True)\n",
    "\n",
    "#merge datasets\n",
    "\n",
    "combined_per_video_df = pd.merge(sum_of_days_df, no_of_countries_df, on=\"video_id\")\n",
    "\n",
    "combined_per_video_df[\"Mean Days Trending\"] = combined_per_video_df[\"Sum of Days trended\"]/combined_per_video_df[\"No of Countries Trended In\"]"
   ]
  },
  {
   "cell_type": "code",
   "execution_count": 11,
   "metadata": {},
   "outputs": [],
   "source": [
    "#create a segment column for number of countries trended in  \n",
    "combined_per_video_df[\"Country Segment\"] = combined_per_video_df[\"No of Countries Trended In\"]\n",
    "\n",
    "combined_per_video_df[\"Country Segment\"] = np.where(combined_per_video_df[\"No of Countries Trended In\"]==1, \n",
    "                                            \"Trended in 1 country\", \n",
    "                                            combined_per_video_df[\"Country Segment\"])\n",
    "\n",
    "combined_per_video_df[\"Country Segment\"] = np.where((combined_per_video_df[\"No of Countries Trended In\"]>1) & (combined_per_video_df[\"No of Countries Trended In\"]<=5), \"Trended in 2 to 5 countries\", combined_per_video_df[\"Country Segment\"])\n",
    "\n",
    "combined_per_video_df[\"Country Segment\"] = np.where(combined_per_video_df[\"No of Countries Trended In\"]>5 , \"Trended in more than 5 countries\", combined_per_video_df[\"Country Segment\"])\n"
   ]
  },
  {
   "cell_type": "code",
   "execution_count": 18,
   "metadata": {},
   "outputs": [],
   "source": [
    "#create a segment column for number of days a video trended \n",
    "combined_per_video_df[\"Days Trended Segment\"] = combined_per_video_df[\"Mean Days Trending\"]\n",
    "\n",
    "combined_per_video_df[\"Days Trended Segment\"] = np.where(combined_per_video_df[\"Mean Days Trending\"]==1, \n",
    "                                                        \"Trended for 1 day\", \n",
    "                                                        combined_per_video_df[\"Days Trended Segment\"])\n",
    "\n",
    "combined_per_video_df[\"Days Trended Segment\"] = np.where((combined_per_video_df[\"Mean Days Trending\"]>1) & \n",
    "                                                         (combined_per_video_df[\"Mean Days Trending\"]<=5), \n",
    "                                                         \"Trended for 2 to 5 days\", \n",
    "                                                         combined_per_video_df[\"Days Trended Segment\"])\n",
    "\n",
    "combined_per_video_df[\"Days Trended Segment\"] = np.where(combined_per_video_df[\"Mean Days Trending\"]>5 ,\n",
    "                                                         \"Trended more than 5 days\", \n",
    "                                                         combined_per_video_df[\"Days Trended Segment\"])\n"
   ]
  },
  {
   "cell_type": "code",
   "execution_count": 19,
   "metadata": {},
   "outputs": [
    {
     "data": {
      "text/html": [
       "<div>\n",
       "<style scoped>\n",
       "    .dataframe tbody tr th:only-of-type {\n",
       "        vertical-align: middle;\n",
       "    }\n",
       "\n",
       "    .dataframe tbody tr th {\n",
       "        vertical-align: top;\n",
       "    }\n",
       "\n",
       "    .dataframe thead th {\n",
       "        text-align: right;\n",
       "    }\n",
       "</style>\n",
       "<table border=\"1\" class=\"dataframe\">\n",
       "  <thead>\n",
       "    <tr style=\"text-align: right;\">\n",
       "      <th></th>\n",
       "      <th>Sum of Days trended</th>\n",
       "      <th>No of Countries Trended In</th>\n",
       "      <th>Mean Days Trending</th>\n",
       "      <th>Country Segment</th>\n",
       "      <th>Days Trended Segment</th>\n",
       "    </tr>\n",
       "    <tr>\n",
       "      <th>video_id</th>\n",
       "      <th></th>\n",
       "      <th></th>\n",
       "      <th></th>\n",
       "      <th></th>\n",
       "      <th></th>\n",
       "    </tr>\n",
       "  </thead>\n",
       "  <tbody>\n",
       "    <tr>\n",
       "      <th>--1skHapGUc</th>\n",
       "      <td>1.0</td>\n",
       "      <td>1</td>\n",
       "      <td>1.0</td>\n",
       "      <td>Trended in 1 country</td>\n",
       "      <td>Trended for 1 day</td>\n",
       "    </tr>\n",
       "    <tr>\n",
       "      <th>--2K8l6BWfw</th>\n",
       "      <td>1.0</td>\n",
       "      <td>1</td>\n",
       "      <td>1.0</td>\n",
       "      <td>Trended in 1 country</td>\n",
       "      <td>Trended for 1 day</td>\n",
       "    </tr>\n",
       "    <tr>\n",
       "      <th>--45ws7CEN0</th>\n",
       "      <td>3.0</td>\n",
       "      <td>3</td>\n",
       "      <td>1.0</td>\n",
       "      <td>Trended in 2 to 5 countries</td>\n",
       "      <td>Trended for 1 day</td>\n",
       "    </tr>\n",
       "    <tr>\n",
       "      <th>--6vcer7XYQ</th>\n",
       "      <td>3.0</td>\n",
       "      <td>1</td>\n",
       "      <td>3.0</td>\n",
       "      <td>Trended in 1 country</td>\n",
       "      <td>Trended for 2 to 5 days</td>\n",
       "    </tr>\n",
       "    <tr>\n",
       "      <th>--728h8mnDY</th>\n",
       "      <td>2.0</td>\n",
       "      <td>1</td>\n",
       "      <td>2.0</td>\n",
       "      <td>Trended in 1 country</td>\n",
       "      <td>Trended for 2 to 5 days</td>\n",
       "    </tr>\n",
       "  </tbody>\n",
       "</table>\n",
       "</div>"
      ],
      "text/plain": [
       "             Sum of Days trended  No of Countries Trended In  \\\n",
       "video_id                                                       \n",
       "--1skHapGUc                  1.0                           1   \n",
       "--2K8l6BWfw                  1.0                           1   \n",
       "--45ws7CEN0                  3.0                           3   \n",
       "--6vcer7XYQ                  3.0                           1   \n",
       "--728h8mnDY                  2.0                           1   \n",
       "\n",
       "             Mean Days Trending              Country Segment  \\\n",
       "video_id                                                       \n",
       "--1skHapGUc                 1.0         Trended in 1 country   \n",
       "--2K8l6BWfw                 1.0         Trended in 1 country   \n",
       "--45ws7CEN0                 1.0  Trended in 2 to 5 countries   \n",
       "--6vcer7XYQ                 3.0         Trended in 1 country   \n",
       "--728h8mnDY                 2.0         Trended in 1 country   \n",
       "\n",
       "                Days Trended Segment  \n",
       "video_id                              \n",
       "--1skHapGUc        Trended for 1 day  \n",
       "--2K8l6BWfw        Trended for 1 day  \n",
       "--45ws7CEN0        Trended for 1 day  \n",
       "--6vcer7XYQ  Trended for 2 to 5 days  \n",
       "--728h8mnDY  Trended for 2 to 5 days  "
      ]
     },
     "execution_count": 19,
     "metadata": {},
     "output_type": "execute_result"
    }
   ],
   "source": [
    "#verify dataframe \n",
    "combined_per_video_df.head()"
   ]
  },
  {
   "cell_type": "code",
   "execution_count": 20,
   "metadata": {},
   "outputs": [
    {
     "data": {
      "text/html": [
       "<div>\n",
       "<style scoped>\n",
       "    .dataframe tbody tr th:only-of-type {\n",
       "        vertical-align: middle;\n",
       "    }\n",
       "\n",
       "    .dataframe tbody tr th {\n",
       "        vertical-align: top;\n",
       "    }\n",
       "\n",
       "    .dataframe thead th {\n",
       "        text-align: right;\n",
       "    }\n",
       "</style>\n",
       "<table border=\"1\" class=\"dataframe\">\n",
       "  <thead>\n",
       "    <tr style=\"text-align: right;\">\n",
       "      <th>Days Trended Segment</th>\n",
       "      <th>Trended for 1 day</th>\n",
       "      <th>Trended for 2 to 5 days</th>\n",
       "      <th>Trended more than 5 days</th>\n",
       "      <th>Total</th>\n",
       "    </tr>\n",
       "    <tr>\n",
       "      <th>Country Segment</th>\n",
       "      <th></th>\n",
       "      <th></th>\n",
       "      <th></th>\n",
       "      <th></th>\n",
       "    </tr>\n",
       "  </thead>\n",
       "  <tbody>\n",
       "    <tr>\n",
       "      <th>Trended in 1 country</th>\n",
       "      <td>122344</td>\n",
       "      <td>45348</td>\n",
       "      <td>2765</td>\n",
       "      <td>170457</td>\n",
       "    </tr>\n",
       "    <tr>\n",
       "      <th>Trended in 2 to 5 countries</th>\n",
       "      <td>4580</td>\n",
       "      <td>7216</td>\n",
       "      <td>1438</td>\n",
       "      <td>13234</td>\n",
       "    </tr>\n",
       "    <tr>\n",
       "      <th>Trended in more than 5 countries</th>\n",
       "      <td>28</td>\n",
       "      <td>334</td>\n",
       "      <td>153</td>\n",
       "      <td>515</td>\n",
       "    </tr>\n",
       "  </tbody>\n",
       "</table>\n",
       "</div>"
      ],
      "text/plain": [
       "Days Trended Segment              Trended for 1 day  Trended for 2 to 5 days  \\\n",
       "Country Segment                                                                \n",
       "Trended in 1 country                         122344                    45348   \n",
       "Trended in 2 to 5 countries                    4580                     7216   \n",
       "Trended in more than 5 countries                 28                      334   \n",
       "\n",
       "Days Trended Segment              Trended more than 5 days   Total  \n",
       "Country Segment                                                     \n",
       "Trended in 1 country                                  2765  170457  \n",
       "Trended in 2 to 5 countries                           1438   13234  \n",
       "Trended in more than 5 countries                       153     515  "
      ]
     },
     "execution_count": 20,
     "metadata": {},
     "output_type": "execute_result"
    }
   ],
   "source": [
    "#countries trended vs days trended: create table\n",
    "\n",
    "    #groupby to get counts\n",
    "count_by_country_no_trended = combined_per_video_df.groupby([\"Country Segment\", \n",
    "                                                     \"Days Trended Segment\"]\n",
    "                                                    )[\"No of Countries Trended In\"].count().unstack()\n",
    "\n",
    "count_by_country_no_trended[\"Total\"] = count_by_country_no_trended.sum(axis=1)\n",
    "\n",
    "count_by_country_no_trended"
   ]
  },
  {
   "cell_type": "code",
   "execution_count": 35,
   "metadata": {},
   "outputs": [
    {
     "data": {
      "text/html": [
       "<div>\n",
       "<style scoped>\n",
       "    .dataframe tbody tr th:only-of-type {\n",
       "        vertical-align: middle;\n",
       "    }\n",
       "\n",
       "    .dataframe tbody tr th {\n",
       "        vertical-align: top;\n",
       "    }\n",
       "\n",
       "    .dataframe thead th {\n",
       "        text-align: right;\n",
       "    }\n",
       "</style>\n",
       "<table border=\"1\" class=\"dataframe\">\n",
       "  <thead>\n",
       "    <tr style=\"text-align: right;\">\n",
       "      <th></th>\n",
       "      <th>Single Day(%)</th>\n",
       "      <th>Two to Five Days(%)</th>\n",
       "      <th>More than five Days(%)</th>\n",
       "    </tr>\n",
       "    <tr>\n",
       "      <th>Country Segment</th>\n",
       "      <th></th>\n",
       "      <th></th>\n",
       "      <th></th>\n",
       "    </tr>\n",
       "  </thead>\n",
       "  <tbody>\n",
       "    <tr>\n",
       "      <th>Trended in 1 country</th>\n",
       "      <td>71.774113</td>\n",
       "      <td>26.603777</td>\n",
       "      <td>1.622110</td>\n",
       "    </tr>\n",
       "    <tr>\n",
       "      <th>Trended in 2 to 5 countries</th>\n",
       "      <td>34.607828</td>\n",
       "      <td>54.526220</td>\n",
       "      <td>10.865951</td>\n",
       "    </tr>\n",
       "    <tr>\n",
       "      <th>Trended in more than 5 countries</th>\n",
       "      <td>5.436893</td>\n",
       "      <td>64.854369</td>\n",
       "      <td>29.708738</td>\n",
       "    </tr>\n",
       "  </tbody>\n",
       "</table>\n",
       "</div>"
      ],
      "text/plain": [
       "                                  Single Day(%)  Two to Five Days(%)  \\\n",
       "Country Segment                                                        \n",
       "Trended in 1 country                  71.774113            26.603777   \n",
       "Trended in 2 to 5 countries           34.607828            54.526220   \n",
       "Trended in more than 5 countries       5.436893            64.854369   \n",
       "\n",
       "                                  More than five Days(%)  \n",
       "Country Segment                                           \n",
       "Trended in 1 country                            1.622110  \n",
       "Trended in 2 to 5 countries                    10.865951  \n",
       "Trended in more than 5 countries               29.708738  "
      ]
     },
     "execution_count": 35,
     "metadata": {},
     "output_type": "execute_result"
    }
   ],
   "source": [
    "    #create dataframe containing percentages\n",
    "country_trended_percentage_df = pd.DataFrame({\n",
    "    \"Single Day(%)\": count_by_country_no_trended[\n",
    "        \"Trended for 1 day\"]*100/count_by_country_no_trended[\"Total\"],\n",
    "    \"Two to Five Days(%)\": count_by_country_no_trended[\n",
    "        \"Trended for 2 to 5 days\"]*100/count_by_country_no_trended[\"Total\"],\n",
    "    \"More than five Days(%)\": count_by_country_no_trended[\n",
    "        \"Trended more than 5 days\"]*100/count_by_country_no_trended[\"Total\"]})\n",
    "\n",
    "country_trended_percentage_df.fillna(value=0, inplace=True)\n",
    "\n",
    "country_trended_percentage_df"
   ]
  },
  {
   "cell_type": "code",
   "execution_count": 22,
   "metadata": {},
   "outputs": [],
   "source": [
    "#per country counts per days trended segment: create table\n",
    "    \n",
    "    #reset index to allow count by country\n",
    "Trending_Days_by_country = Trending_Days.reset_index(level=1)\n",
    "\n",
    "    #split dataframe and count by country\n",
    "\n",
    "single_days = Trending_Days_by_country.loc[\n",
    "    Trending_Days_by_country[\"Days_trending\"]==1, :]\n",
    "\n",
    "country_trending_1_single_days = single_days.groupby(\"country\").count()\n",
    "\n",
    "two_to_five_days = Trending_Days_by_country.loc[\n",
    "    (Trending_Days_by_country[\"Days_trending\"]>1) &\n",
    "    (Trending_Days_by_country[\"Days_trending\"]<=5), :]\n",
    "\n",
    "country_trending_2_to_5_days = two_to_five_days.groupby(\"country\").count()\n",
    "\n",
    "more_than_five_days = Trending_Days_by_country.loc[\n",
    "    Trending_Days_by_country[\"Days_trending\"]>5, :]\n",
    "\n",
    "country_trending_more_than_5_days = more_than_five_days.groupby(\n",
    "                                                    \"country\").count()"
   ]
  },
  {
   "cell_type": "code",
   "execution_count": 24,
   "metadata": {},
   "outputs": [],
   "source": [
    "    #merge\n",
    "\n",
    "dataframes=[country_trending_1_single_days, \n",
    "            country_trending_2_to_5_days, \n",
    "            country_trending_more_than_5_days]\n",
    "\n",
    "df_merged = reduce(lambda  left,right: pd.merge(left,right,on=['country'],\n",
    "                                            how='left'), dataframes)\n",
    "\n",
    "df_merged.set_axis([\"Single Day\", \n",
    "                    \"Two to Five Days\", \n",
    "                     \"More than Five Days\"], axis=1, inplace=True)\n",
    "\n",
    "df_merged[\"Total\"] = df_merged.sum(axis=1)"
   ]
  },
  {
   "cell_type": "code",
   "execution_count": 25,
   "metadata": {},
   "outputs": [
    {
     "data": {
      "text/html": [
       "<div>\n",
       "<style scoped>\n",
       "    .dataframe tbody tr th:only-of-type {\n",
       "        vertical-align: middle;\n",
       "    }\n",
       "\n",
       "    .dataframe tbody tr th {\n",
       "        vertical-align: top;\n",
       "    }\n",
       "\n",
       "    .dataframe thead th {\n",
       "        text-align: right;\n",
       "    }\n",
       "</style>\n",
       "<table border=\"1\" class=\"dataframe\">\n",
       "  <thead>\n",
       "    <tr style=\"text-align: right;\">\n",
       "      <th></th>\n",
       "      <th>Single Day(%)</th>\n",
       "      <th>Two to Five Days(%)</th>\n",
       "      <th>More than Five Days(%)</th>\n",
       "    </tr>\n",
       "    <tr>\n",
       "      <th>country</th>\n",
       "      <th></th>\n",
       "      <th></th>\n",
       "      <th></th>\n",
       "    </tr>\n",
       "  </thead>\n",
       "  <tbody>\n",
       "    <tr>\n",
       "      <th>CA</th>\n",
       "      <td>59.432107</td>\n",
       "      <td>39.986069</td>\n",
       "      <td>0.581824</td>\n",
       "    </tr>\n",
       "    <tr>\n",
       "      <th>DE</th>\n",
       "      <td>72.258805</td>\n",
       "      <td>27.734441</td>\n",
       "      <td>0.006754</td>\n",
       "    </tr>\n",
       "    <tr>\n",
       "      <th>FR</th>\n",
       "      <td>75.198796</td>\n",
       "      <td>24.797932</td>\n",
       "      <td>0.003272</td>\n",
       "    </tr>\n",
       "    <tr>\n",
       "      <th>GB</th>\n",
       "      <td>7.011635</td>\n",
       "      <td>17.636252</td>\n",
       "      <td>75.352113</td>\n",
       "    </tr>\n",
       "    <tr>\n",
       "      <th>IN</th>\n",
       "      <td>47.994111</td>\n",
       "      <td>50.625690</td>\n",
       "      <td>1.380199</td>\n",
       "    </tr>\n",
       "    <tr>\n",
       "      <th>JP</th>\n",
       "      <td>88.605534</td>\n",
       "      <td>11.394466</td>\n",
       "      <td>0.000000</td>\n",
       "    </tr>\n",
       "    <tr>\n",
       "      <th>KR</th>\n",
       "      <td>39.098076</td>\n",
       "      <td>60.372122</td>\n",
       "      <td>0.529801</td>\n",
       "    </tr>\n",
       "    <tr>\n",
       "      <th>MX</th>\n",
       "      <td>83.700585</td>\n",
       "      <td>16.299415</td>\n",
       "      <td>0.000000</td>\n",
       "    </tr>\n",
       "    <tr>\n",
       "      <th>RU</th>\n",
       "      <td>84.489903</td>\n",
       "      <td>15.510097</td>\n",
       "      <td>0.000000</td>\n",
       "    </tr>\n",
       "    <tr>\n",
       "      <th>US</th>\n",
       "      <td>11.140876</td>\n",
       "      <td>37.015443</td>\n",
       "      <td>51.843681</td>\n",
       "    </tr>\n",
       "  </tbody>\n",
       "</table>\n",
       "</div>"
      ],
      "text/plain": [
       "         Single Day(%)  Two to Five Days(%)  More than Five Days(%)\n",
       "country                                                            \n",
       "CA           59.432107            39.986069                0.581824\n",
       "DE           72.258805            27.734441                0.006754\n",
       "FR           75.198796            24.797932                0.003272\n",
       "GB            7.011635            17.636252               75.352113\n",
       "IN           47.994111            50.625690                1.380199\n",
       "JP           88.605534            11.394466                0.000000\n",
       "KR           39.098076            60.372122                0.529801\n",
       "MX           83.700585            16.299415                0.000000\n",
       "RU           84.489903            15.510097                0.000000\n",
       "US           11.140876            37.015443               51.843681"
      ]
     },
     "execution_count": 25,
     "metadata": {},
     "output_type": "execute_result"
    }
   ],
   "source": [
    " #create dataframe containing percentages\n",
    "country_percentage_df = pd.DataFrame({\"Single Day(%)\": df_merged[\n",
    "                                        \"Single Day\"]*100/df_merged[\"Total\"],\n",
    "                  \"Two to Five Days(%)\": df_merged[\n",
    "                      \"Two to Five Days\"]*100/df_merged[\"Total\"],\n",
    "                  \"More than Five Days(%)\": df_merged[\n",
    "                      \"More than Five Days\"]*100/df_merged[\"Total\"]})\n",
    "\n",
    "country_percentage_df.fillna(value=0, inplace=True)\n",
    "\n",
    "country_percentage_df"
   ]
  },
  {
   "cell_type": "code",
   "execution_count": 34,
   "metadata": {},
   "outputs": [
    {
     "data": {
      "text/html": [
       "<div>\n",
       "<style scoped>\n",
       "    .dataframe tbody tr th:only-of-type {\n",
       "        vertical-align: middle;\n",
       "    }\n",
       "\n",
       "    .dataframe tbody tr th {\n",
       "        vertical-align: top;\n",
       "    }\n",
       "\n",
       "    .dataframe thead th {\n",
       "        text-align: right;\n",
       "    }\n",
       "</style>\n",
       "<table border=\"1\" class=\"dataframe\">\n",
       "  <thead>\n",
       "    <tr style=\"text-align: right;\">\n",
       "      <th></th>\n",
       "      <th>country</th>\n",
       "      <th>First_Trend_Date</th>\n",
       "      <th>No. of Unique First Days Trended</th>\n",
       "      <th>No. of Countries Trended In</th>\n",
       "    </tr>\n",
       "    <tr>\n",
       "      <th>video_id</th>\n",
       "      <th></th>\n",
       "      <th></th>\n",
       "      <th></th>\n",
       "      <th></th>\n",
       "    </tr>\n",
       "  </thead>\n",
       "  <tbody>\n",
       "    <tr>\n",
       "      <th>--1skHapGUc</th>\n",
       "      <td>[MX]</td>\n",
       "      <td>[1518220800000000000]</td>\n",
       "      <td>1</td>\n",
       "      <td>1</td>\n",
       "    </tr>\n",
       "    <tr>\n",
       "      <th>--2K8l6BWfw</th>\n",
       "      <td>[FR]</td>\n",
       "      <td>[1520294400000000000]</td>\n",
       "      <td>1</td>\n",
       "      <td>1</td>\n",
       "    </tr>\n",
       "    <tr>\n",
       "      <th>--45ws7CEN0</th>\n",
       "      <td>[CA, MX, RU]</td>\n",
       "      <td>[1528761600000000000]</td>\n",
       "      <td>1</td>\n",
       "      <td>3</td>\n",
       "    </tr>\n",
       "    <tr>\n",
       "      <th>--6vcer7XYQ</th>\n",
       "      <td>[MX]</td>\n",
       "      <td>[1521763200000000000]</td>\n",
       "      <td>1</td>\n",
       "      <td>1</td>\n",
       "    </tr>\n",
       "    <tr>\n",
       "      <th>--728h8mnDY</th>\n",
       "      <td>[FR]</td>\n",
       "      <td>[1512518400000000000]</td>\n",
       "      <td>1</td>\n",
       "      <td>1</td>\n",
       "    </tr>\n",
       "    <tr>\n",
       "      <th>...</th>\n",
       "      <td>...</td>\n",
       "      <td>...</td>\n",
       "      <td>...</td>\n",
       "      <td>...</td>\n",
       "    </tr>\n",
       "    <tr>\n",
       "      <th>zzuI1sona1M</th>\n",
       "      <td>[RU]</td>\n",
       "      <td>[1515888000000000000]</td>\n",
       "      <td>1</td>\n",
       "      <td>1</td>\n",
       "    </tr>\n",
       "    <tr>\n",
       "      <th>zzvWC_pDiIk</th>\n",
       "      <td>[RU]</td>\n",
       "      <td>[1514937600000000000]</td>\n",
       "      <td>1</td>\n",
       "      <td>1</td>\n",
       "    </tr>\n",
       "    <tr>\n",
       "      <th>zzxLG6R5cHI</th>\n",
       "      <td>[MX]</td>\n",
       "      <td>[1517529600000000000]</td>\n",
       "      <td>1</td>\n",
       "      <td>1</td>\n",
       "    </tr>\n",
       "    <tr>\n",
       "      <th>zzyGHbhCpV4</th>\n",
       "      <td>[JP]</td>\n",
       "      <td>[1518652800000000000]</td>\n",
       "      <td>1</td>\n",
       "      <td>1</td>\n",
       "    </tr>\n",
       "    <tr>\n",
       "      <th>zzz0_5fMnI8</th>\n",
       "      <td>[FR]</td>\n",
       "      <td>[1513468800000000000]</td>\n",
       "      <td>1</td>\n",
       "      <td>1</td>\n",
       "    </tr>\n",
       "  </tbody>\n",
       "</table>\n",
       "<p>184206 rows × 4 columns</p>\n",
       "</div>"
      ],
      "text/plain": [
       "                  country       First_Trend_Date  \\\n",
       "video_id                                           \n",
       "--1skHapGUc          [MX]  [1518220800000000000]   \n",
       "--2K8l6BWfw          [FR]  [1520294400000000000]   \n",
       "--45ws7CEN0  [CA, MX, RU]  [1528761600000000000]   \n",
       "--6vcer7XYQ          [MX]  [1521763200000000000]   \n",
       "--728h8mnDY          [FR]  [1512518400000000000]   \n",
       "...                   ...                    ...   \n",
       "zzuI1sona1M          [RU]  [1515888000000000000]   \n",
       "zzvWC_pDiIk          [RU]  [1514937600000000000]   \n",
       "zzxLG6R5cHI          [MX]  [1517529600000000000]   \n",
       "zzyGHbhCpV4          [JP]  [1518652800000000000]   \n",
       "zzz0_5fMnI8          [FR]  [1513468800000000000]   \n",
       "\n",
       "             No. of Unique First Days Trended  No. of Countries Trended In  \n",
       "video_id                                                                    \n",
       "--1skHapGUc                                 1                            1  \n",
       "--2K8l6BWfw                                 1                            1  \n",
       "--45ws7CEN0                                 1                            3  \n",
       "--6vcer7XYQ                                 1                            1  \n",
       "--728h8mnDY                                 1                            1  \n",
       "...                                       ...                          ...  \n",
       "zzuI1sona1M                                 1                            1  \n",
       "zzvWC_pDiIk                                 1                            1  \n",
       "zzxLG6R5cHI                                 1                            1  \n",
       "zzyGHbhCpV4                                 1                            1  \n",
       "zzz0_5fMnI8                                 1                            1  \n",
       "\n",
       "[184206 rows x 4 columns]"
      ]
     },
     "execution_count": 34,
     "metadata": {},
     "output_type": "execute_result"
    }
   ],
   "source": [
    "#create dataframe with only videos trending in multiple countries\n",
    "\n",
    "    #bring country segmentation into originally dataframe\n",
    "Transition = Total_DF \n",
    "\n",
    "Transition[\"Countries Trended in Segment\"] = combined_per_video_df[\"Country Segment\"]\n",
    "\n",
    "   #create dataframe containing only those videos that trended in \n",
    "multinational_df = Transition.loc[Transition[\"Countries Trended in Segment\"]!= \"Trended in 1 country\",:]\n",
    "\n",
    "#find first day to trend per each country\n",
    "First_trend = multinational_df.groupby(\n",
    "    ['video_id',\"country\"]).aggregate(\n",
    "    First_Trend_Date=('trending_date', 'min'))\n",
    "   \n",
    "    #collapse into lists, determine unique first days\n",
    "First_trend.reset_index(level=1, inplace=True)\n",
    "col_First_trend = First_trend.groupby(\n",
    "    \"video_id\").aggregate(\n",
    "    lambda tdf: tdf.unique().tolist())\n",
    "col_First_trend['No. of Unique First Days Trended'] = col_First_trend[\"First_Trend_Date\"].apply(lambda x: len(x))\n",
    "col_First_trend['No. of Countries Trended In'] = col_First_trend[\"country\"].apply(lambda x: len(x))\n",
    "col_First_trend"
   ]
  },
  {
   "cell_type": "code",
   "execution_count": 20,
   "metadata": {},
   "outputs": [
    {
     "data": {
      "text/html": [
       "<div>\n",
       "<style scoped>\n",
       "    .dataframe tbody tr th:only-of-type {\n",
       "        vertical-align: middle;\n",
       "    }\n",
       "\n",
       "    .dataframe tbody tr th {\n",
       "        vertical-align: top;\n",
       "    }\n",
       "\n",
       "    .dataframe thead th {\n",
       "        text-align: right;\n",
       "    }\n",
       "</style>\n",
       "<table border=\"1\" class=\"dataframe\">\n",
       "  <thead>\n",
       "    <tr style=\"text-align: right;\">\n",
       "      <th></th>\n",
       "      <th>country</th>\n",
       "      <th>Days_trending</th>\n",
       "      <th>No. countries trended in</th>\n",
       "    </tr>\n",
       "    <tr>\n",
       "      <th>video_id</th>\n",
       "      <th></th>\n",
       "      <th></th>\n",
       "      <th></th>\n",
       "    </tr>\n",
       "  </thead>\n",
       "  <tbody>\n",
       "    <tr>\n",
       "      <th>--1skHapGUc</th>\n",
       "      <td>MX</td>\n",
       "      <td>1</td>\n",
       "      <td>1</td>\n",
       "    </tr>\n",
       "    <tr>\n",
       "      <th>--2K8l6BWfw</th>\n",
       "      <td>FR</td>\n",
       "      <td>1</td>\n",
       "      <td>1</td>\n",
       "    </tr>\n",
       "    <tr>\n",
       "      <th>--45ws7CEN0</th>\n",
       "      <td>CA</td>\n",
       "      <td>1</td>\n",
       "      <td>3</td>\n",
       "    </tr>\n",
       "    <tr>\n",
       "      <th>--45ws7CEN0</th>\n",
       "      <td>MX</td>\n",
       "      <td>1</td>\n",
       "      <td>3</td>\n",
       "    </tr>\n",
       "    <tr>\n",
       "      <th>--45ws7CEN0</th>\n",
       "      <td>RU</td>\n",
       "      <td>1</td>\n",
       "      <td>3</td>\n",
       "    </tr>\n",
       "    <tr>\n",
       "      <th>...</th>\n",
       "      <td>...</td>\n",
       "      <td>...</td>\n",
       "      <td>...</td>\n",
       "    </tr>\n",
       "    <tr>\n",
       "      <th>zzuI1sona1M</th>\n",
       "      <td>RU</td>\n",
       "      <td>1</td>\n",
       "      <td>1</td>\n",
       "    </tr>\n",
       "    <tr>\n",
       "      <th>zzvWC_pDiIk</th>\n",
       "      <td>RU</td>\n",
       "      <td>1</td>\n",
       "      <td>1</td>\n",
       "    </tr>\n",
       "    <tr>\n",
       "      <th>zzxLG6R5cHI</th>\n",
       "      <td>MX</td>\n",
       "      <td>1</td>\n",
       "      <td>1</td>\n",
       "    </tr>\n",
       "    <tr>\n",
       "      <th>zzyGHbhCpV4</th>\n",
       "      <td>JP</td>\n",
       "      <td>2</td>\n",
       "      <td>1</td>\n",
       "    </tr>\n",
       "    <tr>\n",
       "      <th>zzz0_5fMnI8</th>\n",
       "      <td>FR</td>\n",
       "      <td>1</td>\n",
       "      <td>1</td>\n",
       "    </tr>\n",
       "  </tbody>\n",
       "</table>\n",
       "<p>207008 rows × 3 columns</p>\n",
       "</div>"
      ],
      "text/plain": [
       "            country  Days_trending  No. countries trended in\n",
       "video_id                                                    \n",
       "--1skHapGUc      MX              1                         1\n",
       "--2K8l6BWfw      FR              1                         1\n",
       "--45ws7CEN0      CA              1                         3\n",
       "--45ws7CEN0      MX              1                         3\n",
       "--45ws7CEN0      RU              1                         3\n",
       "...             ...            ...                       ...\n",
       "zzuI1sona1M      RU              1                         1\n",
       "zzvWC_pDiIk      RU              1                         1\n",
       "zzxLG6R5cHI      MX              1                         1\n",
       "zzyGHbhCpV4      JP              2                         1\n",
       "zzz0_5fMnI8      FR              1                         1\n",
       "\n",
       "[207008 rows x 3 columns]"
      ]
     },
     "execution_count": 20,
     "metadata": {},
     "output_type": "execute_result"
    }
   ],
   "source": [
    "#create dataset allowing comparison between Days trended(as opposed to me) \n",
    "    #by no. of countries trended in \n",
    "DaysTrended_vs_Countries = Trending_Days.reset_index(level=1)\n",
    "\n",
    "DaysTrended_vs_Countries[\"No. countries trended in\"] = col_First_trend['No. of Countries Trended In']\n",
    "\n",
    "DaysTrended_vs_Countries"
   ]
  },
  {
   "cell_type": "markdown",
   "metadata": {},
   "source": [
    "Findings: \n",
    "---"
   ]
  },
  {
   "cell_type": "code",
   "execution_count": 31,
   "metadata": {},
   "outputs": [
    {
     "data": {
      "text/plain": [
       "<Figure size 432x360 with 0 Axes>"
      ]
     },
     "execution_count": 31,
     "metadata": {},
     "output_type": "execute_result"
    },
    {
     "data": {
      "text/plain": [
       "([<matplotlib.patches.Wedge at 0x21fe4624430>,\n",
       "  <matplotlib.patches.Wedge at 0x21fe4624af0>,\n",
       "  <matplotlib.patches.Wedge at 0x21fe462f1c0>],\n",
       " [Text(0.8905197077689269, -0.6457357432225238, ''),\n",
       "  Text(-0.840135503584379, 0.7100509387480747, ''),\n",
       "  Text(-1.0587347527895676, -0.2984639395900505, '')],\n",
       " [Text(0.4857380224194146, -0.35221949630319477, '68.9%'),\n",
       "  Text(-0.4582557292278431, 0.3873005120444043, '28.7%'),\n",
       "  Text(-0.5774916833397641, -0.16279851250366392, '2.4%')])"
      ]
     },
     "execution_count": 31,
     "metadata": {},
     "output_type": "execute_result"
    },
    {
     "data": {
      "text/plain": [
       "<matplotlib.legend.Legend at 0x21fe45909d0>"
      ]
     },
     "execution_count": 31,
     "metadata": {},
     "output_type": "execute_result"
    },
    {
     "data": {
      "text/plain": [
       "Text(0.5, 1.0, 'Mean No. of Days Video Trended')"
      ]
     },
     "execution_count": 31,
     "metadata": {},
     "output_type": "execute_result"
    },
    {
     "data": {
      "text/plain": [
       "(-1.1111372686570784,\n",
       " 1.113003090169773,\n",
       " -1.116509844294945,\n",
       " 1.1054406927197986)"
      ]
     },
     "execution_count": 31,
     "metadata": {},
     "output_type": "execute_result"
    },
    {
     "data": {
      "image/png": "[encoded data removed]",
      "text/plain": [
       "<Figure size 432x360 with 1 Axes>"
      ]
     },
     "metadata": {},
     "output_type": "display_data"
    }
   ],
   "source": [
    "#display the findings for segmentation: mean number of days video trended\n",
    "\n",
    "plt.figure(figsize=(6,5))\n",
    "\n",
    "# Labels for the sections of our pie chart\n",
    "labels = [\"1 day\", \"2 to 5 days\", \"More than 5 days\"]\n",
    "\n",
    "# The values of each section of the pie chart\n",
    "sizes = combined_per_video_df[\"Days Trended Segment\"].value_counts()\n",
    "\n",
    "# The colors of each section of the pie chart\n",
    "#colors = [plt.cm.Blues(0.4), plt.cm.Purples(0.4), plt.cm.Greens(0.4)]\n",
    "colors = [\"cyan\",  \"mediumpurple\", \"gold\"]\n",
    "\n",
    "#Display\n",
    "plt.pie(sizes,  \n",
    "        colors=colors, autopct=\"%1.1f%%\", shadow=False, \n",
    "        startangle=200, wedgeprops={'edgecolor':'w', \"alpha\" : 0.7}, \n",
    "        textprops={\"fontsize\": 12, \"color\":'black', \"fontweight\":'bold'})\n",
    "\n",
    "#formatting\n",
    "plt.legend(labels, loc=\"center left\", bbox_to_anchor=(1, 0.5), fontsize=12)\n",
    "plt.title(\"Mean No. of Days Video Trended\", fontsize=14, fontweight='bold')\n",
    "plt.tight_layout()\n",
    "plt.axis(\"equal\")\n",
    "\n",
    "plt.show()"
   ]
  },
  {
   "cell_type": "markdown",
   "metadata": {},
   "source": [
    "Approach: Remove duplicates so that dataset contains 1 row per video_id per country, and count the no. days video trended per country. Determine the mean no. of days: sum(days video trended per country)/no. of countries trended in.  \n",
    "\n",
    "Insight: Over two-thirds of videos trended for a single day. Only 3.5% trended for more than 4 days. "
   ]
  },
  {
   "cell_type": "code",
   "execution_count": 36,
   "metadata": {},
   "outputs": [
    {
     "data": {
      "text/plain": [
       "<Figure size 432x360 with 0 Axes>"
      ]
     },
     "execution_count": 36,
     "metadata": {},
     "output_type": "execute_result"
    },
    {
     "data": {
      "text/plain": [
       "([<matplotlib.patches.Wedge at 0x21fe1a56fa0>,\n",
       "  <matplotlib.patches.Wedge at 0x21fe1a5c6a0>,\n",
       "  <matplotlib.patches.Wedge at 0x21fe1a5cd30>],\n",
       " [Text(1.0698972443899415, -0.25557755466161364, ''),\n",
       "  Text(-1.0676112173206522, 0.2649646932161249, ''),\n",
       "  Text(-1.0999575709186096, 0.009661375618009877, '')],\n",
       " [Text(0.5835803151217862, -0.1394059389063347, '92.5%'),\n",
       "  Text(-0.5823333912658102, 0.14452619629970448, '7.2%'),\n",
       "  Text(-0.599976856864696, 0.005269841246187206, '0.3%')])"
      ]
     },
     "execution_count": 36,
     "metadata": {},
     "output_type": "execute_result"
    },
    {
     "data": {
      "text/plain": [
       "Text(0.5, 1.0, 'No. of Countries Video Trended In')"
      ]
     },
     "execution_count": 36,
     "metadata": {},
     "output_type": "execute_result"
    },
    {
     "data": {
      "text/plain": [
       "<matplotlib.legend.Legend at 0x21fe1a56ee0>"
      ]
     },
     "execution_count": 36,
     "metadata": {},
     "output_type": "execute_result"
    },
    {
     "data": {
      "text/plain": [
       "(-1.100365848410614,\n",
       " 1.1076828147383677,\n",
       " -1.1077773886260784,\n",
       " 1.1017826821714476)"
      ]
     },
     "execution_count": 36,
     "metadata": {},
     "output_type": "execute_result"
    },
    {
     "data": {
      "image/png": "[encoded data removed]",
      "text/plain": [
       "<Figure size 432x360 with 1 Axes>"
      ]
     },
     "metadata": {},
     "output_type": "display_data"
    }
   ],
   "source": [
    "#display the findings for segmentation: number of countries trended in \n",
    "\n",
    "plt.figure(figsize=(6,5))\n",
    "\n",
    "# Labels for the sections of our pie chart\n",
    "labels = [\"1 country\", \"2 to 5 countries\", \"More than 5 countries\"]\n",
    "\n",
    "# The values of each section of the pie chart\n",
    "sizes = combined_per_video_df[\"Country Segment\"].value_counts()\n",
    "\n",
    "# The colors of each section of the pie chart\n",
    "#colors = [plt.cm.Blues(0.4), plt.cm.Purples(0.4), plt.cm.Greens(0.4)]\n",
    "colors = [\"cyan\",  \"mediumpurple\", \"gold\"]\n",
    "\n",
    "#Display\n",
    "plt.pie(sizes,  \n",
    "        colors=colors, autopct=\"%1.1f%%\", shadow=False, \n",
    "        startangle=180, wedgeprops={'edgecolor':'w', \"alpha\" : 0.7}, \n",
    "        textprops={\"fontsize\": 12, \"color\":'black', \"fontweight\":'bold'})\n",
    "\n",
    "#formatting\n",
    "plt.title(\"No. of Countries Video Trended In\", fontsize=14, fontweight='bold')\n",
    "plt.legend(labels, loc=\"center left\", bbox_to_anchor=(1, 0.5), fontsize=12)\n",
    "plt.tight_layout()\n",
    "plt.axis(\"equal\")\n",
    "\n",
    "plt.show()"
   ]
  },
  {
   "cell_type": "markdown",
   "metadata": {},
   "source": [
    "Approach: Remove duplicates so that dataset contains 1 row per video_id per country, and count the no. of rows per video_id. \n",
    "\n",
    "Insight: The vast majority (92.5%) of videos trended in a single country."
   ]
  },
  {
   "cell_type": "code",
   "execution_count": 37,
   "metadata": {},
   "outputs": [
    {
     "data": {
      "text/html": [
       "<div>\n",
       "<style scoped>\n",
       "    .dataframe tbody tr th:only-of-type {\n",
       "        vertical-align: middle;\n",
       "    }\n",
       "\n",
       "    .dataframe tbody tr th {\n",
       "        vertical-align: top;\n",
       "    }\n",
       "\n",
       "    .dataframe thead th {\n",
       "        text-align: right;\n",
       "    }\n",
       "</style>\n",
       "<table border=\"1\" class=\"dataframe\">\n",
       "  <thead>\n",
       "    <tr style=\"text-align: right;\">\n",
       "      <th></th>\n",
       "      <th>Single Day(%)</th>\n",
       "      <th>Two to Five Days(%)</th>\n",
       "      <th>More than five Days(%)</th>\n",
       "    </tr>\n",
       "    <tr>\n",
       "      <th>Country Segment</th>\n",
       "      <th></th>\n",
       "      <th></th>\n",
       "      <th></th>\n",
       "    </tr>\n",
       "  </thead>\n",
       "  <tbody>\n",
       "    <tr>\n",
       "      <th>Trended in 1 country</th>\n",
       "      <td>71.774113</td>\n",
       "      <td>26.603777</td>\n",
       "      <td>1.622110</td>\n",
       "    </tr>\n",
       "    <tr>\n",
       "      <th>Trended in 2 to 5 countries</th>\n",
       "      <td>34.607828</td>\n",
       "      <td>54.526220</td>\n",
       "      <td>10.865951</td>\n",
       "    </tr>\n",
       "    <tr>\n",
       "      <th>Trended in more than 5 countries</th>\n",
       "      <td>5.436893</td>\n",
       "      <td>64.854369</td>\n",
       "      <td>29.708738</td>\n",
       "    </tr>\n",
       "  </tbody>\n",
       "</table>\n",
       "</div>"
      ],
      "text/plain": [
       "                                  Single Day(%)  Two to Five Days(%)  \\\n",
       "Country Segment                                                        \n",
       "Trended in 1 country                  71.774113            26.603777   \n",
       "Trended in 2 to 5 countries           34.607828            54.526220   \n",
       "Trended in more than 5 countries       5.436893            64.854369   \n",
       "\n",
       "                                  More than five Days(%)  \n",
       "Country Segment                                           \n",
       "Trended in 1 country                            1.622110  \n",
       "Trended in 2 to 5 countries                    10.865951  \n",
       "Trended in more than 5 countries               29.708738  "
      ]
     },
     "execution_count": 37,
     "metadata": {},
     "output_type": "execute_result"
    }
   ],
   "source": [
    "#Table: Mean Days Trending by No. of countries trended in \n",
    "country_trended_percentage_df"
   ]
  },
  {
   "cell_type": "markdown",
   "metadata": {},
   "source": [
    "Approach: Create segments based on the above categories and incorporate into dataframe (df: Remove duplicates so that dataset contains 1 row per video_id per country). Group by video_id and Days_trending segment and count by countries_trended_in segment. Determine percentage of total per countries_trended_in segment. "
   ]
  },
  {
   "cell_type": "code",
   "execution_count": 39,
   "metadata": {},
   "outputs": [
    {
     "data": {
      "text/plain": [
       "[Text(0, 0, '1 Country\\n (N=170,457)'),\n",
       " Text(0, 0, '2-5 Countries\\n (N=13,234)'),\n",
       " Text(0, 0, 'More than 5 Countries\\n (N=515)')]"
      ]
     },
     "execution_count": 39,
     "metadata": {},
     "output_type": "execute_result"
    },
    {
     "data": {
      "text/plain": [
       "[]"
      ]
     },
     "execution_count": 39,
     "metadata": {},
     "output_type": "execute_result"
    },
    {
     "data": {
      "text/plain": [
       "[]"
      ]
     },
     "execution_count": 39,
     "metadata": {},
     "output_type": "execute_result"
    },
    {
     "data": {
      "text/plain": [
       "Text(0.5, 0, 'No. of Countries Trended In')"
      ]
     },
     "execution_count": 39,
     "metadata": {},
     "output_type": "execute_result"
    },
    {
     "data": {
      "text/plain": [
       "Text(0, 0.5, 'Percentage of Videos')"
      ]
     },
     "execution_count": 39,
     "metadata": {},
     "output_type": "execute_result"
    },
    {
     "data": {
      "text/plain": [
       "Text(0.5, 1.0, 'Mean Days Videos Trended by No. of Countries Trended In')"
      ]
     },
     "execution_count": 39,
     "metadata": {},
     "output_type": "execute_result"
    },
    {
     "data": {
      "text/plain": [
       "<matplotlib.legend.Legend at 0x21fde7b7970>"
      ]
     },
     "execution_count": 39,
     "metadata": {},
     "output_type": "execute_result"
    },
    {
     "data": {
      "text/plain": [
       "Text(0.0, 35.88705655971887, '71')"
      ]
     },
     "execution_count": 39,
     "metadata": {},
     "output_type": "execute_result"
    },
    {
     "data": {
      "text/plain": [
       "Text(1.0, 17.303914160495694, '34')"
      ]
     },
     "execution_count": 39,
     "metadata": {},
     "output_type": "execute_result"
    },
    {
     "data": {
      "text/plain": [
       "Text(2.0, 2.7184466019417477, '5')"
      ]
     },
     "execution_count": 39,
     "metadata": {},
     "output_type": "execute_result"
    },
    {
     "data": {
      "text/plain": [
       "Text(0.0, 85.07600157224402, '26')"
      ]
     },
     "execution_count": 39,
     "metadata": {},
     "output_type": "execute_result"
    },
    {
     "data": {
      "text/plain": [
       "Text(1.0, 61.87093849176364, '54')"
      ]
     },
     "execution_count": 39,
     "metadata": {},
     "output_type": "execute_result"
    },
    {
     "data": {
      "text/plain": [
       "Text(2.0, 37.864077669902905, '64')"
      ]
     },
     "execution_count": 39,
     "metadata": {},
     "output_type": "execute_result"
    },
    {
     "data": {
      "text/plain": [
       "Text(0.0, 99.18894501252515, '1')"
      ]
     },
     "execution_count": 39,
     "metadata": {},
     "output_type": "execute_result"
    },
    {
     "data": {
      "text/plain": [
       "Text(1.0, 94.56702433126794, '10')"
      ]
     },
     "execution_count": 39,
     "metadata": {},
     "output_type": "execute_result"
    },
    {
     "data": {
      "text/plain": [
       "Text(2.0, 85.14563106796118, '29')"
      ]
     },
     "execution_count": 39,
     "metadata": {},
     "output_type": "execute_result"
    },
    {
     "data": {
      "text/plain": [
       "[<matplotlib.patches.Rectangle at 0x21fde7896a0>,\n",
       " <matplotlib.patches.Rectangle at 0x21fde789550>,\n",
       " <matplotlib.patches.Rectangle at 0x21fde789b80>,\n",
       " <matplotlib.patches.Rectangle at 0x21fde789fd0>,\n",
       " <matplotlib.patches.Rectangle at 0x21fde789610>,\n",
       " <matplotlib.patches.Rectangle at 0x21fde79b460>,\n",
       " <matplotlib.patches.Rectangle at 0x21fde79b8b0>,\n",
       " <matplotlib.patches.Rectangle at 0x21fde789520>,\n",
       " <matplotlib.patches.Rectangle at 0x21fde79bd00>]"
      ]
     },
     "execution_count": 39,
     "metadata": {},
     "output_type": "execute_result"
    },
    {
     "data": {
      "image/png": "[encoded data removed]",
      "text/plain": [
       "<Figure size 576x360 with 1 Axes>"
      ]
     },
     "metadata": {
      "needs_background": "light"
     },
     "output_type": "display_data"
    }
   ],
   "source": [
    "#create stacked bar chart - by countries segment\n",
    "\n",
    "colors=[\"cyan\",  \"mediumpurple\", \"gold\" ]\n",
    "labels=[f\"1 Country\\n (N=170,457)\", \n",
    "        \"2-5 Countries\\n (N=13,234)\", \n",
    "        \"More than 5 Countries\\n (N=515)\"]\n",
    "legend_labels=[\"Single Day\", \"2 to 5 Days\", \"More than 5 Days\"]\n",
    "                                   \n",
    "ax = country_trended_percentage_df.plot(kind=\"bar\", \n",
    "                                   stacked=True, \n",
    "                                   color=colors,\n",
    "                                        alpha=0.7,\n",
    "                                   figsize=(8,5),\n",
    "                                   fontsize=12,\n",
    "                                   rot=0,\n",
    "                                   ylim=(0,110))\n",
    "\n",
    "#Formatting                                  \n",
    "ax.set_frame_on(False)  \n",
    "\n",
    "                                     \n",
    "ax.set_xticklabels(labels)\n",
    "                         \n",
    "ax.set_yticklabels([])\n",
    "ax.set_yticks([])\n",
    "\n",
    "ax.set_xlabel(\"No. of Countries Trended In\", \n",
    "              fontsize=14, \n",
    "              labelpad=20)\n",
    "\n",
    "ax.set_ylabel(\"Percentage of Videos\", \n",
    "              fontsize=14, \n",
    "              labelpad=10)\n",
    "\n",
    "ax.set_title(\"Mean Days Videos Trended by No. of Countries Trended In\", \n",
    "             fontsize=14,\n",
    "             fontweight='bold')\n",
    "\n",
    "plt.legend(legend_labels, \n",
    "           loc=\"center right\", \n",
    "           bbox_to_anchor=(1.3, 0.5),\n",
    "           fontsize=12)\n",
    "\n",
    "#data labels\n",
    "for rect in ax.patches:\n",
    "    height = rect.get_height()\n",
    "    width = rect.get_width()\n",
    "    x = rect.get_x()\n",
    "    y = rect.get_y()\n",
    "\n",
    "    padding = 0.25\n",
    "    label_text = int(height)\n",
    "    \n",
    "    label_x = x + width - padding\n",
    "    label_y = y + height / 2\n",
    "    \n",
    "    ax.text(label_x, label_y, label_text, \n",
    "            ha='center', va='center',\n",
    "           fontweight = \"bold\")\n",
    "    \n",
    "ax.patches\n",
    "\n",
    "plt.show()"
   ]
  },
  {
   "cell_type": "markdown",
   "metadata": {},
   "source": [
    "Approach: Plot table (Mean Days Trending by No. of countries trended in) \n",
    "\n",
    "Insight: The more countries videos trended in, the greater the proportion that trend for more than a single day. "
   ]
  },
  {
   "cell_type": "code",
   "execution_count": 40,
   "metadata": {},
   "outputs": [
    {
     "data": {
      "text/html": [
       "<div>\n",
       "<style scoped>\n",
       "    .dataframe tbody tr th:only-of-type {\n",
       "        vertical-align: middle;\n",
       "    }\n",
       "\n",
       "    .dataframe tbody tr th {\n",
       "        vertical-align: top;\n",
       "    }\n",
       "\n",
       "    .dataframe thead th {\n",
       "        text-align: right;\n",
       "    }\n",
       "</style>\n",
       "<table border=\"1\" class=\"dataframe\">\n",
       "  <thead>\n",
       "    <tr style=\"text-align: right;\">\n",
       "      <th></th>\n",
       "      <th>Single Day(%)</th>\n",
       "      <th>Two to Five Days(%)</th>\n",
       "      <th>More than Five Days(%)</th>\n",
       "    </tr>\n",
       "    <tr>\n",
       "      <th>country</th>\n",
       "      <th></th>\n",
       "      <th></th>\n",
       "      <th></th>\n",
       "    </tr>\n",
       "  </thead>\n",
       "  <tbody>\n",
       "    <tr>\n",
       "      <th>JP</th>\n",
       "      <td>88.605534</td>\n",
       "      <td>11.394466</td>\n",
       "      <td>0.000000</td>\n",
       "    </tr>\n",
       "    <tr>\n",
       "      <th>RU</th>\n",
       "      <td>84.489903</td>\n",
       "      <td>15.510097</td>\n",
       "      <td>0.000000</td>\n",
       "    </tr>\n",
       "    <tr>\n",
       "      <th>MX</th>\n",
       "      <td>83.700585</td>\n",
       "      <td>16.299415</td>\n",
       "      <td>0.000000</td>\n",
       "    </tr>\n",
       "    <tr>\n",
       "      <th>FR</th>\n",
       "      <td>75.198796</td>\n",
       "      <td>24.797932</td>\n",
       "      <td>0.003272</td>\n",
       "    </tr>\n",
       "    <tr>\n",
       "      <th>DE</th>\n",
       "      <td>72.258805</td>\n",
       "      <td>27.734441</td>\n",
       "      <td>0.006754</td>\n",
       "    </tr>\n",
       "    <tr>\n",
       "      <th>CA</th>\n",
       "      <td>59.432107</td>\n",
       "      <td>39.986069</td>\n",
       "      <td>0.581824</td>\n",
       "    </tr>\n",
       "    <tr>\n",
       "      <th>IN</th>\n",
       "      <td>47.994111</td>\n",
       "      <td>50.625690</td>\n",
       "      <td>1.380199</td>\n",
       "    </tr>\n",
       "    <tr>\n",
       "      <th>KR</th>\n",
       "      <td>39.098076</td>\n",
       "      <td>60.372122</td>\n",
       "      <td>0.529801</td>\n",
       "    </tr>\n",
       "    <tr>\n",
       "      <th>US</th>\n",
       "      <td>11.140876</td>\n",
       "      <td>37.015443</td>\n",
       "      <td>51.843681</td>\n",
       "    </tr>\n",
       "    <tr>\n",
       "      <th>GB</th>\n",
       "      <td>7.011635</td>\n",
       "      <td>17.636252</td>\n",
       "      <td>75.352113</td>\n",
       "    </tr>\n",
       "  </tbody>\n",
       "</table>\n",
       "</div>"
      ],
      "text/plain": [
       "         Single Day(%)  Two to Five Days(%)  More than Five Days(%)\n",
       "country                                                            \n",
       "JP           88.605534            11.394466                0.000000\n",
       "RU           84.489903            15.510097                0.000000\n",
       "MX           83.700585            16.299415                0.000000\n",
       "FR           75.198796            24.797932                0.003272\n",
       "DE           72.258805            27.734441                0.006754\n",
       "CA           59.432107            39.986069                0.581824\n",
       "IN           47.994111            50.625690                1.380199\n",
       "KR           39.098076            60.372122                0.529801\n",
       "US           11.140876            37.015443               51.843681\n",
       "GB            7.011635            17.636252               75.352113"
      ]
     },
     "execution_count": 40,
     "metadata": {},
     "output_type": "execute_result"
    }
   ],
   "source": [
    "#Table: Days Trending by Country\n",
    "\n",
    "country_percentage_df.sort_values(by=\"Single Day(%)\", ascending=False, inplace=True)\n",
    "\n",
    "country_percentage_df"
   ]
  },
  {
   "cell_type": "markdown",
   "metadata": {},
   "source": [
    "Approach: Count no. of days a video trended by country. Count no. of videos per days_trending segment per country. Determine percentage of total per country.  "
   ]
  },
  {
   "cell_type": "code",
   "execution_count": 41,
   "metadata": {},
   "outputs": [
    {
     "data": {
      "text/plain": [
       "[Text(0, 0, 'Japan\\n (N=12,901)'),\n",
       " Text(0, 0, 'Russia\\n (N=34,268)'),\n",
       " Text(0, 0, 'Mexico\\n (N=33,492)'),\n",
       " Text(0, 0, 'France\\n (N=30,559)'),\n",
       " Text(0, 0, 'Germany\\n (N=29,613)'),\n",
       " Text(0, 0, 'Canada\\n (N=24,406)'),\n",
       " Text(0, 0, 'India\\n (N=16,302)'),\n",
       " Text(0, 0, 'Korea\\n (N=15,855)'),\n",
       " Text(0, 0, 'United States\\n (N=6,346)'),\n",
       " Text(0, 0, 'United Kingdom\\n (N=3,266)')]"
      ]
     },
     "execution_count": 41,
     "metadata": {},
     "output_type": "execute_result"
    },
    {
     "data": {
      "text/plain": [
       "[]"
      ]
     },
     "execution_count": 41,
     "metadata": {},
     "output_type": "execute_result"
    },
    {
     "data": {
      "text/plain": [
       "Text(0, 0.5, 'Country')"
      ]
     },
     "execution_count": 41,
     "metadata": {},
     "output_type": "execute_result"
    },
    {
     "data": {
      "text/plain": [
       "Text(0.5, 0, 'Percentage of Videos')"
      ]
     },
     "execution_count": 41,
     "metadata": {},
     "output_type": "execute_result"
    },
    {
     "data": {
      "text/plain": [
       "Text(0.5, 1.0, 'Days Videos Trended by Country')"
      ]
     },
     "execution_count": 41,
     "metadata": {},
     "output_type": "execute_result"
    },
    {
     "data": {
      "text/plain": [
       "<matplotlib.legend.Legend at 0x21fde87d400>"
      ]
     },
     "execution_count": 41,
     "metadata": {},
     "output_type": "execute_result"
    },
    {
     "data": {
      "text/plain": [
       "Text(44.30276722734672, 0.0, '88')"
      ]
     },
     "execution_count": 41,
     "metadata": {},
     "output_type": "execute_result"
    },
    {
     "data": {
      "text/plain": [
       "Text(42.244951558305125, 1.0, '84')"
      ]
     },
     "execution_count": 41,
     "metadata": {},
     "output_type": "execute_result"
    },
    {
     "data": {
      "text/plain": [
       "Text(41.85029260718978, 2.0, '83')"
      ]
     },
     "execution_count": 41,
     "metadata": {},
     "output_type": "execute_result"
    },
    {
     "data": {
      "text/plain": [
       "Text(37.59939788605648, 3.0, '75')"
      ]
     },
     "execution_count": 41,
     "metadata": {},
     "output_type": "execute_result"
    },
    {
     "data": {
      "text/plain": [
       "Text(36.12940262722453, 4.0, '72')"
      ]
     },
     "execution_count": 41,
     "metadata": {},
     "output_type": "execute_result"
    },
    {
     "data": {
      "text/plain": [
       "Text(29.716053429484553, 5.0, '59')"
      ]
     },
     "execution_count": 41,
     "metadata": {},
     "output_type": "execute_result"
    },
    {
     "data": {
      "text/plain": [
       "Text(23.997055576002943, 6.0, '47')"
      ]
     },
     "execution_count": 41,
     "metadata": {},
     "output_type": "execute_result"
    },
    {
     "data": {
      "text/plain": [
       "Text(19.54903815830968, 7.0, '39')"
      ]
     },
     "execution_count": 41,
     "metadata": {},
     "output_type": "execute_result"
    },
    {
     "data": {
      "text/plain": [
       "Text(5.570438071225969, 8.0, '11')"
      ]
     },
     "execution_count": 41,
     "metadata": {},
     "output_type": "execute_result"
    },
    {
     "data": {
      "text/plain": [
       "Text(3.505817513778322, 9.0, '7')"
      ]
     },
     "execution_count": 41,
     "metadata": {},
     "output_type": "execute_result"
    },
    {
     "data": {
      "text/plain": [
       "Text(94.30276722734672, 0.0, '11')"
      ]
     },
     "execution_count": 41,
     "metadata": {},
     "output_type": "execute_result"
    },
    {
     "data": {
      "text/plain": [
       "Text(92.24495155830513, 1.0, '15')"
      ]
     },
     "execution_count": 41,
     "metadata": {},
     "output_type": "execute_result"
    },
    {
     "data": {
      "text/plain": [
       "Text(91.85029260718977, 2.0, '16')"
      ]
     },
     "execution_count": 41,
     "metadata": {},
     "output_type": "execute_result"
    },
    {
     "data": {
      "text/plain": [
       "Text(87.59776170686213, 3.0, '24')"
      ]
     },
     "execution_count": 41,
     "metadata": {},
     "output_type": "execute_result"
    },
    {
     "data": {
      "text/plain": [
       "Text(86.12602573194205, 4.0, '27')"
      ]
     },
     "execution_count": 41,
     "metadata": {},
     "output_type": "execute_result"
    },
    {
     "data": {
      "text/plain": [
       "Text(79.4251413586823, 5.0, '39')"
      ]
     },
     "execution_count": 41,
     "metadata": {},
     "output_type": "execute_result"
    },
    {
     "data": {
      "text/plain": [
       "Text(73.30695620169304, 6.0, '50')"
      ]
     },
     "execution_count": 41,
     "metadata": {},
     "output_type": "execute_result"
    },
    {
     "data": {
      "text/plain": [
       "Text(69.28413749605804, 7.0, '60')"
      ]
     },
     "execution_count": 41,
     "metadata": {},
     "output_type": "execute_result"
    },
    {
     "data": {
      "text/plain": [
       "Text(29.648597541758583, 8.0, '37')"
      ]
     },
     "execution_count": 41,
     "metadata": {},
     "output_type": "execute_result"
    },
    {
     "data": {
      "text/plain": [
       "Text(15.82976117575015, 9.0, '17')"
      ]
     },
     "execution_count": 41,
     "metadata": {},
     "output_type": "execute_result"
    },
    {
     "data": {
      "text/plain": [
       "Text(0.0, 0.0, '')"
      ]
     },
     "execution_count": 41,
     "metadata": {},
     "output_type": "execute_result"
    },
    {
     "data": {
      "text/plain": [
       "Text(0.0, 1.0, '')"
      ]
     },
     "execution_count": 41,
     "metadata": {},
     "output_type": "execute_result"
    },
    {
     "data": {
      "text/plain": [
       "Text(0.0, 2.0, '')"
      ]
     },
     "execution_count": 41,
     "metadata": {},
     "output_type": "execute_result"
    },
    {
     "data": {
      "text/plain": [
       "Text(99.99836382080565, 3.0, '')"
      ]
     },
     "execution_count": 41,
     "metadata": {},
     "output_type": "execute_result"
    },
    {
     "data": {
      "text/plain": [
       "Text(99.99662310471751, 4.0, '')"
      ]
     },
     "execution_count": 41,
     "metadata": {},
     "output_type": "execute_result"
    },
    {
     "data": {
      "text/plain": [
       "Text(99.70908792919774, 5.0, '')"
      ]
     },
     "execution_count": 41,
     "metadata": {},
     "output_type": "execute_result"
    },
    {
     "data": {
      "text/plain": [
       "Text(99.30990062569009, 6.0, '1')"
      ]
     },
     "execution_count": 41,
     "metadata": {},
     "output_type": "execute_result"
    },
    {
     "data": {
      "text/plain": [
       "Text(99.73509933774835, 7.0, '')"
      ]
     },
     "execution_count": 41,
     "metadata": {},
     "output_type": "execute_result"
    },
    {
     "data": {
      "text/plain": [
       "Text(74.07815947053263, 8.0, '51')"
      ]
     },
     "execution_count": 41,
     "metadata": {},
     "output_type": "execute_result"
    },
    {
     "data": {
      "text/plain": [
       "Text(62.323943661971825, 9.0, '75')"
      ]
     },
     "execution_count": 41,
     "metadata": {},
     "output_type": "execute_result"
    },
    {
     "data": {
      "text/plain": [
       "[<matplotlib.patches.Rectangle at 0x21fde818e80>,\n",
       " <matplotlib.patches.Rectangle at 0x21fde818d30>,\n",
       " <matplotlib.patches.Rectangle at 0x21fde8253d0>,\n",
       " <matplotlib.patches.Rectangle at 0x21fde8256a0>,\n",
       " <matplotlib.patches.Rectangle at 0x21fde825970>,\n",
       " <matplotlib.patches.Rectangle at 0x21fde825c40>,\n",
       " <matplotlib.patches.Rectangle at 0x21fde825f10>,\n",
       " <matplotlib.patches.Rectangle at 0x21fde831250>,\n",
       " <matplotlib.patches.Rectangle at 0x21fde831520>,\n",
       " <matplotlib.patches.Rectangle at 0x21fde8317f0>,\n",
       " <matplotlib.patches.Rectangle at 0x21fde831c40>,\n",
       " <matplotlib.patches.Rectangle at 0x21fde818df0>,\n",
       " <matplotlib.patches.Rectangle at 0x21fde83e0d0>,\n",
       " <matplotlib.patches.Rectangle at 0x21fde83e3a0>,\n",
       " <matplotlib.patches.Rectangle at 0x21fde83e670>,\n",
       " <matplotlib.patches.Rectangle at 0x21fde83e940>,\n",
       " <matplotlib.patches.Rectangle at 0x21fde83ec10>,\n",
       " <matplotlib.patches.Rectangle at 0x21fde83eee0>,\n",
       " <matplotlib.patches.Rectangle at 0x21fde84c1f0>,\n",
       " <matplotlib.patches.Rectangle at 0x21fde84c4c0>,\n",
       " <matplotlib.patches.Rectangle at 0x21fde84c940>,\n",
       " <matplotlib.patches.Rectangle at 0x21fde818dc0>,\n",
       " <matplotlib.patches.Rectangle at 0x21fde84cd90>,\n",
       " <matplotlib.patches.Rectangle at 0x21fde8590a0>,\n",
       " <matplotlib.patches.Rectangle at 0x21fde859370>,\n",
       " <matplotlib.patches.Rectangle at 0x21fde859640>,\n",
       " <matplotlib.patches.Rectangle at 0x21fde859910>,\n",
       " <matplotlib.patches.Rectangle at 0x21fde859be0>,\n",
       " <matplotlib.patches.Rectangle at 0x21fde859eb0>,\n",
       " <matplotlib.patches.Rectangle at 0x21fde8671c0>]"
      ]
     },
     "execution_count": 41,
     "metadata": {},
     "output_type": "execute_result"
    },
    {
     "data": {
      "image/png": "[encoded data removed]",
      "text/plain": [
       "<Figure size 720x720 with 1 Axes>"
      ]
     },
     "metadata": {
      "needs_background": "light"
     },
     "output_type": "display_data"
    }
   ],
   "source": [
    "#create stacked bar chart - by individual countries\n",
    "\n",
    "colors1=[\"cyan\",  \"mediumpurple\", \"gold\" ]\n",
    "labels1=[\"Japan\\n (N=12,901)\",\n",
    "        \"Russia\\n (N=34,268)\",\n",
    "        \"Mexico\\n (N=33,492)\",\n",
    "        \"France\\n (N=30,559)\",\n",
    "        \"Germany\\n (N=29,613)\",\n",
    "        \"Canada\\n (N=24,406)\", \n",
    "        \"India\\n (N=16,302)\",\n",
    "        \"Korea\\n (N=15,855)\",\n",
    "        \"United States\\n (N=6,346)\",\n",
    "        \"United Kingdom\\n (N=3,266)\"]\n",
    "\n",
    "legend_labels1=[\"Single Day\", \"2 to 5 Days\", \"More than 5 Days\"]\n",
    "                                   \n",
    "ax1 = country_percentage_df.plot(kind=\"barh\", \n",
    "                                   stacked=True, \n",
    "                                   color=colors,\n",
    "                                   alpha=0.7,\n",
    "                                   figsize=(10,10),\n",
    "                                   fontsize=12,\n",
    "                                   rot=0)                      \n",
    "\n",
    "#Formatting                                  \n",
    "ax1.set_frame_on(False)  \n",
    "                                     \n",
    "ax1.set_yticklabels(labels1)\n",
    "                         \n",
    "ax1.set_xticks([])\n",
    "\n",
    "ax1.set_ylabel(\"Country\", \n",
    "              fontsize=14, \n",
    "              labelpad=20)\n",
    "\n",
    "ax1.set_xlabel(\"Percentage of Videos\", \n",
    "              fontsize=14, \n",
    "              labelpad=10)\n",
    "\n",
    "ax1.set_title(\"Days Videos Trended by Country\", \n",
    "             fontsize=14,\n",
    "             fontweight='bold')\n",
    "\n",
    "plt.legend(legend_labels, \n",
    "           loc=\"center right\", \n",
    "           bbox_to_anchor=(1.4, 0.5),\n",
    "           fontsize=12)\n",
    "\n",
    "#data labels\n",
    "for rect in ax1.patches:\n",
    "    height = rect.get_height()\n",
    "    width = rect.get_width()\n",
    "    x = rect.get_x()\n",
    "    y = rect.get_y()\n",
    "\n",
    "    padding = 0.25\n",
    "    label_text = (int(width) if int(width)!=0 else \"\")\n",
    "    \n",
    "    label_x = x + width - padding\n",
    "    label_y = y + height / 2\n",
    "    \n",
    "    label_x = x + width/2\n",
    "    label_y = y + height - padding\n",
    "    \n",
    "    ax1.text(label_x, label_y, label_text, \n",
    "            ha='center', va='center',\n",
    "           fontweight = \"bold\")\n",
    "    \n",
    "ax1.patches\n",
    "\n",
    "plt.show()"
   ]
  },
  {
   "cell_type": "markdown",
   "metadata": {},
   "source": [
    "Approach: Plot table (Days Trending by Country) \n",
    "\n",
    "Insight: For six of ten countries, the majority of videos trend for a single days. In Korea, just under half of videos trend for 2 to 4 days whereas over half of videos in India trended for that interval. US and UK are outliers amoung the countries as the majority of videos that trended in these countries did so for more than four days.   "
   ]
  },
  {
   "cell_type": "markdown",
   "metadata": {},
   "source": [
    "Analysis: \n",
    "---\n",
    "\n",
    "Do certain countries tend to trend the same videos? "
   ]
  },
  {
   "cell_type": "code",
   "execution_count": 57,
   "metadata": {},
   "outputs": [],
   "source": [
    "#counts days trending (doing this separate from other analysis due to other index resets causing incorrect findings)\n",
    "\n",
    "    #bring country segmentation into originally dataframe\n",
    "holder = Total_DF \n",
    "\n",
    "holder.set_index(\"video_id\", inplace=True)\n",
    "\n",
    "holder[\"Countries Trended in Segment\"] = combined_per_video_df[\"Country Segment\"]\n",
    "\n",
    "   #create dataframe containing only those videos that trended in \n",
    "multi_country_df = holder.loc[holder[\"Countries Trended in Segment\"]!= \"Trended in 1 country\",:]\n",
    "\n",
    "#find first day to trend per each country\n",
    "First_day_trended_by_country = multi_country_df.groupby(\n",
    "    ['video_id',\"country\"]).aggregate(\n",
    "    First_Trend_Date=('trending_date', 'min'))\n",
    "\n",
    "First_day_trended_by_country.reset_index(inplace=True)"
   ]
  },
  {
   "cell_type": "code",
   "execution_count": 103,
   "metadata": {},
   "outputs": [
    {
     "data": {
      "text/html": [
       "<div>\n",
       "<style scoped>\n",
       "    .dataframe tbody tr th:only-of-type {\n",
       "        vertical-align: middle;\n",
       "    }\n",
       "\n",
       "    .dataframe tbody tr th {\n",
       "        vertical-align: top;\n",
       "    }\n",
       "\n",
       "    .dataframe thead th {\n",
       "        text-align: right;\n",
       "    }\n",
       "</style>\n",
       "<table border=\"1\" class=\"dataframe\">\n",
       "  <thead>\n",
       "    <tr style=\"text-align: right;\">\n",
       "      <th></th>\n",
       "      <th>video_id</th>\n",
       "      <th>no of unique first trend dates</th>\n",
       "    </tr>\n",
       "  </thead>\n",
       "  <tbody>\n",
       "    <tr>\n",
       "      <th>0</th>\n",
       "      <td>--45ws7CEN0</td>\n",
       "      <td>1</td>\n",
       "    </tr>\n",
       "    <tr>\n",
       "      <th>1</th>\n",
       "      <td>--7vNbh4UNA</td>\n",
       "      <td>1</td>\n",
       "    </tr>\n",
       "    <tr>\n",
       "      <th>2</th>\n",
       "      <td>--I0aj8MUdU</td>\n",
       "      <td>1</td>\n",
       "    </tr>\n",
       "    <tr>\n",
       "      <th>3</th>\n",
       "      <td>--MtKsH5oBY</td>\n",
       "      <td>2</td>\n",
       "    </tr>\n",
       "    <tr>\n",
       "      <th>4</th>\n",
       "      <td>-0CMnp02rNY</td>\n",
       "      <td>2</td>\n",
       "    </tr>\n",
       "    <tr>\n",
       "      <th>...</th>\n",
       "      <td>...</td>\n",
       "      <td>...</td>\n",
       "    </tr>\n",
       "    <tr>\n",
       "      <th>13744</th>\n",
       "      <td>zy9mKHH0ZQY</td>\n",
       "      <td>1</td>\n",
       "    </tr>\n",
       "    <tr>\n",
       "      <th>13745</th>\n",
       "      <td>zyFrNZKAYCk</td>\n",
       "      <td>1</td>\n",
       "    </tr>\n",
       "    <tr>\n",
       "      <th>13746</th>\n",
       "      <td>zyH5x08KdzA</td>\n",
       "      <td>1</td>\n",
       "    </tr>\n",
       "    <tr>\n",
       "      <th>13747</th>\n",
       "      <td>zyOLIVyBqc4</td>\n",
       "      <td>1</td>\n",
       "    </tr>\n",
       "    <tr>\n",
       "      <th>13748</th>\n",
       "      <td>zyPEekHfAkc</td>\n",
       "      <td>1</td>\n",
       "    </tr>\n",
       "  </tbody>\n",
       "</table>\n",
       "<p>13749 rows × 2 columns</p>\n",
       "</div>"
      ],
      "text/plain": [
       "          video_id  no of unique first trend dates\n",
       "0      --45ws7CEN0                               1\n",
       "1      --7vNbh4UNA                               1\n",
       "2      --I0aj8MUdU                               1\n",
       "3      --MtKsH5oBY                               2\n",
       "4      -0CMnp02rNY                               2\n",
       "...            ...                             ...\n",
       "13744  zy9mKHH0ZQY                               1\n",
       "13745  zyFrNZKAYCk                               1\n",
       "13746  zyH5x08KdzA                               1\n",
       "13747  zyOLIVyBqc4                               1\n",
       "13748  zyPEekHfAkc                               1\n",
       "\n",
       "[13749 rows x 2 columns]"
      ]
     },
     "execution_count": 103,
     "metadata": {},
     "output_type": "execute_result"
    }
   ],
   "source": [
    "# count no. of videos first trended in various counties on the same date/different dates\n",
    "First_dates=First_day_trended_by_country.groupby([\"video_id\", \"First_Trend_Date\"]).count().reset_index()\n",
    "\n",
    "First_dates_counts_by_id = First_dates.groupby(\"video_id\")[\"First_Trend_Date\"].count()\n",
    "\n",
    "Final_First_dates_counts_by_id = First_dates_counts_by_id.reset_index()\n",
    "\n",
    "Final_First_dates_counts_by_id.rename(columns={\"First_Trend_Date\": \"no of unique first trend dates\"}, inplace=True)\n",
    "\n",
    "Final_First_dates_counts_by_id"
   ]
  },
  {
   "cell_type": "code",
   "execution_count": 59,
   "metadata": {},
   "outputs": [
    {
     "data": {
      "text/plain": [
       "<Figure size 360x360 with 0 Axes>"
      ]
     },
     "execution_count": 59,
     "metadata": {},
     "output_type": "execute_result"
    },
    {
     "data": {
      "text/plain": [
       "([<matplotlib.axis.XTick at 0x21fde7a8070>,\n",
       "  <matplotlib.axis.XTick at 0x21fde7a81c0>,\n",
       "  <matplotlib.axis.XTick at 0x21fe45a0e80>,\n",
       "  <matplotlib.axis.XTick at 0x21fde7f80d0>,\n",
       "  <matplotlib.axis.XTick at 0x21fde8cf3a0>,\n",
       "  <matplotlib.axis.XTick at 0x21fde8c5d30>,\n",
       "  <matplotlib.axis.XTick at 0x21fde8cfb80>,\n",
       "  <matplotlib.axis.XTick at 0x21fde951520>,\n",
       "  <matplotlib.axis.XTick at 0x21fde951100>,\n",
       "  <matplotlib.axis.XTick at 0x21fde9512b0>],\n",
       " [Text(0, 0, 'Canada'),\n",
       "  Text(0, 0, 'Germany'),\n",
       "  Text(0, 0, 'France'),\n",
       "  Text(0, 0, 'United States'),\n",
       "  Text(0, 0, 'Mexico'),\n",
       "  Text(0, 0, 'Russia'),\n",
       "  Text(0, 0, 'India'),\n",
       "  Text(0, 0, 'United Kingdom'),\n",
       "  Text(0, 0, 'Korea'),\n",
       "  Text(0, 0, 'Japan')])"
      ]
     },
     "execution_count": 59,
     "metadata": {},
     "output_type": "execute_result"
    },
    {
     "data": {
      "text/plain": [
       "(-0.75, 9.75)"
      ]
     },
     "execution_count": 59,
     "metadata": {},
     "output_type": "execute_result"
    },
    {
     "data": {
      "text/plain": [
       "(0.0, 29.17438647369429)"
      ]
     },
     "execution_count": 59,
     "metadata": {},
     "output_type": "execute_result"
    },
    {
     "data": {
      "text/plain": [
       "Text(0.5, 1.0, 'Videos Trending in Multiple Countries by Country Trended In')"
      ]
     },
     "execution_count": 59,
     "metadata": {},
     "output_type": "execute_result"
    },
    {
     "data": {
      "text/plain": [
       "Text(0.5, 0, 'Country Video Trended In')"
      ]
     },
     "execution_count": 59,
     "metadata": {},
     "output_type": "execute_result"
    },
    {
     "data": {
      "text/plain": [
       "Text(0, 0.5, '% of Videos (of those trending in at Least Two Countries)')"
      ]
     },
     "execution_count": 59,
     "metadata": {},
     "output_type": "execute_result"
    },
    {
     "data": {
      "image/png": "[encoded data removed]",
      "text/plain": [
       "<Figure size 360x360 with 1 Axes>"
      ]
     },
     "metadata": {
      "needs_background": "light"
     },
     "output_type": "display_data"
    }
   ],
   "source": [
    "#display the findings for where videos, that trended in multiple countries, trend\n",
    "\n",
    "#prep labels\n",
    "\n",
    "labels2 = [\"Canada\", \n",
    "           \"Germany\",\n",
    "           \"France\",\n",
    "           \"United States\",\n",
    "           \"Mexico\",\n",
    "           \"Russia\",\n",
    "           \"India\",\n",
    "           \"United Kingdom\",\n",
    "            \"Korea\",\n",
    "            \"Japan\"]\n",
    "\n",
    "#setup axis\n",
    "x = np.arange(len(labels2))\n",
    "y= First_day_trended_by_country[\"country\"].value_counts()*100/First_day_trended_by_country[\"country\"].count()\n",
    "\n",
    "#plot\n",
    "plt.figure(figsize=(5,5))\n",
    "\n",
    "ax3 = plt.bar(x, \n",
    "        y, \n",
    "        color='mediumpurple', \n",
    "        alpha=0.6, \n",
    "        align=\"center\")\n",
    "\n",
    "#formatting\n",
    "tick_locations = [value for value in x]\n",
    "\n",
    "plt.xticks(tick_locations, labels2, rotation=90)\n",
    "\n",
    "plt.xlim(-0.75, len(x)-0.25)\n",
    "\n",
    "plt.ylim(0, max(y)+3)\n",
    "\n",
    "plt.title(\"Videos Trending in Multiple Countries by Country Trended In\")\n",
    "plt.xlabel(\"Country Video Trended In\")\n",
    "plt.ylabel(\"% of Videos (of those trending in at Least Two Countries)\")\n",
    "\n",
    "plt.show()"
   ]
  },
  {
   "cell_type": "markdown",
   "metadata": {},
   "source": [
    "Approach: create a dataframe only containing videos that trended in 2+ countries. Remove duplicates such as there was only 1 row per video_id per country, and count the number of videos per country.  \n",
    "\n",
    "Analysis: Videos that trended in multiple countries most often trended in Canada (over 1 in 4) followed by Germany (over 1 in 5) and France (just under 1 in 6). Few Videos that trended in multiple countries trend in the US, suggesting it has less impact on trending in other countries. "
   ]
  },
  {
   "cell_type": "code",
   "execution_count": 104,
   "metadata": {},
   "outputs": [
    {
     "data": {
      "text/plain": [
       "<Figure size 432x360 with 0 Axes>"
      ]
     },
     "execution_count": 104,
     "metadata": {},
     "output_type": "execute_result"
    },
    {
     "data": {
      "text/plain": [
       "([<matplotlib.patches.Wedge at 0x21fc5db3a90>,\n",
       "  <matplotlib.patches.Wedge at 0x21fc5dc1190>],\n",
       " [Text(1.0909909692766604, -0.14049450151793577, ''),\n",
       "  Text(-1.0909909626996368, 0.14049455259090943, '')],\n",
       " [Text(0.5950859832418147, -0.07663336446432858, '79.3%'),\n",
       "  Text(-0.5950859796543473, 0.07663339232231423, '20.7%')])"
      ]
     },
     "execution_count": 104,
     "metadata": {},
     "output_type": "execute_result"
    },
    {
     "data": {
      "text/plain": [
       "Text(0.5, 1.0, 'Whether videos that trended in multiple countries\\n first did so on the same day or different days')"
      ]
     },
     "execution_count": 104,
     "metadata": {},
     "output_type": "execute_result"
    },
    {
     "data": {
      "text/plain": [
       "<matplotlib.legend.Legend at 0x21fc5db39d0>"
      ]
     },
     "execution_count": 104,
     "metadata": {},
     "output_type": "execute_result"
    },
    {
     "data": {
      "text/plain": [
       "(-1.1210415675365222,\n",
       " 1.1063316639807232,\n",
       " -1.105837706058478,\n",
       " 1.105119121212891)"
      ]
     },
     "execution_count": 104,
     "metadata": {},
     "output_type": "execute_result"
    },
    {
     "data": {
      "text/plain": [
       "<function matplotlib.pyplot.show(*args, **kw)>"
      ]
     },
     "execution_count": 104,
     "metadata": {},
     "output_type": "execute_result"
    },
    {
     "data": {
      "image/png": "[encoded data removed]",
      "text/plain": [
       "<Figure size 432x360 with 1 Axes>"
      ]
     },
     "metadata": {},
     "output_type": "display_data"
    }
   ],
   "source": [
    "#display the findings for segmentation: number of countries trended in \n",
    "\n",
    "plt.figure(figsize=(6,5))\n",
    "\n",
    "    #stratify dataset\n",
    "same_day = Final_First_dates_counts_by_id.loc[Final_First_dates_counts_by_id[\"no of unique first trend dates\"]==1, :]\n",
    "multiple_days = Final_First_dates_counts_by_id.loc[Final_First_dates_counts_by_id[\"no of unique first trend dates\"]>1, :]\n",
    "\n",
    "    #visualize\n",
    "# Labels for the sections of our pie chart\n",
    "labels = [\"First Trended on the Same Day\", \"First Trended on Different Days (all or some)\"]\n",
    "\n",
    "# The values of each section of the pie chart\n",
    "\n",
    "sizes = [len(same_day)/Final_First_dates_counts_by_id[\"video_id\"].count(), \n",
    "         len(multiple_days)/Final_First_dates_counts_by_id[\"video_id\"].count()]\n",
    "\n",
    "# The colors of each section of the pie chart\n",
    "#colors = [plt.cm.Blues(0.4), plt.cm.Purples(0.4), plt.cm.Greens(0.4)]\n",
    "colors = [\"cyan\", \"gold\"]\n",
    "\n",
    "#Display\n",
    "plt.pie(sizes, colors=colors, autopct=\"%1.1f%%\",\n",
    "        shadow=False, startangle=210, \n",
    "        wedgeprops={'edgecolor':'w', \"alpha\" : 0.7}, \n",
    "        textprops={\"fontsize\": 12, \"color\":'black', \"fontweight\":'bold'})\n",
    "\n",
    "#formatting\n",
    "plt.title(\"Whether videos that trended in multiple countries\\n first did so on the same day or different days\", fontsize=14, fontweight='bold')\n",
    "plt.legend(labels, loc=\"lower center\", bbox_to_anchor=(0.5, -0.2), fontsize=12)\n",
    "plt.tight_layout()\n",
    "plt.axis(\"equal\")\n",
    "\n",
    "plt.show\n",
    "plt.show()"
   ]
  },
  {
   "cell_type": "markdown",
   "metadata": {},
   "source": [
    "Approach: create a dataframe only containing videos that trended in 2+ countries. Determine first day of trending per video per country, and put in lists per video_id containing only unique dates. Count the lengths of lists to determine no. of unique first days.\n",
    "\n",
    "Insights: Just under 8 in 10 videos that trended in multple countries first did so on same day across countries. This suggests that there is no single regional origin of trending for the majority of videos that trend in multiple countries. "
   ]
  },
  {
   "cell_type": "markdown",
   "metadata": {},
   "source": [
    "Analysis: \n",
    "---\n",
    "\n",
    "Where do video originate from? "
   ]
  },
  {
   "cell_type": "code",
   "execution_count": 138,
   "metadata": {},
   "outputs": [
    {
     "data": {
      "text/plain": [
       "[155243, 61247, 24554, 18089, 17748, 15026, 14470, 10708, 7087, 5294, 4255]"
      ]
     },
     "execution_count": 138,
     "metadata": {},
     "output_type": "execute_result"
    }
   ],
   "source": [
    "#Replace NaN with string to capture channels with unknown origins in the total\n",
    "\n",
    "ultimate_df[\"Country Origin\"].fillna(\"Unknown\", inplace=True)\n",
    "\n",
    "#find top 10 origins of channels\n",
    "\n",
    "Channel_origins = ultimate_df[\"Country Origin\"].value_counts().head(11).reset_index()\n",
    "\n",
    "counts= Channel_origins[\"Country Origin\"].tolist()\n",
    "\n",
    "counts"
   ]
  },
  {
   "cell_type": "code",
   "execution_count": 153,
   "metadata": {},
   "outputs": [
    {
     "data": {
      "text/plain": [
       "<Figure size 360x360 with 0 Axes>"
      ]
     },
     "execution_count": 153,
     "metadata": {},
     "output_type": "execute_result"
    },
    {
     "data": {
      "text/plain": [
       "([<matplotlib.axis.XTick at 0x21fd166ae20>,\n",
       "  <matplotlib.axis.XTick at 0x21fd166adf0>,\n",
       "  <matplotlib.axis.XTick at 0x21fd166a4c0>,\n",
       "  <matplotlib.axis.XTick at 0x21fd16a7340>,\n",
       "  <matplotlib.axis.XTick at 0x21fd16a7850>,\n",
       "  <matplotlib.axis.XTick at 0x21fd16a7d60>,\n",
       "  <matplotlib.axis.XTick at 0x21fd16ad2b0>,\n",
       "  <matplotlib.axis.XTick at 0x21fd16ad7c0>,\n",
       "  <matplotlib.axis.XTick at 0x21fd16a7490>,\n",
       "  <matplotlib.axis.XTick at 0x21fd16ad430>,\n",
       "  <matplotlib.axis.XTick at 0x21fd16ade80>],\n",
       " [Text(0, 0, 'Unknown'),\n",
       "  Text(0, 0, 'United States'),\n",
       "  Text(0, 0, 'India'),\n",
       "  Text(0, 0, 'Russia'),\n",
       "  Text(0, 0, 'France'),\n",
       "  Text(0, 0, 'Germany'),\n",
       "  Text(0, 0, 'Mexico'),\n",
       "  Text(0, 0, 'Korea'),\n",
       "  Text(0, 0, 'United Kingdom'),\n",
       "  Text(0, 0, 'Japan'),\n",
       "  Text(0, 0, 'Canada')])"
      ]
     },
     "execution_count": 153,
     "metadata": {},
     "output_type": "execute_result"
    },
    {
     "data": {
      "text/plain": [
       "(-0.75, 10.75)"
      ]
     },
     "execution_count": 153,
     "metadata": {},
     "output_type": "execute_result"
    },
    {
     "data": {
      "text/plain": [
       "(0.0, 160243.0)"
      ]
     },
     "execution_count": 153,
     "metadata": {},
     "output_type": "execute_result"
    },
    {
     "data": {
      "text/plain": [
       "Text(0.5, 1.0, 'Origin of Channels')"
      ]
     },
     "execution_count": 153,
     "metadata": {},
     "output_type": "execute_result"
    },
    {
     "data": {
      "text/plain": [
       "Text(0.5, 0, 'Country (Top 10)')"
      ]
     },
     "execution_count": 153,
     "metadata": {},
     "output_type": "execute_result"
    },
    {
     "data": {
      "text/plain": [
       "Text(0, 0.5, 'No. of Channels')"
      ]
     },
     "execution_count": 153,
     "metadata": {},
     "output_type": "execute_result"
    },
    {
     "data": {
      "text/plain": [
       "<Figure size 360x360 with 0 Axes>"
      ]
     },
     "metadata": {},
     "output_type": "display_data"
    },
    {
     "data": {
      "text/plain": [
       "<Figure size 360x360 with 0 Axes>"
      ]
     },
     "metadata": {},
     "output_type": "display_data"
    },
    {
     "data": {
      "image/png": "[encoded data removed]",
      "text/plain": [
       "<Figure size 360x360 with 1 Axes>"
      ]
     },
     "metadata": {
      "needs_background": "light"
     },
     "output_type": "display_data"
    }
   ],
   "source": [
    "#display the findings for where videos, that trended in multiple countries, trend\n",
    "\n",
    "#prep labels\n",
    "\n",
    "labels3 = [\"Unknown\", \n",
    "           \"United States\",\n",
    "           \"India\",\n",
    "           \"Russia\",\n",
    "           \"France\",\n",
    "           \"Germany\",\n",
    "           \"Mexico\",\n",
    "           \"Korea\",\n",
    "           \"United Kingdom\",\n",
    "           \"Japan\",\n",
    "           \"Canada\"]\n",
    "       \n",
    "#setup axis\n",
    "x = np.arange(len(labels3))\n",
    "\n",
    "#plot\n",
    "plt.figure(figsize=(5,5))\n",
    "\n",
    "ax3 = plt.bar(x, \n",
    "        counts, \n",
    "        color='mediumpurple', \n",
    "        alpha=0.6, \n",
    "        align=\"center\")\n",
    "\n",
    "#formatting\n",
    "tick_locations = [value for value in x]\n",
    "\n",
    "plt.xticks(tick_locations, labels3, rotation=90)\n",
    "\n",
    "plt.xlim(-0.75, len(x)-0.25)\n",
    "\n",
    "plt.ylim(0, max(y)+5000)\n",
    "\n",
    "plt.title(\"Origin of Channels\")\n",
    "plt.xlabel(\"Country (Top 10)\")\n",
    "plt.ylabel(\"No. of Channels\")\n",
    "\n",
    "plt.show()"
   ]
  },
  {
   "cell_type": "markdown",
   "metadata": {},
   "source": [
    "Approach: counted the no. of channels by origin and selected the top ten countries of origin. \n",
    "\n",
    "Insights: Most video have an unknown origin. Of those that do, the highest proportion originate from the US.  "
   ]
  },
  {
   "cell_type": "code",
   "execution_count": 160,
   "metadata": {},
   "outputs": [
    {
     "data": {
      "text/plain": [
       "Text(0.5, 1.0, 'Variation in Origin of Videos Watched in Each Country')"
      ]
     },
     "execution_count": 160,
     "metadata": {},
     "output_type": "execute_result"
    },
    {
     "data": {
      "text/plain": [
       "Text(0.5, 0, 'Country of Viewing')"
      ]
     },
     "execution_count": 160,
     "metadata": {},
     "output_type": "execute_result"
    },
    {
     "data": {
      "text/plain": [
       "Text(0, 0.5, 'No. of Origin Countries')"
      ]
     },
     "execution_count": 160,
     "metadata": {},
     "output_type": "execute_result"
    },
    {
     "data": {
      "image/png": "[encoded data removed]",
      "text/plain": [
       "<Figure size 432x288 with 1 Axes>"
      ]
     },
     "metadata": {
      "needs_background": "light"
     },
     "output_type": "display_data"
    }
   ],
   "source": [
    "#country of origin counts\n",
    "\n",
    "#create a dataframe with one row per video per country\n",
    "one_per_video = ultimate_df.drop_duplicates(\n",
    "    subset=[\"video_id\", \"country\"], keep=\"first\")\n",
    "\n",
    "origin_counts_by_country_watched = one_per_video.groupby(\"country\")[\"Country Origin\"].value_counts().unstack()\n",
    "\n",
    "\n",
    "#origin_counts_by_country_watched_unstacked= origin_counts_by_country_watched.unstack()\n",
    "\n",
    "ax4 = origin_counts_by_country_watched.count(axis=1).plot(kind=\"bar\",        \n",
    "                                                          color='mediumpurple', \n",
    "                                                          alpha=0.6)\n",
    "\n",
    "ax4.set_title(\"Variation in Origin of Videos Watched in Each Country\")\n",
    "ax4.set_xlabel(\"Country of Viewing\")\n",
    "ax4.set_ylabel(\"No. of Origin Countries\")"
   ]
  },
  {
   "cell_type": "markdown",
   "metadata": {},
   "source": [
    "Approach: Create a dataframe with 1 row per video_id pre country. Count the number of channel origins by country.   \n",
    "\n",
    "Insights: Canada, Germany and France watch videos originating from over 80 known countries.  "
   ]
  },
  {
   "cell_type": "code",
   "execution_count": 166,
   "metadata": {},
   "outputs": [
    {
     "data": {
      "text/html": [
       "<div>\n",
       "<style scoped>\n",
       "    .dataframe tbody tr th:only-of-type {\n",
       "        vertical-align: middle;\n",
       "    }\n",
       "\n",
       "    .dataframe tbody tr th {\n",
       "        vertical-align: top;\n",
       "    }\n",
       "\n",
       "    .dataframe thead th {\n",
       "        text-align: right;\n",
       "    }\n",
       "</style>\n",
       "<table border=\"1\" class=\"dataframe\">\n",
       "  <thead>\n",
       "    <tr style=\"text-align: right;\">\n",
       "      <th></th>\n",
       "      <th>CA (%)</th>\n",
       "      <th>DE (%)</th>\n",
       "      <th>FR (%)</th>\n",
       "      <th>GB (%)</th>\n",
       "      <th>IN (%)</th>\n",
       "      <th>JP (%)</th>\n",
       "      <th>KR (%)</th>\n",
       "      <th>MX (%)</th>\n",
       "      <th>RU (%)</th>\n",
       "      <th>US (%)</th>\n",
       "    </tr>\n",
       "    <tr>\n",
       "      <th>country</th>\n",
       "      <th></th>\n",
       "      <th></th>\n",
       "      <th></th>\n",
       "      <th></th>\n",
       "      <th></th>\n",
       "      <th></th>\n",
       "      <th></th>\n",
       "      <th></th>\n",
       "      <th></th>\n",
       "      <th></th>\n",
       "    </tr>\n",
       "  </thead>\n",
       "  <tbody>\n",
       "    <tr>\n",
       "      <th>CA</th>\n",
       "      <td>5.236417</td>\n",
       "      <td>0.143407</td>\n",
       "      <td>2.351881</td>\n",
       "      <td>2.679669</td>\n",
       "      <td>4.916824</td>\n",
       "      <td>0.094239</td>\n",
       "      <td>0.700647</td>\n",
       "      <td>0.020487</td>\n",
       "      <td>0.249939</td>\n",
       "      <td>33.876916</td>\n",
       "    </tr>\n",
       "    <tr>\n",
       "      <th>DE</th>\n",
       "      <td>0.401851</td>\n",
       "      <td>33.799345</td>\n",
       "      <td>0.097930</td>\n",
       "      <td>1.246074</td>\n",
       "      <td>1.337251</td>\n",
       "      <td>0.023638</td>\n",
       "      <td>0.104684</td>\n",
       "      <td>0.000000</td>\n",
       "      <td>1.874177</td>\n",
       "      <td>8.178840</td>\n",
       "    </tr>\n",
       "    <tr>\n",
       "      <th>FR</th>\n",
       "      <td>0.759187</td>\n",
       "      <td>0.193069</td>\n",
       "      <td>37.929906</td>\n",
       "      <td>0.769004</td>\n",
       "      <td>1.852155</td>\n",
       "      <td>0.094898</td>\n",
       "      <td>0.193069</td>\n",
       "      <td>0.003272</td>\n",
       "      <td>0.055630</td>\n",
       "      <td>4.211525</td>\n",
       "    </tr>\n",
       "    <tr>\n",
       "      <th>GB</th>\n",
       "      <td>1.285977</td>\n",
       "      <td>0.275566</td>\n",
       "      <td>0.183711</td>\n",
       "      <td>10.287814</td>\n",
       "      <td>0.061237</td>\n",
       "      <td>0.459277</td>\n",
       "      <td>1.469688</td>\n",
       "      <td>0.000000</td>\n",
       "      <td>0.030618</td>\n",
       "      <td>36.037967</td>\n",
       "    </tr>\n",
       "    <tr>\n",
       "      <th>IN</th>\n",
       "      <td>0.251503</td>\n",
       "      <td>0.055208</td>\n",
       "      <td>0.055208</td>\n",
       "      <td>0.153355</td>\n",
       "      <td>63.777451</td>\n",
       "      <td>0.000000</td>\n",
       "      <td>0.000000</td>\n",
       "      <td>0.000000</td>\n",
       "      <td>0.006134</td>\n",
       "      <td>3.600785</td>\n",
       "    </tr>\n",
       "    <tr>\n",
       "      <th>JP</th>\n",
       "      <td>0.046508</td>\n",
       "      <td>0.023254</td>\n",
       "      <td>0.062011</td>\n",
       "      <td>0.139524</td>\n",
       "      <td>0.077513</td>\n",
       "      <td>32.237811</td>\n",
       "      <td>1.054182</td>\n",
       "      <td>0.000000</td>\n",
       "      <td>0.000000</td>\n",
       "      <td>1.635532</td>\n",
       "    </tr>\n",
       "    <tr>\n",
       "      <th>KR</th>\n",
       "      <td>0.100915</td>\n",
       "      <td>0.044150</td>\n",
       "      <td>0.000000</td>\n",
       "      <td>0.151372</td>\n",
       "      <td>0.132450</td>\n",
       "      <td>0.170293</td>\n",
       "      <td>40.182908</td>\n",
       "      <td>0.000000</td>\n",
       "      <td>0.018921</td>\n",
       "      <td>1.570482</td>\n",
       "    </tr>\n",
       "    <tr>\n",
       "      <th>MX</th>\n",
       "      <td>0.322465</td>\n",
       "      <td>0.032844</td>\n",
       "      <td>0.020901</td>\n",
       "      <td>0.229906</td>\n",
       "      <td>0.077630</td>\n",
       "      <td>0.226920</td>\n",
       "      <td>0.161233</td>\n",
       "      <td>26.439150</td>\n",
       "      <td>0.110474</td>\n",
       "      <td>8.613997</td>\n",
       "    </tr>\n",
       "    <tr>\n",
       "      <th>RU</th>\n",
       "      <td>0.195518</td>\n",
       "      <td>0.341426</td>\n",
       "      <td>0.087545</td>\n",
       "      <td>0.221781</td>\n",
       "      <td>0.148827</td>\n",
       "      <td>0.137154</td>\n",
       "      <td>0.087545</td>\n",
       "      <td>0.000000</td>\n",
       "      <td>41.604412</td>\n",
       "      <td>4.231353</td>\n",
       "    </tr>\n",
       "    <tr>\n",
       "      <th>US</th>\n",
       "      <td>1.827923</td>\n",
       "      <td>0.346675</td>\n",
       "      <td>0.063032</td>\n",
       "      <td>3.813426</td>\n",
       "      <td>0.047274</td>\n",
       "      <td>0.189095</td>\n",
       "      <td>0.441223</td>\n",
       "      <td>0.000000</td>\n",
       "      <td>0.063032</td>\n",
       "      <td>49.385440</td>\n",
       "    </tr>\n",
       "  </tbody>\n",
       "</table>\n",
       "</div>"
      ],
      "text/plain": [
       "           CA (%)     DE (%)     FR (%)     GB (%)     IN (%)     JP (%)  \\\n",
       "country                                                                    \n",
       "CA       5.236417   0.143407   2.351881   2.679669   4.916824   0.094239   \n",
       "DE       0.401851  33.799345   0.097930   1.246074   1.337251   0.023638   \n",
       "FR       0.759187   0.193069  37.929906   0.769004   1.852155   0.094898   \n",
       "GB       1.285977   0.275566   0.183711  10.287814   0.061237   0.459277   \n",
       "IN       0.251503   0.055208   0.055208   0.153355  63.777451   0.000000   \n",
       "JP       0.046508   0.023254   0.062011   0.139524   0.077513  32.237811   \n",
       "KR       0.100915   0.044150   0.000000   0.151372   0.132450   0.170293   \n",
       "MX       0.322465   0.032844   0.020901   0.229906   0.077630   0.226920   \n",
       "RU       0.195518   0.341426   0.087545   0.221781   0.148827   0.137154   \n",
       "US       1.827923   0.346675   0.063032   3.813426   0.047274   0.189095   \n",
       "\n",
       "            KR (%)     MX (%)     RU (%)     US (%)  \n",
       "country                                              \n",
       "CA        0.700647   0.020487   0.249939  33.876916  \n",
       "DE        0.104684   0.000000   1.874177   8.178840  \n",
       "FR        0.193069   0.003272   0.055630   4.211525  \n",
       "GB        1.469688   0.000000   0.030618  36.037967  \n",
       "IN        0.000000   0.000000   0.006134   3.600785  \n",
       "JP        1.054182   0.000000   0.000000   1.635532  \n",
       "KR       40.182908   0.000000   0.018921   1.570482  \n",
       "MX        0.161233  26.439150   0.110474   8.613997  \n",
       "RU        0.087545   0.000000  41.604412   4.231353  \n",
       "US        0.441223   0.000000   0.063032  49.385440  "
      ]
     },
     "execution_count": 166,
     "metadata": {},
     "output_type": "execute_result"
    }
   ],
   "source": [
    "#create dataframe containing breakdown of origin by country viewed\n",
    "\n",
    "source_focused = pd.DataFrame({\n",
    "                              \"CA (%)\" : origin_counts_by_country_watched[\"CA\"]*100/origin_counts_by_country_watched.sum(axis=1),\n",
    "                              \"DE (%)\" : origin_counts_by_country_watched[\"DE\"]*100/origin_counts_by_country_watched.sum(axis=1),\n",
    "                              \"FR (%)\" : origin_counts_by_country_watched[\"FR\"]*100/origin_counts_by_country_watched.sum(axis=1),\n",
    "                              \"GB (%)\" : origin_counts_by_country_watched[\"GB\"]*100/origin_counts_by_country_watched.sum(axis=1),\n",
    "                              \"IN (%)\" : origin_counts_by_country_watched[\"IN\"]*100/origin_counts_by_country_watched.sum(axis=1),\n",
    "                              \"JP (%)\" : origin_counts_by_country_watched[\"JP\"]*100/origin_counts_by_country_watched.sum(axis=1),\n",
    "                              \"KR (%)\" : origin_counts_by_country_watched[\"KR\"]*100/origin_counts_by_country_watched.sum(axis=1),\n",
    "                              \"MX (%)\" : origin_counts_by_country_watched[\"MX\"]*100/origin_counts_by_country_watched.sum(axis=1),\n",
    "                              \"RU (%)\" : origin_counts_by_country_watched[\"RU\"]*100/origin_counts_by_country_watched.sum(axis=1),\n",
    "                              \"US (%)\" : origin_counts_by_country_watched[\"US\"]*100/origin_counts_by_country_watched.sum(axis=1)})\n",
    "                              #\"Unknown (%)\" : origin_counts_by_country_watched[\"Unknown\"]*100/origin_counts_by_country_watched.sum(axis=1)})\n",
    "\n",
    "source_focused.fillna(value=0, inplace=True)\n",
    "\n",
    "#source_focused.drop(columns=[\"Total Sources\"], inplace=True) \n",
    "\n",
    "source_focused"
   ]
  },
  {
   "cell_type": "code",
   "execution_count": 182,
   "metadata": {},
   "outputs": [
    {
     "data": {
      "text/plain": [
       "<Figure size 720x720 with 0 Axes>"
      ]
     },
     "execution_count": 182,
     "metadata": {},
     "output_type": "execute_result"
    },
    {
     "data": {
      "text/plain": [
       "<matplotlib.image.AxesImage at 0x21fd1ee68e0>"
      ]
     },
     "execution_count": 182,
     "metadata": {},
     "output_type": "execute_result"
    },
    {
     "data": {
      "text/plain": [
       "([<matplotlib.axis.XTick at 0x21fd1eb8430>,\n",
       "  <matplotlib.axis.XTick at 0x21fd1eb8400>,\n",
       "  <matplotlib.axis.XTick at 0x21fd1ee6850>,\n",
       "  <matplotlib.axis.XTick at 0x21fd1ef8220>,\n",
       "  <matplotlib.axis.XTick at 0x21fd1ef8730>,\n",
       "  <matplotlib.axis.XTick at 0x21fd1ef8be0>,\n",
       "  <matplotlib.axis.XTick at 0x21fd1ef9190>,\n",
       "  <matplotlib.axis.XTick at 0x21fd1ef96a0>,\n",
       "  <matplotlib.axis.XTick at 0x21fd1ef9bb0>,\n",
       "  <matplotlib.axis.XTick at 0x21fd1eff100>],\n",
       " [Text(0, 1, 'CA (%)'),\n",
       "  Text(0, 1, 'DE (%)'),\n",
       "  Text(0, 1, 'FR (%)'),\n",
       "  Text(0, 1, 'GB (%)'),\n",
       "  Text(0, 1, 'IN (%)'),\n",
       "  Text(0, 1, 'JP (%)'),\n",
       "  Text(0, 1, 'KR (%)'),\n",
       "  Text(0, 1, 'MX (%)'),\n",
       "  Text(0, 1, 'RU (%)'),\n",
       "  Text(0, 1, 'US (%)')])"
      ]
     },
     "execution_count": 182,
     "metadata": {},
     "output_type": "execute_result"
    },
    {
     "data": {
      "text/plain": [
       "([<matplotlib.axis.YTick at 0x21fd1eb8ca0>,\n",
       "  <matplotlib.axis.YTick at 0x21fd1eb8880>,\n",
       "  <matplotlib.axis.YTick at 0x21fd1ef98b0>,\n",
       "  <matplotlib.axis.YTick at 0x21fd1ef8880>,\n",
       "  <matplotlib.axis.YTick at 0x21fd1ee6cd0>,\n",
       "  <matplotlib.axis.YTick at 0x21fd1eff7c0>,\n",
       "  <matplotlib.axis.YTick at 0x21fd1effcd0>,\n",
       "  <matplotlib.axis.YTick at 0x21fd1f06220>,\n",
       "  <matplotlib.axis.YTick at 0x21fd1f06730>,\n",
       "  <matplotlib.axis.YTick at 0x21fd1f06c40>],\n",
       " [Text(0, 0, 'CA (%)'),\n",
       "  Text(0, 0, 'DE (%)'),\n",
       "  Text(0, 0, 'FR (%)'),\n",
       "  Text(0, 0, 'GB (%)'),\n",
       "  Text(0, 0, 'IN (%)'),\n",
       "  Text(0, 0, 'JP (%)'),\n",
       "  Text(0, 0, 'KR (%)'),\n",
       "  Text(0, 0, 'MX (%)'),\n",
       "  Text(0, 0, 'RU (%)'),\n",
       "  Text(0, 0, 'US (%)')])"
      ]
     },
     "execution_count": 182,
     "metadata": {},
     "output_type": "execute_result"
    },
    {
     "data": {
      "text/plain": [
       "Text(0, 0.5, 'Country of Viewers')"
      ]
     },
     "execution_count": 182,
     "metadata": {},
     "output_type": "execute_result"
    },
    {
     "data": {
      "text/plain": [
       "Text(0.5, 0, 'Country of Creators')"
      ]
     },
     "execution_count": 182,
     "metadata": {},
     "output_type": "execute_result"
    },
    {
     "data": {
      "text/plain": [
       "<function matplotlib.pyplot.show(*args, **kw)>"
      ]
     },
     "execution_count": 182,
     "metadata": {},
     "output_type": "execute_result"
    },
    {
     "data": {
      "text/plain": [
       "<Figure size 720x720 with 0 Axes>"
      ]
     },
     "metadata": {},
     "output_type": "display_data"
    },
    {
     "data": {
      "image/png": "[encoded data removed]",
      "text/plain": [
       "<Figure size 288x288 with 2 Axes>"
      ]
     },
     "metadata": {
      "needs_background": "light"
     },
     "output_type": "display_data"
    }
   ],
   "source": [
    "plt.figure(figsize=(10, 10))\n",
    "plt.matshow(source_focused, )\n",
    "plt.xticks(range(source_focused.shape[1]), source_focused.columns, fontsize=10, rotation=90)\n",
    "plt.yticks(range(source_focused.shape[1]), source_focused.columns, fontsize=10)\n",
    "cb = plt.colorbar()\n",
    "cb.ax.tick_params(labelsize=14)\n",
    "\n",
    "ttl = plt.title('Source of Videos watched by Country (excluding unknowns)', fontsize=12)\n",
    "ttl.set_position([0.5, 1.3])\n",
    "\n",
    "plt.ylabel(\"Country of Viewers\", fontsize=12)\n",
    "plt.xlabel(\"Country of Creators\", fontsize=12)\n",
    "plt.show"
   ]
  },
  {
   "cell_type": "markdown",
   "metadata": {},
   "source": [
    "Approach: convert count of number of channel country origins by country into percentages.   \n",
    "\n",
    "Insights: Canada and the UK watched little content known to originate from within the respective countries, rather most videos watched in these countries orignate in the US. Comparatively, most videos watched in other countries originate from within the respective countries.     "
   ]
  },
  {
   "cell_type": "markdown",
   "metadata": {},
   "source": [
    "other analysis\n",
    "---"
   ]
  },
  {
   "cell_type": "code",
   "execution_count": null,
   "metadata": {},
   "outputs": [],
   "source": [
    "#explore the distribution of days_trended by number_of_countries_trended_in\n",
    "plt.scatter(combined_per_video_df[\"No of Countries Trended In\"],\n",
    "            combined_per_video_df[\"Mean Days Trending\"])\n",
    "plt.xlabel(\"No of Countries Video Trended In\")\n",
    "plt.ylabel(\"Means days Video Trended\")\n",
    "plt.show()"
   ]
  },
  {
   "cell_type": "code",
   "execution_count": null,
   "metadata": {},
   "outputs": [],
   "source": [
    "# histogram plot no. of countries trended in vs. days trending \n",
    "\n",
    "fig, axes = plt.subplots(nrows=5, ncols=2, sharex=True, sharey=False, figsize=(10,8))\n",
    "\n",
    "DaysTrended_vs_Countries = yup.hist(column=\"Days_trending\", \n",
    "              by=\"No. countries trended in\", \n",
    "              bins = 10, \n",
    "              grid=False,\n",
    "              #figsize=(20,5),\n",
    "              #layout=(10,5),\n",
    "              zorder=2, rwidth=0.9,\n",
    "              color='#86bf91', \n",
    "              xlabelsize =12, \n",
    "              xrot = 0,\n",
    "              ax=axes)\n",
    "    \n",
    "# set title and axis labels\n",
    "plt.suptitle('Distribution of Days Trending (over 4 days) by no of Countries Trended In', \n",
    "             x=0.5, y=1, ha='center', fontsize=12)\n",
    "fig.text(0.5, 0.04, 'Days Trending', ha='center')\n",
    "fig.text(0.04, 0.5, 'No. of Videos that Trended More than 4 Days', va='center', rotation='vertical')"
   ]
  },
  {
   "cell_type": "code",
   "execution_count": null,
   "metadata": {},
   "outputs": [],
   "source": [
    "#ultimately - delete this/ just verifying stacked bar chart was the right approach\n",
    "\n",
    "# Generate a box plot of the final tumor volume of each mouse across four regimens of interest\n",
    "\n",
    "outlier_formatting = dict(markeredgecolor='r', marker='x')\n",
    "\n",
    "box_plot = combined_per_video_df.boxplot(\n",
    "                                by = \"Country Segment\", \n",
    "                                column =[\"Mean Days Trending\"],\n",
    "                                grid=False,\n",
    "                                figsize=(8, 5), \n",
    "                                fontsize=10, \n",
    "                                color=\"black\",\n",
    "                                showmeans=True,\n",
    "                                flierprops=outlier_formatting)\n",
    "\n",
    "#formatting\n",
    "box_plot.set_title(\"No. of Countries vs. Number of Days\", fontsize=14)\n",
    "\n",
    "box_plot.set_ylabel(\n",
    "    \"The number of Days Video trended for\", \n",
    "    fontsize=12,\n",
    "    fontweight ='bold')\n",
    "\n",
    "box_plot.set_xlabel(\n",
    "    \"Number of Countries Video Trended In\", \n",
    "    fontsize=12,\n",
    "    fontweight ='bold')\n",
    "\n",
    "plt.suptitle('')\n",
    "\n",
    "#display\n",
    "plt.tight_layout()\n",
    "plt.show()"
   ]
  },
  {
   "cell_type": "code",
   "execution_count": null,
   "metadata": {},
   "outputs": [],
   "source": [
    "#Plot \n",
    "\n",
    "Total_API_DF.groupby(\"Country Segment\")[\"views\"].mean().plot(kind=\"bar\")"
   ]
  },
  {
   "cell_type": "code",
   "execution_count": null,
   "metadata": {},
   "outputs": [],
   "source": [
    "Total_API_DF[\"Days Trended Segment\"] = combined_per_video_df[\"Days Trended Segment\"]"
   ]
  },
  {
   "cell_type": "code",
   "execution_count": null,
   "metadata": {},
   "outputs": [],
   "source": [
    "Total_API_DF.groupby(\"Days Trended Segment\")[\"views\"].mean().plot(kind=\"bar\")"
   ]
  },
  {
   "cell_type": "code",
   "execution_count": null,
   "metadata": {},
   "outputs": [],
   "source": [
    "#Total_API_DF.reset_index(inplace=True)\n",
    "Total_API_DF.groupby(\"Days Trended Segment\")[\"video_id\"].nunique()"
   ]
  },
  {
   "cell_type": "code",
   "execution_count": null,
   "metadata": {},
   "outputs": [],
   "source": [
    "Total_API_DF.groupby(\"Days Trended Segment\")[\"views\"].count()"
   ]
  },
  {
   "cell_type": "code",
   "execution_count": null,
   "metadata": {},
   "outputs": [],
   "source": [
    "Test = Trending_Days.reset_index(level=1)\n"
   ]
  },
  {
   "cell_type": "code",
   "execution_count": null,
   "metadata": {},
   "outputs": [],
   "source": [
    "mean_views =Total_API_DF.groupby([\"video_id\",\"country\"])[\"views\"].mean()"
   ]
  },
  {
   "cell_type": "code",
   "execution_count": null,
   "metadata": {},
   "outputs": [],
   "source": [
    "mean_views.reset_index(level=1)"
   ]
  },
  {
   "cell_type": "code",
   "execution_count": null,
   "metadata": {},
   "outputs": [],
   "source": [
    "merge_views_day = pd.merge(Test, mean_views, on=[\"video_id\", \"country\"], how=\"left\")"
   ]
  },
  {
   "cell_type": "code",
   "execution_count": null,
   "metadata": {},
   "outputs": [],
   "source": [
    "merge_views_day"
   ]
  },
  {
   "cell_type": "code",
   "execution_count": null,
   "metadata": {},
   "outputs": [],
   "source": [
    "plt.scatter(x=merge_views_day[\"Days_trending\"],y=merge_views_day[\"views\"])"
   ]
  },
  {
   "cell_type": "code",
   "execution_count": null,
   "metadata": {},
   "outputs": [],
   "source": [
    "merge_views_day[\"views\"].describe()"
   ]
  },
  {
   "cell_type": "code",
   "execution_count": null,
   "metadata": {},
   "outputs": [],
   "source": [
    "sub = merge_views_day.loc[merge_views_day[\"views\"]>2.896142e+05, :]"
   ]
  },
  {
   "cell_type": "code",
   "execution_count": null,
   "metadata": {},
   "outputs": [],
   "source": [
    "plt.scatter(x=sub[\"Days_trending\"],y=sub[\"views\"])"
   ]
  },
  {
   "cell_type": "code",
   "execution_count": null,
   "metadata": {},
   "outputs": [],
   "source": [
    "x_values = merge_views_day[\"Days_trending\"]\n",
    "y_values = merge_views_day[\"views\"]\n",
    "(slope, intercept, rvalue, pvalue, stderr) = linregress(x_values, y_values)\n",
    "regress_values = x_values * slope + intercept\n",
    "line_eq = \"y = \" + str(round(slope,2)) + \"x + \" + str(round(intercept,2))\n",
    "plt.scatter(x_values,y_values)\n",
    "plt.plot(x_values,regress_values,\"r-\")\n",
    "plt.annotate(line_eq,(6,10),fontsize=15,color=\"red\")\n",
    "plt.xlabel('Rooms in House')\n",
    "plt.ylabel('Median House Prices ($1000)')\n",
    "plt.show()\n",
    "print(rvalue**2)"
   ]
  },
  {
   "cell_type": "code",
   "execution_count": null,
   "metadata": {},
   "outputs": [],
   "source": [
    "# histogram plot no. of countries trended in vs. days trending \n",
    "\n",
    "fig, axes = plt.subplots(nrows=3, ncols=1, sharex=True, sharey=False, figsize=(5,5))\n",
    "\n",
    "views_countries = merge_views_day.hist(column=\"views\", \n",
    "              by=\"Country Segment\", \n",
    "              bins = 10, \n",
    "              grid=False,\n",
    "              #figsize=(20,5),\n",
    "              #layout=(10,5),\n",
    "              zorder=2, rwidth=0.9,\n",
    "              color='#86bf91', \n",
    "              xlabelsize =12, \n",
    "              xrot = 0,\n",
    "              ax=axes)\n",
    "    \n",
    "# set title and axis labels\n",
    "plt.suptitle('Distribution of Days Trending (over 4 days) by no of Countries Trended In', \n",
    "             x=0.5, y=1, ha='center', fontsize=12)\n",
    "fig.text(0.5, 0.04, 'Days Trending', ha='center')\n",
    "fig.text(-0.1, 0.5, 'No. of Videos that Trended More than 4 Days', va='center', rotation='vertical')"
   ]
  },
  {
   "cell_type": "code",
   "execution_count": null,
   "metadata": {},
   "outputs": [],
   "source": [
    "merge_views_day[\"Country Segment\"] = combined_per_video_df[\"Days Trended Segment\"]"
   ]
  },
  {
   "cell_type": "code",
   "execution_count": null,
   "metadata": {},
   "outputs": [],
   "source": [
    "First_trend = multinational_df.groupby(\n",
    "    ['video_id',\"country\"]).aggregate(\n",
    "    First_Trend_Date=('trending_date', 'min'))\n",
    "   "
   ]
  },
  {
   "cell_type": "code",
   "execution_count": 68,
   "metadata": {},
   "outputs": [],
   "source": [
    "test = Total_DF"
   ]
  },
  {
   "cell_type": "code",
   "execution_count": 70,
   "metadata": {},
   "outputs": [],
   "source": [
    "test.set_index(\"video_id\", inplace=True)"
   ]
  },
  {
   "cell_type": "code",
   "execution_count": 84,
   "metadata": {},
   "outputs": [],
   "source": [
    "test[\"Country Segment\"] = combined_per_video_df[\"Country Segment\"]\n",
    "\n",
    "xx = test.loc[test[\"Country Segment\"]!=\"Trended in 1 country\", :]\n",
    "\n",
    "x= xx.groupby(['video_id',\"country\"]).aggregate(\n",
    "    First_Trend_Date=('trending_date', 'min'))"
   ]
  },
  {
   "cell_type": "code",
   "execution_count": null,
   "metadata": {},
   "outputs": [],
   "source": []
  },
  {
   "cell_type": "code",
   "execution_count": 85,
   "metadata": {},
   "outputs": [],
   "source": [
    "x.reset_index(level=1, inplace=True)"
   ]
  },
  {
   "cell_type": "code",
   "execution_count": 83,
   "metadata": {},
   "outputs": [
    {
     "data": {
      "text/plain": [
       "RU    34268\n",
       "MX    33492\n",
       "FR    30559\n",
       "DE    29613\n",
       "CA    24406\n",
       "IN    16302\n",
       "KR    15855\n",
       "JP    12901\n",
       "US     6346\n",
       "GB     3266\n",
       "Name: country, dtype: int64"
      ]
     },
     "execution_count": 83,
     "metadata": {},
     "output_type": "execute_result"
    }
   ],
   "source": [
    "x[\"country\"].value_counts()"
   ]
  },
  {
   "cell_type": "code",
   "execution_count": 86,
   "metadata": {},
   "outputs": [
    {
     "data": {
      "text/plain": [
       "CA    9567\n",
       "DE    8082\n",
       "FR    6110\n",
       "US    2887\n",
       "MX    2340\n",
       "RU    2230\n",
       "IN    1729\n",
       "GB    1573\n",
       "KR    1032\n",
       "JP    1001\n",
       "Name: country, dtype: int64"
      ]
     },
     "execution_count": 86,
     "metadata": {},
     "output_type": "execute_result"
    }
   ],
   "source": [
    "x[\"country\"].value_counts()"
   ]
  },
  {
   "cell_type": "code",
   "execution_count": null,
   "metadata": {},
   "outputs": [],
   "source": []
  }
 ],
 "metadata": {
  "kernelspec": {
   "display_name": "Python 3",
   "language": "python",
   "name": "python3"
  },
  "language_info": {
   "codemirror_mode": {
    "name": "ipython",
    "version": 3
   },
   "file_extension": ".py",
   "mimetype": "text/x-python",
   "name": "python",
   "nbconvert_exporter": "python",
   "pygments_lexer": "ipython3",
   "version": "3.8.3"
  }
 },
 "nbformat": 4,
 "nbformat_minor": 4
}
