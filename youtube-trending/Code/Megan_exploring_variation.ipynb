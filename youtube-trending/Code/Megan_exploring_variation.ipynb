{
 "cells": [
  {
   "cell_type": "code",
   "execution_count": 1,
   "metadata": {},
   "outputs": [],
   "source": [
    "import pandas as pd\n",
    "import os\n",
    "import re\n",
    "from datetime import datetime as dt\n",
    "import scipy.stats as st\n",
    "import matplotlib.pyplot as plt\n",
    "import numpy as np\n",
    "import seaborn as sns\n",
    "import requests\n",
    "import time\n",
    "import random\n",
    "import pickle\n",
    "\n",
    "from IPython.core.interactiveshell import InteractiveShell\n",
    "InteractiveShell.ast_node_interactivity = 'all'"
   ]
  },
  {
   "cell_type": "markdown",
   "metadata": {},
   "source": [
    "Merging original datasets\n",
    "===="
   ]
  },
  {
   "cell_type": "code",
   "execution_count": 2,
   "metadata": {},
   "outputs": [],
   "source": [
    "def find_all_files(path, ty='csv', Name='Merged_DF_msm.csv'):\n",
    "    #Iteratively appends all files with ty extention to list_of_files\n",
    "    for root,dirs,files in os.walk(path):\n",
    "        [list_of_files.append(file) for file in files if (file.endswith(f\".{ty}\") and (file!=Name))]"
   ]
  },
  {
   "cell_type": "code",
   "execution_count": 3,
   "metadata": {},
   "outputs": [],
   "source": [
    "Name = 'Merged_DF_msm.csv' #Name of Final DF\n",
    "list_of_files = []\n",
    "data_path = os.path.join('..', 'Data')\n",
    "find_all_files(data_path, Name=Name)\n",
    "\n",
    "Total_DF = pd.DataFrame()\n",
    "for file in list_of_files:\n",
    "    try:\n",
    "        DF = pd.read_csv(os.path.join('..', 'Data', file), encoding='utf-8')\n",
    "    except:\n",
    "        DF = pd.read_csv(os.path.join('..', 'Data', file), encoding='latin1')\n",
    "    DF['country'] = file[:2]\n",
    "    Total_DF = (DF if Total_DF.empty else pd.concat([Total_DF, DF]))"
   ]
  },
  {
   "cell_type": "markdown",
   "metadata": {},
   "source": [
    "Data Cleaning\n",
    "===="
   ]
  },
  {
   "cell_type": "code",
   "execution_count": 4,
   "metadata": {},
   "outputs": [],
   "source": [
    "#changing format of date variables\n",
    "Total_DF['trending_date'] = Total_DF['trending_date'].map(lambda x: dt.strptime(x, \"%y.%d.%m\"))\n",
    "\n"
   ]
  },
  {
   "cell_type": "code",
   "execution_count": 5,
   "metadata": {},
   "outputs": [],
   "source": [
    "Total_DF['publish_time'] = pd.to_datetime(Total_DF['publish_time'], format='%Y-%m-%dT%H:%M:%S.%fZ')\n",
    "Total_DF['description'].fillna(value='', inplace=True)"
   ]
  },
  {
   "cell_type": "code",
   "execution_count": 6,
   "metadata": {},
   "outputs": [
    {
     "data": {
      "text/html": [
       "<div>\n",
       "<style scoped>\n",
       "    .dataframe tbody tr th:only-of-type {\n",
       "        vertical-align: middle;\n",
       "    }\n",
       "\n",
       "    .dataframe tbody tr th {\n",
       "        vertical-align: top;\n",
       "    }\n",
       "\n",
       "    .dataframe thead th {\n",
       "        text-align: right;\n",
       "    }\n",
       "</style>\n",
       "<table border=\"1\" class=\"dataframe\">\n",
       "  <thead>\n",
       "    <tr style=\"text-align: right;\">\n",
       "      <th></th>\n",
       "      <th>video_id</th>\n",
       "      <th>trending_date</th>\n",
       "      <th>title</th>\n",
       "      <th>channel_title</th>\n",
       "      <th>category_id</th>\n",
       "      <th>publish_time</th>\n",
       "      <th>tags</th>\n",
       "      <th>views</th>\n",
       "      <th>likes</th>\n",
       "      <th>dislikes</th>\n",
       "      <th>comment_count</th>\n",
       "      <th>thumbnail_link</th>\n",
       "      <th>comments_disabled</th>\n",
       "      <th>ratings_disabled</th>\n",
       "      <th>video_error_or_removed</th>\n",
       "      <th>description</th>\n",
       "      <th>country</th>\n",
       "    </tr>\n",
       "  </thead>\n",
       "  <tbody>\n",
       "    <tr>\n",
       "      <th>0</th>\n",
       "      <td>n1WpP7iowLc</td>\n",
       "      <td>2017-11-14</td>\n",
       "      <td>Eminem - Walk On Water (Audio) ft. Beyoncé</td>\n",
       "      <td>EminemVEVO</td>\n",
       "      <td>10</td>\n",
       "      <td>2017-11-10 17:00:03</td>\n",
       "      <td>Eminem|\"Walk\"|\"On\"|\"Water\"|\"Aftermath/Shady/In...</td>\n",
       "      <td>17158579</td>\n",
       "      <td>787425</td>\n",
       "      <td>43420</td>\n",
       "      <td>125882</td>\n",
       "      <td>https://i.ytimg.com/vi/n1WpP7iowLc/default.jpg</td>\n",
       "      <td>False</td>\n",
       "      <td>False</td>\n",
       "      <td>False</td>\n",
       "      <td>Eminem's new track Walk on Water ft. Beyoncé i...</td>\n",
       "      <td>CA</td>\n",
       "    </tr>\n",
       "    <tr>\n",
       "      <th>1</th>\n",
       "      <td>0dBIkQ4Mz1M</td>\n",
       "      <td>2017-11-14</td>\n",
       "      <td>PLUSH - Bad Unboxing Fan Mail</td>\n",
       "      <td>iDubbbzTV</td>\n",
       "      <td>23</td>\n",
       "      <td>2017-11-13 17:00:00</td>\n",
       "      <td>plush|\"bad unboxing\"|\"unboxing\"|\"fan mail\"|\"id...</td>\n",
       "      <td>1014651</td>\n",
       "      <td>127794</td>\n",
       "      <td>1688</td>\n",
       "      <td>13030</td>\n",
       "      <td>https://i.ytimg.com/vi/0dBIkQ4Mz1M/default.jpg</td>\n",
       "      <td>False</td>\n",
       "      <td>False</td>\n",
       "      <td>False</td>\n",
       "      <td>STill got a lot of packages. Probably will las...</td>\n",
       "      <td>CA</td>\n",
       "    </tr>\n",
       "    <tr>\n",
       "      <th>2</th>\n",
       "      <td>5qpjK5DgCt4</td>\n",
       "      <td>2017-11-14</td>\n",
       "      <td>Racist Superman | Rudy Mancuso, King Bach &amp; Le...</td>\n",
       "      <td>Rudy Mancuso</td>\n",
       "      <td>23</td>\n",
       "      <td>2017-11-12 19:05:24</td>\n",
       "      <td>racist superman|\"rudy\"|\"mancuso\"|\"king\"|\"bach\"...</td>\n",
       "      <td>3191434</td>\n",
       "      <td>146035</td>\n",
       "      <td>5339</td>\n",
       "      <td>8181</td>\n",
       "      <td>https://i.ytimg.com/vi/5qpjK5DgCt4/default.jpg</td>\n",
       "      <td>False</td>\n",
       "      <td>False</td>\n",
       "      <td>False</td>\n",
       "      <td>WATCH MY PREVIOUS VIDEO ▶ \\n\\nSUBSCRIBE ► http...</td>\n",
       "      <td>CA</td>\n",
       "    </tr>\n",
       "    <tr>\n",
       "      <th>3</th>\n",
       "      <td>d380meD0W0M</td>\n",
       "      <td>2017-11-14</td>\n",
       "      <td>I Dare You: GOING BALD!?</td>\n",
       "      <td>nigahiga</td>\n",
       "      <td>24</td>\n",
       "      <td>2017-11-12 18:01:41</td>\n",
       "      <td>ryan|\"higa\"|\"higatv\"|\"nigahiga\"|\"i dare you\"|\"...</td>\n",
       "      <td>2095828</td>\n",
       "      <td>132239</td>\n",
       "      <td>1989</td>\n",
       "      <td>17518</td>\n",
       "      <td>https://i.ytimg.com/vi/d380meD0W0M/default.jpg</td>\n",
       "      <td>False</td>\n",
       "      <td>False</td>\n",
       "      <td>False</td>\n",
       "      <td>I know it's been a while since we did this sho...</td>\n",
       "      <td>CA</td>\n",
       "    </tr>\n",
       "    <tr>\n",
       "      <th>4</th>\n",
       "      <td>2Vv-BfVoq4g</td>\n",
       "      <td>2017-11-14</td>\n",
       "      <td>Ed Sheeran - Perfect (Official Music Video)</td>\n",
       "      <td>Ed Sheeran</td>\n",
       "      <td>10</td>\n",
       "      <td>2017-11-09 11:04:14</td>\n",
       "      <td>edsheeran|\"ed sheeran\"|\"acoustic\"|\"live\"|\"cove...</td>\n",
       "      <td>33523622</td>\n",
       "      <td>1634130</td>\n",
       "      <td>21082</td>\n",
       "      <td>85067</td>\n",
       "      <td>https://i.ytimg.com/vi/2Vv-BfVoq4g/default.jpg</td>\n",
       "      <td>False</td>\n",
       "      <td>False</td>\n",
       "      <td>False</td>\n",
       "      <td>🎧: https://ad.gt/yt-perfect\\n💰: https://atlant...</td>\n",
       "      <td>CA</td>\n",
       "    </tr>\n",
       "    <tr>\n",
       "      <th>...</th>\n",
       "      <td>...</td>\n",
       "      <td>...</td>\n",
       "      <td>...</td>\n",
       "      <td>...</td>\n",
       "      <td>...</td>\n",
       "      <td>...</td>\n",
       "      <td>...</td>\n",
       "      <td>...</td>\n",
       "      <td>...</td>\n",
       "      <td>...</td>\n",
       "      <td>...</td>\n",
       "      <td>...</td>\n",
       "      <td>...</td>\n",
       "      <td>...</td>\n",
       "      <td>...</td>\n",
       "      <td>...</td>\n",
       "      <td>...</td>\n",
       "    </tr>\n",
       "    <tr>\n",
       "      <th>40944</th>\n",
       "      <td>BZt0qjTWNhw</td>\n",
       "      <td>2018-06-14</td>\n",
       "      <td>The Cat Who Caught the Laser</td>\n",
       "      <td>AaronsAnimals</td>\n",
       "      <td>15</td>\n",
       "      <td>2018-05-18 13:00:04</td>\n",
       "      <td>aarons animals|\"aarons\"|\"animals\"|\"cat\"|\"cats\"...</td>\n",
       "      <td>1685609</td>\n",
       "      <td>38160</td>\n",
       "      <td>1385</td>\n",
       "      <td>2657</td>\n",
       "      <td>https://i.ytimg.com/vi/BZt0qjTWNhw/default.jpg</td>\n",
       "      <td>False</td>\n",
       "      <td>False</td>\n",
       "      <td>False</td>\n",
       "      <td>The Cat Who Caught the Laser - Aaron's Animals</td>\n",
       "      <td>US</td>\n",
       "    </tr>\n",
       "    <tr>\n",
       "      <th>40945</th>\n",
       "      <td>1h7KV2sjUWY</td>\n",
       "      <td>2018-06-14</td>\n",
       "      <td>True Facts : Ant Mutualism</td>\n",
       "      <td>zefrank1</td>\n",
       "      <td>22</td>\n",
       "      <td>2018-05-18 01:00:06</td>\n",
       "      <td>[none]</td>\n",
       "      <td>1064798</td>\n",
       "      <td>60008</td>\n",
       "      <td>382</td>\n",
       "      <td>3936</td>\n",
       "      <td>https://i.ytimg.com/vi/1h7KV2sjUWY/default.jpg</td>\n",
       "      <td>False</td>\n",
       "      <td>False</td>\n",
       "      <td>False</td>\n",
       "      <td></td>\n",
       "      <td>US</td>\n",
       "    </tr>\n",
       "    <tr>\n",
       "      <th>40946</th>\n",
       "      <td>D6Oy4LfoqsU</td>\n",
       "      <td>2018-06-14</td>\n",
       "      <td>I GAVE SAFIYA NYGAARD A PERFECT HAIR MAKEOVER ...</td>\n",
       "      <td>Brad Mondo</td>\n",
       "      <td>24</td>\n",
       "      <td>2018-05-18 17:34:22</td>\n",
       "      <td>I gave safiya nygaard a perfect hair makeover ...</td>\n",
       "      <td>1066451</td>\n",
       "      <td>48068</td>\n",
       "      <td>1032</td>\n",
       "      <td>3992</td>\n",
       "      <td>https://i.ytimg.com/vi/D6Oy4LfoqsU/default.jpg</td>\n",
       "      <td>False</td>\n",
       "      <td>False</td>\n",
       "      <td>False</td>\n",
       "      <td>I had so much fun transforming Safiyas hair in...</td>\n",
       "      <td>US</td>\n",
       "    </tr>\n",
       "    <tr>\n",
       "      <th>40947</th>\n",
       "      <td>oV0zkMe1K8s</td>\n",
       "      <td>2018-06-14</td>\n",
       "      <td>How Black Panther Should Have Ended</td>\n",
       "      <td>How It Should Have Ended</td>\n",
       "      <td>1</td>\n",
       "      <td>2018-05-17 17:00:04</td>\n",
       "      <td>Black Panther|\"HISHE\"|\"Marvel\"|\"Infinity War\"|...</td>\n",
       "      <td>5660813</td>\n",
       "      <td>192957</td>\n",
       "      <td>2846</td>\n",
       "      <td>13088</td>\n",
       "      <td>https://i.ytimg.com/vi/oV0zkMe1K8s/default.jpg</td>\n",
       "      <td>False</td>\n",
       "      <td>False</td>\n",
       "      <td>False</td>\n",
       "      <td>How Black Panther Should Have EndedWatch More ...</td>\n",
       "      <td>US</td>\n",
       "    </tr>\n",
       "    <tr>\n",
       "      <th>40948</th>\n",
       "      <td>ooyjaVdt-jA</td>\n",
       "      <td>2018-06-14</td>\n",
       "      <td>Official Call of Duty®: Black Ops 4 — Multipla...</td>\n",
       "      <td>Call of Duty</td>\n",
       "      <td>20</td>\n",
       "      <td>2018-05-17 17:09:38</td>\n",
       "      <td>call of duty|\"cod\"|\"activision\"|\"Black Ops 4\"</td>\n",
       "      <td>10306119</td>\n",
       "      <td>357079</td>\n",
       "      <td>212976</td>\n",
       "      <td>144795</td>\n",
       "      <td>https://i.ytimg.com/vi/ooyjaVdt-jA/default.jpg</td>\n",
       "      <td>False</td>\n",
       "      <td>False</td>\n",
       "      <td>False</td>\n",
       "      <td>Call of Duty: Black Ops 4 Multiplayer raises t...</td>\n",
       "      <td>US</td>\n",
       "    </tr>\n",
       "  </tbody>\n",
       "</table>\n",
       "<p>375942 rows × 17 columns</p>\n",
       "</div>"
      ],
      "text/plain": [
       "          video_id trending_date  \\\n",
       "0      n1WpP7iowLc    2017-11-14   \n",
       "1      0dBIkQ4Mz1M    2017-11-14   \n",
       "2      5qpjK5DgCt4    2017-11-14   \n",
       "3      d380meD0W0M    2017-11-14   \n",
       "4      2Vv-BfVoq4g    2017-11-14   \n",
       "...            ...           ...   \n",
       "40944  BZt0qjTWNhw    2018-06-14   \n",
       "40945  1h7KV2sjUWY    2018-06-14   \n",
       "40946  D6Oy4LfoqsU    2018-06-14   \n",
       "40947  oV0zkMe1K8s    2018-06-14   \n",
       "40948  ooyjaVdt-jA    2018-06-14   \n",
       "\n",
       "                                                   title  \\\n",
       "0             Eminem - Walk On Water (Audio) ft. Beyoncé   \n",
       "1                          PLUSH - Bad Unboxing Fan Mail   \n",
       "2      Racist Superman | Rudy Mancuso, King Bach & Le...   \n",
       "3                               I Dare You: GOING BALD!?   \n",
       "4            Ed Sheeran - Perfect (Official Music Video)   \n",
       "...                                                  ...   \n",
       "40944                       The Cat Who Caught the Laser   \n",
       "40945                         True Facts : Ant Mutualism   \n",
       "40946  I GAVE SAFIYA NYGAARD A PERFECT HAIR MAKEOVER ...   \n",
       "40947                How Black Panther Should Have Ended   \n",
       "40948  Official Call of Duty®: Black Ops 4 — Multipla...   \n",
       "\n",
       "                  channel_title  category_id        publish_time  \\\n",
       "0                    EminemVEVO           10 2017-11-10 17:00:03   \n",
       "1                     iDubbbzTV           23 2017-11-13 17:00:00   \n",
       "2                  Rudy Mancuso           23 2017-11-12 19:05:24   \n",
       "3                      nigahiga           24 2017-11-12 18:01:41   \n",
       "4                    Ed Sheeran           10 2017-11-09 11:04:14   \n",
       "...                         ...          ...                 ...   \n",
       "40944             AaronsAnimals           15 2018-05-18 13:00:04   \n",
       "40945                  zefrank1           22 2018-05-18 01:00:06   \n",
       "40946                Brad Mondo           24 2018-05-18 17:34:22   \n",
       "40947  How It Should Have Ended            1 2018-05-17 17:00:04   \n",
       "40948              Call of Duty           20 2018-05-17 17:09:38   \n",
       "\n",
       "                                                    tags     views    likes  \\\n",
       "0      Eminem|\"Walk\"|\"On\"|\"Water\"|\"Aftermath/Shady/In...  17158579   787425   \n",
       "1      plush|\"bad unboxing\"|\"unboxing\"|\"fan mail\"|\"id...   1014651   127794   \n",
       "2      racist superman|\"rudy\"|\"mancuso\"|\"king\"|\"bach\"...   3191434   146035   \n",
       "3      ryan|\"higa\"|\"higatv\"|\"nigahiga\"|\"i dare you\"|\"...   2095828   132239   \n",
       "4      edsheeran|\"ed sheeran\"|\"acoustic\"|\"live\"|\"cove...  33523622  1634130   \n",
       "...                                                  ...       ...      ...   \n",
       "40944  aarons animals|\"aarons\"|\"animals\"|\"cat\"|\"cats\"...   1685609    38160   \n",
       "40945                                             [none]   1064798    60008   \n",
       "40946  I gave safiya nygaard a perfect hair makeover ...   1066451    48068   \n",
       "40947  Black Panther|\"HISHE\"|\"Marvel\"|\"Infinity War\"|...   5660813   192957   \n",
       "40948      call of duty|\"cod\"|\"activision\"|\"Black Ops 4\"  10306119   357079   \n",
       "\n",
       "       dislikes  comment_count  \\\n",
       "0         43420         125882   \n",
       "1          1688          13030   \n",
       "2          5339           8181   \n",
       "3          1989          17518   \n",
       "4         21082          85067   \n",
       "...         ...            ...   \n",
       "40944      1385           2657   \n",
       "40945       382           3936   \n",
       "40946      1032           3992   \n",
       "40947      2846          13088   \n",
       "40948    212976         144795   \n",
       "\n",
       "                                       thumbnail_link  comments_disabled  \\\n",
       "0      https://i.ytimg.com/vi/n1WpP7iowLc/default.jpg              False   \n",
       "1      https://i.ytimg.com/vi/0dBIkQ4Mz1M/default.jpg              False   \n",
       "2      https://i.ytimg.com/vi/5qpjK5DgCt4/default.jpg              False   \n",
       "3      https://i.ytimg.com/vi/d380meD0W0M/default.jpg              False   \n",
       "4      https://i.ytimg.com/vi/2Vv-BfVoq4g/default.jpg              False   \n",
       "...                                               ...                ...   \n",
       "40944  https://i.ytimg.com/vi/BZt0qjTWNhw/default.jpg              False   \n",
       "40945  https://i.ytimg.com/vi/1h7KV2sjUWY/default.jpg              False   \n",
       "40946  https://i.ytimg.com/vi/D6Oy4LfoqsU/default.jpg              False   \n",
       "40947  https://i.ytimg.com/vi/oV0zkMe1K8s/default.jpg              False   \n",
       "40948  https://i.ytimg.com/vi/ooyjaVdt-jA/default.jpg              False   \n",
       "\n",
       "       ratings_disabled  video_error_or_removed  \\\n",
       "0                 False                   False   \n",
       "1                 False                   False   \n",
       "2                 False                   False   \n",
       "3                 False                   False   \n",
       "4                 False                   False   \n",
       "...                 ...                     ...   \n",
       "40944             False                   False   \n",
       "40945             False                   False   \n",
       "40946             False                   False   \n",
       "40947             False                   False   \n",
       "40948             False                   False   \n",
       "\n",
       "                                             description country  \n",
       "0      Eminem's new track Walk on Water ft. Beyoncé i...      CA  \n",
       "1      STill got a lot of packages. Probably will las...      CA  \n",
       "2      WATCH MY PREVIOUS VIDEO ▶ \\n\\nSUBSCRIBE ► http...      CA  \n",
       "3      I know it's been a while since we did this sho...      CA  \n",
       "4      🎧: https://ad.gt/yt-perfect\\n💰: https://atlant...      CA  \n",
       "...                                                  ...     ...  \n",
       "40944     The Cat Who Caught the Laser - Aaron's Animals      US  \n",
       "40945                                                         US  \n",
       "40946  I had so much fun transforming Safiyas hair in...      US  \n",
       "40947  How Black Panther Should Have EndedWatch More ...      US  \n",
       "40948  Call of Duty: Black Ops 4 Multiplayer raises t...      US  \n",
       "\n",
       "[375942 rows x 17 columns]"
      ]
     },
     "execution_count": 6,
     "metadata": {},
     "output_type": "execute_result"
    }
   ],
   "source": [
    "Total_DF"
   ]
  },
  {
   "cell_type": "code",
   "execution_count": 7,
   "metadata": {},
   "outputs": [],
   "source": [
    "#Drop the duplicate rows\n",
    "Total_DF.drop_duplicates(subset=['video_id', 'trending_date', 'country'], keep='last', inplace=True)\n",
    "Total_DF.reset_index(drop=True, inplace=True)\n",
    "to_drop = Total_DF[(Total_DF['video_id']=='#NAME?') | (Total_DF['video_id']=='#VALUE!')].index\n",
    "Total_DF.drop(to_drop, inplace=True)\n",
    "Total_DF.reset_index(drop=True, inplace=True)"
   ]
  },
  {
   "cell_type": "code",
   "execution_count": 8,
   "metadata": {},
   "outputs": [],
   "source": [
    "#Publish time is supposed to be unique. Remove the videos with More than 1 publish time \n",
    "Temp_TF = Total_DF.groupby('video_id').aggregate(Publish_Time_Unique_Count = ('publish_time', lambda x : len(set(x.to_list()))))           \n",
    "#Drop these 28 videos, total 105 corresponding rows\n",
    "Total_DF.drop(Total_DF[Total_DF['video_id'].isin(Temp_TF[Temp_TF['Publish_Time_Unique_Count']>1].index)].index, inplace=True)\n",
    "Total_DF.reset_index(drop=True, inplace=True)"
   ]
  },
  {
   "cell_type": "code",
   "execution_count": 9,
   "metadata": {},
   "outputs": [],
   "source": [
    "#Some Videos are removed after some time; Let's exclude these videos from the analysis as there is a manual intervention or environment issue \n",
    "#51 videos had error (atleast once); Total 143 rows\n",
    "#Both the below codes give exactly same results; MEANS 'video_error_or_removed' really means that atleast once 'video_error_or_removed'\n",
    "#Total_DF[Total_DF['video_id'].isin(Total_DF[Total_DF['video_error_or_removed']]['video_id'].unique())]\n",
    "#Total_DF[Total_DF['video_error_or_removed']]\n",
    "Total_DF.drop(Total_DF[Total_DF['video_id'].isin(Total_DF[Total_DF['video_error_or_removed']]['video_id'].unique())].index, inplace=True)\n",
    "Total_DF.reset_index(drop=True, inplace=True)"
   ]
  },
  {
   "cell_type": "code",
   "execution_count": 10,
   "metadata": {},
   "outputs": [],
   "source": [
    "#Remove 'video_error_or_removed' as it doesn't make sense now\n",
    "Total_DF.drop('video_error_or_removed', inplace=True, axis=1)"
   ]
  },
  {
   "cell_type": "code",
   "execution_count": 11,
   "metadata": {},
   "outputs": [],
   "source": [
    "#create dataframe limited to unique dates per id/country\n",
    "no_countries_DF = Total_DF.drop_duplicates(subset=['video_id', 'country'], keep='first')"
   ]
  },
  {
   "cell_type": "code",
   "execution_count": 12,
   "metadata": {},
   "outputs": [],
   "source": [
    "#calculate how many countries each video trended in\n",
    "no_of_countries_trended_in = no_countries_DF.groupby('video_id')['country'].count()"
   ]
  },
  {
   "cell_type": "code",
   "execution_count": 13,
   "metadata": {},
   "outputs": [
    {
     "data": {
      "text/plain": [
       "video_id\n",
       "--1skHapGUc    1\n",
       "--2K8l6BWfw    1\n",
       "--45ws7CEN0    3\n",
       "--6vcer7XYQ    1\n",
       "--728h8mnDY    1\n",
       "              ..\n",
       "zzuI1sona1M    1\n",
       "zzvWC_pDiIk    1\n",
       "zzxLG6R5cHI    1\n",
       "zzyGHbhCpV4    1\n",
       "zzz0_5fMnI8    1\n",
       "Name: country, Length: 184206, dtype: int64"
      ]
     },
     "execution_count": 13,
     "metadata": {},
     "output_type": "execute_result"
    }
   ],
   "source": [
    "no_of_countries_trended_in"
   ]
  },
  {
   "cell_type": "code",
   "execution_count": 14,
   "metadata": {},
   "outputs": [],
   "source": [
    "# calculate days each video trended per country\n",
    "Trending_Days = Total_DF.groupby(['video_id', 'country']).aggregate(Days_trending=('trending_date', 'count'))"
   ]
  },
  {
   "cell_type": "code",
   "execution_count": 15,
   "metadata": {},
   "outputs": [],
   "source": [
    "unstacked_Trending_Days = Trending_Days.unstack()"
   ]
  },
  {
   "cell_type": "code",
   "execution_count": 16,
   "metadata": {},
   "outputs": [],
   "source": [
    "unstacked_Trending_Days.fillna(value=0, inplace=True)"
   ]
  },
  {
   "cell_type": "code",
   "execution_count": 17,
   "metadata": {},
   "outputs": [],
   "source": [
    "final_Trending_Days = pd.DataFrame(unstacked_Trending_Days.to_records()) "
   ]
  },
  {
   "cell_type": "code",
   "execution_count": 18,
   "metadata": {},
   "outputs": [
    {
     "data": {
      "text/html": [
       "<div>\n",
       "<style scoped>\n",
       "    .dataframe tbody tr th:only-of-type {\n",
       "        vertical-align: middle;\n",
       "    }\n",
       "\n",
       "    .dataframe tbody tr th {\n",
       "        vertical-align: top;\n",
       "    }\n",
       "\n",
       "    .dataframe thead th {\n",
       "        text-align: right;\n",
       "    }\n",
       "</style>\n",
       "<table border=\"1\" class=\"dataframe\">\n",
       "  <thead>\n",
       "    <tr style=\"text-align: right;\">\n",
       "      <th></th>\n",
       "      <th>video_id</th>\n",
       "      <th>('Days_trending', 'CA')</th>\n",
       "      <th>('Days_trending', 'DE')</th>\n",
       "      <th>('Days_trending', 'FR')</th>\n",
       "      <th>('Days_trending', 'GB')</th>\n",
       "      <th>('Days_trending', 'IN')</th>\n",
       "      <th>('Days_trending', 'JP')</th>\n",
       "      <th>('Days_trending', 'KR')</th>\n",
       "      <th>('Days_trending', 'MX')</th>\n",
       "      <th>('Days_trending', 'RU')</th>\n",
       "      <th>('Days_trending', 'US')</th>\n",
       "    </tr>\n",
       "  </thead>\n",
       "  <tbody>\n",
       "    <tr>\n",
       "      <th>0</th>\n",
       "      <td>--1skHapGUc</td>\n",
       "      <td>0.0</td>\n",
       "      <td>0.0</td>\n",
       "      <td>0.0</td>\n",
       "      <td>0.0</td>\n",
       "      <td>0.0</td>\n",
       "      <td>0.0</td>\n",
       "      <td>0.0</td>\n",
       "      <td>1.0</td>\n",
       "      <td>0.0</td>\n",
       "      <td>0.0</td>\n",
       "    </tr>\n",
       "    <tr>\n",
       "      <th>1</th>\n",
       "      <td>--2K8l6BWfw</td>\n",
       "      <td>0.0</td>\n",
       "      <td>0.0</td>\n",
       "      <td>1.0</td>\n",
       "      <td>0.0</td>\n",
       "      <td>0.0</td>\n",
       "      <td>0.0</td>\n",
       "      <td>0.0</td>\n",
       "      <td>0.0</td>\n",
       "      <td>0.0</td>\n",
       "      <td>0.0</td>\n",
       "    </tr>\n",
       "    <tr>\n",
       "      <th>2</th>\n",
       "      <td>--45ws7CEN0</td>\n",
       "      <td>1.0</td>\n",
       "      <td>0.0</td>\n",
       "      <td>0.0</td>\n",
       "      <td>0.0</td>\n",
       "      <td>0.0</td>\n",
       "      <td>0.0</td>\n",
       "      <td>0.0</td>\n",
       "      <td>1.0</td>\n",
       "      <td>1.0</td>\n",
       "      <td>0.0</td>\n",
       "    </tr>\n",
       "    <tr>\n",
       "      <th>3</th>\n",
       "      <td>--6vcer7XYQ</td>\n",
       "      <td>0.0</td>\n",
       "      <td>0.0</td>\n",
       "      <td>0.0</td>\n",
       "      <td>0.0</td>\n",
       "      <td>0.0</td>\n",
       "      <td>0.0</td>\n",
       "      <td>0.0</td>\n",
       "      <td>3.0</td>\n",
       "      <td>0.0</td>\n",
       "      <td>0.0</td>\n",
       "    </tr>\n",
       "    <tr>\n",
       "      <th>4</th>\n",
       "      <td>--728h8mnDY</td>\n",
       "      <td>0.0</td>\n",
       "      <td>0.0</td>\n",
       "      <td>2.0</td>\n",
       "      <td>0.0</td>\n",
       "      <td>0.0</td>\n",
       "      <td>0.0</td>\n",
       "      <td>0.0</td>\n",
       "      <td>0.0</td>\n",
       "      <td>0.0</td>\n",
       "      <td>0.0</td>\n",
       "    </tr>\n",
       "    <tr>\n",
       "      <th>...</th>\n",
       "      <td>...</td>\n",
       "      <td>...</td>\n",
       "      <td>...</td>\n",
       "      <td>...</td>\n",
       "      <td>...</td>\n",
       "      <td>...</td>\n",
       "      <td>...</td>\n",
       "      <td>...</td>\n",
       "      <td>...</td>\n",
       "      <td>...</td>\n",
       "      <td>...</td>\n",
       "    </tr>\n",
       "    <tr>\n",
       "      <th>184201</th>\n",
       "      <td>zzuI1sona1M</td>\n",
       "      <td>0.0</td>\n",
       "      <td>0.0</td>\n",
       "      <td>0.0</td>\n",
       "      <td>0.0</td>\n",
       "      <td>0.0</td>\n",
       "      <td>0.0</td>\n",
       "      <td>0.0</td>\n",
       "      <td>0.0</td>\n",
       "      <td>1.0</td>\n",
       "      <td>0.0</td>\n",
       "    </tr>\n",
       "    <tr>\n",
       "      <th>184202</th>\n",
       "      <td>zzvWC_pDiIk</td>\n",
       "      <td>0.0</td>\n",
       "      <td>0.0</td>\n",
       "      <td>0.0</td>\n",
       "      <td>0.0</td>\n",
       "      <td>0.0</td>\n",
       "      <td>0.0</td>\n",
       "      <td>0.0</td>\n",
       "      <td>0.0</td>\n",
       "      <td>1.0</td>\n",
       "      <td>0.0</td>\n",
       "    </tr>\n",
       "    <tr>\n",
       "      <th>184203</th>\n",
       "      <td>zzxLG6R5cHI</td>\n",
       "      <td>0.0</td>\n",
       "      <td>0.0</td>\n",
       "      <td>0.0</td>\n",
       "      <td>0.0</td>\n",
       "      <td>0.0</td>\n",
       "      <td>0.0</td>\n",
       "      <td>0.0</td>\n",
       "      <td>1.0</td>\n",
       "      <td>0.0</td>\n",
       "      <td>0.0</td>\n",
       "    </tr>\n",
       "    <tr>\n",
       "      <th>184204</th>\n",
       "      <td>zzyGHbhCpV4</td>\n",
       "      <td>0.0</td>\n",
       "      <td>0.0</td>\n",
       "      <td>0.0</td>\n",
       "      <td>0.0</td>\n",
       "      <td>0.0</td>\n",
       "      <td>2.0</td>\n",
       "      <td>0.0</td>\n",
       "      <td>0.0</td>\n",
       "      <td>0.0</td>\n",
       "      <td>0.0</td>\n",
       "    </tr>\n",
       "    <tr>\n",
       "      <th>184205</th>\n",
       "      <td>zzz0_5fMnI8</td>\n",
       "      <td>0.0</td>\n",
       "      <td>0.0</td>\n",
       "      <td>1.0</td>\n",
       "      <td>0.0</td>\n",
       "      <td>0.0</td>\n",
       "      <td>0.0</td>\n",
       "      <td>0.0</td>\n",
       "      <td>0.0</td>\n",
       "      <td>0.0</td>\n",
       "      <td>0.0</td>\n",
       "    </tr>\n",
       "  </tbody>\n",
       "</table>\n",
       "<p>184206 rows × 11 columns</p>\n",
       "</div>"
      ],
      "text/plain": [
       "           video_id  ('Days_trending', 'CA')  ('Days_trending', 'DE')  \\\n",
       "0       --1skHapGUc                      0.0                      0.0   \n",
       "1       --2K8l6BWfw                      0.0                      0.0   \n",
       "2       --45ws7CEN0                      1.0                      0.0   \n",
       "3       --6vcer7XYQ                      0.0                      0.0   \n",
       "4       --728h8mnDY                      0.0                      0.0   \n",
       "...             ...                      ...                      ...   \n",
       "184201  zzuI1sona1M                      0.0                      0.0   \n",
       "184202  zzvWC_pDiIk                      0.0                      0.0   \n",
       "184203  zzxLG6R5cHI                      0.0                      0.0   \n",
       "184204  zzyGHbhCpV4                      0.0                      0.0   \n",
       "184205  zzz0_5fMnI8                      0.0                      0.0   \n",
       "\n",
       "        ('Days_trending', 'FR')  ('Days_trending', 'GB')  \\\n",
       "0                           0.0                      0.0   \n",
       "1                           1.0                      0.0   \n",
       "2                           0.0                      0.0   \n",
       "3                           0.0                      0.0   \n",
       "4                           2.0                      0.0   \n",
       "...                         ...                      ...   \n",
       "184201                      0.0                      0.0   \n",
       "184202                      0.0                      0.0   \n",
       "184203                      0.0                      0.0   \n",
       "184204                      0.0                      0.0   \n",
       "184205                      1.0                      0.0   \n",
       "\n",
       "        ('Days_trending', 'IN')  ('Days_trending', 'JP')  \\\n",
       "0                           0.0                      0.0   \n",
       "1                           0.0                      0.0   \n",
       "2                           0.0                      0.0   \n",
       "3                           0.0                      0.0   \n",
       "4                           0.0                      0.0   \n",
       "...                         ...                      ...   \n",
       "184201                      0.0                      0.0   \n",
       "184202                      0.0                      0.0   \n",
       "184203                      0.0                      0.0   \n",
       "184204                      0.0                      2.0   \n",
       "184205                      0.0                      0.0   \n",
       "\n",
       "        ('Days_trending', 'KR')  ('Days_trending', 'MX')  \\\n",
       "0                           0.0                      1.0   \n",
       "1                           0.0                      0.0   \n",
       "2                           0.0                      1.0   \n",
       "3                           0.0                      3.0   \n",
       "4                           0.0                      0.0   \n",
       "...                         ...                      ...   \n",
       "184201                      0.0                      0.0   \n",
       "184202                      0.0                      0.0   \n",
       "184203                      0.0                      1.0   \n",
       "184204                      0.0                      0.0   \n",
       "184205                      0.0                      0.0   \n",
       "\n",
       "        ('Days_trending', 'RU')  ('Days_trending', 'US')  \n",
       "0                           0.0                      0.0  \n",
       "1                           0.0                      0.0  \n",
       "2                           1.0                      0.0  \n",
       "3                           0.0                      0.0  \n",
       "4                           0.0                      0.0  \n",
       "...                         ...                      ...  \n",
       "184201                      1.0                      0.0  \n",
       "184202                      1.0                      0.0  \n",
       "184203                      0.0                      0.0  \n",
       "184204                      0.0                      0.0  \n",
       "184205                      0.0                      0.0  \n",
       "\n",
       "[184206 rows x 11 columns]"
      ]
     },
     "execution_count": 18,
     "metadata": {},
     "output_type": "execute_result"
    }
   ],
   "source": [
    "final_Trending_Days"
   ]
  },
  {
   "cell_type": "markdown",
   "metadata": {},
   "source": [
    "Analysis: \n",
    "===\n",
    "\n",
    "How do trending videos compare regarding number countries trended in and number of days videos trended?"
   ]
  },
  {
   "cell_type": "markdown",
   "metadata": {},
   "source": [
    "Step 1: data manipulation\n",
    "----"
   ]
  },
  {
   "cell_type": "code",
   "execution_count": 81,
   "metadata": {},
   "outputs": [],
   "source": [
    "#calculate no. of countries each video trended in\n",
    "no_of_countries_trended_in = no_countries_DF.groupby('video_id')['country'].count()\n",
    "    \n",
    "    #create a dataframe with findings\n",
    "no_of_countries_df= pd.DataFrame({\"No of Countries Trended In\" : no_of_countries_trended_in})\n",
    "\n",
    "#calculate the sum of days trended per video across countries\n",
    "sum_of_days_trended = final_Trending_Days.sum(axis=1)\n",
    "\n",
    " #create a dataframe with findings\n",
    "sum_of_days_df = pd.DataFrame({\"video_id\" : final_Trending_Days[\"video_id\"],\n",
    "                               \"Sum of Days trended\" : sum_of_days_trended})\n",
    "\n",
    "sum_of_days_df.set_index(\"video_id\", inplace=True)\n",
    "\n",
    "#merge datasets\n",
    "\n",
    "combined_per_video_df = pd.merge(sum_of_days_df, no_of_countries_df, on=\"video_id\")\n",
    "\n",
    "combined_per_video_df[\"Mean Days Trending\"] = combined_per_video_df[\"Sum of Days trended\"]/combined_per_video_df[\"No of Countries Trended In\"]"
   ]
  },
  {
   "cell_type": "code",
   "execution_count": 124,
   "metadata": {},
   "outputs": [],
   "source": [
    "#create a segment column for number of countries trended in  \n",
    "combined_per_video_df[\"Country Segment\"] = combined_per_video_df[\"No of Countries Trended In\"]\n",
    "\n",
    "combined_per_video_df[\"Country Segment\"] = np.where(combined_per_video_df[\"No of Countries Trended In\"]==1, \n",
    "                                            \"Trended in 1 country\", \n",
    "                                            combined_per_video_df[\"Country Segment\"])\n",
    "\n",
    "combined_per_video_df[\"Country Segment\"] = np.where((combined_per_video_df[\"No of Countries Trended In\"]>1) & (combined_per_video_df[\"No of Countries Trended In\"]<=4), \"Trended in 2 to 4 countries\", combined_per_video_df[\"Country Segment\"])\n",
    "\n",
    "combined_per_video_df[\"Country Segment\"] = np.where(combined_per_video_df[\"No of Countries Trended In\"]>4 , \"Trended in more than 4 countries\", combined_per_video_df[\"Country Segment\"])\n"
   ]
  },
  {
   "cell_type": "code",
   "execution_count": 94,
   "metadata": {},
   "outputs": [],
   "source": [
    "#create a segment column for number of days a video trended \n",
    "combined_per_video_df[\"Days Trended Segment\"] = combined_per_video_df[\"Mean Days Trending\"]\n",
    "\n",
    "combined_per_video_df[\"Days Trended Segment\"] = np.where(combined_per_video_df[\"Mean Days Trending\"]==1, \n",
    "                                                        \"Trended for 1 day\", \n",
    "                                                        combined_per_video_df[\"Days Trended Segment\"])\n",
    "\n",
    "combined_per_video_df[\"Days Trended Segment\"] = np.where((combined_per_video_df[\"Mean Days Trending\"]>1) & \n",
    "                                                         (combined_per_video_df[\"Mean Days Trending\"]<=4), \n",
    "                                                         \"Trended for 2 to 4 days\", \n",
    "                                                         combined_per_video_df[\"Days Trended Segment\"])\n",
    "\n",
    "combined_per_video_df[\"Days Trended Segment\"] = np.where(combined_per_video_df[\"Mean Days Trending\"]>4 ,\n",
    "                                                         \"Trended more than 4 days\", \n",
    "                                                         combined_per_video_df[\"Days Trended Segment\"])\n"
   ]
  },
  {
   "cell_type": "code",
   "execution_count": 104,
   "metadata": {},
   "outputs": [
    {
     "data": {
      "text/html": [
       "<div>\n",
       "<style scoped>\n",
       "    .dataframe tbody tr th:only-of-type {\n",
       "        vertical-align: middle;\n",
       "    }\n",
       "\n",
       "    .dataframe tbody tr th {\n",
       "        vertical-align: top;\n",
       "    }\n",
       "\n",
       "    .dataframe thead th {\n",
       "        text-align: right;\n",
       "    }\n",
       "</style>\n",
       "<table border=\"1\" class=\"dataframe\">\n",
       "  <thead>\n",
       "    <tr style=\"text-align: right;\">\n",
       "      <th></th>\n",
       "      <th>Sum of Days trended</th>\n",
       "      <th>No of Countries Trended In</th>\n",
       "      <th>Mean Days Trending</th>\n",
       "      <th>Country Segment</th>\n",
       "      <th>Days Trended Segment</th>\n",
       "    </tr>\n",
       "    <tr>\n",
       "      <th>video_id</th>\n",
       "      <th></th>\n",
       "      <th></th>\n",
       "      <th></th>\n",
       "      <th></th>\n",
       "      <th></th>\n",
       "    </tr>\n",
       "  </thead>\n",
       "  <tbody>\n",
       "    <tr>\n",
       "      <th>--1skHapGUc</th>\n",
       "      <td>1.0</td>\n",
       "      <td>1</td>\n",
       "      <td>1.0</td>\n",
       "      <td>Trended in 1 country</td>\n",
       "      <td>Trended for 1 day</td>\n",
       "    </tr>\n",
       "    <tr>\n",
       "      <th>--2K8l6BWfw</th>\n",
       "      <td>1.0</td>\n",
       "      <td>1</td>\n",
       "      <td>1.0</td>\n",
       "      <td>Trended in 1 country</td>\n",
       "      <td>Trended for 1 day</td>\n",
       "    </tr>\n",
       "    <tr>\n",
       "      <th>--45ws7CEN0</th>\n",
       "      <td>3.0</td>\n",
       "      <td>3</td>\n",
       "      <td>1.0</td>\n",
       "      <td>Trended in 2 to 4 countries</td>\n",
       "      <td>Trended for 1 day</td>\n",
       "    </tr>\n",
       "    <tr>\n",
       "      <th>--6vcer7XYQ</th>\n",
       "      <td>3.0</td>\n",
       "      <td>1</td>\n",
       "      <td>3.0</td>\n",
       "      <td>Trended in 1 country</td>\n",
       "      <td>Trended for 2 to 4 days</td>\n",
       "    </tr>\n",
       "    <tr>\n",
       "      <th>--728h8mnDY</th>\n",
       "      <td>2.0</td>\n",
       "      <td>1</td>\n",
       "      <td>2.0</td>\n",
       "      <td>Trended in 1 country</td>\n",
       "      <td>Trended for 2 to 4 days</td>\n",
       "    </tr>\n",
       "    <tr>\n",
       "      <th>...</th>\n",
       "      <td>...</td>\n",
       "      <td>...</td>\n",
       "      <td>...</td>\n",
       "      <td>...</td>\n",
       "      <td>...</td>\n",
       "    </tr>\n",
       "    <tr>\n",
       "      <th>zzuI1sona1M</th>\n",
       "      <td>1.0</td>\n",
       "      <td>1</td>\n",
       "      <td>1.0</td>\n",
       "      <td>Trended in 1 country</td>\n",
       "      <td>Trended for 1 day</td>\n",
       "    </tr>\n",
       "    <tr>\n",
       "      <th>zzvWC_pDiIk</th>\n",
       "      <td>1.0</td>\n",
       "      <td>1</td>\n",
       "      <td>1.0</td>\n",
       "      <td>Trended in 1 country</td>\n",
       "      <td>Trended for 1 day</td>\n",
       "    </tr>\n",
       "    <tr>\n",
       "      <th>zzxLG6R5cHI</th>\n",
       "      <td>1.0</td>\n",
       "      <td>1</td>\n",
       "      <td>1.0</td>\n",
       "      <td>Trended in 1 country</td>\n",
       "      <td>Trended for 1 day</td>\n",
       "    </tr>\n",
       "    <tr>\n",
       "      <th>zzyGHbhCpV4</th>\n",
       "      <td>2.0</td>\n",
       "      <td>1</td>\n",
       "      <td>2.0</td>\n",
       "      <td>Trended in 1 country</td>\n",
       "      <td>Trended for 2 to 4 days</td>\n",
       "    </tr>\n",
       "    <tr>\n",
       "      <th>zzz0_5fMnI8</th>\n",
       "      <td>1.0</td>\n",
       "      <td>1</td>\n",
       "      <td>1.0</td>\n",
       "      <td>Trended in 1 country</td>\n",
       "      <td>Trended for 1 day</td>\n",
       "    </tr>\n",
       "  </tbody>\n",
       "</table>\n",
       "<p>184206 rows × 5 columns</p>\n",
       "</div>"
      ],
      "text/plain": [
       "             Sum of Days trended  No of Countries Trended In  \\\n",
       "video_id                                                       \n",
       "--1skHapGUc                  1.0                           1   \n",
       "--2K8l6BWfw                  1.0                           1   \n",
       "--45ws7CEN0                  3.0                           3   \n",
       "--6vcer7XYQ                  3.0                           1   \n",
       "--728h8mnDY                  2.0                           1   \n",
       "...                          ...                         ...   \n",
       "zzuI1sona1M                  1.0                           1   \n",
       "zzvWC_pDiIk                  1.0                           1   \n",
       "zzxLG6R5cHI                  1.0                           1   \n",
       "zzyGHbhCpV4                  2.0                           1   \n",
       "zzz0_5fMnI8                  1.0                           1   \n",
       "\n",
       "             Mean Days Trending              Country Segment  \\\n",
       "video_id                                                       \n",
       "--1skHapGUc                 1.0         Trended in 1 country   \n",
       "--2K8l6BWfw                 1.0         Trended in 1 country   \n",
       "--45ws7CEN0                 1.0  Trended in 2 to 4 countries   \n",
       "--6vcer7XYQ                 3.0         Trended in 1 country   \n",
       "--728h8mnDY                 2.0         Trended in 1 country   \n",
       "...                         ...                          ...   \n",
       "zzuI1sona1M                 1.0         Trended in 1 country   \n",
       "zzvWC_pDiIk                 1.0         Trended in 1 country   \n",
       "zzxLG6R5cHI                 1.0         Trended in 1 country   \n",
       "zzyGHbhCpV4                 2.0         Trended in 1 country   \n",
       "zzz0_5fMnI8                 1.0         Trended in 1 country   \n",
       "\n",
       "                Days Trended Segment  \n",
       "video_id                              \n",
       "--1skHapGUc        Trended for 1 day  \n",
       "--2K8l6BWfw        Trended for 1 day  \n",
       "--45ws7CEN0        Trended for 1 day  \n",
       "--6vcer7XYQ  Trended for 2 to 4 days  \n",
       "--728h8mnDY  Trended for 2 to 4 days  \n",
       "...                              ...  \n",
       "zzuI1sona1M        Trended for 1 day  \n",
       "zzvWC_pDiIk        Trended for 1 day  \n",
       "zzxLG6R5cHI        Trended for 1 day  \n",
       "zzyGHbhCpV4  Trended for 2 to 4 days  \n",
       "zzz0_5fMnI8        Trended for 1 day  \n",
       "\n",
       "[184206 rows x 5 columns]"
      ]
     },
     "execution_count": 104,
     "metadata": {},
     "output_type": "execute_result"
    }
   ],
   "source": [
    "#verify dataframe \n",
    "combined_per_video_df"
   ]
  },
  {
   "cell_type": "markdown",
   "metadata": {},
   "source": [
    "Step 2: display findings\n",
    "----"
   ]
  },
  {
   "cell_type": "code",
   "execution_count": 96,
   "metadata": {},
   "outputs": [
    {
     "data": {
      "text/plain": [
       "([<matplotlib.patches.Wedge at 0x146d9476088>,\n",
       "  <matplotlib.patches.Wedge at 0x146d8d5d548>,\n",
       "  <matplotlib.patches.Wedge at 0x146d8d4c908>],\n",
       " [Text(-0.113963703877868, -1.0940805611098472, '1'),\n",
       "  Text(0.23173442026318897, 1.075313516359431, '2 to 4'),\n",
       "  Text(-0.7611528267614565, 0.7941324664771264, 'more than 4')],\n",
       " [Text(-0.0621620202970189, -0.5967712151508257, '68.9%'),\n",
       "  Text(0.12640059287083033, 0.5865346452869622, '27.6%'),\n",
       "  Text(-0.4151742691426126, 0.433163163532978, '3.5%')])"
      ]
     },
     "execution_count": 96,
     "metadata": {},
     "output_type": "execute_result"
    },
    {
     "data": {
      "text/plain": [
       "Text(0.5, 1.0, 'Mean No. of Day Video Trended')"
      ]
     },
     "execution_count": 96,
     "metadata": {},
     "output_type": "execute_result"
    },
    {
     "data": {
      "image/png": "[encoded data removed]",
      "text/plain": [
       "<Figure size 432x288 with 1 Axes>"
      ]
     },
     "metadata": {},
     "output_type": "display_data"
    }
   ],
   "source": [
    "#display the findings for segmentation: mean number of days video trended\n",
    "\n",
    "    #stratify dataset\n",
    "single_day = combined_per_video_df.loc[\n",
    "    combined_per_video_df[\"Mean Days Trending\"]==1, :]\n",
    "\n",
    "two_to_four_day = combined_per_video_df.loc[\n",
    "    (combined_per_video_df[\"Mean Days Trending\"]>1) &\n",
    "    (combined_per_video_df[\"Mean Days Trending\"]<=4), :]\n",
    "\n",
    "more_than_four_day = combined_per_video_df.loc[\n",
    "    combined_per_video_df[\"Mean Days Trending\"]>4, :]\n",
    "    \n",
    "    #visualize\n",
    "# Labels for the sections of our pie chart\n",
    "labels = [\"1\", \"2 to 4\", \"more than 4\"]\n",
    "\n",
    "# The values of each section of the pie chart\n",
    "sizes = [len(single_day)/len(combined_per_video_df), \n",
    "         len(two_to_four_day)/len(combined_per_video_df), \n",
    "         len(more_than_four_day)/len(combined_per_video_df)]\n",
    "\n",
    "# The colors of each section of the pie chart\n",
    "colors = [\"red\", \"orange\", \"lightcoral\", \"lightskyblue\"]\n",
    "\n",
    "\n",
    "#Display\n",
    "plt.pie(sizes, labels=labels, colors=colors,\n",
    "        autopct=\"%1.1f%%\", shadow=True, startangle=140)\n",
    "\n",
    "plt.title(\"Mean No. of Days Video Trended\")"
   ]
  },
  {
   "cell_type": "code",
   "execution_count": 106,
   "metadata": {},
   "outputs": [
    {
     "data": {
      "text/plain": [
       "([<matplotlib.patches.Wedge at 0x146d891de08>,\n",
       "  <matplotlib.patches.Wedge at 0x146d88ea948>,\n",
       "  <matplotlib.patches.Wedge at 0x146d88cfb48>],\n",
       " [Text(0.6553067533227522, -0.8835004578660918, '1'),\n",
       "  Text(-0.6400069651973278, 0.8946457871688139, '2 to 4'),\n",
       "  Text(-0.8303573383535381, 0.7214614962993022, 'more than 4')],\n",
       " [Text(0.3574400472669557, -0.4819093406542318, '92.5%'),\n",
       "  Text(-0.3490947082894515, 0.4879886111829893, '6.9%'),\n",
       "  Text(-0.45292218455647526, 0.39352445252689205, '0.5%')])"
      ]
     },
     "execution_count": 106,
     "metadata": {},
     "output_type": "execute_result"
    },
    {
     "data": {
      "text/plain": [
       "Text(0.5, 1.0, 'No. of Countries Video Trended In')"
      ]
     },
     "execution_count": 106,
     "metadata": {},
     "output_type": "execute_result"
    },
    {
     "data": {
      "image/png": "[encoded data removed]",
      "text/plain": [
       "<Figure size 432x288 with 1 Axes>"
      ]
     },
     "metadata": {},
     "output_type": "display_data"
    }
   ],
   "source": [
    "#display the findings for segmentation: number of countries trended in \n",
    "\n",
    "    #stratify dataset\n",
    "single_country = combined_per_video_df.loc[\n",
    "    combined_per_video_df[\"No of Countries Trended In\"]==1, :]\n",
    "\n",
    "two_to_four_country = combined_per_video_df.loc[\n",
    "    (combined_per_video_df[\"No of Countries Trended In\"]>1) &\n",
    "    (combined_per_video_df[\"No of Countries Trended In\"]<=4), :]\n",
    "\n",
    "more_than_four_country = combined_per_video_df.loc[\n",
    "    combined_per_video_df[\"No of Countries Trended In\"]>4, :]\n",
    "    \n",
    "    #visualize\n",
    "# Labels for the sections of our pie chart\n",
    "labels = [\"1\", \"2 to 4\", \"more than 4\"]\n",
    "\n",
    "# The values of each section of the pie chart\n",
    "\n",
    "sizes = [len(single_country)/len(combined_per_video_df), \n",
    "         len(two_to_four_country)/len(combined_per_video_df), \n",
    "         len(more_than_four_country)/len(combined_per_video_df)]\n",
    "\n",
    "# The colors of each section of the pie chart\n",
    "colors = [\"red\", \"orange\", \"lightcoral\", \"lightskyblue\"]\n",
    "\n",
    "\n",
    "#Display\n",
    "plt.pie(sizes, labels=labels, colors=colors,\n",
    "        autopct=\"%1.1f%%\", shadow=True, startangle=140)\n",
    "\n",
    "plt.title(\"No. of Countries Video Trended In\")"
   ]
  },
  {
   "cell_type": "code",
   "execution_count": null,
   "metadata": {},
   "outputs": [],
   "source": [
    "#explore the distribution of days_trended by number_of_countries_trended_in\n",
    "plt.scatter(combined_per_video_df[\"No of Countries Trended In\"],\n",
    "            combined_per_video_df[\"Mean Days Trending\"])\n",
    "plt.xlabel(\"No of Countries Video Trended In\")\n",
    "plt.ylabel(\"Means days Video Trended\")\n",
    "plt.show()"
   ]
  },
  {
   "cell_type": "code",
   "execution_count": 98,
   "metadata": {},
   "outputs": [
    {
     "data": {
      "text/plain": [
       "<Figure size 360x360 with 0 Axes>"
      ]
     },
     "execution_count": 98,
     "metadata": {},
     "output_type": "execute_result"
    },
    {
     "data": {
      "text/plain": [
       "([<matplotlib.axis.XTick at 0x146d90d1708>,\n",
       "  <matplotlib.axis.XTick at 0x146d90e8cc8>,\n",
       "  <matplotlib.axis.XTick at 0x146d8f82208>],\n",
       " <a list of 3 Text xticklabel objects>)"
      ]
     },
     "execution_count": 98,
     "metadata": {},
     "output_type": "execute_result"
    },
    {
     "data": {
      "text/plain": [
       "Text(0.5, 0, 'No, of Countries Video Trends in')"
      ]
     },
     "execution_count": 98,
     "metadata": {},
     "output_type": "execute_result"
    },
    {
     "data": {
      "text/plain": [
       "Text(0, 0.5, 'Mean No. of Days Video Trends')"
      ]
     },
     "execution_count": 98,
     "metadata": {},
     "output_type": "execute_result"
    },
    {
     "data": {
      "text/plain": [
       "Text(0.5, 1.0, 'Days Trending by the No. of Countries trended in')"
      ]
     },
     "execution_count": 98,
     "metadata": {},
     "output_type": "execute_result"
    },
    {
     "data": {
      "text/plain": [
       "<matplotlib.legend.Legend at 0x146d8ff6b48>"
      ]
     },
     "execution_count": 98,
     "metadata": {},
     "output_type": "execute_result"
    },
    {
     "data": {
      "image/png": "[encoded data removed]",
      "text/plain": [
       "<Figure size 360x360 with 1 Axes>"
      ]
     },
     "metadata": {
      "needs_background": "light"
     },
     "output_type": "display_data"
    }
   ],
   "source": [
    "#create stacked bar chart - all videos\n",
    "\n",
    "#set up of data \n",
    "single_day_set = [len(single_day.loc[\n",
    "        single_day[\"No of Countries Trended In\"]==1,:])/len(single_country),\n",
    "        len(single_day.loc[\n",
    "        (single_day[\"No of Countries Trended In\"]>1) &\n",
    "        (single_day[\"No of Countries Trended In\"]<=4), :])/len(two_to_four_country),\n",
    "        len(single_day.loc[\n",
    "        single_day[\"No of Countries Trended In\"]>4,:])/len(more_than_four_country)]\n",
    "\n",
    "two_to_four_day_set = [len(two_to_four_day.loc[\n",
    "        two_to_four_day[\"No of Countries Trended In\"]==1,:])/len(single_country),\n",
    "        len(two_to_four_day.loc[\n",
    "        (two_to_four_day[\"No of Countries Trended In\"]>1) &\n",
    "        (two_to_four_day[\"No of Countries Trended In\"]<=4), :])/len(two_to_four_country),\n",
    "        len(two_to_four_day.loc[\n",
    "        two_to_four_day[\"No of Countries Trended In\"]>4,:])/len(more_than_four_country)]  \n",
    "\n",
    "more_than_four_day_set = [len(more_than_four_day.loc[\n",
    "        more_than_four_day[\"No of Countries Trended In\"]==1,:])/len(single_country),\n",
    "        len(more_than_four_day.loc[\n",
    "        (more_than_four_day[\"No of Countries Trended In\"]>1) &\n",
    "        (more_than_four_day[\"No of Countries Trended In\"]<=4), :])/len(two_to_four_country),\n",
    "        len(more_than_four_day.loc[\n",
    "        more_than_four_day[\"No of Countries Trended In\"]>4,:])/len(more_than_four_country)]\n",
    "\n",
    "# the x locations for the groups\n",
    "\n",
    "x = ['>4 days', '2 - 4 Days', '1 Day']\n",
    "\n",
    "# the width of the bars\n",
    "width = 0.35       \n",
    "\n",
    "#plot\n",
    "\n",
    "plt.figure(figsize=(5,5))\n",
    "\n",
    "p3 = plt.bar(x, \n",
    "             single_day_set, \n",
    "             width, color ='g')\n",
    "\n",
    "p2 = plt.bar(x, \n",
    "             two_to_four_day_set, \n",
    "             width, color ='b', \n",
    "             bottom=single_day_set)\n",
    "\n",
    "p1 = plt.bar(x, \n",
    "             more_than_four_day_set, \n",
    "             width, color ='r', bottom=[i+j for i,j in zip(\n",
    "                 single_day_set, two_to_four_day_set)])\n",
    "\n",
    "#format x-axis\n",
    "plt.xticks(x, ('1 Country',\n",
    "                '2 - 4 Countries',\n",
    "                 '> 4 Countries',))\n",
    "\n",
    "#plt.xlim(-0.5,len(x))\n",
    "\n",
    "\n",
    "#labelling\n",
    "plt.xlabel('No, of Countries Video Trends in', fontsize = 12)\n",
    "plt.ylabel('Mean No. of Days Video Trends', fontsize = 12)\n",
    "plt.title('Days Trending by the No. of Countries trended in', \n",
    "         fontsize = 12)\n",
    "\n",
    "plt.legend(( p1[0], p2[0], p3[0]), \n",
    "            x,\n",
    "            bbox_to_anchor=(1.01,0.5),\n",
    "            loc='center left')\n",
    "\n",
    "plt.show()"
   ]
  },
  {
   "cell_type": "code",
   "execution_count": 125,
   "metadata": {},
   "outputs": [
    {
     "data": {
      "text/plain": [
       "Text(0.5, 1.0, 'No. of Countries vs. Number of Days')"
      ]
     },
     "execution_count": 125,
     "metadata": {},
     "output_type": "execute_result"
    },
    {
     "data": {
      "text/plain": [
       "Text(0, 0.5, 'The number of Days Video trended for')"
      ]
     },
     "execution_count": 125,
     "metadata": {},
     "output_type": "execute_result"
    },
    {
     "data": {
      "text/plain": [
       "Text(0.5, 0, 'Number of Countries Video Trended In')"
      ]
     },
     "execution_count": 125,
     "metadata": {},
     "output_type": "execute_result"
    },
    {
     "data": {
      "text/plain": [
       "Text(0.5, 0.98, '')"
      ]
     },
     "execution_count": 125,
     "metadata": {},
     "output_type": "execute_result"
    },
    {
     "data": {
      "image/png": "[encoded data removed]",
      "text/plain": [
       "<Figure size 576x360 with 1 Axes>"
      ]
     },
     "metadata": {
      "needs_background": "light"
     },
     "output_type": "display_data"
    }
   ],
   "source": [
    "#ultimately - delete this/ just verifying stacked bar chart was the right approach\n",
    "\n",
    "# Generate a box plot of the final tumor volume of each mouse across four regimens of interest\n",
    "\n",
    "outlier_formatting = dict(markeredgecolor='r', marker='x')\n",
    "\n",
    "box_plot = combined_per_video_df.boxplot(\n",
    "                                by = \"Country Segment\", \n",
    "                                column =[\"Mean Days Trending\"],\n",
    "                                grid=False,\n",
    "                                figsize=(8, 5), \n",
    "                                fontsize=10, \n",
    "                                color=\"black\",\n",
    "                                showmeans=True,\n",
    "                                flierprops=outlier_formatting)\n",
    "\n",
    "#formatting\n",
    "box_plot.set_title(\"No. of Countries vs. Number of Days\", fontsize=14)\n",
    "\n",
    "box_plot.set_ylabel(\n",
    "    \"The number of Days Video trended for\", \n",
    "    fontsize=12,\n",
    "    fontweight ='bold')\n",
    "\n",
    "box_plot.set_xlabel(\n",
    "    \"Number of Countries Video Trended In\", \n",
    "    fontsize=12,\n",
    "    fontweight ='bold')\n",
    "\n",
    "plt.suptitle('')\n",
    "\n",
    "#display\n",
    "plt.tight_layout()\n",
    "plt.show()"
   ]
  },
  {
   "cell_type": "code",
   "execution_count": 109,
   "metadata": {},
   "outputs": [
    {
     "data": {
      "text/plain": [
       "<matplotlib.collections.PathCollection at 0x146d8ed2e48>"
      ]
     },
     "execution_count": 109,
     "metadata": {},
     "output_type": "execute_result"
    },
    {
     "data": {
      "text/plain": [
       "Text(0.5, 0, 'No of Countries')"
      ]
     },
     "execution_count": 109,
     "metadata": {},
     "output_type": "execute_result"
    },
    {
     "data": {
      "text/plain": [
       "Text(0, 0.5, 'Means days Trending')"
      ]
     },
     "execution_count": 109,
     "metadata": {},
     "output_type": "execute_result"
    },
    {
     "data": {
      "image/png": "[encoded data removed]",
      "text/plain": [
       "<Figure size 432x288 with 1 Axes>"
      ]
     },
     "metadata": {
      "needs_background": "light"
     },
     "output_type": "display_data"
    }
   ],
   "source": [
    "#DELETE LATER - exploring distribution of days trended above 4 days\n",
    "#scatter plot of the above bargraph\n",
    "plt.scatter(more_than_four_day[\"No of Countries Trended In\"],\n",
    "            more_than_four_day[\"Mean Days Trending\"])\n",
    "plt.xlabel(\"No of Countries\")\n",
    "plt.ylabel(\"Means days Trending\")\n",
    "plt.show()"
   ]
  },
  {
   "cell_type": "markdown",
   "metadata": {},
   "source": [
    "Analysis: \n",
    "===\n",
    "\n",
    "Amoung those videos that trended in multiple countries,\n",
    "\n",
    "> do they typically trend in the US first? \n",
    "\n",
    "> do videos tend to trend in same countries?"
   ]
  },
  {
   "cell_type": "markdown",
   "metadata": {},
   "source": [
    "Step 1: data manipulation\n",
    "----"
   ]
  },
  {
   "cell_type": "code",
   "execution_count": 128,
   "metadata": {},
   "outputs": [],
   "source": [
    "#create dataframe with only videos trending in multiple countries\n",
    "\n",
    "    #bring country segmentation into originally dataframe\n",
    "Total_DF.set_index(\"video_id\", inplace=True)\n",
    "\n",
    "Total_DF[\"Countries Trended in Segment\"] = combined_per_video_df[\"Country Segment\"]\n"
   ]
  },
  {
   "cell_type": "code",
   "execution_count": 130,
   "metadata": {},
   "outputs": [],
   "source": [
    "\n",
    "    #create dataframe containing only those videos that trended in \n",
    "multinational_df = Total_DF.loc[Total_DF[\"Countries Trended in Segment\"]!= \"Trended in 1 country\",:]\n"
   ]
  },
  {
   "cell_type": "code",
   "execution_count": 137,
   "metadata": {},
   "outputs": [],
   "source": [
    "#find first day to trend per each country\n",
    "First_trend = multinational_df.groupby(['video_id',\"country\"]).aggregate(First_Trend_Date=('trending_date', 'min'))"
   ]
  },
  {
   "cell_type": "code",
   "execution_count": null,
   "metadata": {},
   "outputs": [],
   "source": [
    "#collapse into lists, determine unique first days\n",
    "\n",
    "#First_trend.reset_index(level=1, inplace=True)\n",
    "col_First_trend = First_trend.groupby(\"video_id\").aggregate(lambda tdf: tdf.unique().tolist())\n",
    "col_First_trend['no. of Unique First day trended'] = col_First_trend.First_Trend_Date.apply(lambda x: len(x))"
   ]
  },
  {
   "cell_type": "markdown",
   "metadata": {},
   "source": [
    "Step 2: display findings\n",
    "----"
   ]
  },
  {
   "cell_type": "code",
   "execution_count": 367,
   "metadata": {},
   "outputs": [
    {
     "data": {
      "text/plain": [
       "<Figure size 360x360 with 0 Axes>"
      ]
     },
     "execution_count": 367,
     "metadata": {},
     "output_type": "execute_result"
    },
    {
     "data": {
      "text/plain": [
       "([<matplotlib.axis.XTick at 0x1468901dbc8>,\n",
       "  <matplotlib.axis.XTick at 0x1468901d208>,\n",
       "  <matplotlib.axis.XTick at 0x14689018d88>,\n",
       "  <matplotlib.axis.XTick at 0x1468905a348>,\n",
       "  <matplotlib.axis.XTick at 0x1468905aa08>,\n",
       "  <matplotlib.axis.XTick at 0x1468905e188>,\n",
       "  <matplotlib.axis.XTick at 0x1468905e908>,\n",
       "  <matplotlib.axis.XTick at 0x14689063088>,\n",
       "  <matplotlib.axis.XTick at 0x1468905aac8>,\n",
       "  <matplotlib.axis.XTick at 0x14689063908>],\n",
       " <a list of 10 Text xticklabel objects>)"
      ]
     },
     "execution_count": 367,
     "metadata": {},
     "output_type": "execute_result"
    },
    {
     "data": {
      "text/plain": [
       "(-0.75, 9.75)"
      ]
     },
     "execution_count": 367,
     "metadata": {},
     "output_type": "execute_result"
    },
    {
     "data": {
      "text/plain": [
       "(0, 29.17438647369429)"
      ]
     },
     "execution_count": 367,
     "metadata": {},
     "output_type": "execute_result"
    },
    {
     "data": {
      "text/plain": [
       "Text(0.5, 1.0, 'Videos Trending in Multiple Countries by Country Trended In')"
      ]
     },
     "execution_count": 367,
     "metadata": {},
     "output_type": "execute_result"
    },
    {
     "data": {
      "text/plain": [
       "Text(0.5, 0, 'Country Video Trended In')"
      ]
     },
     "execution_count": 367,
     "metadata": {},
     "output_type": "execute_result"
    },
    {
     "data": {
      "text/plain": [
       "Text(0, 0.5, 'Videos Trending in at Least Two Countries (%)')"
      ]
     },
     "execution_count": 367,
     "metadata": {},
     "output_type": "execute_result"
    },
    {
     "data": {
      "text/plain": [
       "<function matplotlib.pyplot.show(*args, **kw)>"
      ]
     },
     "execution_count": 367,
     "metadata": {},
     "output_type": "execute_result"
    },
    {
     "data": {
      "image/png": "[encoded data removed]",
      "text/plain": [
       "<Figure size 360x360 with 1 Axes>"
      ]
     },
     "metadata": {
      "needs_background": "light"
     },
     "output_type": "display_data"
    }
   ],
   "source": [
    "#display the findings for where videos, that trended in multiple countries, trend\n",
    "\n",
    "#prep variables\n",
    "co_trending_counts = First_trend[\"country\"].value_counts()\n",
    "co_trending_counts_reset = co_trending_counts.reset_index() #to ensure labels match up with data\n",
    "\n",
    "#setup x-axis\n",
    "x_axis = np.arange(len(co_trending_counts))\n",
    "\n",
    "#plot\n",
    "plt.figure(figsize=(5,5))\n",
    "\n",
    "ax = plt.bar(x_axis, First_trend[\"country\"].value_counts()*100/First_trend[\"country\"].count(), \n",
    "        color='r', \n",
    "        alpha=0.5, \n",
    "        align=\"center\")\n",
    "\n",
    "#formatting\n",
    "tick_locations = [value for value in x_axis]\n",
    "\n",
    "plt.xticks(tick_locations, co_trending_counts_reset[\"index\"])\n",
    "\n",
    "plt.xlim(-0.75, len(x_axis)-0.25)\n",
    "\n",
    "plt.ylim(0, max(First_trend[\"country\"].value_counts()*100/First_trend[\"country\"].count())+3)\n",
    "\n",
    "plt.title(\"Videos Trending in Multiple Countries by Country Trended In\")\n",
    "plt.xlabel(\"Country Video Trended In\")\n",
    "plt.ylabel(\"Videos Trending in at Least Two Countries (%)\")\n",
    "\n",
    "plt.show"
   ]
  },
  {
   "cell_type": "markdown",
   "metadata": {},
   "source": [
    "Analysis: Amoung videos that trended in multiple countries, over a quarter trended in Canada..."
   ]
  },
  {
   "cell_type": "code",
   "execution_count": 349,
   "metadata": {},
   "outputs": [
    {
     "data": {
      "text/plain": [
       "([<matplotlib.patches.Wedge at 0x14688bf2408>,\n",
       "  <matplotlib.patches.Wedge at 0x14688bf2ec8>],\n",
       " [Text(1.0909909692766604, -0.14049450151793577, 'First Trended on the Same Day'),\n",
       "  Text(-1.0909909626996368, 0.14049455259090943, 'First Trended on Different Days (all or some)')],\n",
       " [Text(0.5950859832418147, -0.07663336446432858, '79.3%'),\n",
       "  Text(-0.5950859796543473, 0.07663339232231423, '20.7%')])"
      ]
     },
     "execution_count": 349,
     "metadata": {},
     "output_type": "execute_result"
    },
    {
     "data": {
      "text/plain": [
       "Text(0.5, 1.0, 'Whether videos that trended in multiple countries first did so on the same day or different days')"
      ]
     },
     "execution_count": 349,
     "metadata": {},
     "output_type": "execute_result"
    },
    {
     "data": {
      "text/plain": [
       "<function matplotlib.pyplot.show(*args, **kw)>"
      ]
     },
     "execution_count": 349,
     "metadata": {},
     "output_type": "execute_result"
    },
    {
     "data": {
      "image/png": "[encoded data removed]",
      "text/plain": [
       "<Figure size 432x288 with 1 Axes>"
      ]
     },
     "metadata": {},
     "output_type": "display_data"
    }
   ],
   "source": [
    "#display the findings for segmentation: number of countries trended in \n",
    "\n",
    "    #stratify dataset\n",
    "same_day = col_First_trend.loc[col_First_trend[\"no. of Unique First day trended\"]==1, :]\n",
    "multiple_days = col_First_trend.loc[col_First_trend[\"no. of Unique First day trended\"]!=1, :]\n",
    "\n",
    "    #visualize\n",
    "# Labels for the sections of our pie chart\n",
    "labels = [\"First Trended on the Same Day\", \"First Trended on Different Days (all or some)\"]\n",
    "\n",
    "# The values of each section of the pie chart\n",
    "\n",
    "sizes = [len(same_day)/len(col_First_trend), \n",
    "         len(multiple_days)/len(col_First_trend)]\n",
    "\n",
    "# The colors of each section of the pie chart\n",
    "colors = [\"red\", \"lightskyblue\"]\n",
    "\n",
    "\n",
    "#Display\n",
    "plt.pie(sizes, labels=labels, colors=colors,\n",
    "        autopct=\"%1.1f%%\", shadow=True, startangle=210)\n",
    "\n",
    "plt.title(\"Whether videos that trended in multiple countries first did so on the same day or different days\")\n",
    "\n",
    "plt.show"
   ]
  },
  {
   "cell_type": "code",
   "execution_count": 356,
   "metadata": {},
   "outputs": [
    {
     "ename": "TypeError",
     "evalue": "unhashable type: 'list'",
     "output_type": "error",
     "traceback": [
      "\u001b[1;31m---------------------------------------------------------------------------\u001b[0m",
      "\u001b[1;31mTypeError\u001b[0m                                 Traceback (most recent call last)",
      "\u001b[1;32mpandas\\_libs\\hashtable_class_helper.pxi\u001b[0m in \u001b[0;36mpandas._libs.hashtable.PyObjectHashTable.map_locations\u001b[1;34m()\u001b[0m\n",
      "\u001b[1;31mTypeError\u001b[0m: unhashable type: 'list'"
     ]
    },
    {
     "name": "stderr",
     "output_type": "stream",
     "text": [
      "Exception ignored in: 'pandas._libs.index.IndexEngine._call_map_locations'\n",
      "Traceback (most recent call last):\n",
      "  File \"pandas\\_libs\\hashtable_class_helper.pxi\", line 1652, in pandas._libs.hashtable.PyObjectHashTable.map_locations\n",
      "TypeError: unhashable type: 'list'\n"
     ]
    },
    {
     "data": {
      "text/plain": [
       "[CA, DE]                                1789\n",
       "[CA, FR]                                1298\n",
       "[DE, RU]                                1092\n",
       "[CA, US]                                 954\n",
       "[DE, FR]                                 907\n",
       "                                        ... \n",
       "[CA, FR, GB, KR, US]                       1\n",
       "[GB, JP, RU]                               1\n",
       "[CA, DE, FR, GB, IN, JP, MX, RU, US]       1\n",
       "[CA, DE, GB, MX, RU]                       1\n",
       "[CA, DE, IN, KR, US]                       1\n",
       "Name: country, Length: 358, dtype: int64"
      ]
     },
     "execution_count": 356,
     "metadata": {},
     "output_type": "execute_result"
    }
   ],
   "source": [
    "col_First_trend[\"country\"].value_counts()"
   ]
  },
  {
   "cell_type": "code",
   "execution_count": null,
   "metadata": {},
   "outputs": [],
   "source": [
    "#blah = Total_DF.reset_index()"
   ]
  },
  {
   "cell_type": "code",
   "execution_count": 363,
   "metadata": {},
   "outputs": [],
   "source": [
    "#blah.loc[blah[\"video_id\"]== \"-0CMnp02rNY\", :]"
   ]
  },
  {
   "cell_type": "code",
   "execution_count": null,
   "metadata": {},
   "outputs": [],
   "source": []
  }
 ],
 "metadata": {
  "kernelspec": {
   "display_name": "Python 3",
   "language": "python",
   "name": "python3"
  },
  "language_info": {
   "codemirror_mode": {
    "name": "ipython",
    "version": 3
   },
   "file_extension": ".py",
   "mimetype": "text/x-python",
   "name": "python",
   "nbconvert_exporter": "python",
   "pygments_lexer": "ipython3",
   "version": "3.7.6"
  }
 },
 "nbformat": 4,
 "nbformat_minor": 4
}
