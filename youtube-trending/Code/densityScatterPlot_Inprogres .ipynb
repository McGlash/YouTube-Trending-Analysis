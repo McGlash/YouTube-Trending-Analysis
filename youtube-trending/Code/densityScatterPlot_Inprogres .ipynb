{
 "cells": [
  {
   "cell_type": "code",
   "execution_count": 2,
   "metadata": {},
   "outputs": [],
   "source": [
    "import pandas as pd\n",
    "import matplotlib\n",
    "from datapackage import Package\n",
    "import matplotlib.pyplot as plt\n",
    "import numpy as np\n",
    "import scipy.stats as stats\n",
    "from iso3166 import countries\n",
    "\n",
    "package = Package('https://datahub.io/core/country-list/datapackage.json')\n",
    "\n",
    "# print list of all resources:\n",
    "#print(package.resource_names)\n",
    "\n",
    "# print processed tabular data (if exists any)\n",
    "for resource in package.resources:\n",
    "    if resource.descriptor['datahub']['type'] == 'derived/csv':\n",
    "        content = resource.read()\n",
    "ISO_Alpha2_Country_Mapping = {item[1]:item[0] for item in content}\n",
    "ISO_Alpha2_Country_Mapping['KR']='Korea' #From 'Korea, Republic of' to Korea"
   ]
  },
  {
   "cell_type": "code",
   "execution_count": 3,
   "metadata": {},
   "outputs": [],
   "source": [
    "!source activate python38"
   ]
  },
  {
   "cell_type": "code",
   "execution_count": 4,
   "metadata": {},
   "outputs": [
    {
     "data": {
      "image/png": "[encoded data removed]",
      "text/plain": [
       "<Figure size 432x288 with 1 Axes>"
      ]
     },
     "metadata": {
      "needs_background": "light"
     },
     "output_type": "display_data"
    }
   ],
   "source": [
    "volume = np.random.rayleigh(27, size=10)\n",
    "amount = np.random.poisson(10, size=10)\n",
    "ranking = np.random.normal(size=10)\n",
    "price = np.random.uniform(1, 10, size=10)\n",
    "\n",
    "fig, ax = plt.subplots()\n",
    "\n",
    "# Because the price is much too small when being provided as size for ``s``,\n",
    "# we normalize it to some useful point sizes, s=0.3*(price*3)**2\n",
    "scatter = ax.scatter(volume, amount, c=ranking, s=0.3*(price*3)**2,\n",
    "                     vmin=-3, vmax=3, cmap=\"Spectral\")\n",
    "\n",
    "# Produce a legend for the ranking (colors). Even though there are 40 different\n",
    "# rankings, we only want to show 5 of them in the legend.\n",
    "legend1 = ax.legend(*scatter.legend_elements(),\n",
    "                    loc=\"upper left\", title=\"Ranking\")\n",
    "ax.add_artist(legend1)\n",
    "\n",
    "# Produce a legend for the price (sizes). Because we want to show the prices\n",
    "# in dollars, we use the *func* argument to supply the inverse of the function\n",
    "# used to calculate the sizes from above. The *fmt* ensures to show the price\n",
    "# in dollars. Note how we target at 5 elements here, but obtain only 4 in the\n",
    "# created legend due to the automatic round prices that are chosen for us.\n",
    "kw = dict(prop=\"sizes\", num=5, color=scatter.cmap(0.7), fmt=\"$ {x:.2f}\",\n",
    "          func=lambda s: np.sqrt(s/.3)/3)\n",
    "legend2 = ax.legend(*scatter.legend_elements(**kw),\n",
    "                    loc=\"lower right\", title=\"Price\")\n",
    "\n",
    "plt.show()"
   ]
  },
  {
   "cell_type": "code",
   "execution_count": null,
   "metadata": {},
   "outputs": [],
   "source": [
    "dfCountryBoxplot = pd.DataFrame(columns=countryList)"
   ]
  },
  {
   "cell_type": "code",
   "execution_count": null,
   "metadata": {},
   "outputs": [],
   "source": [
    "df_uniqueVideoID= df.drop_duplicates(\"video_id\")"
   ]
  },
  {
   "cell_type": "code",
   "execution_count": null,
   "metadata": {},
   "outputs": [],
   "source": [
    "uniqueVideoList=[]\n",
    "for videoid in df_uniqueVideoID[\"video_id\"]:\n",
    "    uniqueVideoList.append(videoid)"
   ]
  },
  {
   "cell_type": "code",
   "execution_count": null,
   "metadata": {},
   "outputs": [],
   "source": [
    "dfCountryBoxplot[\"video_id\"]=uniqueVideoList\n",
    "dfCountryBoxplot.head()"
   ]
  },
  {
   "cell_type": "code",
   "execution_count": null,
   "metadata": {},
   "outputs": [],
   "source": [
    "#countryC= \"GB\"\n",
    "list1=[]\n",
    "for countryC in countryCodeList:\n",
    "    for videoid in uniqueVideoList:\n",
    "        try:\n",
    "            dftemp= df[(df[\"viewing_country\"]==countryC) & (df[\"video_id\"]==videoid)]\n",
    "            list1.append(dftemp[\"Total_Trend_Days\"])\n",
    "        except:\n",
    "            list1.append(0)\n",
    "    dfCountryBoxplot[ISO_Alpha2_Country_Mapping[countryC]]=list1\n",
    "    list1=[]"
   ]
  },
  {
   "cell_type": "code",
   "execution_count": null,
   "metadata": {},
   "outputs": [],
   "source": [
    "#OneHotEncoder from SciKit library only takes numerical categorical values, \n",
    "#hence any value of string type should be label encoded before one hot encoded.\n",
    "def encoding(DataFrame, list_of_label_encoding=None, list_of_onehot_encoding=None, drop_first_col=None):\n",
    "    #This function takes a DF, list of to be label encoding columns, list of one hot encoding columns, \n",
    "    #list of  columns with first value to be dropped (in case of binary)\n",
    "    #Reference:- #https://stats.stackexchange.com/questions/438875/one-hot-encoding-of-a-binary-feature-when-using-xgboost\n",
    "    #New:- New Data (Need to use the same encoding)\n",
    "    #Label_Encoder:- Only for new Data\n",
    "    \n",
    "    DF = DataFrame.copy()\n",
    "    Dict_Label_Enc = dict()\n",
    "    \n",
    "    if list_of_label_encoding:\n",
    "        Label_enc = LabelEncoder()\n",
    "        for col in list_of_label_encoding:\n",
    "            Label_enc.fit(DF[col])\n",
    "            DF.loc[:,col] = Label_enc.transform(DF[col])\n",
    "            Dict_Label_Enc[col] = deepcopy(Label_enc)\n",
    "       \n",
    "    if list_of_onehot_encoding:\n",
    "        no_drop = (list(set(list_of_onehot_encoding).difference(set(drop_first_col))) if drop_first_col else list_of_onehot_encoding)\n",
    "        DF= pd.get_dummies(DF, columns=no_drop )\n",
    "        if drop_first_col: \n",
    "            DF = pd.get_dummies(DF, columns=drop_first_col, drop_first=True)\n",
    "        \n",
    "    return DF, Dict_Label_Enc"
   ]
  },
  {
   "cell_type": "code",
   "execution_count": null,
   "metadata": {},
   "outputs": [],
   "source": []
  },
  {
   "cell_type": "code",
   "execution_count": null,
   "metadata": {},
   "outputs": [],
   "source": []
  }
 ],
 "metadata": {
  "kernelspec": {
   "display_name": "Python 3",
   "language": "python",
   "name": "python3"
  },
  "language_info": {
   "codemirror_mode": {
    "name": "ipython",
    "version": 3
   },
   "file_extension": ".py",
   "mimetype": "text/x-python",
   "name": "python",
   "nbconvert_exporter": "python",
   "pygments_lexer": "ipython3",
   "version": "3.8.2"
  }
 },
 "nbformat": 4,
 "nbformat_minor": 4
}
