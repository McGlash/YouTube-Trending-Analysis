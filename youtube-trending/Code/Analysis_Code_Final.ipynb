{
 "cells": [
  {
   "cell_type": "code",
   "execution_count": 1,
   "metadata": {},
   "outputs": [],
   "source": [
    "import pandas as pd\n",
    "import os\n",
    "import re\n",
    "from datetime import datetime as dt\n",
    "import scipy.stats as st\n",
    "import matplotlib.pyplot as plt\n",
    "import numpy as np\n",
    "import seaborn as sns\n",
    "import requests\n",
    "import time\n",
    "import random\n",
    "import pickle\n",
    "from functools import reduce\n",
    "\n",
    "from scipy.stats import linregress\n",
    "\n",
    "from IPython.core.interactiveshell import InteractiveShell\n",
    "InteractiveShell.ast_node_interactivity = 'all'"
   ]
  },
  {
   "cell_type": "markdown",
   "metadata": {},
   "source": [
    "Import and Merge Datasets\n",
    "---"
   ]
  },
  {
   "cell_type": "code",
   "execution_count": 2,
   "metadata": {},
   "outputs": [],
   "source": [
    "Total_DF=pd.read_pickle(\"../Data/VideoDF.pkl\")"
   ]
  },
  {
   "cell_type": "code",
   "execution_count": 3,
   "metadata": {},
   "outputs": [
    {
     "data": {
      "text/html": [
       "<div>\n",
       "<style scoped>\n",
       "    .dataframe tbody tr th:only-of-type {\n",
       "        vertical-align: middle;\n",
       "    }\n",
       "\n",
       "    .dataframe tbody tr th {\n",
       "        vertical-align: top;\n",
       "    }\n",
       "\n",
       "    .dataframe thead th {\n",
       "        text-align: right;\n",
       "    }\n",
       "</style>\n",
       "<table border=\"1\" class=\"dataframe\">\n",
       "  <thead>\n",
       "    <tr style=\"text-align: right;\">\n",
       "      <th></th>\n",
       "      <th>video_id</th>\n",
       "      <th>trending_date</th>\n",
       "      <th>title</th>\n",
       "      <th>channel_title</th>\n",
       "      <th>category_id</th>\n",
       "      <th>publish_time</th>\n",
       "      <th>tags</th>\n",
       "      <th>views</th>\n",
       "      <th>likes</th>\n",
       "      <th>dislikes</th>\n",
       "      <th>comment_count</th>\n",
       "      <th>thumbnail_link</th>\n",
       "      <th>comments_disabled</th>\n",
       "      <th>ratings_disabled</th>\n",
       "      <th>description</th>\n",
       "      <th>country</th>\n",
       "    </tr>\n",
       "  </thead>\n",
       "  <tbody>\n",
       "    <tr>\n",
       "      <th>0</th>\n",
       "      <td>SbOwzAl9ZfQ</td>\n",
       "      <td>2017-11-14</td>\n",
       "      <td>CapÃ­tulo 12 | MasterChef 2017</td>\n",
       "      <td>MasterChef 2017</td>\n",
       "      <td>24</td>\n",
       "      <td>2017-11-13 06:06:22</td>\n",
       "      <td>MasterChef Junior 2017|\"TV Azteca\"|\"recetas\"|\"...</td>\n",
       "      <td>310130</td>\n",
       "      <td>4182</td>\n",
       "      <td>361</td>\n",
       "      <td>1836</td>\n",
       "      <td>https://i.ytimg.com/vi/SbOwzAl9ZfQ/default.jpg</td>\n",
       "      <td>False</td>\n",
       "      <td>False</td>\n",
       "      <td>Disfruta la presencia del Chef Torreblanca en ...</td>\n",
       "      <td>MX</td>\n",
       "    </tr>\n",
       "    <tr>\n",
       "      <th>1</th>\n",
       "      <td>klOV6Xh-DnI</td>\n",
       "      <td>2017-11-14</td>\n",
       "      <td>ALEXA EX-INTEGRANTE DEL GRUPO TIMBIRICHE RENUN...</td>\n",
       "      <td>Micky Contreras Martinez</td>\n",
       "      <td>22</td>\n",
       "      <td>2017-11-13 05:11:58</td>\n",
       "      <td>La Voz Mexico 7</td>\n",
       "      <td>104972</td>\n",
       "      <td>271</td>\n",
       "      <td>174</td>\n",
       "      <td>369</td>\n",
       "      <td>https://i.ytimg.com/vi/klOV6Xh-DnI/default.jpg</td>\n",
       "      <td>False</td>\n",
       "      <td>False</td>\n",
       "      <td>ALEXA EX-INTEGRANTE DEL GRUPO TIMBIRICHE RENUN...</td>\n",
       "      <td>MX</td>\n",
       "    </tr>\n",
       "    <tr>\n",
       "      <th>2</th>\n",
       "      <td>6L2ZF7Qzsbk</td>\n",
       "      <td>2017-11-14</td>\n",
       "      <td>LOUIS CKAGÃ - EL PULSO DE LA REPÃBLICA</td>\n",
       "      <td>El Pulso De La RepÃºblica</td>\n",
       "      <td>25</td>\n",
       "      <td>2017-11-13 17:00:02</td>\n",
       "      <td>Chumel Torres|\"El Pulso de la Republica\"|\"noti...</td>\n",
       "      <td>136064</td>\n",
       "      <td>10105</td>\n",
       "      <td>266</td>\n",
       "      <td>607</td>\n",
       "      <td>https://i.ytimg.com/vi/6L2ZF7Qzsbk/default.jpg</td>\n",
       "      <td>False</td>\n",
       "      <td>False</td>\n",
       "      <td>La canciÃ³n del principio se llama âEste esp...</td>\n",
       "      <td>MX</td>\n",
       "    </tr>\n",
       "    <tr>\n",
       "      <th>3</th>\n",
       "      <td>hcY52MFWMDM</td>\n",
       "      <td>2017-11-14</td>\n",
       "      <td>Sismo de 6.7 sacude Costa Rica 12 Noviembre 2017</td>\n",
       "      <td>Casanare</td>\n",
       "      <td>25</td>\n",
       "      <td>2017-11-13 03:47:10</td>\n",
       "      <td>temblor|\"costa rica\"|\"sismo en costa rica\"</td>\n",
       "      <td>96153</td>\n",
       "      <td>378</td>\n",
       "      <td>171</td>\n",
       "      <td>208</td>\n",
       "      <td>https://i.ytimg.com/vi/hcY52MFWMDM/default.jpg</td>\n",
       "      <td>False</td>\n",
       "      <td>False</td>\n",
       "      <td>El video es de un Walmart en el pais centroame...</td>\n",
       "      <td>MX</td>\n",
       "    </tr>\n",
       "    <tr>\n",
       "      <th>4</th>\n",
       "      <td>_OXDcGPVAa4</td>\n",
       "      <td>2017-11-14</td>\n",
       "      <td>DOG HACKS | MUSAS LESSLIE LOS POLINESIOS</td>\n",
       "      <td>Musas</td>\n",
       "      <td>26</td>\n",
       "      <td>2017-11-13 19:17:48</td>\n",
       "      <td>MUSAS|\"lesslie\"|\"karen\"|\"hacks\"|\"perros\"|\"dogs...</td>\n",
       "      <td>499965</td>\n",
       "      <td>57781</td>\n",
       "      <td>681</td>\n",
       "      <td>7428</td>\n",
       "      <td>https://i.ytimg.com/vi/_OXDcGPVAa4/default.jpg</td>\n",
       "      <td>False</td>\n",
       "      <td>False</td>\n",
       "      <td>MI HERMANO NARRA MI RUTINA DE MAQUILLAJE\\nhttp...</td>\n",
       "      <td>MX</td>\n",
       "    </tr>\n",
       "    <tr>\n",
       "      <th>...</th>\n",
       "      <td>...</td>\n",
       "      <td>...</td>\n",
       "      <td>...</td>\n",
       "      <td>...</td>\n",
       "      <td>...</td>\n",
       "      <td>...</td>\n",
       "      <td>...</td>\n",
       "      <td>...</td>\n",
       "      <td>...</td>\n",
       "      <td>...</td>\n",
       "      <td>...</td>\n",
       "      <td>...</td>\n",
       "      <td>...</td>\n",
       "      <td>...</td>\n",
       "      <td>...</td>\n",
       "      <td>...</td>\n",
       "    </tr>\n",
       "    <tr>\n",
       "      <th>360212</th>\n",
       "      <td>l884wKofd54</td>\n",
       "      <td>2018-06-14</td>\n",
       "      <td>Enrique Iglesias - MOVE TO MIAMI (Official Vid...</td>\n",
       "      <td>EnriqueIglesiasVEVO</td>\n",
       "      <td>10</td>\n",
       "      <td>2018-05-09 07:00:01</td>\n",
       "      <td>Enrique Iglesias feat. Pitbull|\"MOVE TO MIAMI\"...</td>\n",
       "      <td>25066952</td>\n",
       "      <td>268088</td>\n",
       "      <td>12783</td>\n",
       "      <td>9933</td>\n",
       "      <td>https://i.ytimg.com/vi/l884wKofd54/default.jpg</td>\n",
       "      <td>False</td>\n",
       "      <td>False</td>\n",
       "      <td>NEW SONG - MOVE TO MIAMI feat. Pitbull (Click ...</td>\n",
       "      <td>GB</td>\n",
       "    </tr>\n",
       "    <tr>\n",
       "      <th>360213</th>\n",
       "      <td>IP8k2xkhOdI</td>\n",
       "      <td>2018-06-14</td>\n",
       "      <td>Jacob Sartorius - Up With It (Official Music V...</td>\n",
       "      <td>Jacob Sartorius</td>\n",
       "      <td>10</td>\n",
       "      <td>2018-05-11 17:09:16</td>\n",
       "      <td>jacob sartorius|\"jacob\"|\"up with it\"|\"jacob sa...</td>\n",
       "      <td>1492219</td>\n",
       "      <td>61998</td>\n",
       "      <td>13781</td>\n",
       "      <td>24330</td>\n",
       "      <td>https://i.ytimg.com/vi/IP8k2xkhOdI/default.jpg</td>\n",
       "      <td>False</td>\n",
       "      <td>False</td>\n",
       "      <td>THE OFFICIAL UP WITH IT MUSIC VIDEO!Get my new...</td>\n",
       "      <td>GB</td>\n",
       "    </tr>\n",
       "    <tr>\n",
       "      <th>360214</th>\n",
       "      <td>Il-an3K9pjg</td>\n",
       "      <td>2018-06-14</td>\n",
       "      <td>Anne-Marie - 2002 [Official Video]</td>\n",
       "      <td>Anne-Marie</td>\n",
       "      <td>10</td>\n",
       "      <td>2018-05-08 11:05:08</td>\n",
       "      <td>anne|\"marie\"|\"anne-marie\"|\"2002\"|\"two thousand...</td>\n",
       "      <td>29641412</td>\n",
       "      <td>394830</td>\n",
       "      <td>8892</td>\n",
       "      <td>19988</td>\n",
       "      <td>https://i.ytimg.com/vi/Il-an3K9pjg/default.jpg</td>\n",
       "      <td>False</td>\n",
       "      <td>False</td>\n",
       "      <td>Get 2002 by Anne-Marie HERE ▶ http://ad.gt/200...</td>\n",
       "      <td>GB</td>\n",
       "    </tr>\n",
       "    <tr>\n",
       "      <th>360215</th>\n",
       "      <td>-DRsfNObKIQ</td>\n",
       "      <td>2018-06-14</td>\n",
       "      <td>Eleni Foureira - Fuego - Cyprus - LIVE - First...</td>\n",
       "      <td>Eurovision Song Contest</td>\n",
       "      <td>24</td>\n",
       "      <td>2018-05-08 20:32:32</td>\n",
       "      <td>Eurovision Song Contest|\"2018\"|\"Lisbon\"|\"Cypru...</td>\n",
       "      <td>14317515</td>\n",
       "      <td>151870</td>\n",
       "      <td>45875</td>\n",
       "      <td>26766</td>\n",
       "      <td>https://i.ytimg.com/vi/-DRsfNObKIQ/default.jpg</td>\n",
       "      <td>False</td>\n",
       "      <td>False</td>\n",
       "      <td>Eleni Foureira represented Cyprus at the first...</td>\n",
       "      <td>GB</td>\n",
       "    </tr>\n",
       "    <tr>\n",
       "      <th>360216</th>\n",
       "      <td>4YFo4bdMO8Q</td>\n",
       "      <td>2018-06-14</td>\n",
       "      <td>KYLE - Ikuyo feat.  2 Chainz &amp; Sophia Black [A...</td>\n",
       "      <td>SuperDuperKyle</td>\n",
       "      <td>10</td>\n",
       "      <td>2018-05-11 04:06:35</td>\n",
       "      <td>Kyle|\"SuperDuperKyle\"|\"Ikuyo\"|\"2 Chainz\"|\"Soph...</td>\n",
       "      <td>607552</td>\n",
       "      <td>18271</td>\n",
       "      <td>274</td>\n",
       "      <td>1423</td>\n",
       "      <td>https://i.ytimg.com/vi/4YFo4bdMO8Q/default.jpg</td>\n",
       "      <td>False</td>\n",
       "      <td>False</td>\n",
       "      <td>Debut album 'Light of Mine' out now: http://ky...</td>\n",
       "      <td>GB</td>\n",
       "    </tr>\n",
       "  </tbody>\n",
       "</table>\n",
       "<p>360217 rows × 16 columns</p>\n",
       "</div>"
      ],
      "text/plain": [
       "           video_id trending_date  \\\n",
       "0       SbOwzAl9ZfQ    2017-11-14   \n",
       "1       klOV6Xh-DnI    2017-11-14   \n",
       "2       6L2ZF7Qzsbk    2017-11-14   \n",
       "3       hcY52MFWMDM    2017-11-14   \n",
       "4       _OXDcGPVAa4    2017-11-14   \n",
       "...             ...           ...   \n",
       "360212  l884wKofd54    2018-06-14   \n",
       "360213  IP8k2xkhOdI    2018-06-14   \n",
       "360214  Il-an3K9pjg    2018-06-14   \n",
       "360215  -DRsfNObKIQ    2018-06-14   \n",
       "360216  4YFo4bdMO8Q    2018-06-14   \n",
       "\n",
       "                                                    title  \\\n",
       "0                          CapÃ­tulo 12 | MasterChef 2017   \n",
       "1       ALEXA EX-INTEGRANTE DEL GRUPO TIMBIRICHE RENUN...   \n",
       "2                LOUIS CKAGÃ - EL PULSO DE LA REPÃBLICA   \n",
       "3        Sismo de 6.7 sacude Costa Rica 12 Noviembre 2017   \n",
       "4                DOG HACKS | MUSAS LESSLIE LOS POLINESIOS   \n",
       "...                                                   ...   \n",
       "360212  Enrique Iglesias - MOVE TO MIAMI (Official Vid...   \n",
       "360213  Jacob Sartorius - Up With It (Official Music V...   \n",
       "360214                 Anne-Marie - 2002 [Official Video]   \n",
       "360215  Eleni Foureira - Fuego - Cyprus - LIVE - First...   \n",
       "360216  KYLE - Ikuyo feat.  2 Chainz & Sophia Black [A...   \n",
       "\n",
       "                    channel_title  category_id        publish_time  \\\n",
       "0                 MasterChef 2017           24 2017-11-13 06:06:22   \n",
       "1        Micky Contreras Martinez           22 2017-11-13 05:11:58   \n",
       "2       El Pulso De La RepÃºblica           25 2017-11-13 17:00:02   \n",
       "3                        Casanare           25 2017-11-13 03:47:10   \n",
       "4                           Musas           26 2017-11-13 19:17:48   \n",
       "...                           ...          ...                 ...   \n",
       "360212        EnriqueIglesiasVEVO           10 2018-05-09 07:00:01   \n",
       "360213            Jacob Sartorius           10 2018-05-11 17:09:16   \n",
       "360214                 Anne-Marie           10 2018-05-08 11:05:08   \n",
       "360215    Eurovision Song Contest           24 2018-05-08 20:32:32   \n",
       "360216             SuperDuperKyle           10 2018-05-11 04:06:35   \n",
       "\n",
       "                                                     tags     views   likes  \\\n",
       "0       MasterChef Junior 2017|\"TV Azteca\"|\"recetas\"|\"...    310130    4182   \n",
       "1                                         La Voz Mexico 7    104972     271   \n",
       "2       Chumel Torres|\"El Pulso de la Republica\"|\"noti...    136064   10105   \n",
       "3              temblor|\"costa rica\"|\"sismo en costa rica\"     96153     378   \n",
       "4       MUSAS|\"lesslie\"|\"karen\"|\"hacks\"|\"perros\"|\"dogs...    499965   57781   \n",
       "...                                                   ...       ...     ...   \n",
       "360212  Enrique Iglesias feat. Pitbull|\"MOVE TO MIAMI\"...  25066952  268088   \n",
       "360213  jacob sartorius|\"jacob\"|\"up with it\"|\"jacob sa...   1492219   61998   \n",
       "360214  anne|\"marie\"|\"anne-marie\"|\"2002\"|\"two thousand...  29641412  394830   \n",
       "360215  Eurovision Song Contest|\"2018\"|\"Lisbon\"|\"Cypru...  14317515  151870   \n",
       "360216  Kyle|\"SuperDuperKyle\"|\"Ikuyo\"|\"2 Chainz\"|\"Soph...    607552   18271   \n",
       "\n",
       "        dislikes  comment_count  \\\n",
       "0            361           1836   \n",
       "1            174            369   \n",
       "2            266            607   \n",
       "3            171            208   \n",
       "4            681           7428   \n",
       "...          ...            ...   \n",
       "360212     12783           9933   \n",
       "360213     13781          24330   \n",
       "360214      8892          19988   \n",
       "360215     45875          26766   \n",
       "360216       274           1423   \n",
       "\n",
       "                                        thumbnail_link  comments_disabled  \\\n",
       "0       https://i.ytimg.com/vi/SbOwzAl9ZfQ/default.jpg              False   \n",
       "1       https://i.ytimg.com/vi/klOV6Xh-DnI/default.jpg              False   \n",
       "2       https://i.ytimg.com/vi/6L2ZF7Qzsbk/default.jpg              False   \n",
       "3       https://i.ytimg.com/vi/hcY52MFWMDM/default.jpg              False   \n",
       "4       https://i.ytimg.com/vi/_OXDcGPVAa4/default.jpg              False   \n",
       "...                                                ...                ...   \n",
       "360212  https://i.ytimg.com/vi/l884wKofd54/default.jpg              False   \n",
       "360213  https://i.ytimg.com/vi/IP8k2xkhOdI/default.jpg              False   \n",
       "360214  https://i.ytimg.com/vi/Il-an3K9pjg/default.jpg              False   \n",
       "360215  https://i.ytimg.com/vi/-DRsfNObKIQ/default.jpg              False   \n",
       "360216  https://i.ytimg.com/vi/4YFo4bdMO8Q/default.jpg              False   \n",
       "\n",
       "        ratings_disabled                                        description  \\\n",
       "0                  False  Disfruta la presencia del Chef Torreblanca en ...   \n",
       "1                  False  ALEXA EX-INTEGRANTE DEL GRUPO TIMBIRICHE RENUN...   \n",
       "2                  False  La canciÃ³n del principio se llama âEste esp...   \n",
       "3                  False  El video es de un Walmart en el pais centroame...   \n",
       "4                  False  MI HERMANO NARRA MI RUTINA DE MAQUILLAJE\\nhttp...   \n",
       "...                  ...                                                ...   \n",
       "360212             False  NEW SONG - MOVE TO MIAMI feat. Pitbull (Click ...   \n",
       "360213             False  THE OFFICIAL UP WITH IT MUSIC VIDEO!Get my new...   \n",
       "360214             False  Get 2002 by Anne-Marie HERE ▶ http://ad.gt/200...   \n",
       "360215             False  Eleni Foureira represented Cyprus at the first...   \n",
       "360216             False  Debut album 'Light of Mine' out now: http://ky...   \n",
       "\n",
       "       country  \n",
       "0           MX  \n",
       "1           MX  \n",
       "2           MX  \n",
       "3           MX  \n",
       "4           MX  \n",
       "...        ...  \n",
       "360212      GB  \n",
       "360213      GB  \n",
       "360214      GB  \n",
       "360215      GB  \n",
       "360216      GB  \n",
       "\n",
       "[360217 rows x 16 columns]"
      ]
     },
     "execution_count": 3,
     "metadata": {},
     "output_type": "execute_result"
    }
   ],
   "source": [
    "Total_DF"
   ]
  },
  {
   "cell_type": "code",
   "execution_count": 7,
   "metadata": {},
   "outputs": [],
   "source": [
    "#read addtional video info dataset\n",
    "API_DF=pd.read_pickle(\"../Data/API_RETRIEVED_DATA.pkl\")"
   ]
  },
  {
   "cell_type": "code",
   "execution_count": 8,
   "metadata": {},
   "outputs": [],
   "source": [
    "#merge\n",
    "#API_DF.reset_index(inplace=True)\n",
    "#API_DF.rename(columns = {\"index\" :\"video_id\"}, inplace=True)\n",
    "Total_API_DF = pd.merge(Total_DF, API_DF, on=\"video_id\", how=\"left\")"
   ]
  },
  {
   "cell_type": "code",
   "execution_count": 9,
   "metadata": {},
   "outputs": [
    {
     "data": {
      "text/html": [
       "<div>\n",
       "<style scoped>\n",
       "    .dataframe tbody tr th:only-of-type {\n",
       "        vertical-align: middle;\n",
       "    }\n",
       "\n",
       "    .dataframe tbody tr th {\n",
       "        vertical-align: top;\n",
       "    }\n",
       "\n",
       "    .dataframe thead th {\n",
       "        text-align: right;\n",
       "    }\n",
       "</style>\n",
       "<table border=\"1\" class=\"dataframe\">\n",
       "  <thead>\n",
       "    <tr style=\"text-align: right;\">\n",
       "      <th></th>\n",
       "      <th>video_id</th>\n",
       "      <th>trending_date</th>\n",
       "      <th>title</th>\n",
       "      <th>channel_title</th>\n",
       "      <th>category_id</th>\n",
       "      <th>publish_time</th>\n",
       "      <th>tags</th>\n",
       "      <th>views</th>\n",
       "      <th>likes</th>\n",
       "      <th>dislikes</th>\n",
       "      <th>...</th>\n",
       "      <th>description</th>\n",
       "      <th>country</th>\n",
       "      <th>ChannelID</th>\n",
       "      <th>ChannelTitle</th>\n",
       "      <th>DefaultLanguage</th>\n",
       "      <th>DefaultAudioLanguage</th>\n",
       "      <th>Duration</th>\n",
       "      <th>Caption</th>\n",
       "      <th>RegionRestriction_Blocked</th>\n",
       "      <th>RegionRestriction_Allowed</th>\n",
       "    </tr>\n",
       "  </thead>\n",
       "  <tbody>\n",
       "    <tr>\n",
       "      <th>0</th>\n",
       "      <td>SbOwzAl9ZfQ</td>\n",
       "      <td>2017-11-14</td>\n",
       "      <td>CapÃ­tulo 12 | MasterChef 2017</td>\n",
       "      <td>MasterChef 2017</td>\n",
       "      <td>24</td>\n",
       "      <td>2017-11-13 06:06:22</td>\n",
       "      <td>MasterChef Junior 2017|\"TV Azteca\"|\"recetas\"|\"...</td>\n",
       "      <td>310130</td>\n",
       "      <td>4182</td>\n",
       "      <td>361</td>\n",
       "      <td>...</td>\n",
       "      <td>Disfruta la presencia del Chef Torreblanca en ...</td>\n",
       "      <td>MX</td>\n",
       "      <td>UCDYetMc6gOLkhIiNzFyrJPA</td>\n",
       "      <td>MasterChef México</td>\n",
       "      <td>None</td>\n",
       "      <td>None</td>\n",
       "      <td>PT1H48M8S</td>\n",
       "      <td>false</td>\n",
       "      <td>None</td>\n",
       "      <td>[MX]</td>\n",
       "    </tr>\n",
       "    <tr>\n",
       "      <th>1</th>\n",
       "      <td>klOV6Xh-DnI</td>\n",
       "      <td>2017-11-14</td>\n",
       "      <td>ALEXA EX-INTEGRANTE DEL GRUPO TIMBIRICHE RENUN...</td>\n",
       "      <td>Micky Contreras Martinez</td>\n",
       "      <td>22</td>\n",
       "      <td>2017-11-13 05:11:58</td>\n",
       "      <td>La Voz Mexico 7</td>\n",
       "      <td>104972</td>\n",
       "      <td>271</td>\n",
       "      <td>174</td>\n",
       "      <td>...</td>\n",
       "      <td>ALEXA EX-INTEGRANTE DEL GRUPO TIMBIRICHE RENUN...</td>\n",
       "      <td>MX</td>\n",
       "      <td>UCZYbxoZhCltabKhvgwLHnig</td>\n",
       "      <td>Micky Contreras Martinez</td>\n",
       "      <td>None</td>\n",
       "      <td>None</td>\n",
       "      <td>PT9M13S</td>\n",
       "      <td>false</td>\n",
       "      <td>[SD, UA, TL, NZ, US, NP, FI, FJ, FK, UY, FM, F...</td>\n",
       "      <td>None</td>\n",
       "    </tr>\n",
       "    <tr>\n",
       "      <th>2</th>\n",
       "      <td>6L2ZF7Qzsbk</td>\n",
       "      <td>2017-11-14</td>\n",
       "      <td>LOUIS CKAGÃ - EL PULSO DE LA REPÃBLICA</td>\n",
       "      <td>El Pulso De La RepÃºblica</td>\n",
       "      <td>25</td>\n",
       "      <td>2017-11-13 17:00:02</td>\n",
       "      <td>Chumel Torres|\"El Pulso de la Republica\"|\"noti...</td>\n",
       "      <td>136064</td>\n",
       "      <td>10105</td>\n",
       "      <td>266</td>\n",
       "      <td>...</td>\n",
       "      <td>La canciÃ³n del principio se llama âEste esp...</td>\n",
       "      <td>MX</td>\n",
       "      <td>UCK0_zBeybLuyXbOcHp7wmJA</td>\n",
       "      <td>El Pulso De La República</td>\n",
       "      <td>es-419</td>\n",
       "      <td>es</td>\n",
       "      <td>PT22M34S</td>\n",
       "      <td>false</td>\n",
       "      <td>None</td>\n",
       "      <td>None</td>\n",
       "    </tr>\n",
       "    <tr>\n",
       "      <th>3</th>\n",
       "      <td>hcY52MFWMDM</td>\n",
       "      <td>2017-11-14</td>\n",
       "      <td>Sismo de 6.7 sacude Costa Rica 12 Noviembre 2017</td>\n",
       "      <td>Casanare</td>\n",
       "      <td>25</td>\n",
       "      <td>2017-11-13 03:47:10</td>\n",
       "      <td>temblor|\"costa rica\"|\"sismo en costa rica\"</td>\n",
       "      <td>96153</td>\n",
       "      <td>378</td>\n",
       "      <td>171</td>\n",
       "      <td>...</td>\n",
       "      <td>El video es de un Walmart en el pais centroame...</td>\n",
       "      <td>MX</td>\n",
       "      <td>UCOql8zqYEAgMAzCYMj3EWqw</td>\n",
       "      <td>Casanare</td>\n",
       "      <td>None</td>\n",
       "      <td>None</td>\n",
       "      <td>PT29S</td>\n",
       "      <td>false</td>\n",
       "      <td>None</td>\n",
       "      <td>None</td>\n",
       "    </tr>\n",
       "    <tr>\n",
       "      <th>4</th>\n",
       "      <td>_OXDcGPVAa4</td>\n",
       "      <td>2017-11-14</td>\n",
       "      <td>DOG HACKS | MUSAS LESSLIE LOS POLINESIOS</td>\n",
       "      <td>Musas</td>\n",
       "      <td>26</td>\n",
       "      <td>2017-11-13 19:17:48</td>\n",
       "      <td>MUSAS|\"lesslie\"|\"karen\"|\"hacks\"|\"perros\"|\"dogs...</td>\n",
       "      <td>499965</td>\n",
       "      <td>57781</td>\n",
       "      <td>681</td>\n",
       "      <td>...</td>\n",
       "      <td>MI HERMANO NARRA MI RUTINA DE MAQUILLAJE\\nhttp...</td>\n",
       "      <td>MX</td>\n",
       "      <td>UClnKzwo9CPkYix6V9jK4JTQ</td>\n",
       "      <td>Musas</td>\n",
       "      <td>es-419</td>\n",
       "      <td>es-419</td>\n",
       "      <td>PT8M56S</td>\n",
       "      <td>true</td>\n",
       "      <td>None</td>\n",
       "      <td>None</td>\n",
       "    </tr>\n",
       "  </tbody>\n",
       "</table>\n",
       "<p>5 rows × 24 columns</p>\n",
       "</div>"
      ],
      "text/plain": [
       "      video_id trending_date  \\\n",
       "0  SbOwzAl9ZfQ    2017-11-14   \n",
       "1  klOV6Xh-DnI    2017-11-14   \n",
       "2  6L2ZF7Qzsbk    2017-11-14   \n",
       "3  hcY52MFWMDM    2017-11-14   \n",
       "4  _OXDcGPVAa4    2017-11-14   \n",
       "\n",
       "                                               title  \\\n",
       "0                     CapÃ­tulo 12 | MasterChef 2017   \n",
       "1  ALEXA EX-INTEGRANTE DEL GRUPO TIMBIRICHE RENUN...   \n",
       "2           LOUIS CKAGÃ - EL PULSO DE LA REPÃBLICA   \n",
       "3   Sismo de 6.7 sacude Costa Rica 12 Noviembre 2017   \n",
       "4           DOG HACKS | MUSAS LESSLIE LOS POLINESIOS   \n",
       "\n",
       "               channel_title  category_id        publish_time  \\\n",
       "0            MasterChef 2017           24 2017-11-13 06:06:22   \n",
       "1   Micky Contreras Martinez           22 2017-11-13 05:11:58   \n",
       "2  El Pulso De La RepÃºblica           25 2017-11-13 17:00:02   \n",
       "3                   Casanare           25 2017-11-13 03:47:10   \n",
       "4                      Musas           26 2017-11-13 19:17:48   \n",
       "\n",
       "                                                tags   views  likes  dislikes  \\\n",
       "0  MasterChef Junior 2017|\"TV Azteca\"|\"recetas\"|\"...  310130   4182       361   \n",
       "1                                    La Voz Mexico 7  104972    271       174   \n",
       "2  Chumel Torres|\"El Pulso de la Republica\"|\"noti...  136064  10105       266   \n",
       "3         temblor|\"costa rica\"|\"sismo en costa rica\"   96153    378       171   \n",
       "4  MUSAS|\"lesslie\"|\"karen\"|\"hacks\"|\"perros\"|\"dogs...  499965  57781       681   \n",
       "\n",
       "   ...                                        description country  \\\n",
       "0  ...  Disfruta la presencia del Chef Torreblanca en ...      MX   \n",
       "1  ...  ALEXA EX-INTEGRANTE DEL GRUPO TIMBIRICHE RENUN...      MX   \n",
       "2  ...  La canciÃ³n del principio se llama âEste esp...      MX   \n",
       "3  ...  El video es de un Walmart en el pais centroame...      MX   \n",
       "4  ...  MI HERMANO NARRA MI RUTINA DE MAQUILLAJE\\nhttp...      MX   \n",
       "\n",
       "                  ChannelID              ChannelTitle DefaultLanguage  \\\n",
       "0  UCDYetMc6gOLkhIiNzFyrJPA         MasterChef México            None   \n",
       "1  UCZYbxoZhCltabKhvgwLHnig  Micky Contreras Martinez            None   \n",
       "2  UCK0_zBeybLuyXbOcHp7wmJA  El Pulso De La República          es-419   \n",
       "3  UCOql8zqYEAgMAzCYMj3EWqw                  Casanare            None   \n",
       "4  UClnKzwo9CPkYix6V9jK4JTQ                     Musas          es-419   \n",
       "\n",
       "  DefaultAudioLanguage   Duration Caption  \\\n",
       "0                 None  PT1H48M8S   false   \n",
       "1                 None    PT9M13S   false   \n",
       "2                   es   PT22M34S   false   \n",
       "3                 None      PT29S   false   \n",
       "4               es-419    PT8M56S    true   \n",
       "\n",
       "                           RegionRestriction_Blocked RegionRestriction_Allowed  \n",
       "0                                               None                      [MX]  \n",
       "1  [SD, UA, TL, NZ, US, NP, FI, FJ, FK, UY, FM, F...                      None  \n",
       "2                                               None                      None  \n",
       "3                                               None                      None  \n",
       "4                                               None                      None  \n",
       "\n",
       "[5 rows x 24 columns]"
      ]
     },
     "execution_count": 9,
     "metadata": {},
     "output_type": "execute_result"
    }
   ],
   "source": [
    "Total_API_DF.head()"
   ]
  },
  {
   "cell_type": "code",
   "execution_count": 10,
   "metadata": {},
   "outputs": [],
   "source": [
    "#read channel dataset\n",
    "channel_df = pd.read_pickle(\"../Data/Channel_API_RETRIEVED_DATA.pkl\")"
   ]
  },
  {
   "cell_type": "code",
   "execution_count": 11,
   "metadata": {},
   "outputs": [],
   "source": [
    "#merge\n",
    "channel_df.rename(columns={\"country\" : \"Country Origin\"}, inplace=True)\n",
    "#Total_API_DF.reset_index(inplace=True)\n",
    "ultimate_df= pd.merge(Total_API_DF, channel_df, on=\"ChannelID\", how=\"left\")"
   ]
  },
  {
   "cell_type": "code",
   "execution_count": 12,
   "metadata": {},
   "outputs": [
    {
     "data": {
      "text/html": [
       "<div>\n",
       "<style scoped>\n",
       "    .dataframe tbody tr th:only-of-type {\n",
       "        vertical-align: middle;\n",
       "    }\n",
       "\n",
       "    .dataframe tbody tr th {\n",
       "        vertical-align: top;\n",
       "    }\n",
       "\n",
       "    .dataframe thead th {\n",
       "        text-align: right;\n",
       "    }\n",
       "</style>\n",
       "<table border=\"1\" class=\"dataframe\">\n",
       "  <thead>\n",
       "    <tr style=\"text-align: right;\">\n",
       "      <th></th>\n",
       "      <th>video_id</th>\n",
       "      <th>trending_date</th>\n",
       "      <th>title</th>\n",
       "      <th>channel_title</th>\n",
       "      <th>category_id</th>\n",
       "      <th>publish_time</th>\n",
       "      <th>tags</th>\n",
       "      <th>views</th>\n",
       "      <th>likes</th>\n",
       "      <th>dislikes</th>\n",
       "      <th>...</th>\n",
       "      <th>RegionRestriction_Allowed</th>\n",
       "      <th>Channel_Title</th>\n",
       "      <th>Channel_Description</th>\n",
       "      <th>Channel_PublishedAt</th>\n",
       "      <th>Country Origin</th>\n",
       "      <th>defaultLanguage</th>\n",
       "      <th>keywords</th>\n",
       "      <th>GoogleAnalytics</th>\n",
       "      <th>moderateComments</th>\n",
       "      <th>topicCategories</th>\n",
       "    </tr>\n",
       "  </thead>\n",
       "  <tbody>\n",
       "    <tr>\n",
       "      <th>0</th>\n",
       "      <td>SbOwzAl9ZfQ</td>\n",
       "      <td>2017-11-14</td>\n",
       "      <td>CapÃ­tulo 12 | MasterChef 2017</td>\n",
       "      <td>MasterChef 2017</td>\n",
       "      <td>24</td>\n",
       "      <td>2017-11-13 06:06:22</td>\n",
       "      <td>MasterChef Junior 2017|\"TV Azteca\"|\"recetas\"|\"...</td>\n",
       "      <td>310130</td>\n",
       "      <td>4182</td>\n",
       "      <td>361</td>\n",
       "      <td>...</td>\n",
       "      <td>[MX]</td>\n",
       "      <td>MasterChef México</td>\n",
       "      <td>Disfruta de la Nueva Temporada de MasterChef M...</td>\n",
       "      <td>2015-04-20T16:16:25Z</td>\n",
       "      <td>MX</td>\n",
       "      <td>None</td>\n",
       "      <td>\"masterchef mexico\" mcjr masterchefmx \"chef be...</td>\n",
       "      <td>False</td>\n",
       "      <td>False</td>\n",
       "      <td>Television_program | Lifestyle_(sociology) | E...</td>\n",
       "    </tr>\n",
       "    <tr>\n",
       "      <th>1</th>\n",
       "      <td>klOV6Xh-DnI</td>\n",
       "      <td>2017-11-14</td>\n",
       "      <td>ALEXA EX-INTEGRANTE DEL GRUPO TIMBIRICHE RENUN...</td>\n",
       "      <td>Micky Contreras Martinez</td>\n",
       "      <td>22</td>\n",
       "      <td>2017-11-13 05:11:58</td>\n",
       "      <td>La Voz Mexico 7</td>\n",
       "      <td>104972</td>\n",
       "      <td>271</td>\n",
       "      <td>174</td>\n",
       "      <td>...</td>\n",
       "      <td>None</td>\n",
       "      <td>Micky Contreras Martinez</td>\n",
       "      <td></td>\n",
       "      <td>2017-06-02T03:23:55Z</td>\n",
       "      <td>None</td>\n",
       "      <td>None</td>\n",
       "      <td>None</td>\n",
       "      <td>False</td>\n",
       "      <td>False</td>\n",
       "      <td>Entertainment | Society | Television_program |...</td>\n",
       "    </tr>\n",
       "    <tr>\n",
       "      <th>2</th>\n",
       "      <td>6L2ZF7Qzsbk</td>\n",
       "      <td>2017-11-14</td>\n",
       "      <td>LOUIS CKAGÃ - EL PULSO DE LA REPÃBLICA</td>\n",
       "      <td>El Pulso De La RepÃºblica</td>\n",
       "      <td>25</td>\n",
       "      <td>2017-11-13 17:00:02</td>\n",
       "      <td>Chumel Torres|\"El Pulso de la Republica\"|\"noti...</td>\n",
       "      <td>136064</td>\n",
       "      <td>10105</td>\n",
       "      <td>266</td>\n",
       "      <td>...</td>\n",
       "      <td>None</td>\n",
       "      <td>El Pulso De La República</td>\n",
       "      <td>BAJA LA APP DE EL PULSO EN TODAS LAS PLATAFORM...</td>\n",
       "      <td>2012-12-12T06:23:47Z</td>\n",
       "      <td>MX</td>\n",
       "      <td>None</td>\n",
       "      <td>noticias mexico chumel torres AMLO morena pri ...</td>\n",
       "      <td>False</td>\n",
       "      <td>False</td>\n",
       "      <td>Entertainment | Society | Politics</td>\n",
       "    </tr>\n",
       "    <tr>\n",
       "      <th>3</th>\n",
       "      <td>hcY52MFWMDM</td>\n",
       "      <td>2017-11-14</td>\n",
       "      <td>Sismo de 6.7 sacude Costa Rica 12 Noviembre 2017</td>\n",
       "      <td>Casanare</td>\n",
       "      <td>25</td>\n",
       "      <td>2017-11-13 03:47:10</td>\n",
       "      <td>temblor|\"costa rica\"|\"sismo en costa rica\"</td>\n",
       "      <td>96153</td>\n",
       "      <td>378</td>\n",
       "      <td>171</td>\n",
       "      <td>...</td>\n",
       "      <td>None</td>\n",
       "      <td>Casanare</td>\n",
       "      <td>Videos de Yopal, Casanare, Sus municipios. Vid...</td>\n",
       "      <td>2007-07-25T22:53:37Z</td>\n",
       "      <td>None</td>\n",
       "      <td>None</td>\n",
       "      <td>Casanare llano llanero joropo</td>\n",
       "      <td>False</td>\n",
       "      <td>True</td>\n",
       "      <td>Politics | Society</td>\n",
       "    </tr>\n",
       "    <tr>\n",
       "      <th>4</th>\n",
       "      <td>_OXDcGPVAa4</td>\n",
       "      <td>2017-11-14</td>\n",
       "      <td>DOG HACKS | MUSAS LESSLIE LOS POLINESIOS</td>\n",
       "      <td>Musas</td>\n",
       "      <td>26</td>\n",
       "      <td>2017-11-13 19:17:48</td>\n",
       "      <td>MUSAS|\"lesslie\"|\"karen\"|\"hacks\"|\"perros\"|\"dogs...</td>\n",
       "      <td>499965</td>\n",
       "      <td>57781</td>\n",
       "      <td>681</td>\n",
       "      <td>...</td>\n",
       "      <td>None</td>\n",
       "      <td>Musas</td>\n",
       "      <td>NUEVOS VIDEOS TODOS LOS LUNES Y JUEVES :)</td>\n",
       "      <td>2012-08-28T06:20:52Z</td>\n",
       "      <td>None</td>\n",
       "      <td>None</td>\n",
       "      <td>\"Tutoriales de maquillaje\" \"tutorial de maquil...</td>\n",
       "      <td>False</td>\n",
       "      <td>False</td>\n",
       "      <td>Lifestyle_(sociology) | Entertainment | Food</td>\n",
       "    </tr>\n",
       "  </tbody>\n",
       "</table>\n",
       "<p>5 rows × 33 columns</p>\n",
       "</div>"
      ],
      "text/plain": [
       "      video_id trending_date  \\\n",
       "0  SbOwzAl9ZfQ    2017-11-14   \n",
       "1  klOV6Xh-DnI    2017-11-14   \n",
       "2  6L2ZF7Qzsbk    2017-11-14   \n",
       "3  hcY52MFWMDM    2017-11-14   \n",
       "4  _OXDcGPVAa4    2017-11-14   \n",
       "\n",
       "                                               title  \\\n",
       "0                     CapÃ­tulo 12 | MasterChef 2017   \n",
       "1  ALEXA EX-INTEGRANTE DEL GRUPO TIMBIRICHE RENUN...   \n",
       "2           LOUIS CKAGÃ - EL PULSO DE LA REPÃBLICA   \n",
       "3   Sismo de 6.7 sacude Costa Rica 12 Noviembre 2017   \n",
       "4           DOG HACKS | MUSAS LESSLIE LOS POLINESIOS   \n",
       "\n",
       "               channel_title  category_id        publish_time  \\\n",
       "0            MasterChef 2017           24 2017-11-13 06:06:22   \n",
       "1   Micky Contreras Martinez           22 2017-11-13 05:11:58   \n",
       "2  El Pulso De La RepÃºblica           25 2017-11-13 17:00:02   \n",
       "3                   Casanare           25 2017-11-13 03:47:10   \n",
       "4                      Musas           26 2017-11-13 19:17:48   \n",
       "\n",
       "                                                tags   views  likes  dislikes  \\\n",
       "0  MasterChef Junior 2017|\"TV Azteca\"|\"recetas\"|\"...  310130   4182       361   \n",
       "1                                    La Voz Mexico 7  104972    271       174   \n",
       "2  Chumel Torres|\"El Pulso de la Republica\"|\"noti...  136064  10105       266   \n",
       "3         temblor|\"costa rica\"|\"sismo en costa rica\"   96153    378       171   \n",
       "4  MUSAS|\"lesslie\"|\"karen\"|\"hacks\"|\"perros\"|\"dogs...  499965  57781       681   \n",
       "\n",
       "   ...  RegionRestriction_Allowed             Channel_Title  \\\n",
       "0  ...                       [MX]         MasterChef México   \n",
       "1  ...                       None  Micky Contreras Martinez   \n",
       "2  ...                       None  El Pulso De La República   \n",
       "3  ...                       None                  Casanare   \n",
       "4  ...                       None                     Musas   \n",
       "\n",
       "                                 Channel_Description   Channel_PublishedAt  \\\n",
       "0  Disfruta de la Nueva Temporada de MasterChef M...  2015-04-20T16:16:25Z   \n",
       "1                                                     2017-06-02T03:23:55Z   \n",
       "2  BAJA LA APP DE EL PULSO EN TODAS LAS PLATAFORM...  2012-12-12T06:23:47Z   \n",
       "3  Videos de Yopal, Casanare, Sus municipios. Vid...  2007-07-25T22:53:37Z   \n",
       "4          NUEVOS VIDEOS TODOS LOS LUNES Y JUEVES :)  2012-08-28T06:20:52Z   \n",
       "\n",
       "  Country Origin defaultLanguage  \\\n",
       "0             MX            None   \n",
       "1           None            None   \n",
       "2             MX            None   \n",
       "3           None            None   \n",
       "4           None            None   \n",
       "\n",
       "                                            keywords GoogleAnalytics  \\\n",
       "0  \"masterchef mexico\" mcjr masterchefmx \"chef be...           False   \n",
       "1                                               None           False   \n",
       "2  noticias mexico chumel torres AMLO morena pri ...           False   \n",
       "3                      Casanare llano llanero joropo           False   \n",
       "4  \"Tutoriales de maquillaje\" \"tutorial de maquil...           False   \n",
       "\n",
       "  moderateComments                                    topicCategories  \n",
       "0            False  Television_program | Lifestyle_(sociology) | E...  \n",
       "1            False  Entertainment | Society | Television_program |...  \n",
       "2            False                 Entertainment | Society | Politics  \n",
       "3             True                                 Politics | Society  \n",
       "4            False       Lifestyle_(sociology) | Entertainment | Food  \n",
       "\n",
       "[5 rows x 33 columns]"
      ]
     },
     "execution_count": 12,
     "metadata": {},
     "output_type": "execute_result"
    }
   ],
   "source": [
    "ultimate_df.head()"
   ]
  },
  {
   "cell_type": "markdown",
   "metadata": {},
   "source": [
    "Analysis: \n",
    "===\n",
    "\n",
    "How do trending videos compare regarding number countries trended in and number of days videos trended?"
   ]
  },
  {
   "cell_type": "markdown",
   "metadata": {},
   "source": [
    "Data manipulation\n",
    "==="
   ]
  },
  {
   "cell_type": "code",
   "execution_count": 13,
   "metadata": {},
   "outputs": [],
   "source": [
    "#calculate no. of countries each video trended in\n",
    "\n",
    "#create dataframe limited to unique dates per id/country\n",
    "\n",
    "Total_DF.reset_index(inplace=True)\n",
    "no_countries_DF = Total_DF.drop_duplicates(subset=['video_id', 'country'], keep='first')\n",
    "\n",
    "#create a dataframe with findings\n",
    "no_of_countries_df= pd.DataFrame({\"No of Countries Trended In\" : no_countries_DF.groupby('video_id')['country'].count()})\n",
    "\n",
    "#calculate the sum of days trended per video across countries\n",
    "\n",
    "    # calculate days each video trended per country\n",
    "Trending_Days = Total_DF.groupby(['video_id', \n",
    "                                  'country']).aggregate(Days_trending=('trending_date',\n",
    "                                                                  'count'))\n",
    "    #unstack to gain access\n",
    "unstacked_Trending_Days = Trending_Days.unstack()\n",
    "unstacked_Trending_Days.fillna(value=0, inplace=True)\n",
    "final_Trending_Days = pd.DataFrame(unstacked_Trending_Days.to_records()) \n",
    "\n",
    "    #sum across countries to total days trendings \n",
    "sum_of_days_trended = final_Trending_Days.sum(axis=1)\n",
    "\n",
    "     #create a dataframe with findings\n",
    "sum_of_days_df = pd.DataFrame({\"video_id\" : final_Trending_Days[\"video_id\"],\n",
    "                               \"Sum of Days trended\" : sum_of_days_trended})\n",
    "\n",
    "sum_of_days_df.set_index(\"video_id\", inplace=True)\n",
    "\n",
    "#merge datasets\n",
    "\n",
    "combined_per_video_df = pd.merge(sum_of_days_df, no_of_countries_df, on=\"video_id\")\n",
    "\n",
    "combined_per_video_df[\"Mean Days Trending\"] = combined_per_video_df[\"Sum of Days trended\"]/combined_per_video_df[\"No of Countries Trended In\"]"
   ]
  },
  {
   "cell_type": "code",
   "execution_count": 14,
   "metadata": {},
   "outputs": [],
   "source": [
    "#create a segment column for number of countries trended in  \n",
    "combined_per_video_df[\"Country Segment\"] = combined_per_video_df[\"No of Countries Trended In\"]\n",
    "\n",
    "combined_per_video_df[\"Country Segment\"] = np.where(combined_per_video_df[\"No of Countries Trended In\"]==1, \n",
    "                                            \"Trended in 1 country\", \n",
    "                                            combined_per_video_df[\"Country Segment\"])\n",
    "\n",
    "combined_per_video_df[\"Country Segment\"] = np.where((combined_per_video_df[\"No of Countries Trended In\"]>1) & (combined_per_video_df[\"No of Countries Trended In\"]<=5), \"Trended in 2 to 5 countries\", combined_per_video_df[\"Country Segment\"])\n",
    "\n",
    "combined_per_video_df[\"Country Segment\"] = np.where(combined_per_video_df[\"No of Countries Trended In\"]>5 , \"Trended in more than 5 countries\", combined_per_video_df[\"Country Segment\"])\n"
   ]
  },
  {
   "cell_type": "code",
   "execution_count": 15,
   "metadata": {},
   "outputs": [],
   "source": [
    "#create a segment column for number of days a video trended \n",
    "combined_per_video_df[\"Days Trended Segment\"] = combined_per_video_df[\"Mean Days Trending\"]\n",
    "\n",
    "combined_per_video_df[\"Days Trended Segment\"] = np.where(combined_per_video_df[\"Mean Days Trending\"]==1, \n",
    "                                                        \"Trended for 1 day\", \n",
    "                                                        combined_per_video_df[\"Days Trended Segment\"])\n",
    "\n",
    "combined_per_video_df[\"Days Trended Segment\"] = np.where((combined_per_video_df[\"Mean Days Trending\"]>1) & \n",
    "                                                         (combined_per_video_df[\"Mean Days Trending\"]<=5), \n",
    "                                                         \"Trended for 2 to 5 days\", \n",
    "                                                         combined_per_video_df[\"Days Trended Segment\"])\n",
    "\n",
    "combined_per_video_df[\"Days Trended Segment\"] = np.where(combined_per_video_df[\"Mean Days Trending\"]>5 ,\n",
    "                                                         \"Trended more than 5 days\", \n",
    "                                                         combined_per_video_df[\"Days Trended Segment\"])\n"
   ]
  },
  {
   "cell_type": "code",
   "execution_count": 16,
   "metadata": {},
   "outputs": [
    {
     "data": {
      "text/html": [
       "<div>\n",
       "<style scoped>\n",
       "    .dataframe tbody tr th:only-of-type {\n",
       "        vertical-align: middle;\n",
       "    }\n",
       "\n",
       "    .dataframe tbody tr th {\n",
       "        vertical-align: top;\n",
       "    }\n",
       "\n",
       "    .dataframe thead th {\n",
       "        text-align: right;\n",
       "    }\n",
       "</style>\n",
       "<table border=\"1\" class=\"dataframe\">\n",
       "  <thead>\n",
       "    <tr style=\"text-align: right;\">\n",
       "      <th></th>\n",
       "      <th>Sum of Days trended</th>\n",
       "      <th>No of Countries Trended In</th>\n",
       "      <th>Mean Days Trending</th>\n",
       "      <th>Country Segment</th>\n",
       "      <th>Days Trended Segment</th>\n",
       "    </tr>\n",
       "    <tr>\n",
       "      <th>video_id</th>\n",
       "      <th></th>\n",
       "      <th></th>\n",
       "      <th></th>\n",
       "      <th></th>\n",
       "      <th></th>\n",
       "    </tr>\n",
       "  </thead>\n",
       "  <tbody>\n",
       "    <tr>\n",
       "      <th>--1skHapGUc</th>\n",
       "      <td>1.0</td>\n",
       "      <td>1</td>\n",
       "      <td>1.0</td>\n",
       "      <td>Trended in 1 country</td>\n",
       "      <td>Trended for 1 day</td>\n",
       "    </tr>\n",
       "    <tr>\n",
       "      <th>--2K8l6BWfw</th>\n",
       "      <td>1.0</td>\n",
       "      <td>1</td>\n",
       "      <td>1.0</td>\n",
       "      <td>Trended in 1 country</td>\n",
       "      <td>Trended for 1 day</td>\n",
       "    </tr>\n",
       "    <tr>\n",
       "      <th>--45ws7CEN0</th>\n",
       "      <td>3.0</td>\n",
       "      <td>3</td>\n",
       "      <td>1.0</td>\n",
       "      <td>Trended in 2 to 5 countries</td>\n",
       "      <td>Trended for 1 day</td>\n",
       "    </tr>\n",
       "    <tr>\n",
       "      <th>--6vcer7XYQ</th>\n",
       "      <td>3.0</td>\n",
       "      <td>1</td>\n",
       "      <td>3.0</td>\n",
       "      <td>Trended in 1 country</td>\n",
       "      <td>Trended for 2 to 5 days</td>\n",
       "    </tr>\n",
       "    <tr>\n",
       "      <th>--728h8mnDY</th>\n",
       "      <td>2.0</td>\n",
       "      <td>1</td>\n",
       "      <td>2.0</td>\n",
       "      <td>Trended in 1 country</td>\n",
       "      <td>Trended for 2 to 5 days</td>\n",
       "    </tr>\n",
       "  </tbody>\n",
       "</table>\n",
       "</div>"
      ],
      "text/plain": [
       "             Sum of Days trended  No of Countries Trended In  \\\n",
       "video_id                                                       \n",
       "--1skHapGUc                  1.0                           1   \n",
       "--2K8l6BWfw                  1.0                           1   \n",
       "--45ws7CEN0                  3.0                           3   \n",
       "--6vcer7XYQ                  3.0                           1   \n",
       "--728h8mnDY                  2.0                           1   \n",
       "\n",
       "             Mean Days Trending              Country Segment  \\\n",
       "video_id                                                       \n",
       "--1skHapGUc                 1.0         Trended in 1 country   \n",
       "--2K8l6BWfw                 1.0         Trended in 1 country   \n",
       "--45ws7CEN0                 1.0  Trended in 2 to 5 countries   \n",
       "--6vcer7XYQ                 3.0         Trended in 1 country   \n",
       "--728h8mnDY                 2.0         Trended in 1 country   \n",
       "\n",
       "                Days Trended Segment  \n",
       "video_id                              \n",
       "--1skHapGUc        Trended for 1 day  \n",
       "--2K8l6BWfw        Trended for 1 day  \n",
       "--45ws7CEN0        Trended for 1 day  \n",
       "--6vcer7XYQ  Trended for 2 to 5 days  \n",
       "--728h8mnDY  Trended for 2 to 5 days  "
      ]
     },
     "execution_count": 16,
     "metadata": {},
     "output_type": "execute_result"
    }
   ],
   "source": [
    "#verify dataframe \n",
    "combined_per_video_df.head()"
   ]
  },
  {
   "cell_type": "code",
   "execution_count": 17,
   "metadata": {},
   "outputs": [
    {
     "data": {
      "text/html": [
       "<div>\n",
       "<style scoped>\n",
       "    .dataframe tbody tr th:only-of-type {\n",
       "        vertical-align: middle;\n",
       "    }\n",
       "\n",
       "    .dataframe tbody tr th {\n",
       "        vertical-align: top;\n",
       "    }\n",
       "\n",
       "    .dataframe thead th {\n",
       "        text-align: right;\n",
       "    }\n",
       "</style>\n",
       "<table border=\"1\" class=\"dataframe\">\n",
       "  <thead>\n",
       "    <tr style=\"text-align: right;\">\n",
       "      <th>Days Trended Segment</th>\n",
       "      <th>Trended for 1 day</th>\n",
       "      <th>Trended for 2 to 5 days</th>\n",
       "      <th>Trended more than 5 days</th>\n",
       "      <th>Total</th>\n",
       "    </tr>\n",
       "    <tr>\n",
       "      <th>Country Segment</th>\n",
       "      <th></th>\n",
       "      <th></th>\n",
       "      <th></th>\n",
       "      <th></th>\n",
       "    </tr>\n",
       "  </thead>\n",
       "  <tbody>\n",
       "    <tr>\n",
       "      <th>Trended in 1 country</th>\n",
       "      <td>122344</td>\n",
       "      <td>45348</td>\n",
       "      <td>2765</td>\n",
       "      <td>170457</td>\n",
       "    </tr>\n",
       "    <tr>\n",
       "      <th>Trended in 2 to 5 countries</th>\n",
       "      <td>4580</td>\n",
       "      <td>7216</td>\n",
       "      <td>1438</td>\n",
       "      <td>13234</td>\n",
       "    </tr>\n",
       "    <tr>\n",
       "      <th>Trended in more than 5 countries</th>\n",
       "      <td>28</td>\n",
       "      <td>334</td>\n",
       "      <td>153</td>\n",
       "      <td>515</td>\n",
       "    </tr>\n",
       "  </tbody>\n",
       "</table>\n",
       "</div>"
      ],
      "text/plain": [
       "Days Trended Segment              Trended for 1 day  Trended for 2 to 5 days  \\\n",
       "Country Segment                                                                \n",
       "Trended in 1 country                         122344                    45348   \n",
       "Trended in 2 to 5 countries                    4580                     7216   \n",
       "Trended in more than 5 countries                 28                      334   \n",
       "\n",
       "Days Trended Segment              Trended more than 5 days   Total  \n",
       "Country Segment                                                     \n",
       "Trended in 1 country                                  2765  170457  \n",
       "Trended in 2 to 5 countries                           1438   13234  \n",
       "Trended in more than 5 countries                       153     515  "
      ]
     },
     "execution_count": 17,
     "metadata": {},
     "output_type": "execute_result"
    }
   ],
   "source": [
    "#countries trended vs days trended: create table\n",
    "\n",
    "    #groupby to get counts\n",
    "count_by_country_no_trended = combined_per_video_df.groupby([\"Country Segment\", \n",
    "                                                     \"Days Trended Segment\"]\n",
    "                                                    )[\"No of Countries Trended In\"].count().unstack()\n",
    "\n",
    "count_by_country_no_trended[\"Total\"] = count_by_country_no_trended.sum(axis=1)\n",
    "\n",
    "count_by_country_no_trended"
   ]
  },
  {
   "cell_type": "code",
   "execution_count": 18,
   "metadata": {},
   "outputs": [
    {
     "data": {
      "text/html": [
       "<div>\n",
       "<style scoped>\n",
       "    .dataframe tbody tr th:only-of-type {\n",
       "        vertical-align: middle;\n",
       "    }\n",
       "\n",
       "    .dataframe tbody tr th {\n",
       "        vertical-align: top;\n",
       "    }\n",
       "\n",
       "    .dataframe thead th {\n",
       "        text-align: right;\n",
       "    }\n",
       "</style>\n",
       "<table border=\"1\" class=\"dataframe\">\n",
       "  <thead>\n",
       "    <tr style=\"text-align: right;\">\n",
       "      <th></th>\n",
       "      <th>Single Day(%)</th>\n",
       "      <th>Two to Five Days(%)</th>\n",
       "      <th>More than five Days(%)</th>\n",
       "    </tr>\n",
       "    <tr>\n",
       "      <th>Country Segment</th>\n",
       "      <th></th>\n",
       "      <th></th>\n",
       "      <th></th>\n",
       "    </tr>\n",
       "  </thead>\n",
       "  <tbody>\n",
       "    <tr>\n",
       "      <th>Trended in 1 country</th>\n",
       "      <td>71.774113</td>\n",
       "      <td>26.603777</td>\n",
       "      <td>1.622110</td>\n",
       "    </tr>\n",
       "    <tr>\n",
       "      <th>Trended in 2 to 5 countries</th>\n",
       "      <td>34.607828</td>\n",
       "      <td>54.526220</td>\n",
       "      <td>10.865951</td>\n",
       "    </tr>\n",
       "    <tr>\n",
       "      <th>Trended in more than 5 countries</th>\n",
       "      <td>5.436893</td>\n",
       "      <td>64.854369</td>\n",
       "      <td>29.708738</td>\n",
       "    </tr>\n",
       "  </tbody>\n",
       "</table>\n",
       "</div>"
      ],
      "text/plain": [
       "                                  Single Day(%)  Two to Five Days(%)  \\\n",
       "Country Segment                                                        \n",
       "Trended in 1 country                  71.774113            26.603777   \n",
       "Trended in 2 to 5 countries           34.607828            54.526220   \n",
       "Trended in more than 5 countries       5.436893            64.854369   \n",
       "\n",
       "                                  More than five Days(%)  \n",
       "Country Segment                                           \n",
       "Trended in 1 country                            1.622110  \n",
       "Trended in 2 to 5 countries                    10.865951  \n",
       "Trended in more than 5 countries               29.708738  "
      ]
     },
     "execution_count": 18,
     "metadata": {},
     "output_type": "execute_result"
    }
   ],
   "source": [
    "    #create dataframe containing percentages\n",
    "country_trended_percentage_df = pd.DataFrame({\n",
    "    \"Single Day(%)\": count_by_country_no_trended[\n",
    "        \"Trended for 1 day\"]*100/count_by_country_no_trended[\"Total\"],\n",
    "    \"Two to Five Days(%)\": count_by_country_no_trended[\n",
    "        \"Trended for 2 to 5 days\"]*100/count_by_country_no_trended[\"Total\"],\n",
    "    \"More than five Days(%)\": count_by_country_no_trended[\n",
    "        \"Trended more than 5 days\"]*100/count_by_country_no_trended[\"Total\"]})\n",
    "\n",
    "country_trended_percentage_df.fillna(value=0, inplace=True)\n",
    "\n",
    "country_trended_percentage_df"
   ]
  },
  {
   "cell_type": "code",
   "execution_count": 19,
   "metadata": {},
   "outputs": [],
   "source": [
    "#per country counts per days trended segment: create table\n",
    "    \n",
    "    #reset index to allow count by country\n",
    "Trending_Days_by_country = Trending_Days.reset_index(level=1)\n",
    "\n",
    "    #split dataframe and count by country\n",
    "\n",
    "single_days = Trending_Days_by_country.loc[\n",
    "    Trending_Days_by_country[\"Days_trending\"]==1, :]\n",
    "\n",
    "country_trending_1_single_days = single_days.groupby(\"country\").count()\n",
    "\n",
    "two_to_five_days = Trending_Days_by_country.loc[\n",
    "    (Trending_Days_by_country[\"Days_trending\"]>1) &\n",
    "    (Trending_Days_by_country[\"Days_trending\"]<=5), :]\n",
    "\n",
    "country_trending_2_to_5_days = two_to_five_days.groupby(\"country\").count()\n",
    "\n",
    "more_than_five_days = Trending_Days_by_country.loc[\n",
    "    Trending_Days_by_country[\"Days_trending\"]>5, :]\n",
    "\n",
    "country_trending_more_than_5_days = more_than_five_days.groupby(\n",
    "                                                    \"country\").count()"
   ]
  },
  {
   "cell_type": "code",
   "execution_count": 20,
   "metadata": {},
   "outputs": [],
   "source": [
    "    #merge\n",
    "\n",
    "dataframes=[country_trending_1_single_days, \n",
    "            country_trending_2_to_5_days, \n",
    "            country_trending_more_than_5_days]\n",
    "\n",
    "df_merged = reduce(lambda  left,right: pd.merge(left,right,on=['country'],\n",
    "                                            how='left'), dataframes)\n",
    "\n",
    "df_merged.set_axis([\"Single Day\", \n",
    "                    \"Two to Five Days\", \n",
    "                     \"More than Five Days\"], axis=1, inplace=True)\n",
    "\n",
    "df_merged[\"Total\"] = df_merged.sum(axis=1)"
   ]
  },
  {
   "cell_type": "code",
   "execution_count": 21,
   "metadata": {},
   "outputs": [
    {
     "data": {
      "text/html": [
       "<div>\n",
       "<style scoped>\n",
       "    .dataframe tbody tr th:only-of-type {\n",
       "        vertical-align: middle;\n",
       "    }\n",
       "\n",
       "    .dataframe tbody tr th {\n",
       "        vertical-align: top;\n",
       "    }\n",
       "\n",
       "    .dataframe thead th {\n",
       "        text-align: right;\n",
       "    }\n",
       "</style>\n",
       "<table border=\"1\" class=\"dataframe\">\n",
       "  <thead>\n",
       "    <tr style=\"text-align: right;\">\n",
       "      <th></th>\n",
       "      <th>Single Day(%)</th>\n",
       "      <th>Two to Five Days(%)</th>\n",
       "      <th>More than Five Days(%)</th>\n",
       "    </tr>\n",
       "    <tr>\n",
       "      <th>country</th>\n",
       "      <th></th>\n",
       "      <th></th>\n",
       "      <th></th>\n",
       "    </tr>\n",
       "  </thead>\n",
       "  <tbody>\n",
       "    <tr>\n",
       "      <th>CA</th>\n",
       "      <td>59.432107</td>\n",
       "      <td>39.986069</td>\n",
       "      <td>0.581824</td>\n",
       "    </tr>\n",
       "    <tr>\n",
       "      <th>DE</th>\n",
       "      <td>72.258805</td>\n",
       "      <td>27.734441</td>\n",
       "      <td>0.006754</td>\n",
       "    </tr>\n",
       "    <tr>\n",
       "      <th>FR</th>\n",
       "      <td>75.198796</td>\n",
       "      <td>24.797932</td>\n",
       "      <td>0.003272</td>\n",
       "    </tr>\n",
       "    <tr>\n",
       "      <th>GB</th>\n",
       "      <td>7.011635</td>\n",
       "      <td>17.636252</td>\n",
       "      <td>75.352113</td>\n",
       "    </tr>\n",
       "    <tr>\n",
       "      <th>IN</th>\n",
       "      <td>47.994111</td>\n",
       "      <td>50.625690</td>\n",
       "      <td>1.380199</td>\n",
       "    </tr>\n",
       "    <tr>\n",
       "      <th>JP</th>\n",
       "      <td>88.605534</td>\n",
       "      <td>11.394466</td>\n",
       "      <td>0.000000</td>\n",
       "    </tr>\n",
       "    <tr>\n",
       "      <th>KR</th>\n",
       "      <td>39.098076</td>\n",
       "      <td>60.372122</td>\n",
       "      <td>0.529801</td>\n",
       "    </tr>\n",
       "    <tr>\n",
       "      <th>MX</th>\n",
       "      <td>83.700585</td>\n",
       "      <td>16.299415</td>\n",
       "      <td>0.000000</td>\n",
       "    </tr>\n",
       "    <tr>\n",
       "      <th>RU</th>\n",
       "      <td>84.489903</td>\n",
       "      <td>15.510097</td>\n",
       "      <td>0.000000</td>\n",
       "    </tr>\n",
       "    <tr>\n",
       "      <th>US</th>\n",
       "      <td>11.140876</td>\n",
       "      <td>37.015443</td>\n",
       "      <td>51.843681</td>\n",
       "    </tr>\n",
       "  </tbody>\n",
       "</table>\n",
       "</div>"
      ],
      "text/plain": [
       "         Single Day(%)  Two to Five Days(%)  More than Five Days(%)\n",
       "country                                                            \n",
       "CA           59.432107            39.986069                0.581824\n",
       "DE           72.258805            27.734441                0.006754\n",
       "FR           75.198796            24.797932                0.003272\n",
       "GB            7.011635            17.636252               75.352113\n",
       "IN           47.994111            50.625690                1.380199\n",
       "JP           88.605534            11.394466                0.000000\n",
       "KR           39.098076            60.372122                0.529801\n",
       "MX           83.700585            16.299415                0.000000\n",
       "RU           84.489903            15.510097                0.000000\n",
       "US           11.140876            37.015443               51.843681"
      ]
     },
     "execution_count": 21,
     "metadata": {},
     "output_type": "execute_result"
    }
   ],
   "source": [
    " #create dataframe containing percentages\n",
    "country_percentage_df = pd.DataFrame({\"Single Day(%)\": df_merged[\n",
    "                                        \"Single Day\"]*100/df_merged[\"Total\"],\n",
    "                  \"Two to Five Days(%)\": df_merged[\n",
    "                      \"Two to Five Days\"]*100/df_merged[\"Total\"],\n",
    "                  \"More than Five Days(%)\": df_merged[\n",
    "                      \"More than Five Days\"]*100/df_merged[\"Total\"]})\n",
    "\n",
    "country_percentage_df.fillna(value=0, inplace=True)\n",
    "\n",
    "country_percentage_df"
   ]
  },
  {
   "cell_type": "code",
   "execution_count": 22,
   "metadata": {},
   "outputs": [
    {
     "data": {
      "text/html": [
       "<div>\n",
       "<style scoped>\n",
       "    .dataframe tbody tr th:only-of-type {\n",
       "        vertical-align: middle;\n",
       "    }\n",
       "\n",
       "    .dataframe tbody tr th {\n",
       "        vertical-align: top;\n",
       "    }\n",
       "\n",
       "    .dataframe thead th {\n",
       "        text-align: right;\n",
       "    }\n",
       "</style>\n",
       "<table border=\"1\" class=\"dataframe\">\n",
       "  <thead>\n",
       "    <tr style=\"text-align: right;\">\n",
       "      <th></th>\n",
       "      <th>country</th>\n",
       "      <th>First_Trend_Date</th>\n",
       "      <th>No. of Unique First Days Trended</th>\n",
       "      <th>No. of Countries Trended In</th>\n",
       "    </tr>\n",
       "    <tr>\n",
       "      <th>video_id</th>\n",
       "      <th></th>\n",
       "      <th></th>\n",
       "      <th></th>\n",
       "      <th></th>\n",
       "    </tr>\n",
       "  </thead>\n",
       "  <tbody>\n",
       "    <tr>\n",
       "      <th>--1skHapGUc</th>\n",
       "      <td>[MX]</td>\n",
       "      <td>[1518220800000000000]</td>\n",
       "      <td>1</td>\n",
       "      <td>1</td>\n",
       "    </tr>\n",
       "    <tr>\n",
       "      <th>--2K8l6BWfw</th>\n",
       "      <td>[FR]</td>\n",
       "      <td>[1520294400000000000]</td>\n",
       "      <td>1</td>\n",
       "      <td>1</td>\n",
       "    </tr>\n",
       "    <tr>\n",
       "      <th>--45ws7CEN0</th>\n",
       "      <td>[CA, MX, RU]</td>\n",
       "      <td>[1528761600000000000]</td>\n",
       "      <td>1</td>\n",
       "      <td>3</td>\n",
       "    </tr>\n",
       "    <tr>\n",
       "      <th>--6vcer7XYQ</th>\n",
       "      <td>[MX]</td>\n",
       "      <td>[1521763200000000000]</td>\n",
       "      <td>1</td>\n",
       "      <td>1</td>\n",
       "    </tr>\n",
       "    <tr>\n",
       "      <th>--728h8mnDY</th>\n",
       "      <td>[FR]</td>\n",
       "      <td>[1512518400000000000]</td>\n",
       "      <td>1</td>\n",
       "      <td>1</td>\n",
       "    </tr>\n",
       "    <tr>\n",
       "      <th>...</th>\n",
       "      <td>...</td>\n",
       "      <td>...</td>\n",
       "      <td>...</td>\n",
       "      <td>...</td>\n",
       "    </tr>\n",
       "    <tr>\n",
       "      <th>zzuI1sona1M</th>\n",
       "      <td>[RU]</td>\n",
       "      <td>[1515888000000000000]</td>\n",
       "      <td>1</td>\n",
       "      <td>1</td>\n",
       "    </tr>\n",
       "    <tr>\n",
       "      <th>zzvWC_pDiIk</th>\n",
       "      <td>[RU]</td>\n",
       "      <td>[1514937600000000000]</td>\n",
       "      <td>1</td>\n",
       "      <td>1</td>\n",
       "    </tr>\n",
       "    <tr>\n",
       "      <th>zzxLG6R5cHI</th>\n",
       "      <td>[MX]</td>\n",
       "      <td>[1517529600000000000]</td>\n",
       "      <td>1</td>\n",
       "      <td>1</td>\n",
       "    </tr>\n",
       "    <tr>\n",
       "      <th>zzyGHbhCpV4</th>\n",
       "      <td>[JP]</td>\n",
       "      <td>[1518652800000000000]</td>\n",
       "      <td>1</td>\n",
       "      <td>1</td>\n",
       "    </tr>\n",
       "    <tr>\n",
       "      <th>zzz0_5fMnI8</th>\n",
       "      <td>[FR]</td>\n",
       "      <td>[1513468800000000000]</td>\n",
       "      <td>1</td>\n",
       "      <td>1</td>\n",
       "    </tr>\n",
       "  </tbody>\n",
       "</table>\n",
       "<p>184206 rows × 4 columns</p>\n",
       "</div>"
      ],
      "text/plain": [
       "                  country       First_Trend_Date  \\\n",
       "video_id                                           \n",
       "--1skHapGUc          [MX]  [1518220800000000000]   \n",
       "--2K8l6BWfw          [FR]  [1520294400000000000]   \n",
       "--45ws7CEN0  [CA, MX, RU]  [1528761600000000000]   \n",
       "--6vcer7XYQ          [MX]  [1521763200000000000]   \n",
       "--728h8mnDY          [FR]  [1512518400000000000]   \n",
       "...                   ...                    ...   \n",
       "zzuI1sona1M          [RU]  [1515888000000000000]   \n",
       "zzvWC_pDiIk          [RU]  [1514937600000000000]   \n",
       "zzxLG6R5cHI          [MX]  [1517529600000000000]   \n",
       "zzyGHbhCpV4          [JP]  [1518652800000000000]   \n",
       "zzz0_5fMnI8          [FR]  [1513468800000000000]   \n",
       "\n",
       "             No. of Unique First Days Trended  No. of Countries Trended In  \n",
       "video_id                                                                    \n",
       "--1skHapGUc                                 1                            1  \n",
       "--2K8l6BWfw                                 1                            1  \n",
       "--45ws7CEN0                                 1                            3  \n",
       "--6vcer7XYQ                                 1                            1  \n",
       "--728h8mnDY                                 1                            1  \n",
       "...                                       ...                          ...  \n",
       "zzuI1sona1M                                 1                            1  \n",
       "zzvWC_pDiIk                                 1                            1  \n",
       "zzxLG6R5cHI                                 1                            1  \n",
       "zzyGHbhCpV4                                 1                            1  \n",
       "zzz0_5fMnI8                                 1                            1  \n",
       "\n",
       "[184206 rows x 4 columns]"
      ]
     },
     "execution_count": 22,
     "metadata": {},
     "output_type": "execute_result"
    }
   ],
   "source": [
    "#create dataframe with only videos trending in multiple countries\n",
    "\n",
    "    #bring country segmentation into originally dataframe\n",
    "Transition = Total_DF \n",
    "\n",
    "Transition[\"Countries Trended in Segment\"] = combined_per_video_df[\"Country Segment\"]\n",
    "\n",
    "   #create dataframe containing only those videos that trended in \n",
    "multinational_df = Transition.loc[Transition[\"Countries Trended in Segment\"]!= \"Trended in 1 country\",:]\n",
    "\n",
    "#find first day to trend per each country\n",
    "First_trend = multinational_df.groupby(\n",
    "    ['video_id',\"country\"]).aggregate(\n",
    "    First_Trend_Date=('trending_date', 'min'))\n",
    "   \n",
    "    #collapse into lists, determine unique first days\n",
    "First_trend.reset_index(level=1, inplace=True)\n",
    "col_First_trend = First_trend.groupby(\n",
    "    \"video_id\").aggregate(\n",
    "    lambda tdf: tdf.unique().tolist())\n",
    "col_First_trend['No. of Unique First Days Trended'] = col_First_trend[\"First_Trend_Date\"].apply(lambda x: len(x))\n",
    "col_First_trend['No. of Countries Trended In'] = col_First_trend[\"country\"].apply(lambda x: len(x))\n",
    "col_First_trend"
   ]
  },
  {
   "cell_type": "code",
   "execution_count": 23,
   "metadata": {},
   "outputs": [
    {
     "data": {
      "text/html": [
       "<div>\n",
       "<style scoped>\n",
       "    .dataframe tbody tr th:only-of-type {\n",
       "        vertical-align: middle;\n",
       "    }\n",
       "\n",
       "    .dataframe tbody tr th {\n",
       "        vertical-align: top;\n",
       "    }\n",
       "\n",
       "    .dataframe thead th {\n",
       "        text-align: right;\n",
       "    }\n",
       "</style>\n",
       "<table border=\"1\" class=\"dataframe\">\n",
       "  <thead>\n",
       "    <tr style=\"text-align: right;\">\n",
       "      <th></th>\n",
       "      <th>country</th>\n",
       "      <th>Days_trending</th>\n",
       "      <th>No. countries trended in</th>\n",
       "    </tr>\n",
       "    <tr>\n",
       "      <th>video_id</th>\n",
       "      <th></th>\n",
       "      <th></th>\n",
       "      <th></th>\n",
       "    </tr>\n",
       "  </thead>\n",
       "  <tbody>\n",
       "    <tr>\n",
       "      <th>--1skHapGUc</th>\n",
       "      <td>MX</td>\n",
       "      <td>1</td>\n",
       "      <td>1</td>\n",
       "    </tr>\n",
       "    <tr>\n",
       "      <th>--2K8l6BWfw</th>\n",
       "      <td>FR</td>\n",
       "      <td>1</td>\n",
       "      <td>1</td>\n",
       "    </tr>\n",
       "    <tr>\n",
       "      <th>--45ws7CEN0</th>\n",
       "      <td>CA</td>\n",
       "      <td>1</td>\n",
       "      <td>3</td>\n",
       "    </tr>\n",
       "    <tr>\n",
       "      <th>--45ws7CEN0</th>\n",
       "      <td>MX</td>\n",
       "      <td>1</td>\n",
       "      <td>3</td>\n",
       "    </tr>\n",
       "    <tr>\n",
       "      <th>--45ws7CEN0</th>\n",
       "      <td>RU</td>\n",
       "      <td>1</td>\n",
       "      <td>3</td>\n",
       "    </tr>\n",
       "    <tr>\n",
       "      <th>...</th>\n",
       "      <td>...</td>\n",
       "      <td>...</td>\n",
       "      <td>...</td>\n",
       "    </tr>\n",
       "    <tr>\n",
       "      <th>zzuI1sona1M</th>\n",
       "      <td>RU</td>\n",
       "      <td>1</td>\n",
       "      <td>1</td>\n",
       "    </tr>\n",
       "    <tr>\n",
       "      <th>zzvWC_pDiIk</th>\n",
       "      <td>RU</td>\n",
       "      <td>1</td>\n",
       "      <td>1</td>\n",
       "    </tr>\n",
       "    <tr>\n",
       "      <th>zzxLG6R5cHI</th>\n",
       "      <td>MX</td>\n",
       "      <td>1</td>\n",
       "      <td>1</td>\n",
       "    </tr>\n",
       "    <tr>\n",
       "      <th>zzyGHbhCpV4</th>\n",
       "      <td>JP</td>\n",
       "      <td>2</td>\n",
       "      <td>1</td>\n",
       "    </tr>\n",
       "    <tr>\n",
       "      <th>zzz0_5fMnI8</th>\n",
       "      <td>FR</td>\n",
       "      <td>1</td>\n",
       "      <td>1</td>\n",
       "    </tr>\n",
       "  </tbody>\n",
       "</table>\n",
       "<p>207008 rows × 3 columns</p>\n",
       "</div>"
      ],
      "text/plain": [
       "            country  Days_trending  No. countries trended in\n",
       "video_id                                                    \n",
       "--1skHapGUc      MX              1                         1\n",
       "--2K8l6BWfw      FR              1                         1\n",
       "--45ws7CEN0      CA              1                         3\n",
       "--45ws7CEN0      MX              1                         3\n",
       "--45ws7CEN0      RU              1                         3\n",
       "...             ...            ...                       ...\n",
       "zzuI1sona1M      RU              1                         1\n",
       "zzvWC_pDiIk      RU              1                         1\n",
       "zzxLG6R5cHI      MX              1                         1\n",
       "zzyGHbhCpV4      JP              2                         1\n",
       "zzz0_5fMnI8      FR              1                         1\n",
       "\n",
       "[207008 rows x 3 columns]"
      ]
     },
     "execution_count": 23,
     "metadata": {},
     "output_type": "execute_result"
    }
   ],
   "source": [
    "#create dataset allowing comparison between Days trended(as opposed to me) \n",
    "    #by no. of countries trended in \n",
    "DaysTrended_vs_Countries = Trending_Days.reset_index(level=1)\n",
    "\n",
    "DaysTrended_vs_Countries[\"No. countries trended in\"] = col_First_trend['No. of Countries Trended In']\n",
    "\n",
    "DaysTrended_vs_Countries"
   ]
  },
  {
   "cell_type": "markdown",
   "metadata": {},
   "source": [
    "Findings: \n",
    "---"
   ]
  },
  {
   "cell_type": "code",
   "execution_count": 24,
   "metadata": {},
   "outputs": [
    {
     "data": {
      "text/plain": [
       "<Figure size 432x360 with 0 Axes>"
      ]
     },
     "execution_count": 24,
     "metadata": {},
     "output_type": "execute_result"
    },
    {
     "data": {
      "text/plain": [
       "([<matplotlib.patches.Wedge at 0x1488e8a90>,\n",
       "  <matplotlib.patches.Wedge at 0x1488fa100>,\n",
       "  <matplotlib.patches.Wedge at 0x1488fa700>],\n",
       " [Text(0.8905197077689269, -0.6457357432225238, ''),\n",
       "  Text(-0.840135503584379, 0.7100509387480747, ''),\n",
       "  Text(-1.0587347527895676, -0.29846393959005046, '')],\n",
       " [Text(0.4857380224194146, -0.35221949630319477, '68.9%'),\n",
       "  Text(-0.4582557292278431, 0.3873005120444043, '28.7%'),\n",
       "  Text(-0.5774916833397641, -0.16279851250366387, '2.4%')])"
      ]
     },
     "execution_count": 24,
     "metadata": {},
     "output_type": "execute_result"
    },
    {
     "data": {
      "text/plain": [
       "<matplotlib.legend.Legend at 0x151e5b340>"
      ]
     },
     "execution_count": 24,
     "metadata": {},
     "output_type": "execute_result"
    },
    {
     "data": {
      "text/plain": [
       "Text(0.5, 1.0, 'Mean No. of Days Video Trended')"
      ]
     },
     "execution_count": 24,
     "metadata": {},
     "output_type": "execute_result"
    },
    {
     "data": {
      "text/plain": [
       "(-1.1111372686570784,\n",
       " 1.113003090169773,\n",
       " -1.116509844294945,\n",
       " 1.1054406927197986)"
      ]
     },
     "execution_count": 24,
     "metadata": {},
     "output_type": "execute_result"
    },
    {
     "data": {
      "image/png": "[encoded data removed]",
      "text/plain": [
       "<Figure size 432x360 with 1 Axes>"
      ]
     },
     "metadata": {},
     "output_type": "display_data"
    }
   ],
   "source": [
    "#display the findings for segmentation: mean number of days video trended\n",
    "\n",
    "plt.figure(figsize=(6,5))\n",
    "\n",
    "# Labels for the sections of our pie chart\n",
    "labels = [\"1 day\", \"2 to 5 days\", \"More than 5 days\"]\n",
    "\n",
    "# The values of each section of the pie chart\n",
    "sizes = combined_per_video_df[\"Days Trended Segment\"].value_counts()\n",
    "\n",
    "# The colors of each section of the pie chart\n",
    "#colors = [plt.cm.Blues(0.4), plt.cm.Purples(0.4), plt.cm.Greens(0.4)]\n",
    "colors = [\"cyan\",  \"mediumpurple\", \"gold\"]\n",
    "\n",
    "#Display\n",
    "plt.pie(sizes,  \n",
    "        colors=colors, autopct=\"%1.1f%%\", shadow=False, \n",
    "        startangle=200, wedgeprops={'edgecolor':'w', \"alpha\" : 0.7}, \n",
    "        textprops={\"fontsize\": 12, \"color\":'black', \"fontweight\":'bold'})\n",
    "\n",
    "#formatting\n",
    "plt.legend(labels, loc=\"center left\", bbox_to_anchor=(1, 0.5), fontsize=12)\n",
    "plt.title(\"Mean No. of Days Video Trended\", fontsize=14, fontweight='bold')\n",
    "plt.tight_layout()\n",
    "plt.axis(\"equal\")\n",
    "\n",
    "plt.savefig('../Image/Mean_No.of_Days_Video_Trended.png', \n",
    "            bbox_inches = \"tight\" )\n",
    "plt.show()\n",
    "\n"
   ]
  },
  {
   "cell_type": "markdown",
   "metadata": {},
   "source": [
    "Approach: Remove duplicates so that dataset contains 1 row per video_id per country, and count the no. days video trended per country. Determine the mean no. of days: sum(days video trended per country)/no. of countries trended in.  \n",
    "\n",
    "Insight: Over two-thirds of videos trended for a single day. Only 3.5% trended for more than 4 days. "
   ]
  },
  {
   "cell_type": "code",
   "execution_count": 25,
   "metadata": {},
   "outputs": [
    {
     "data": {
      "text/plain": [
       "<Figure size 432x360 with 0 Axes>"
      ]
     },
     "execution_count": 25,
     "metadata": {},
     "output_type": "execute_result"
    },
    {
     "data": {
      "text/plain": [
       "([<matplotlib.patches.Wedge at 0x152001be0>,\n",
       "  <matplotlib.patches.Wedge at 0x15200e280>,\n",
       "  <matplotlib.patches.Wedge at 0x15200e880>],\n",
       " [Text(1.0698972443899415, -0.2555775546616137, ''),\n",
       "  Text(-1.0676112173206522, 0.26496469321612487, ''),\n",
       "  Text(-1.0999575709186096, 0.00966137561800988, '')],\n",
       " [Text(0.5835803151217862, -0.13940593890633474, '92.5%'),\n",
       "  Text(-0.5823333912658103, 0.14452619629970445, '7.2%'),\n",
       "  Text(-0.599976856864696, 0.005269841246187207, '0.3%')])"
      ]
     },
     "execution_count": 25,
     "metadata": {},
     "output_type": "execute_result"
    },
    {
     "data": {
      "text/plain": [
       "Text(0.5, 1.0, 'No. of Countries Video Trended In')"
      ]
     },
     "execution_count": 25,
     "metadata": {},
     "output_type": "execute_result"
    },
    {
     "data": {
      "text/plain": [
       "<matplotlib.legend.Legend at 0x152001af0>"
      ]
     },
     "execution_count": 25,
     "metadata": {},
     "output_type": "execute_result"
    },
    {
     "data": {
      "text/plain": [
       "(-1.100365848410614,\n",
       " 1.1076828147383677,\n",
       " -1.1077773886260784,\n",
       " 1.1017826821714476)"
      ]
     },
     "execution_count": 25,
     "metadata": {},
     "output_type": "execute_result"
    },
    {
     "data": {
      "image/png": "[encoded data removed]",
      "text/plain": [
       "<Figure size 432x360 with 1 Axes>"
      ]
     },
     "metadata": {},
     "output_type": "display_data"
    }
   ],
   "source": [
    "#display the findings for segmentation: number of countries trended in \n",
    "\n",
    "plt.figure(figsize=(6,5))\n",
    "\n",
    "# Labels for the sections of our pie chart\n",
    "labels = [\"1 country\", \"2 to 5 countries\", \"More than 5 countries\"]\n",
    "\n",
    "# The values of each section of the pie chart\n",
    "sizes = combined_per_video_df[\"Country Segment\"].value_counts()\n",
    "\n",
    "# The colors of each section of the pie chart\n",
    "#colors = [plt.cm.Blues(0.4), plt.cm.Purples(0.4), plt.cm.Greens(0.4)]\n",
    "colors = [\"cyan\",  \"mediumpurple\", \"gold\"]\n",
    "\n",
    "#Display\n",
    "plt.pie(sizes,  \n",
    "        colors=colors, autopct=\"%1.1f%%\", shadow=False, \n",
    "        startangle=180, wedgeprops={'edgecolor':'w', \"alpha\" : 0.7}, \n",
    "        textprops={\"fontsize\": 12, \"color\":'black', \"fontweight\":'bold'})\n",
    "\n",
    "#formatting\n",
    "plt.title(\"No. of Countries Video Trended In\", fontsize=14, fontweight='bold')\n",
    "plt.legend(labels, loc=\"center left\", bbox_to_anchor=(1, 0.5), fontsize=12)\n",
    "plt.tight_layout()\n",
    "plt.axis(\"equal\")\n",
    "\n",
    "plt.savefig('../Image/No._of_Countries_Video_Trended_In.png', \n",
    "            bbox_inches = \"tight\" )\n",
    "\n",
    "plt.show()"
   ]
  },
  {
   "cell_type": "markdown",
   "metadata": {},
   "source": [
    "Approach: Remove duplicates so that dataset contains 1 row per video_id per country, and count the no. of rows per video_id. \n",
    "\n",
    "Insight: The vast majority (92.5%) of videos trended in a single country."
   ]
  },
  {
   "cell_type": "code",
   "execution_count": 26,
   "metadata": {},
   "outputs": [
    {
     "data": {
      "text/html": [
       "<div>\n",
       "<style scoped>\n",
       "    .dataframe tbody tr th:only-of-type {\n",
       "        vertical-align: middle;\n",
       "    }\n",
       "\n",
       "    .dataframe tbody tr th {\n",
       "        vertical-align: top;\n",
       "    }\n",
       "\n",
       "    .dataframe thead th {\n",
       "        text-align: right;\n",
       "    }\n",
       "</style>\n",
       "<table border=\"1\" class=\"dataframe\">\n",
       "  <thead>\n",
       "    <tr style=\"text-align: right;\">\n",
       "      <th></th>\n",
       "      <th>Single Day(%)</th>\n",
       "      <th>Two to Five Days(%)</th>\n",
       "      <th>More than five Days(%)</th>\n",
       "    </tr>\n",
       "    <tr>\n",
       "      <th>Country Segment</th>\n",
       "      <th></th>\n",
       "      <th></th>\n",
       "      <th></th>\n",
       "    </tr>\n",
       "  </thead>\n",
       "  <tbody>\n",
       "    <tr>\n",
       "      <th>Trended in 1 country</th>\n",
       "      <td>71.774113</td>\n",
       "      <td>26.603777</td>\n",
       "      <td>1.622110</td>\n",
       "    </tr>\n",
       "    <tr>\n",
       "      <th>Trended in 2 to 5 countries</th>\n",
       "      <td>34.607828</td>\n",
       "      <td>54.526220</td>\n",
       "      <td>10.865951</td>\n",
       "    </tr>\n",
       "    <tr>\n",
       "      <th>Trended in more than 5 countries</th>\n",
       "      <td>5.436893</td>\n",
       "      <td>64.854369</td>\n",
       "      <td>29.708738</td>\n",
       "    </tr>\n",
       "  </tbody>\n",
       "</table>\n",
       "</div>"
      ],
      "text/plain": [
       "                                  Single Day(%)  Two to Five Days(%)  \\\n",
       "Country Segment                                                        \n",
       "Trended in 1 country                  71.774113            26.603777   \n",
       "Trended in 2 to 5 countries           34.607828            54.526220   \n",
       "Trended in more than 5 countries       5.436893            64.854369   \n",
       "\n",
       "                                  More than five Days(%)  \n",
       "Country Segment                                           \n",
       "Trended in 1 country                            1.622110  \n",
       "Trended in 2 to 5 countries                    10.865951  \n",
       "Trended in more than 5 countries               29.708738  "
      ]
     },
     "execution_count": 26,
     "metadata": {},
     "output_type": "execute_result"
    }
   ],
   "source": [
    "#Table: Mean Days Trending by No. of countries trended in \n",
    "country_trended_percentage_df"
   ]
  },
  {
   "cell_type": "markdown",
   "metadata": {},
   "source": [
    "Approach: Create segments based on the above categories and incorporate into dataframe (df: Remove duplicates so that dataset contains 1 row per video_id per country). Group by video_id and Days_trending segment and count by countries_trended_in segment. Determine percentage of total per countries_trended_in segment. "
   ]
  },
  {
   "cell_type": "code",
   "execution_count": 27,
   "metadata": {},
   "outputs": [
    {
     "data": {
      "text/plain": [
       "[Text(0, 0, '1 Country\\n (N=170,457)'),\n",
       " Text(0, 0, '2-5 Countries\\n (N=13,234)'),\n",
       " Text(0, 0, 'More than 5 Countries\\n (N=515)')]"
      ]
     },
     "execution_count": 27,
     "metadata": {},
     "output_type": "execute_result"
    },
    {
     "data": {
      "text/plain": [
       "[]"
      ]
     },
     "execution_count": 27,
     "metadata": {},
     "output_type": "execute_result"
    },
    {
     "data": {
      "text/plain": [
       "[]"
      ]
     },
     "execution_count": 27,
     "metadata": {},
     "output_type": "execute_result"
    },
    {
     "data": {
      "text/plain": [
       "Text(0.5, 0, 'No. of Countries Trended In')"
      ]
     },
     "execution_count": 27,
     "metadata": {},
     "output_type": "execute_result"
    },
    {
     "data": {
      "text/plain": [
       "Text(0, 0.5, 'Percentage of Videos')"
      ]
     },
     "execution_count": 27,
     "metadata": {},
     "output_type": "execute_result"
    },
    {
     "data": {
      "text/plain": [
       "Text(0.5, 1.0, 'Mean Days Videos Trended by No. of Countries Trended In')"
      ]
     },
     "execution_count": 27,
     "metadata": {},
     "output_type": "execute_result"
    },
    {
     "data": {
      "text/plain": [
       "<matplotlib.legend.Legend at 0x1489c45e0>"
      ]
     },
     "execution_count": 27,
     "metadata": {},
     "output_type": "execute_result"
    },
    {
     "data": {
      "text/plain": [
       "Text(0.0, 35.88705655971887, '71')"
      ]
     },
     "execution_count": 27,
     "metadata": {},
     "output_type": "execute_result"
    },
    {
     "data": {
      "text/plain": [
       "Text(1.0, 17.303914160495694, '34')"
      ]
     },
     "execution_count": 27,
     "metadata": {},
     "output_type": "execute_result"
    },
    {
     "data": {
      "text/plain": [
       "Text(2.0, 2.7184466019417477, '5')"
      ]
     },
     "execution_count": 27,
     "metadata": {},
     "output_type": "execute_result"
    },
    {
     "data": {
      "text/plain": [
       "Text(0.0, 85.07600157224402, '26')"
      ]
     },
     "execution_count": 27,
     "metadata": {},
     "output_type": "execute_result"
    },
    {
     "data": {
      "text/plain": [
       "Text(1.0, 61.87093849176364, '54')"
      ]
     },
     "execution_count": 27,
     "metadata": {},
     "output_type": "execute_result"
    },
    {
     "data": {
      "text/plain": [
       "Text(2.0, 37.864077669902905, '64')"
      ]
     },
     "execution_count": 27,
     "metadata": {},
     "output_type": "execute_result"
    },
    {
     "data": {
      "text/plain": [
       "Text(0.0, 99.18894501252515, '1')"
      ]
     },
     "execution_count": 27,
     "metadata": {},
     "output_type": "execute_result"
    },
    {
     "data": {
      "text/plain": [
       "Text(1.0, 94.56702433126794, '10')"
      ]
     },
     "execution_count": 27,
     "metadata": {},
     "output_type": "execute_result"
    },
    {
     "data": {
      "text/plain": [
       "Text(2.0, 85.14563106796118, '29')"
      ]
     },
     "execution_count": 27,
     "metadata": {},
     "output_type": "execute_result"
    },
    {
     "data": {
      "text/plain": [
       "[<matplotlib.patches.Rectangle at 0x14fc6f6d0>,\n",
       " <matplotlib.patches.Rectangle at 0x14fc6f4c0>,\n",
       " <matplotlib.patches.Rectangle at 0x14fc6fb80>,\n",
       " <matplotlib.patches.Rectangle at 0x14fc6ffd0>,\n",
       " <matplotlib.patches.Rectangle at 0x14fc6f640>,\n",
       " <matplotlib.patches.Rectangle at 0x14fc81400>,\n",
       " <matplotlib.patches.Rectangle at 0x14fc81850>,\n",
       " <matplotlib.patches.Rectangle at 0x14fc6f520>,\n",
       " <matplotlib.patches.Rectangle at 0x14fc81c40>]"
      ]
     },
     "execution_count": 27,
     "metadata": {},
     "output_type": "execute_result"
    },
    {
     "data": {
      "image/png": "[encoded data removed]",
      "text/plain": [
       "<Figure size 576x360 with 1 Axes>"
      ]
     },
     "metadata": {
      "needs_background": "light"
     },
     "output_type": "display_data"
    }
   ],
   "source": [
    "#create stacked bar chart - by countries segment\n",
    "\n",
    "colors=[\"cyan\",  \"mediumpurple\", \"gold\" ]\n",
    "labels=[f\"1 Country\\n (N=170,457)\", \n",
    "        \"2-5 Countries\\n (N=13,234)\", \n",
    "        \"More than 5 Countries\\n (N=515)\"]\n",
    "legend_labels=[\"Single Day\", \"2 to 5 Days\", \"More than 5 Days\"]\n",
    "                                   \n",
    "ax = country_trended_percentage_df.plot(kind=\"bar\", \n",
    "                                   stacked=True, \n",
    "                                   color=colors,\n",
    "                                        alpha=0.7,\n",
    "                                   figsize=(8,5),\n",
    "                                   fontsize=12,\n",
    "                                   rot=0,\n",
    "                                   ylim=(0,110))\n",
    "\n",
    "#Formatting                                  \n",
    "ax.set_frame_on(False)  \n",
    "\n",
    "                                     \n",
    "ax.set_xticklabels(labels)\n",
    "                         \n",
    "ax.set_yticklabels([])\n",
    "ax.set_yticks([])\n",
    "\n",
    "ax.set_xlabel(\"No. of Countries Trended In\", \n",
    "              fontsize=14, \n",
    "              labelpad=20)\n",
    "\n",
    "ax.set_ylabel(\"Percentage of Videos\", \n",
    "              fontsize=14, \n",
    "              labelpad=10)\n",
    "\n",
    "ax.set_title(\"Mean Days Videos Trended by No. of Countries Trended In\", \n",
    "             fontsize=14,\n",
    "             fontweight='bold')\n",
    "\n",
    "plt.legend(legend_labels, \n",
    "           loc=\"center right\", \n",
    "           bbox_to_anchor=(1.3, 0.5),\n",
    "           fontsize=12)\n",
    "\n",
    "#data labels\n",
    "for rect in ax.patches:\n",
    "    height = rect.get_height()\n",
    "    width = rect.get_width()\n",
    "    x = rect.get_x()\n",
    "    y = rect.get_y()\n",
    "\n",
    "    padding = 0.25\n",
    "    label_text = int(height)\n",
    "    \n",
    "    label_x = x + width - padding\n",
    "    label_y = y + height / 2\n",
    "    \n",
    "    ax.text(label_x, label_y, label_text, \n",
    "            ha='center', va='center',\n",
    "           fontweight = \"bold\")\n",
    "    \n",
    "ax.patches\n",
    "\n",
    "plt.savefig('../Image/Mean_Days_Videos_Trended_by_No._of_Countries_Trended_In.png', \n",
    "            bbox_inches = \"tight\" )\n",
    "\n",
    "plt.show()"
   ]
  },
  {
   "cell_type": "markdown",
   "metadata": {},
   "source": [
    "Approach: Plot table (Mean Days Trending by No. of countries trended in) \n",
    "\n",
    "Insight: The more countries videos trended in, the greater the proportion that trend for more than a single day. "
   ]
  },
  {
   "cell_type": "code",
   "execution_count": 28,
   "metadata": {},
   "outputs": [
    {
     "data": {
      "text/html": [
       "<div>\n",
       "<style scoped>\n",
       "    .dataframe tbody tr th:only-of-type {\n",
       "        vertical-align: middle;\n",
       "    }\n",
       "\n",
       "    .dataframe tbody tr th {\n",
       "        vertical-align: top;\n",
       "    }\n",
       "\n",
       "    .dataframe thead th {\n",
       "        text-align: right;\n",
       "    }\n",
       "</style>\n",
       "<table border=\"1\" class=\"dataframe\">\n",
       "  <thead>\n",
       "    <tr style=\"text-align: right;\">\n",
       "      <th></th>\n",
       "      <th>Single Day(%)</th>\n",
       "      <th>Two to Five Days(%)</th>\n",
       "      <th>More than Five Days(%)</th>\n",
       "    </tr>\n",
       "    <tr>\n",
       "      <th>country</th>\n",
       "      <th></th>\n",
       "      <th></th>\n",
       "      <th></th>\n",
       "    </tr>\n",
       "  </thead>\n",
       "  <tbody>\n",
       "    <tr>\n",
       "      <th>JP</th>\n",
       "      <td>88.605534</td>\n",
       "      <td>11.394466</td>\n",
       "      <td>0.000000</td>\n",
       "    </tr>\n",
       "    <tr>\n",
       "      <th>RU</th>\n",
       "      <td>84.489903</td>\n",
       "      <td>15.510097</td>\n",
       "      <td>0.000000</td>\n",
       "    </tr>\n",
       "    <tr>\n",
       "      <th>MX</th>\n",
       "      <td>83.700585</td>\n",
       "      <td>16.299415</td>\n",
       "      <td>0.000000</td>\n",
       "    </tr>\n",
       "    <tr>\n",
       "      <th>FR</th>\n",
       "      <td>75.198796</td>\n",
       "      <td>24.797932</td>\n",
       "      <td>0.003272</td>\n",
       "    </tr>\n",
       "    <tr>\n",
       "      <th>DE</th>\n",
       "      <td>72.258805</td>\n",
       "      <td>27.734441</td>\n",
       "      <td>0.006754</td>\n",
       "    </tr>\n",
       "    <tr>\n",
       "      <th>CA</th>\n",
       "      <td>59.432107</td>\n",
       "      <td>39.986069</td>\n",
       "      <td>0.581824</td>\n",
       "    </tr>\n",
       "    <tr>\n",
       "      <th>IN</th>\n",
       "      <td>47.994111</td>\n",
       "      <td>50.625690</td>\n",
       "      <td>1.380199</td>\n",
       "    </tr>\n",
       "    <tr>\n",
       "      <th>KR</th>\n",
       "      <td>39.098076</td>\n",
       "      <td>60.372122</td>\n",
       "      <td>0.529801</td>\n",
       "    </tr>\n",
       "    <tr>\n",
       "      <th>US</th>\n",
       "      <td>11.140876</td>\n",
       "      <td>37.015443</td>\n",
       "      <td>51.843681</td>\n",
       "    </tr>\n",
       "    <tr>\n",
       "      <th>GB</th>\n",
       "      <td>7.011635</td>\n",
       "      <td>17.636252</td>\n",
       "      <td>75.352113</td>\n",
       "    </tr>\n",
       "  </tbody>\n",
       "</table>\n",
       "</div>"
      ],
      "text/plain": [
       "         Single Day(%)  Two to Five Days(%)  More than Five Days(%)\n",
       "country                                                            \n",
       "JP           88.605534            11.394466                0.000000\n",
       "RU           84.489903            15.510097                0.000000\n",
       "MX           83.700585            16.299415                0.000000\n",
       "FR           75.198796            24.797932                0.003272\n",
       "DE           72.258805            27.734441                0.006754\n",
       "CA           59.432107            39.986069                0.581824\n",
       "IN           47.994111            50.625690                1.380199\n",
       "KR           39.098076            60.372122                0.529801\n",
       "US           11.140876            37.015443               51.843681\n",
       "GB            7.011635            17.636252               75.352113"
      ]
     },
     "execution_count": 28,
     "metadata": {},
     "output_type": "execute_result"
    }
   ],
   "source": [
    "#Table: Days Trending by Country\n",
    "\n",
    "country_percentage_df.sort_values(by=\"Single Day(%)\", ascending=False, inplace=True)\n",
    "\n",
    "country_percentage_df"
   ]
  },
  {
   "cell_type": "markdown",
   "metadata": {},
   "source": [
    "Approach: Count no. of days a video trended by country. Count no. of videos per days_trending segment per country. Determine percentage of total per country.  "
   ]
  },
  {
   "cell_type": "code",
   "execution_count": 29,
   "metadata": {},
   "outputs": [
    {
     "data": {
      "text/plain": [
       "[Text(0, 0, 'Japan\\n (N=12,901)'),\n",
       " Text(0, 0, 'Russia\\n (N=34,268)'),\n",
       " Text(0, 0, 'Mexico\\n (N=33,492)'),\n",
       " Text(0, 0, 'France\\n (N=30,559)'),\n",
       " Text(0, 0, 'Germany\\n (N=29,613)'),\n",
       " Text(0, 0, 'Canada\\n (N=24,406)'),\n",
       " Text(0, 0, 'India\\n (N=16,302)'),\n",
       " Text(0, 0, 'Korea\\n (N=15,855)'),\n",
       " Text(0, 0, 'United States\\n (N=6,346)'),\n",
       " Text(0, 0, 'United Kingdom\\n (N=3,266)')]"
      ]
     },
     "execution_count": 29,
     "metadata": {},
     "output_type": "execute_result"
    },
    {
     "data": {
      "text/plain": [
       "[]"
      ]
     },
     "execution_count": 29,
     "metadata": {},
     "output_type": "execute_result"
    },
    {
     "data": {
      "text/plain": [
       "Text(0, 0.5, 'Country')"
      ]
     },
     "execution_count": 29,
     "metadata": {},
     "output_type": "execute_result"
    },
    {
     "data": {
      "text/plain": [
       "Text(0.5, 0, 'Percentage of Videos')"
      ]
     },
     "execution_count": 29,
     "metadata": {},
     "output_type": "execute_result"
    },
    {
     "data": {
      "text/plain": [
       "Text(0.5, 1.0, 'Days Videos Trended by Country')"
      ]
     },
     "execution_count": 29,
     "metadata": {},
     "output_type": "execute_result"
    },
    {
     "data": {
      "text/plain": [
       "<matplotlib.legend.Legend at 0x1520a65b0>"
      ]
     },
     "execution_count": 29,
     "metadata": {},
     "output_type": "execute_result"
    },
    {
     "data": {
      "text/plain": [
       "Text(44.30276722734672, 0.0, '88')"
      ]
     },
     "execution_count": 29,
     "metadata": {},
     "output_type": "execute_result"
    },
    {
     "data": {
      "text/plain": [
       "Text(42.244951558305125, 1.0, '84')"
      ]
     },
     "execution_count": 29,
     "metadata": {},
     "output_type": "execute_result"
    },
    {
     "data": {
      "text/plain": [
       "Text(41.85029260718978, 2.0, '83')"
      ]
     },
     "execution_count": 29,
     "metadata": {},
     "output_type": "execute_result"
    },
    {
     "data": {
      "text/plain": [
       "Text(37.59939788605648, 3.0, '75')"
      ]
     },
     "execution_count": 29,
     "metadata": {},
     "output_type": "execute_result"
    },
    {
     "data": {
      "text/plain": [
       "Text(36.12940262722453, 4.0, '72')"
      ]
     },
     "execution_count": 29,
     "metadata": {},
     "output_type": "execute_result"
    },
    {
     "data": {
      "text/plain": [
       "Text(29.716053429484553, 5.0, '59')"
      ]
     },
     "execution_count": 29,
     "metadata": {},
     "output_type": "execute_result"
    },
    {
     "data": {
      "text/plain": [
       "Text(23.997055576002943, 6.0, '47')"
      ]
     },
     "execution_count": 29,
     "metadata": {},
     "output_type": "execute_result"
    },
    {
     "data": {
      "text/plain": [
       "Text(19.54903815830968, 7.0, '39')"
      ]
     },
     "execution_count": 29,
     "metadata": {},
     "output_type": "execute_result"
    },
    {
     "data": {
      "text/plain": [
       "Text(5.570438071225969, 8.0, '11')"
      ]
     },
     "execution_count": 29,
     "metadata": {},
     "output_type": "execute_result"
    },
    {
     "data": {
      "text/plain": [
       "Text(3.505817513778322, 9.0, '7')"
      ]
     },
     "execution_count": 29,
     "metadata": {},
     "output_type": "execute_result"
    },
    {
     "data": {
      "text/plain": [
       "Text(94.30276722734672, 0.0, '11')"
      ]
     },
     "execution_count": 29,
     "metadata": {},
     "output_type": "execute_result"
    },
    {
     "data": {
      "text/plain": [
       "Text(92.24495155830513, 1.0, '15')"
      ]
     },
     "execution_count": 29,
     "metadata": {},
     "output_type": "execute_result"
    },
    {
     "data": {
      "text/plain": [
       "Text(91.85029260718977, 2.0, '16')"
      ]
     },
     "execution_count": 29,
     "metadata": {},
     "output_type": "execute_result"
    },
    {
     "data": {
      "text/plain": [
       "Text(87.59776170686213, 3.0, '24')"
      ]
     },
     "execution_count": 29,
     "metadata": {},
     "output_type": "execute_result"
    },
    {
     "data": {
      "text/plain": [
       "Text(86.12602573194205, 4.0, '27')"
      ]
     },
     "execution_count": 29,
     "metadata": {},
     "output_type": "execute_result"
    },
    {
     "data": {
      "text/plain": [
       "Text(79.4251413586823, 5.0, '39')"
      ]
     },
     "execution_count": 29,
     "metadata": {},
     "output_type": "execute_result"
    },
    {
     "data": {
      "text/plain": [
       "Text(73.30695620169304, 6.0, '50')"
      ]
     },
     "execution_count": 29,
     "metadata": {},
     "output_type": "execute_result"
    },
    {
     "data": {
      "text/plain": [
       "Text(69.28413749605804, 7.0, '60')"
      ]
     },
     "execution_count": 29,
     "metadata": {},
     "output_type": "execute_result"
    },
    {
     "data": {
      "text/plain": [
       "Text(29.648597541758583, 8.0, '37')"
      ]
     },
     "execution_count": 29,
     "metadata": {},
     "output_type": "execute_result"
    },
    {
     "data": {
      "text/plain": [
       "Text(15.82976117575015, 9.0, '17')"
      ]
     },
     "execution_count": 29,
     "metadata": {},
     "output_type": "execute_result"
    },
    {
     "data": {
      "text/plain": [
       "Text(0.0, 0.0, '')"
      ]
     },
     "execution_count": 29,
     "metadata": {},
     "output_type": "execute_result"
    },
    {
     "data": {
      "text/plain": [
       "Text(0.0, 1.0, '')"
      ]
     },
     "execution_count": 29,
     "metadata": {},
     "output_type": "execute_result"
    },
    {
     "data": {
      "text/plain": [
       "Text(0.0, 2.0, '')"
      ]
     },
     "execution_count": 29,
     "metadata": {},
     "output_type": "execute_result"
    },
    {
     "data": {
      "text/plain": [
       "Text(99.99836382080565, 3.0, '')"
      ]
     },
     "execution_count": 29,
     "metadata": {},
     "output_type": "execute_result"
    },
    {
     "data": {
      "text/plain": [
       "Text(99.99662310471751, 4.0, '')"
      ]
     },
     "execution_count": 29,
     "metadata": {},
     "output_type": "execute_result"
    },
    {
     "data": {
      "text/plain": [
       "Text(99.70908792919774, 5.0, '')"
      ]
     },
     "execution_count": 29,
     "metadata": {},
     "output_type": "execute_result"
    },
    {
     "data": {
      "text/plain": [
       "Text(99.30990062569009, 6.0, '1')"
      ]
     },
     "execution_count": 29,
     "metadata": {},
     "output_type": "execute_result"
    },
    {
     "data": {
      "text/plain": [
       "Text(99.73509933774835, 7.0, '')"
      ]
     },
     "execution_count": 29,
     "metadata": {},
     "output_type": "execute_result"
    },
    {
     "data": {
      "text/plain": [
       "Text(74.07815947053263, 8.0, '51')"
      ]
     },
     "execution_count": 29,
     "metadata": {},
     "output_type": "execute_result"
    },
    {
     "data": {
      "text/plain": [
       "Text(62.323943661971825, 9.0, '75')"
      ]
     },
     "execution_count": 29,
     "metadata": {},
     "output_type": "execute_result"
    },
    {
     "data": {
      "text/plain": [
       "[<matplotlib.patches.Rectangle at 0x1520562e0>,\n",
       " <matplotlib.patches.Rectangle at 0x152056130>,\n",
       " <matplotlib.patches.Rectangle at 0x152056790>,\n",
       " <matplotlib.patches.Rectangle at 0x152056a30>,\n",
       " <matplotlib.patches.Rectangle at 0x152056cd0>,\n",
       " <matplotlib.patches.Rectangle at 0x152056f70>,\n",
       " <matplotlib.patches.Rectangle at 0x152065250>,\n",
       " <matplotlib.patches.Rectangle at 0x1520654f0>,\n",
       " <matplotlib.patches.Rectangle at 0x1520657c0>,\n",
       " <matplotlib.patches.Rectangle at 0x152065a60>,\n",
       " <matplotlib.patches.Rectangle at 0x152065eb0>,\n",
       " <matplotlib.patches.Rectangle at 0x152056250>,\n",
       " <matplotlib.patches.Rectangle at 0x1520722b0>,\n",
       " <matplotlib.patches.Rectangle at 0x152072550>,\n",
       " <matplotlib.patches.Rectangle at 0x1520727f0>,\n",
       " <matplotlib.patches.Rectangle at 0x152072a90>,\n",
       " <matplotlib.patches.Rectangle at 0x152072d30>,\n",
       " <matplotlib.patches.Rectangle at 0x152072fd0>,\n",
       " <matplotlib.patches.Rectangle at 0x1520802b0>,\n",
       " <matplotlib.patches.Rectangle at 0x152080550>,\n",
       " <matplotlib.patches.Rectangle at 0x1520809a0>,\n",
       " <matplotlib.patches.Rectangle at 0x152056220>,\n",
       " <matplotlib.patches.Rectangle at 0x152080d60>,\n",
       " <matplotlib.patches.Rectangle at 0x152080fd0>,\n",
       " <matplotlib.patches.Rectangle at 0x1520902e0>,\n",
       " <matplotlib.patches.Rectangle at 0x152090580>,\n",
       " <matplotlib.patches.Rectangle at 0x152090820>,\n",
       " <matplotlib.patches.Rectangle at 0x152090ac0>,\n",
       " <matplotlib.patches.Rectangle at 0x152090d60>,\n",
       " <matplotlib.patches.Rectangle at 0x152090fd0>]"
      ]
     },
     "execution_count": 29,
     "metadata": {},
     "output_type": "execute_result"
    },
    {
     "data": {
      "image/png": "[encoded data removed]",
      "text/plain": [
       "<Figure size 720x720 with 1 Axes>"
      ]
     },
     "metadata": {
      "needs_background": "light"
     },
     "output_type": "display_data"
    }
   ],
   "source": [
    "#create stacked bar chart - by individual countries\n",
    "\n",
    "colors1=[\"cyan\",  \"mediumpurple\", \"gold\" ]\n",
    "labels1=[\"Japan\\n (N=12,901)\",\n",
    "        \"Russia\\n (N=34,268)\",\n",
    "        \"Mexico\\n (N=33,492)\",\n",
    "        \"France\\n (N=30,559)\",\n",
    "        \"Germany\\n (N=29,613)\",\n",
    "        \"Canada\\n (N=24,406)\", \n",
    "        \"India\\n (N=16,302)\",\n",
    "        \"Korea\\n (N=15,855)\",\n",
    "        \"United States\\n (N=6,346)\",\n",
    "        \"United Kingdom\\n (N=3,266)\"]\n",
    "\n",
    "legend_labels1=[\"Single Day\", \"2 to 5 Days\", \"More than 5 Days\"]\n",
    "                                   \n",
    "ax1 = country_percentage_df.plot(kind=\"barh\", \n",
    "                                   stacked=True, \n",
    "                                   color=colors,\n",
    "                                   alpha=0.7,\n",
    "                                   figsize=(10,10),\n",
    "                                   fontsize=12,\n",
    "                                   rot=0)                      \n",
    "\n",
    "#Formatting                                  \n",
    "ax1.set_frame_on(False)  \n",
    "                                     \n",
    "ax1.set_yticklabels(labels1)\n",
    "                         \n",
    "ax1.set_xticks([])\n",
    "\n",
    "ax1.set_ylabel(\"Country\", \n",
    "              fontsize=14, \n",
    "              labelpad=20)\n",
    "\n",
    "ax1.set_xlabel(\"Percentage of Videos\", \n",
    "              fontsize=14, \n",
    "              labelpad=10)\n",
    "\n",
    "ax1.set_title(\"Days Videos Trended by Country\", \n",
    "             fontsize=14,\n",
    "             fontweight='bold')\n",
    "\n",
    "plt.legend(legend_labels, \n",
    "           loc=\"center right\", \n",
    "           bbox_to_anchor=(1.4, 0.5),\n",
    "           fontsize=12)\n",
    "\n",
    "#data labels\n",
    "for rect in ax1.patches:\n",
    "    height = rect.get_height()\n",
    "    width = rect.get_width()\n",
    "    x = rect.get_x()\n",
    "    y = rect.get_y()\n",
    "\n",
    "    padding = 0.25\n",
    "    label_text = (int(width) if int(width)!=0 else \"\")\n",
    "    \n",
    "    label_x = x + width - padding\n",
    "    label_y = y + height / 2\n",
    "    \n",
    "    label_x = x + width/2\n",
    "    label_y = y + height - padding\n",
    "    \n",
    "    ax1.text(label_x, label_y, label_text, \n",
    "            ha='center', va='center',\n",
    "           fontweight = \"bold\")\n",
    "    \n",
    "ax1.patches\n",
    "\n",
    "plt.savefig('../Image/Days_Videos_Trended_by_Country.png', \n",
    "            bbox_inches = \"tight\" )\n",
    "\n",
    "plt.show()"
   ]
  },
  {
   "cell_type": "markdown",
   "metadata": {},
   "source": [
    "Approach: Plot table (Days Trending by Country) \n",
    "\n",
    "Insight: For six of ten countries, the majority of videos trend for a single days. In Korea, just under half of videos trend for 2 to 5 days whereas over half of videos in India trended for that interval. US and UK are outliers amoung the countries as the majority of videos that trended in these countries did so for more than five days.   "
   ]
  },
  {
   "cell_type": "markdown",
   "metadata": {},
   "source": [
    "Analysis: \n",
    "====\n",
    "\n",
    "Do certain countries tend to trend the same videos? "
   ]
  },
  {
   "cell_type": "markdown",
   "metadata": {},
   "source": [
    "Data Manipulation\n",
    "---"
   ]
  },
  {
   "cell_type": "code",
   "execution_count": 30,
   "metadata": {},
   "outputs": [],
   "source": [
    "#counts days trending (doing this separate from other analysis due to other index resets causing incorrect findings)\n",
    "\n",
    "    #bring country segmentation into originally dataframe\n",
    "holder = Total_DF \n",
    "\n",
    "holder.set_index(\"video_id\", inplace=True)\n",
    "\n",
    "holder[\"Countries Trended in Segment\"] = combined_per_video_df[\"Country Segment\"]\n",
    "\n",
    "   #create dataframe containing only those videos that trended in \n",
    "multi_country_df = holder.loc[holder[\"Countries Trended in Segment\"]!= \"Trended in 1 country\",:]\n",
    "\n",
    "#find first day to trend per each country\n",
    "First_day_trended_by_country = multi_country_df.groupby(\n",
    "    ['video_id',\"country\"]).aggregate(\n",
    "    First_Trend_Date=('trending_date', 'min'))\n",
    "\n",
    "First_day_trended_by_country.reset_index(inplace=True)"
   ]
  },
  {
   "cell_type": "code",
   "execution_count": 31,
   "metadata": {},
   "outputs": [
    {
     "data": {
      "text/html": [
       "<div>\n",
       "<style scoped>\n",
       "    .dataframe tbody tr th:only-of-type {\n",
       "        vertical-align: middle;\n",
       "    }\n",
       "\n",
       "    .dataframe tbody tr th {\n",
       "        vertical-align: top;\n",
       "    }\n",
       "\n",
       "    .dataframe thead th {\n",
       "        text-align: right;\n",
       "    }\n",
       "</style>\n",
       "<table border=\"1\" class=\"dataframe\">\n",
       "  <thead>\n",
       "    <tr style=\"text-align: right;\">\n",
       "      <th></th>\n",
       "      <th>video_id</th>\n",
       "      <th>no of unique first trend dates</th>\n",
       "    </tr>\n",
       "  </thead>\n",
       "  <tbody>\n",
       "    <tr>\n",
       "      <th>0</th>\n",
       "      <td>--45ws7CEN0</td>\n",
       "      <td>1</td>\n",
       "    </tr>\n",
       "    <tr>\n",
       "      <th>1</th>\n",
       "      <td>--7vNbh4UNA</td>\n",
       "      <td>1</td>\n",
       "    </tr>\n",
       "    <tr>\n",
       "      <th>2</th>\n",
       "      <td>--I0aj8MUdU</td>\n",
       "      <td>1</td>\n",
       "    </tr>\n",
       "    <tr>\n",
       "      <th>3</th>\n",
       "      <td>--MtKsH5oBY</td>\n",
       "      <td>2</td>\n",
       "    </tr>\n",
       "    <tr>\n",
       "      <th>4</th>\n",
       "      <td>-0CMnp02rNY</td>\n",
       "      <td>2</td>\n",
       "    </tr>\n",
       "    <tr>\n",
       "      <th>...</th>\n",
       "      <td>...</td>\n",
       "      <td>...</td>\n",
       "    </tr>\n",
       "    <tr>\n",
       "      <th>13744</th>\n",
       "      <td>zy9mKHH0ZQY</td>\n",
       "      <td>1</td>\n",
       "    </tr>\n",
       "    <tr>\n",
       "      <th>13745</th>\n",
       "      <td>zyFrNZKAYCk</td>\n",
       "      <td>1</td>\n",
       "    </tr>\n",
       "    <tr>\n",
       "      <th>13746</th>\n",
       "      <td>zyH5x08KdzA</td>\n",
       "      <td>1</td>\n",
       "    </tr>\n",
       "    <tr>\n",
       "      <th>13747</th>\n",
       "      <td>zyOLIVyBqc4</td>\n",
       "      <td>1</td>\n",
       "    </tr>\n",
       "    <tr>\n",
       "      <th>13748</th>\n",
       "      <td>zyPEekHfAkc</td>\n",
       "      <td>1</td>\n",
       "    </tr>\n",
       "  </tbody>\n",
       "</table>\n",
       "<p>13749 rows × 2 columns</p>\n",
       "</div>"
      ],
      "text/plain": [
       "          video_id  no of unique first trend dates\n",
       "0      --45ws7CEN0                               1\n",
       "1      --7vNbh4UNA                               1\n",
       "2      --I0aj8MUdU                               1\n",
       "3      --MtKsH5oBY                               2\n",
       "4      -0CMnp02rNY                               2\n",
       "...            ...                             ...\n",
       "13744  zy9mKHH0ZQY                               1\n",
       "13745  zyFrNZKAYCk                               1\n",
       "13746  zyH5x08KdzA                               1\n",
       "13747  zyOLIVyBqc4                               1\n",
       "13748  zyPEekHfAkc                               1\n",
       "\n",
       "[13749 rows x 2 columns]"
      ]
     },
     "execution_count": 31,
     "metadata": {},
     "output_type": "execute_result"
    }
   ],
   "source": [
    "# count no. of videos first trended in various counties on the same date/different dates\n",
    "First_dates=First_day_trended_by_country.groupby([\"video_id\", \"First_Trend_Date\"]).count().reset_index()\n",
    "\n",
    "First_dates_counts_by_id = First_dates.groupby(\"video_id\")[\"First_Trend_Date\"].count()\n",
    "\n",
    "Final_First_dates_counts_by_id = First_dates_counts_by_id.reset_index()\n",
    "\n",
    "Final_First_dates_counts_by_id.rename(columns={\"First_Trend_Date\": \"no of unique first trend dates\"}, inplace=True)\n",
    "\n",
    "Final_First_dates_counts_by_id"
   ]
  },
  {
   "cell_type": "code",
   "execution_count": 32,
   "metadata": {},
   "outputs": [
    {
     "data": {
      "text/plain": [
       "<Figure size 360x360 with 0 Axes>"
      ]
     },
     "execution_count": 32,
     "metadata": {},
     "output_type": "execute_result"
    },
    {
     "data": {
      "text/plain": [
       "([<matplotlib.axis.XTick at 0x152104d90>,\n",
       "  <matplotlib.axis.XTick at 0x152104700>,\n",
       "  <matplotlib.axis.XTick at 0x14fc6f5e0>,\n",
       "  <matplotlib.axis.XTick at 0x151f750a0>,\n",
       "  <matplotlib.axis.XTick at 0x151f75490>,\n",
       "  <matplotlib.axis.XTick at 0x151f75a30>,\n",
       "  <matplotlib.axis.XTick at 0x151f75fd0>,\n",
       "  <matplotlib.axis.XTick at 0x151f7a5b0>,\n",
       "  <matplotlib.axis.XTick at 0x151f7ab50>,\n",
       "  <matplotlib.axis.XTick at 0x151f7d130>],\n",
       " <a list of 10 Text xticklabel objects>)"
      ]
     },
     "execution_count": 32,
     "metadata": {},
     "output_type": "execute_result"
    },
    {
     "data": {
      "text/plain": [
       "(-0.75, 9.75)"
      ]
     },
     "execution_count": 32,
     "metadata": {},
     "output_type": "execute_result"
    },
    {
     "data": {
      "text/plain": [
       "(0, 29.17438647369429)"
      ]
     },
     "execution_count": 32,
     "metadata": {},
     "output_type": "execute_result"
    },
    {
     "data": {
      "text/plain": [
       "Text(0.5, 1.0, 'Percentage of Videos Trending in \\nMultiple Countries by Country of Viewership')"
      ]
     },
     "execution_count": 32,
     "metadata": {},
     "output_type": "execute_result"
    },
    {
     "data": {
      "text/plain": [
       "Text(0.5, 0, 'Country of Viewership')"
      ]
     },
     "execution_count": 32,
     "metadata": {},
     "output_type": "execute_result"
    },
    {
     "data": {
      "text/plain": [
       "Text(0, 0.5, '% of Videos trending in Multiple Countries')"
      ]
     },
     "execution_count": 32,
     "metadata": {},
     "output_type": "execute_result"
    },
    {
     "data": {
      "image/png": "[encoded data removed]",
      "text/plain": [
       "<Figure size 360x360 with 1 Axes>"
      ]
     },
     "metadata": {
      "needs_background": "light"
     },
     "output_type": "display_data"
    }
   ],
   "source": [
    "#display the findings for where videos, that trended in multiple countries, trend\n",
    "\n",
    "#prep labels\n",
    "\n",
    "labels2 = [\"Canada\", \n",
    "           \"Germany\",\n",
    "           \"France\",\n",
    "           \"United States\",\n",
    "           \"Mexico\",\n",
    "           \"Russia\",\n",
    "           \"India\",\n",
    "           \"United Kingdom\",\n",
    "            \"Korea\",\n",
    "            \"Japan\"]\n",
    "\n",
    "#setup axis\n",
    "x = np.arange(len(labels2))\n",
    "y= First_day_trended_by_country[\"country\"].value_counts()*100/First_day_trended_by_country[\"country\"].count()\n",
    "\n",
    "#plot\n",
    "plt.figure(figsize=(5,5))\n",
    "\n",
    "ax3 = plt.bar(x, \n",
    "        y, \n",
    "        color='mediumpurple', \n",
    "        alpha=0.6, \n",
    "        align=\"center\")\n",
    "\n",
    "#formatting\n",
    "tick_locations = [value for value in x]\n",
    "\n",
    "plt.xticks(tick_locations, labels2, rotation=90)\n",
    "\n",
    "plt.xlim(-0.75, len(x)-0.25)\n",
    "\n",
    "plt.ylim(0, max(y)+3)\n",
    "\n",
    "plt.title(\"Percentage of Videos Trending in \\nMultiple Countries by Country of Viewership\",\n",
    "         fontsize=14, fontweight='bold')\n",
    "plt.xlabel(\"Country of Viewership\", fontsize=12)\n",
    "plt.ylabel(\"% of Videos trending in Multiple Countries\", fontsize=12)\n",
    "\n",
    "plt.savefig('../Image/Percentage_of_Videos_Trending_in_Multiple_Countries_by_Country_of_Viewership.png', \n",
    "            bbox_inches = \"tight\" )\n",
    "\n",
    "plt.show()"
   ]
  },
  {
   "cell_type": "markdown",
   "metadata": {},
   "source": [
    "Approach: create a dataframe only containing videos that trended in 2+ countries. Remove duplicates such as there was only 1 row per video_id per country, and count the number of videos per country.  \n",
    "\n",
    "Analysis: Videos that trended in multiple countries most often trended in Canada (over 1 in 4) followed by Germany (over 1 in 5) and France (just under 1 in 6). Few Videos that trended in multiple countries trend in the US, suggesting it has less impact on trending in other countries. "
   ]
  },
  {
   "cell_type": "code",
   "execution_count": 33,
   "metadata": {},
   "outputs": [
    {
     "data": {
      "text/plain": [
       "<Figure size 432x360 with 0 Axes>"
      ]
     },
     "execution_count": 33,
     "metadata": {},
     "output_type": "execute_result"
    },
    {
     "data": {
      "text/plain": [
       "([<matplotlib.patches.Wedge at 0x151f89640>,\n",
       "  <matplotlib.patches.Wedge at 0x151f89cd0>],\n",
       " [Text(1.0909909692766604, -0.14049450151793577, ''),\n",
       "  Text(-1.0909909626996368, 0.14049455259090943, '')],\n",
       " [Text(0.5950859832418147, -0.07663336446432858, '79.3%'),\n",
       "  Text(-0.5950859796543473, 0.07663339232231423, '20.7%')])"
      ]
     },
     "execution_count": 33,
     "metadata": {},
     "output_type": "execute_result"
    },
    {
     "data": {
      "text/plain": [
       "Text(0.5, 1.0, 'Whether videos that trended in multiple countries\\n first did so on the same day or different days')"
      ]
     },
     "execution_count": 33,
     "metadata": {},
     "output_type": "execute_result"
    },
    {
     "data": {
      "text/plain": [
       "<matplotlib.legend.Legend at 0x151f89580>"
      ]
     },
     "execution_count": 33,
     "metadata": {},
     "output_type": "execute_result"
    },
    {
     "data": {
      "text/plain": [
       "(-1.1210415675365222,\n",
       " 1.1063316639807232,\n",
       " -1.105837706058478,\n",
       " 1.105119121212891)"
      ]
     },
     "execution_count": 33,
     "metadata": {},
     "output_type": "execute_result"
    },
    {
     "data": {
      "image/png": "[encoded data removed]",
      "text/plain": [
       "<Figure size 432x360 with 1 Axes>"
      ]
     },
     "metadata": {},
     "output_type": "display_data"
    }
   ],
   "source": [
    "#display the findings for segmentation: number of countries trended in \n",
    "\n",
    "plt.figure(figsize=(6,5))\n",
    "\n",
    "    #stratify dataset\n",
    "same_day = Final_First_dates_counts_by_id.loc[Final_First_dates_counts_by_id[\"no of unique first trend dates\"]==1, :]\n",
    "multiple_days = Final_First_dates_counts_by_id.loc[Final_First_dates_counts_by_id[\"no of unique first trend dates\"]>1, :]\n",
    "\n",
    "    #visualize\n",
    "# Labels for the sections of our pie chart\n",
    "labels = [\"First Trended on the Same Day\", \"First Trended on Different Days (all or some)\"]\n",
    "\n",
    "# The values of each section of the pie chart\n",
    "\n",
    "sizes = [len(same_day)/Final_First_dates_counts_by_id[\"video_id\"].count(), \n",
    "         len(multiple_days)/Final_First_dates_counts_by_id[\"video_id\"].count()]\n",
    "\n",
    "# The colors of each section of the pie chart\n",
    "#colors = [plt.cm.Blues(0.4), plt.cm.Purples(0.4), plt.cm.Greens(0.4)]\n",
    "colors = [\"cyan\", \"gold\"]\n",
    "\n",
    "#Display\n",
    "plt.pie(sizes, colors=colors, autopct=\"%1.1f%%\",\n",
    "        shadow=False, startangle=210, \n",
    "        wedgeprops={'edgecolor':'w', \"alpha\" : 0.7}, \n",
    "        textprops={\"fontsize\": 12, \"color\":'black', \"fontweight\":'bold'})\n",
    "\n",
    "#formatting\n",
    "plt.title(\"Whether videos that trended in multiple countries\\n first did so on the same day or different days\", \n",
    "          fontsize=14, fontweight='bold')\n",
    "plt.legend(labels, loc=\"lower center\", bbox_to_anchor=(0.5, -0.2), fontsize=12)\n",
    "plt.tight_layout()\n",
    "plt.axis(\"equal\")\n",
    "\n",
    "plt.savefig('../Image/Whether_videos_that_trended_in_multiple_countries_first_did_so_on_the_same_day_or_different_days.png', \n",
    "            bbox_inches = \"tight\" )\n",
    "plt.show()"
   ]
  },
  {
   "cell_type": "markdown",
   "metadata": {},
   "source": [
    "Approach: create a dataframe only containing videos that trended in 2+ countries. Determine first day of trending per video per country, and put in lists per video_id containing only unique dates. Count the lengths of lists to determine no. of unique first days.\n",
    "\n",
    "Insights: Just under 8 in 10 videos that trended in multple countries first did so on same day across countries. This suggests that there is no single regional origin of trending for the majority of videos that trend in multiple countries. "
   ]
  },
  {
   "cell_type": "markdown",
   "metadata": {},
   "source": [
    "Analysis: \n",
    "---\n",
    "\n",
    "Where do video originate from? "
   ]
  },
  {
   "cell_type": "code",
   "execution_count": 34,
   "metadata": {},
   "outputs": [],
   "source": [
    "#Replace NaN with string to capture channels with unknown origins in the total\n",
    "\n",
    "ultimate_df[\"Country Origin\"].fillna(\"Unknown\", inplace=True)\n",
    "\n",
    "dedup_ultimate_df = ultimate_df.drop_duplicates(subset=['video_id', 'country'], keep='first')\n",
    "\n",
    "#find top 10 origins of channels\n",
    "\n",
    "Channel_origins = dedup_ultimate_df[\"Country Origin\"].value_counts().head(12).reset_index()\n",
    "\n",
    "counts= Channel_origins[\"Country Origin\"].tolist()"
   ]
  },
  {
   "cell_type": "markdown",
   "metadata": {},
   "source": [
    "Findings: \n",
    "---"
   ]
  },
  {
   "cell_type": "code",
   "execution_count": 35,
   "metadata": {},
   "outputs": [
    {
     "data": {
      "text/plain": [
       "<Figure size 360x360 with 0 Axes>"
      ]
     },
     "execution_count": 35,
     "metadata": {},
     "output_type": "execute_result"
    },
    {
     "data": {
      "text/plain": [
       "([<matplotlib.axis.XTick at 0x151fbf280>,\n",
       "  <matplotlib.axis.XTick at 0x151fbf250>,\n",
       "  <matplotlib.axis.XTick at 0x151f82f40>,\n",
       "  <matplotlib.axis.XTick at 0x13e7d3970>,\n",
       "  <matplotlib.axis.XTick at 0x13e7d3ee0>,\n",
       "  <matplotlib.axis.XTick at 0x13e7de4c0>,\n",
       "  <matplotlib.axis.XTick at 0x13e7b9520>,\n",
       "  <matplotlib.axis.XTick at 0x13e7deaf0>,\n",
       "  <matplotlib.axis.XTick at 0x13e7e30d0>,\n",
       "  <matplotlib.axis.XTick at 0x13e7e3670>,\n",
       "  <matplotlib.axis.XTick at 0x13e7e3c10>,\n",
       "  <matplotlib.axis.XTick at 0x13e7e91f0>],\n",
       " <a list of 12 Text xticklabel objects>)"
      ]
     },
     "execution_count": 35,
     "metadata": {},
     "output_type": "execute_result"
    },
    {
     "data": {
      "text/plain": [
       "(-0.75, 11.75)"
      ]
     },
     "execution_count": 35,
     "metadata": {},
     "output_type": "execute_result"
    },
    {
     "data": {
      "text/plain": [
       "(0, 96688)"
      ]
     },
     "execution_count": 35,
     "metadata": {},
     "output_type": "execute_result"
    },
    {
     "data": {
      "text/plain": [
       "Text(0.5, 1.0, 'Origin of Channels')"
      ]
     },
     "execution_count": 35,
     "metadata": {},
     "output_type": "execute_result"
    },
    {
     "data": {
      "text/plain": [
       "Text(0.5, 0, 'Country')"
      ]
     },
     "execution_count": 35,
     "metadata": {},
     "output_type": "execute_result"
    },
    {
     "data": {
      "text/plain": [
       "Text(0, 0.5, 'No. of Channels')"
      ]
     },
     "execution_count": 35,
     "metadata": {},
     "output_type": "execute_result"
    },
    {
     "data": {
      "image/png": "[encoded data removed]",
      "text/plain": [
       "<Figure size 360x360 with 1 Axes>"
      ]
     },
     "metadata": {
      "needs_background": "light"
     },
     "output_type": "display_data"
    }
   ],
   "source": [
    "#display the findings for where videos, that trended in multiple countries, trend\n",
    "\n",
    "#prep labels\n",
    "\n",
    "labels3 = [\"Unknown\", \n",
    "           \"United States\",\n",
    "           \"Russia\",\n",
    "           \"India\",\n",
    "           \"France\",\n",
    "           \"Germany\",\n",
    "           \"Mexico\",\n",
    "           \"Korea\",\n",
    "           \"Japan\",\n",
    "           \"Turkey\",\n",
    "           \"United Kingdom\",\n",
    "           \"Canada\"]\n",
    "       \n",
    "#setup axis\n",
    "x = np.arange(len(labels3))\n",
    "\n",
    "#plot\n",
    "plt.figure(figsize=(5,5))\n",
    "\n",
    "ax3 = plt.bar(x, \n",
    "        counts, \n",
    "        color='mediumpurple', \n",
    "        alpha=0.6, \n",
    "        align=\"center\")\n",
    "\n",
    "#formatting\n",
    "tick_locations_1 = [value for value in x]\n",
    "\n",
    "plt.xticks(tick_locations_1, labels3, rotation=90)\n",
    "\n",
    "plt.xlim(-0.75, len(x)-0.25)\n",
    "\n",
    "plt.ylim(0, max(counts)+5000)\n",
    "\n",
    "plt.title(\"Origin of Channels\", fontsize=14, fontweight='bold')\n",
    "plt.xlabel(\"Country\", fontsize=12)\n",
    "plt.ylabel(\"No. of Channels\", fontsize=12)\n",
    "\n",
    "plt.savefig('../Image/Origin_of_Channels.png', \n",
    "            bbox_inches = \"tight\" )\n",
    "plt.show()"
   ]
  },
  {
   "cell_type": "markdown",
   "metadata": {},
   "source": [
    "Approach: create a dataframe with a single row per country per video_id, counted the no. of channels by origin and display up to countries of interest.  \n",
    "\n",
    "Insights: Most video have an unknown origin. Of those that do, the highest proportion originate from the US.  "
   ]
  },
  {
   "cell_type": "code",
   "execution_count": 36,
   "metadata": {},
   "outputs": [
    {
     "data": {
      "text/plain": [
       "<Figure size 360x360 with 0 Axes>"
      ]
     },
     "execution_count": 36,
     "metadata": {},
     "output_type": "execute_result"
    },
    {
     "data": {
      "text/plain": [
       "([<matplotlib.axis.XTick at 0x152090bb0>,\n",
       "  <matplotlib.axis.XTick at 0x1520901c0>,\n",
       "  <matplotlib.axis.XTick at 0x137a3ca90>,\n",
       "  <matplotlib.axis.XTick at 0x151e45a90>,\n",
       "  <matplotlib.axis.XTick at 0x1489b7970>,\n",
       "  <matplotlib.axis.XTick at 0x152001c40>,\n",
       "  <matplotlib.axis.XTick at 0x152001130>,\n",
       "  <matplotlib.axis.XTick at 0x13e744c40>,\n",
       "  <matplotlib.axis.XTick at 0x152021b50>,\n",
       "  <matplotlib.axis.XTick at 0x1488d75b0>],\n",
       " <a list of 10 Text xticklabel objects>)"
      ]
     },
     "execution_count": 36,
     "metadata": {},
     "output_type": "execute_result"
    },
    {
     "data": {
      "text/plain": [
       "Text(0.5, 1.0, 'Variation in Origin of Videos Watched in Each Country')"
      ]
     },
     "execution_count": 36,
     "metadata": {},
     "output_type": "execute_result"
    },
    {
     "data": {
      "text/plain": [
       "Text(0.5, 0, 'Country of Viewing')"
      ]
     },
     "execution_count": 36,
     "metadata": {},
     "output_type": "execute_result"
    },
    {
     "data": {
      "text/plain": [
       "Text(0, 0.5, 'No. of Origin Countries')"
      ]
     },
     "execution_count": 36,
     "metadata": {},
     "output_type": "execute_result"
    },
    {
     "data": {
      "image/png": "[encoded data removed]",
      "text/plain": [
       "<Figure size 360x360 with 1 Axes>"
      ]
     },
     "metadata": {
      "needs_background": "light"
     },
     "output_type": "display_data"
    }
   ],
   "source": [
    "#country of origin counts\n",
    "\n",
    "#create a dataframe with one row per video per country\n",
    "one_per_video = ultimate_df.drop_duplicates(\n",
    "    subset=[\"video_id\", \"country\"], keep=\"first\")\n",
    "\n",
    "origin_counts_by_country_watched = one_per_video.groupby(\"country\")[\"Country Origin\"].value_counts().unstack()\n",
    "\n",
    "\n",
    "#origin_counts_by_country_watched_unstacked= origin_counts_by_country_watched.unstack()\n",
    "\n",
    "#prep labels\n",
    "\n",
    "labels4 = [\"France\",\n",
    "           \"Germany\",\n",
    "           \"Canada\", \n",
    "           \"Russia\",\n",
    "           \"Mexico\",\n",
    "           \"United States\",\n",
    "           \"United Kingdom\",\n",
    "           \"Korea\",\n",
    "           \"Japan\",\n",
    "           \"India\"]\n",
    "       \n",
    "#setup axis\n",
    "x = np.arange(len(labels4))\n",
    "\n",
    "#plot\n",
    "plt.figure(figsize=(5,5))\n",
    "\n",
    "ax4 = origin_counts_by_country_watched.count(axis=1).sort_values(ascending=False). plot(kind=\"bar\",        \n",
    "                                                          color='mediumpurple', \n",
    "                                                          alpha=0.6)\n",
    "\n",
    "#formatting\n",
    "tick_locations_2 = [value for value in x]\n",
    "\n",
    "plt.xticks(tick_locations_2, labels4, rotation=90)\n",
    "\n",
    "ax4.set_title(\"Variation in Origin of Videos Watched in Each Country\", \n",
    "              fontsize=14, fontweight='bold')\n",
    "ax4.set_xlabel(\"Country of Viewing\", fontsize=12)\n",
    "ax4.set_ylabel(\"No. of Origin Countries\", fontsize=12)\n",
    "\n",
    "plt.savefig('../Image/Variation_in_Origin_of_Videos_Watched_in_Each_Country.png', \n",
    "            bbox_inches = \"tight\" )\n",
    "\n",
    "plt.show()"
   ]
  },
  {
   "cell_type": "markdown",
   "metadata": {},
   "source": [
    "Approach: Create a dataframe with 1 row per video_id pre country. Count the number of channel origins by country.   \n",
    "\n",
    "Insights: Canada, Germany and France watch videos originating from over 80 known countries.  "
   ]
  },
  {
   "cell_type": "code",
   "execution_count": 37,
   "metadata": {},
   "outputs": [
    {
     "data": {
      "text/html": [
       "<div>\n",
       "<style scoped>\n",
       "    .dataframe tbody tr th:only-of-type {\n",
       "        vertical-align: middle;\n",
       "    }\n",
       "\n",
       "    .dataframe tbody tr th {\n",
       "        vertical-align: top;\n",
       "    }\n",
       "\n",
       "    .dataframe thead th {\n",
       "        text-align: right;\n",
       "    }\n",
       "</style>\n",
       "<table border=\"1\" class=\"dataframe\">\n",
       "  <thead>\n",
       "    <tr style=\"text-align: right;\">\n",
       "      <th></th>\n",
       "      <th>CA (%)</th>\n",
       "      <th>DE (%)</th>\n",
       "      <th>FR (%)</th>\n",
       "      <th>GB (%)</th>\n",
       "      <th>IN (%)</th>\n",
       "      <th>JP (%)</th>\n",
       "      <th>KR (%)</th>\n",
       "      <th>MX (%)</th>\n",
       "      <th>RU (%)</th>\n",
       "      <th>US (%)</th>\n",
       "    </tr>\n",
       "    <tr>\n",
       "      <th>country</th>\n",
       "      <th></th>\n",
       "      <th></th>\n",
       "      <th></th>\n",
       "      <th></th>\n",
       "      <th></th>\n",
       "      <th></th>\n",
       "      <th></th>\n",
       "      <th></th>\n",
       "      <th></th>\n",
       "      <th></th>\n",
       "    </tr>\n",
       "  </thead>\n",
       "  <tbody>\n",
       "    <tr>\n",
       "      <th>CA</th>\n",
       "      <td>5.236417</td>\n",
       "      <td>0.143407</td>\n",
       "      <td>2.351881</td>\n",
       "      <td>2.679669</td>\n",
       "      <td>4.916824</td>\n",
       "      <td>0.094239</td>\n",
       "      <td>0.700647</td>\n",
       "      <td>0.020487</td>\n",
       "      <td>0.249939</td>\n",
       "      <td>33.876916</td>\n",
       "    </tr>\n",
       "    <tr>\n",
       "      <th>DE</th>\n",
       "      <td>0.401851</td>\n",
       "      <td>33.799345</td>\n",
       "      <td>0.097930</td>\n",
       "      <td>1.246074</td>\n",
       "      <td>1.337251</td>\n",
       "      <td>0.023638</td>\n",
       "      <td>0.104684</td>\n",
       "      <td>0.000000</td>\n",
       "      <td>1.874177</td>\n",
       "      <td>8.178840</td>\n",
       "    </tr>\n",
       "    <tr>\n",
       "      <th>FR</th>\n",
       "      <td>0.759187</td>\n",
       "      <td>0.193069</td>\n",
       "      <td>37.929906</td>\n",
       "      <td>0.769004</td>\n",
       "      <td>1.852155</td>\n",
       "      <td>0.094898</td>\n",
       "      <td>0.193069</td>\n",
       "      <td>0.003272</td>\n",
       "      <td>0.055630</td>\n",
       "      <td>4.211525</td>\n",
       "    </tr>\n",
       "    <tr>\n",
       "      <th>GB</th>\n",
       "      <td>1.285977</td>\n",
       "      <td>0.275566</td>\n",
       "      <td>0.183711</td>\n",
       "      <td>10.287814</td>\n",
       "      <td>0.061237</td>\n",
       "      <td>0.459277</td>\n",
       "      <td>1.469688</td>\n",
       "      <td>0.000000</td>\n",
       "      <td>0.030618</td>\n",
       "      <td>36.037967</td>\n",
       "    </tr>\n",
       "    <tr>\n",
       "      <th>IN</th>\n",
       "      <td>0.251503</td>\n",
       "      <td>0.055208</td>\n",
       "      <td>0.055208</td>\n",
       "      <td>0.153355</td>\n",
       "      <td>63.777451</td>\n",
       "      <td>0.000000</td>\n",
       "      <td>0.000000</td>\n",
       "      <td>0.000000</td>\n",
       "      <td>0.006134</td>\n",
       "      <td>3.600785</td>\n",
       "    </tr>\n",
       "    <tr>\n",
       "      <th>JP</th>\n",
       "      <td>0.046508</td>\n",
       "      <td>0.023254</td>\n",
       "      <td>0.062011</td>\n",
       "      <td>0.139524</td>\n",
       "      <td>0.077513</td>\n",
       "      <td>32.237811</td>\n",
       "      <td>1.054182</td>\n",
       "      <td>0.000000</td>\n",
       "      <td>0.000000</td>\n",
       "      <td>1.635532</td>\n",
       "    </tr>\n",
       "    <tr>\n",
       "      <th>KR</th>\n",
       "      <td>0.100915</td>\n",
       "      <td>0.044150</td>\n",
       "      <td>0.000000</td>\n",
       "      <td>0.151372</td>\n",
       "      <td>0.132450</td>\n",
       "      <td>0.170293</td>\n",
       "      <td>40.182908</td>\n",
       "      <td>0.000000</td>\n",
       "      <td>0.018921</td>\n",
       "      <td>1.570482</td>\n",
       "    </tr>\n",
       "    <tr>\n",
       "      <th>MX</th>\n",
       "      <td>0.322465</td>\n",
       "      <td>0.032844</td>\n",
       "      <td>0.020901</td>\n",
       "      <td>0.229906</td>\n",
       "      <td>0.077630</td>\n",
       "      <td>0.226920</td>\n",
       "      <td>0.161233</td>\n",
       "      <td>26.439150</td>\n",
       "      <td>0.110474</td>\n",
       "      <td>8.613997</td>\n",
       "    </tr>\n",
       "    <tr>\n",
       "      <th>RU</th>\n",
       "      <td>0.195518</td>\n",
       "      <td>0.341426</td>\n",
       "      <td>0.087545</td>\n",
       "      <td>0.221781</td>\n",
       "      <td>0.148827</td>\n",
       "      <td>0.137154</td>\n",
       "      <td>0.087545</td>\n",
       "      <td>0.000000</td>\n",
       "      <td>41.604412</td>\n",
       "      <td>4.231353</td>\n",
       "    </tr>\n",
       "    <tr>\n",
       "      <th>US</th>\n",
       "      <td>1.827923</td>\n",
       "      <td>0.346675</td>\n",
       "      <td>0.063032</td>\n",
       "      <td>3.813426</td>\n",
       "      <td>0.047274</td>\n",
       "      <td>0.189095</td>\n",
       "      <td>0.441223</td>\n",
       "      <td>0.000000</td>\n",
       "      <td>0.063032</td>\n",
       "      <td>49.385440</td>\n",
       "    </tr>\n",
       "  </tbody>\n",
       "</table>\n",
       "</div>"
      ],
      "text/plain": [
       "           CA (%)     DE (%)     FR (%)     GB (%)     IN (%)     JP (%)  \\\n",
       "country                                                                    \n",
       "CA       5.236417   0.143407   2.351881   2.679669   4.916824   0.094239   \n",
       "DE       0.401851  33.799345   0.097930   1.246074   1.337251   0.023638   \n",
       "FR       0.759187   0.193069  37.929906   0.769004   1.852155   0.094898   \n",
       "GB       1.285977   0.275566   0.183711  10.287814   0.061237   0.459277   \n",
       "IN       0.251503   0.055208   0.055208   0.153355  63.777451   0.000000   \n",
       "JP       0.046508   0.023254   0.062011   0.139524   0.077513  32.237811   \n",
       "KR       0.100915   0.044150   0.000000   0.151372   0.132450   0.170293   \n",
       "MX       0.322465   0.032844   0.020901   0.229906   0.077630   0.226920   \n",
       "RU       0.195518   0.341426   0.087545   0.221781   0.148827   0.137154   \n",
       "US       1.827923   0.346675   0.063032   3.813426   0.047274   0.189095   \n",
       "\n",
       "            KR (%)     MX (%)     RU (%)     US (%)  \n",
       "country                                              \n",
       "CA        0.700647   0.020487   0.249939  33.876916  \n",
       "DE        0.104684   0.000000   1.874177   8.178840  \n",
       "FR        0.193069   0.003272   0.055630   4.211525  \n",
       "GB        1.469688   0.000000   0.030618  36.037967  \n",
       "IN        0.000000   0.000000   0.006134   3.600785  \n",
       "JP        1.054182   0.000000   0.000000   1.635532  \n",
       "KR       40.182908   0.000000   0.018921   1.570482  \n",
       "MX        0.161233  26.439150   0.110474   8.613997  \n",
       "RU        0.087545   0.000000  41.604412   4.231353  \n",
       "US        0.441223   0.000000   0.063032  49.385440  "
      ]
     },
     "execution_count": 37,
     "metadata": {},
     "output_type": "execute_result"
    }
   ],
   "source": [
    "#create dataframe containing breakdown of origin by country viewed\n",
    "\n",
    "source_focused = pd.DataFrame({\n",
    "                              \"CA (%)\" : origin_counts_by_country_watched[\"CA\"]*100/origin_counts_by_country_watched.sum(axis=1),\n",
    "                              \"DE (%)\" : origin_counts_by_country_watched[\"DE\"]*100/origin_counts_by_country_watched.sum(axis=1),\n",
    "                              \"FR (%)\" : origin_counts_by_country_watched[\"FR\"]*100/origin_counts_by_country_watched.sum(axis=1),\n",
    "                              \"GB (%)\" : origin_counts_by_country_watched[\"GB\"]*100/origin_counts_by_country_watched.sum(axis=1),\n",
    "                              \"IN (%)\" : origin_counts_by_country_watched[\"IN\"]*100/origin_counts_by_country_watched.sum(axis=1),\n",
    "                              \"JP (%)\" : origin_counts_by_country_watched[\"JP\"]*100/origin_counts_by_country_watched.sum(axis=1),\n",
    "                              \"KR (%)\" : origin_counts_by_country_watched[\"KR\"]*100/origin_counts_by_country_watched.sum(axis=1),\n",
    "                              \"MX (%)\" : origin_counts_by_country_watched[\"MX\"]*100/origin_counts_by_country_watched.sum(axis=1),\n",
    "                              \"RU (%)\" : origin_counts_by_country_watched[\"RU\"]*100/origin_counts_by_country_watched.sum(axis=1),\n",
    "                              \"US (%)\" : origin_counts_by_country_watched[\"US\"]*100/origin_counts_by_country_watched.sum(axis=1)})\n",
    "                             \n",
    "\n",
    "source_focused.fillna(value=0, inplace=True)\n",
    "\n",
    "source_focused"
   ]
  },
  {
   "cell_type": "code",
   "execution_count": 38,
   "metadata": {},
   "outputs": [
    {
     "data": {
      "text/plain": [
       "<Figure size 720x720 with 0 Axes>"
      ]
     },
     "execution_count": 38,
     "metadata": {},
     "output_type": "execute_result"
    },
    {
     "data": {
      "text/plain": [
       "<matplotlib.image.AxesImage at 0x14c9ba2e0>"
      ]
     },
     "execution_count": 38,
     "metadata": {},
     "output_type": "execute_result"
    },
    {
     "data": {
      "text/plain": [
       "([<matplotlib.axis.XTick at 0x148904b50>,\n",
       "  <matplotlib.axis.XTick at 0x1489047f0>,\n",
       "  <matplotlib.axis.XTick at 0x151e5bf10>,\n",
       "  <matplotlib.axis.XTick at 0x14889f430>,\n",
       "  <matplotlib.axis.XTick at 0x1488c39a0>,\n",
       "  <matplotlib.axis.XTick at 0x1488c3160>,\n",
       "  <matplotlib.axis.XTick at 0x151f5a7c0>,\n",
       "  <matplotlib.axis.XTick at 0x13d625e80>,\n",
       "  <matplotlib.axis.XTick at 0x1488cf4c0>,\n",
       "  <matplotlib.axis.XTick at 0x1488cfb50>],\n",
       " <a list of 10 Text xticklabel objects>)"
      ]
     },
     "execution_count": 38,
     "metadata": {},
     "output_type": "execute_result"
    },
    {
     "data": {
      "text/plain": [
       "([<matplotlib.axis.YTick at 0x1488e8d60>,\n",
       "  <matplotlib.axis.YTick at 0x1488e82b0>,\n",
       "  <matplotlib.axis.YTick at 0x151ff6070>,\n",
       "  <matplotlib.axis.YTick at 0x151f67a30>,\n",
       "  <matplotlib.axis.YTick at 0x14c9baa00>,\n",
       "  <matplotlib.axis.YTick at 0x151e6c610>,\n",
       "  <matplotlib.axis.YTick at 0x151e6c580>,\n",
       "  <matplotlib.axis.YTick at 0x151e6c4f0>,\n",
       "  <matplotlib.axis.YTick at 0x13e82d460>,\n",
       "  <matplotlib.axis.YTick at 0x13e82da90>],\n",
       " <a list of 10 Text yticklabel objects>)"
      ]
     },
     "execution_count": 38,
     "metadata": {},
     "output_type": "execute_result"
    },
    {
     "data": {
      "text/plain": [
       "Text(0, 0.5, 'Country of Viewers')"
      ]
     },
     "execution_count": 38,
     "metadata": {},
     "output_type": "execute_result"
    },
    {
     "data": {
      "text/plain": [
       "Text(0.5, 0, 'Country of Creators')"
      ]
     },
     "execution_count": 38,
     "metadata": {},
     "output_type": "execute_result"
    },
    {
     "data": {
      "text/plain": [
       "<function matplotlib.pyplot.show(*args, **kw)>"
      ]
     },
     "execution_count": 38,
     "metadata": {},
     "output_type": "execute_result"
    },
    {
     "data": {
      "text/plain": [
       "<Figure size 720x720 with 0 Axes>"
      ]
     },
     "metadata": {},
     "output_type": "display_data"
    },
    {
     "data": {
      "image/png": "[encoded data removed]",
      "text/plain": [
       "<Figure size 288x288 with 2 Axes>"
      ]
     },
     "metadata": {
      "needs_background": "light"
     },
     "output_type": "display_data"
    }
   ],
   "source": [
    "plt.figure(figsize=(10, 10))\n",
    "plt.matshow(source_focused, )\n",
    "plt.xticks(range(source_focused.shape[1]), source_focused.columns, fontsize=10, rotation=90)\n",
    "plt.yticks(range(source_focused.shape[1]), source_focused.columns, fontsize=10)\n",
    "cb = plt.colorbar()\n",
    "cb.ax.tick_params(labelsize=14)\n",
    "\n",
    "ttl = plt.title('Source of Videos watched by Country (excluding unknowns)', \n",
    "                fontsize=12, fontweight='bold')\n",
    "ttl.set_position([0.5, 1.3])\n",
    "\n",
    "plt.ylabel(\"Country of Viewers\", fontsize=12)\n",
    "plt.xlabel(\"Country of Creators\", fontsize=12)\n",
    "\n",
    "plt.savefig('../Image/Source_of_Videos_watched_by_Country.png', \n",
    "            bbox_inches = \"tight\" )\n",
    "\n",
    "plt.show"
   ]
  },
  {
   "cell_type": "markdown",
   "metadata": {},
   "source": [
    "Approach: convert count of number of channel country origins by country into percentages.   \n",
    "\n",
    "Insights: Canada and the UK watched little content known to originate from within the respective countries, rather most videos watched in these countries orignate in the US. Comparatively, most videos watched in other countries originate from within the respective countries.     "
   ]
  },
  {
   "cell_type": "markdown",
   "metadata": {},
   "source": [
    "# Problem formulation on popularity"
   ]
  },
  {
   "cell_type": "markdown",
   "metadata": {},
   "source": [
    "##  Total Trend Days Vs Maximum Continuous Trend Days\n",
    "\n",
    "What is typically the pattern of trend ? Is it continuous trending or sporadic ?\n",
    "\n",
    "A very high correlation (0.986) between the total trend days and the maximum of  continuous trend days show Trending is a continuous pattern. \n",
    "\n",
    "Also, 99% of the trendings was continuous without a break and only 1% had a break in trending"
   ]
  },
  {
   "cell_type": "code",
   "execution_count": 63,
   "metadata": {},
   "outputs": [],
   "source": [
    "Video_DF = pd.read_pickle(\"../Data/VideoDF.pkl\")"
   ]
  },
  {
   "cell_type": "markdown",
   "metadata": {},
   "source": [
    "## Derive Total Trending Days"
   ]
  },
  {
   "cell_type": "code",
   "execution_count": 64,
   "metadata": {},
   "outputs": [
    {
     "data": {
      "text/html": [
       "<div>\n",
       "<style scoped>\n",
       "    .dataframe tbody tr th:only-of-type {\n",
       "        vertical-align: middle;\n",
       "    }\n",
       "\n",
       "    .dataframe tbody tr th {\n",
       "        vertical-align: top;\n",
       "    }\n",
       "\n",
       "    .dataframe thead th {\n",
       "        text-align: right;\n",
       "    }\n",
       "</style>\n",
       "<table border=\"1\" class=\"dataframe\">\n",
       "  <thead>\n",
       "    <tr style=\"text-align: right;\">\n",
       "      <th></th>\n",
       "      <th></th>\n",
       "      <th>First_Trend_Date</th>\n",
       "      <th>Last_Trend_Date</th>\n",
       "      <th>Total_Trend_Days</th>\n",
       "    </tr>\n",
       "    <tr>\n",
       "      <th>video_id</th>\n",
       "      <th>country</th>\n",
       "      <th></th>\n",
       "      <th></th>\n",
       "      <th></th>\n",
       "    </tr>\n",
       "  </thead>\n",
       "  <tbody>\n",
       "    <tr>\n",
       "      <th>--1skHapGUc</th>\n",
       "      <th>MX</th>\n",
       "      <td>2018-02-10</td>\n",
       "      <td>2018-02-10</td>\n",
       "      <td>1</td>\n",
       "    </tr>\n",
       "    <tr>\n",
       "      <th>--2K8l6BWfw</th>\n",
       "      <th>FR</th>\n",
       "      <td>2018-03-06</td>\n",
       "      <td>2018-03-06</td>\n",
       "      <td>1</td>\n",
       "    </tr>\n",
       "    <tr>\n",
       "      <th rowspan=\"3\" valign=\"top\">--45ws7CEN0</th>\n",
       "      <th>CA</th>\n",
       "      <td>2018-06-12</td>\n",
       "      <td>2018-06-12</td>\n",
       "      <td>1</td>\n",
       "    </tr>\n",
       "    <tr>\n",
       "      <th>MX</th>\n",
       "      <td>2018-06-12</td>\n",
       "      <td>2018-06-12</td>\n",
       "      <td>1</td>\n",
       "    </tr>\n",
       "    <tr>\n",
       "      <th>RU</th>\n",
       "      <td>2018-06-12</td>\n",
       "      <td>2018-06-12</td>\n",
       "      <td>1</td>\n",
       "    </tr>\n",
       "  </tbody>\n",
       "</table>\n",
       "</div>"
      ],
      "text/plain": [
       "                    First_Trend_Date Last_Trend_Date  Total_Trend_Days\n",
       "video_id    country                                                   \n",
       "--1skHapGUc MX            2018-02-10      2018-02-10                 1\n",
       "--2K8l6BWfw FR            2018-03-06      2018-03-06                 1\n",
       "--45ws7CEN0 CA            2018-06-12      2018-06-12                 1\n",
       "            MX            2018-06-12      2018-06-12                 1\n",
       "            RU            2018-06-12      2018-06-12                 1"
      ]
     },
     "execution_count": 64,
     "metadata": {},
     "output_type": "execute_result"
    }
   ],
   "source": [
    "Trending_Days = Video_DF.groupby(['video_id', 'country']).aggregate(First_Trend_Date=('trending_date', 'min'), Last_Trend_Date=('trending_date', 'max'), Total_Trend_Days=('trending_date', 'count'))\n",
    "Trending_Days.head()"
   ]
  },
  {
   "cell_type": "markdown",
   "metadata": {},
   "source": [
    "## Continuity of Trending"
   ]
  },
  {
   "cell_type": "code",
   "execution_count": 65,
   "metadata": {},
   "outputs": [],
   "source": [
    "Sorted_Video_Country_DF = Video_DF.sort_values(by=['video_id', 'country', 'trending_date']) "
   ]
  },
  {
   "cell_type": "code",
   "execution_count": 66,
   "metadata": {},
   "outputs": [],
   "source": [
    "Video_Country_grp = Sorted_Video_Country_DF.groupby(['video_id', 'country']) #Sorting is done to get the list of dates in order\n",
    "Video_Country_Wise_Trending_Dates = Video_Country_grp.aggregate(Trending_Dates = ('trending_date', lambda x: x.to_list()))"
   ]
  },
  {
   "cell_type": "code",
   "execution_count": 67,
   "metadata": {},
   "outputs": [
    {
     "data": {
      "text/plain": [
       "22"
      ]
     },
     "execution_count": 67,
     "metadata": {},
     "output_type": "execute_result"
    }
   ],
   "source": [
    "#Maximum Continuous Days of Trending\n",
    "def find_max_period(dates):\n",
    "    period=1\n",
    "    max_periods = 1\n",
    "    for index, date in enumerate(dates[:-1]):\n",
    "        diff = dates[index+1] - date\n",
    "        \n",
    "        if diff.days == 1:\n",
    "            period+=1\n",
    "        else:\n",
    "            if max_periods < period:\n",
    "                max_periods = period\n",
    "            period=1\n",
    "        \n",
    "    return (max_periods if max_periods>period else period)\n",
    "find_max_period(Video_Country_Wise_Trending_Dates.loc[('zxwfDlhJIpw', 'GB'), :][0])"
   ]
  },
  {
   "cell_type": "code",
   "execution_count": 68,
   "metadata": {},
   "outputs": [],
   "source": [
    "Video_Country_Wise_Trending_Dates['Max_Period_of_Cont_Treanding'] = Video_Country_Wise_Trending_Dates.apply(lambda x: find_max_period(x[0]), axis=1)\n",
    "Video_Country_Wise_Trending_Dates['Trending_Dates_String'] = Video_Country_Wise_Trending_Dates['Trending_Dates'].map(lambda L: [item.strftime(\"%y.%d.%m\") for item in L])            \n",
    "Video_Country_Wise_Trending_Dates = Video_Country_Wise_Trending_Dates[['Trending_Dates', 'Trending_Dates_String', 'Max_Period_of_Cont_Treanding']]                             \n"
   ]
  },
  {
   "cell_type": "code",
   "execution_count": 69,
   "metadata": {},
   "outputs": [
    {
     "data": {
      "text/html": [
       "<div>\n",
       "<style scoped>\n",
       "    .dataframe tbody tr th:only-of-type {\n",
       "        vertical-align: middle;\n",
       "    }\n",
       "\n",
       "    .dataframe tbody tr th {\n",
       "        vertical-align: top;\n",
       "    }\n",
       "\n",
       "    .dataframe thead th {\n",
       "        text-align: right;\n",
       "    }\n",
       "</style>\n",
       "<table border=\"1\" class=\"dataframe\">\n",
       "  <thead>\n",
       "    <tr style=\"text-align: right;\">\n",
       "      <th></th>\n",
       "      <th></th>\n",
       "      <th>Trending_Dates</th>\n",
       "      <th>Trending_Dates_String</th>\n",
       "      <th>Max_Period_of_Cont_Treanding</th>\n",
       "    </tr>\n",
       "    <tr>\n",
       "      <th>video_id</th>\n",
       "      <th>country</th>\n",
       "      <th></th>\n",
       "      <th></th>\n",
       "      <th></th>\n",
       "    </tr>\n",
       "  </thead>\n",
       "  <tbody>\n",
       "    <tr>\n",
       "      <th>--1skHapGUc</th>\n",
       "      <th>MX</th>\n",
       "      <td>[2018-02-10 00:00:00]</td>\n",
       "      <td>[18.10.02]</td>\n",
       "      <td>1</td>\n",
       "    </tr>\n",
       "    <tr>\n",
       "      <th>--2K8l6BWfw</th>\n",
       "      <th>FR</th>\n",
       "      <td>[2018-03-06 00:00:00]</td>\n",
       "      <td>[18.06.03]</td>\n",
       "      <td>1</td>\n",
       "    </tr>\n",
       "    <tr>\n",
       "      <th rowspan=\"3\" valign=\"top\">--45ws7CEN0</th>\n",
       "      <th>CA</th>\n",
       "      <td>[2018-06-12 00:00:00]</td>\n",
       "      <td>[18.12.06]</td>\n",
       "      <td>1</td>\n",
       "    </tr>\n",
       "    <tr>\n",
       "      <th>MX</th>\n",
       "      <td>[2018-06-12 00:00:00]</td>\n",
       "      <td>[18.12.06]</td>\n",
       "      <td>1</td>\n",
       "    </tr>\n",
       "    <tr>\n",
       "      <th>RU</th>\n",
       "      <td>[2018-06-12 00:00:00]</td>\n",
       "      <td>[18.12.06]</td>\n",
       "      <td>1</td>\n",
       "    </tr>\n",
       "  </tbody>\n",
       "</table>\n",
       "</div>"
      ],
      "text/plain": [
       "                            Trending_Dates Trending_Dates_String  \\\n",
       "video_id    country                                                \n",
       "--1skHapGUc MX       [2018-02-10 00:00:00]            [18.10.02]   \n",
       "--2K8l6BWfw FR       [2018-03-06 00:00:00]            [18.06.03]   \n",
       "--45ws7CEN0 CA       [2018-06-12 00:00:00]            [18.12.06]   \n",
       "            MX       [2018-06-12 00:00:00]            [18.12.06]   \n",
       "            RU       [2018-06-12 00:00:00]            [18.12.06]   \n",
       "\n",
       "                     Max_Period_of_Cont_Treanding  \n",
       "video_id    country                                \n",
       "--1skHapGUc MX                                  1  \n",
       "--2K8l6BWfw FR                                  1  \n",
       "--45ws7CEN0 CA                                  1  \n",
       "            MX                                  1  \n",
       "            RU                                  1  "
      ]
     },
     "execution_count": 69,
     "metadata": {},
     "output_type": "execute_result"
    }
   ],
   "source": [
    "Video_Country_Wise_Trending_Dates.head()"
   ]
  },
  {
   "cell_type": "markdown",
   "metadata": {},
   "source": [
    "## Merge Total_Trend_Days and Max_Period_of_Cont_Treanding into a single DF"
   ]
  },
  {
   "cell_type": "code",
   "execution_count": 70,
   "metadata": {},
   "outputs": [],
   "source": [
    "Trending_Pattern_DF = Trending_Days.join(Video_Country_Wise_Trending_Dates[['Trending_Dates_String', 'Max_Period_of_Cont_Treanding']])\n",
    "Trending_Pattern_DF = Trending_Pattern_DF[['First_Trend_Date', 'Last_Trend_Date', 'Trending_Dates_String', 'Total_Trend_Days','Max_Period_of_Cont_Treanding']]\n"
   ]
  },
  {
   "cell_type": "code",
   "execution_count": 71,
   "metadata": {},
   "outputs": [
    {
     "data": {
      "text/html": [
       "<div>\n",
       "<style scoped>\n",
       "    .dataframe tbody tr th:only-of-type {\n",
       "        vertical-align: middle;\n",
       "    }\n",
       "\n",
       "    .dataframe tbody tr th {\n",
       "        vertical-align: top;\n",
       "    }\n",
       "\n",
       "    .dataframe thead th {\n",
       "        text-align: right;\n",
       "    }\n",
       "</style>\n",
       "<table border=\"1\" class=\"dataframe\">\n",
       "  <thead>\n",
       "    <tr style=\"text-align: right;\">\n",
       "      <th></th>\n",
       "      <th></th>\n",
       "      <th>First_Trend_Date</th>\n",
       "      <th>Last_Trend_Date</th>\n",
       "      <th>Trending_Dates_String</th>\n",
       "      <th>Total_Trend_Days</th>\n",
       "      <th>Max_Period_of_Cont_Treanding</th>\n",
       "    </tr>\n",
       "    <tr>\n",
       "      <th>video_id</th>\n",
       "      <th>country</th>\n",
       "      <th></th>\n",
       "      <th></th>\n",
       "      <th></th>\n",
       "      <th></th>\n",
       "      <th></th>\n",
       "    </tr>\n",
       "  </thead>\n",
       "  <tbody>\n",
       "    <tr>\n",
       "      <th>--1skHapGUc</th>\n",
       "      <th>MX</th>\n",
       "      <td>2018-02-10</td>\n",
       "      <td>2018-02-10</td>\n",
       "      <td>[18.10.02]</td>\n",
       "      <td>1</td>\n",
       "      <td>1</td>\n",
       "    </tr>\n",
       "    <tr>\n",
       "      <th>--2K8l6BWfw</th>\n",
       "      <th>FR</th>\n",
       "      <td>2018-03-06</td>\n",
       "      <td>2018-03-06</td>\n",
       "      <td>[18.06.03]</td>\n",
       "      <td>1</td>\n",
       "      <td>1</td>\n",
       "    </tr>\n",
       "    <tr>\n",
       "      <th rowspan=\"3\" valign=\"top\">--45ws7CEN0</th>\n",
       "      <th>CA</th>\n",
       "      <td>2018-06-12</td>\n",
       "      <td>2018-06-12</td>\n",
       "      <td>[18.12.06]</td>\n",
       "      <td>1</td>\n",
       "      <td>1</td>\n",
       "    </tr>\n",
       "    <tr>\n",
       "      <th>MX</th>\n",
       "      <td>2018-06-12</td>\n",
       "      <td>2018-06-12</td>\n",
       "      <td>[18.12.06]</td>\n",
       "      <td>1</td>\n",
       "      <td>1</td>\n",
       "    </tr>\n",
       "    <tr>\n",
       "      <th>RU</th>\n",
       "      <td>2018-06-12</td>\n",
       "      <td>2018-06-12</td>\n",
       "      <td>[18.12.06]</td>\n",
       "      <td>1</td>\n",
       "      <td>1</td>\n",
       "    </tr>\n",
       "  </tbody>\n",
       "</table>\n",
       "</div>"
      ],
      "text/plain": [
       "                    First_Trend_Date Last_Trend_Date Trending_Dates_String  \\\n",
       "video_id    country                                                          \n",
       "--1skHapGUc MX            2018-02-10      2018-02-10            [18.10.02]   \n",
       "--2K8l6BWfw FR            2018-03-06      2018-03-06            [18.06.03]   \n",
       "--45ws7CEN0 CA            2018-06-12      2018-06-12            [18.12.06]   \n",
       "            MX            2018-06-12      2018-06-12            [18.12.06]   \n",
       "            RU            2018-06-12      2018-06-12            [18.12.06]   \n",
       "\n",
       "                     Total_Trend_Days  Max_Period_of_Cont_Treanding  \n",
       "video_id    country                                                  \n",
       "--1skHapGUc MX                      1                             1  \n",
       "--2K8l6BWfw FR                      1                             1  \n",
       "--45ws7CEN0 CA                      1                             1  \n",
       "            MX                      1                             1  \n",
       "            RU                      1                             1  "
      ]
     },
     "execution_count": 71,
     "metadata": {},
     "output_type": "execute_result"
    },
    {
     "data": {
      "text/html": [
       "<div>\n",
       "<style scoped>\n",
       "    .dataframe tbody tr th:only-of-type {\n",
       "        vertical-align: middle;\n",
       "    }\n",
       "\n",
       "    .dataframe tbody tr th {\n",
       "        vertical-align: top;\n",
       "    }\n",
       "\n",
       "    .dataframe thead th {\n",
       "        text-align: right;\n",
       "    }\n",
       "</style>\n",
       "<table border=\"1\" class=\"dataframe\">\n",
       "  <thead>\n",
       "    <tr style=\"text-align: right;\">\n",
       "      <th></th>\n",
       "      <th></th>\n",
       "      <th>First_Trend_Date</th>\n",
       "      <th>Last_Trend_Date</th>\n",
       "      <th>Trending_Dates_String</th>\n",
       "      <th>Total_Trend_Days</th>\n",
       "      <th>Max_Period_of_Cont_Treanding</th>\n",
       "    </tr>\n",
       "    <tr>\n",
       "      <th>video_id</th>\n",
       "      <th>country</th>\n",
       "      <th></th>\n",
       "      <th></th>\n",
       "      <th></th>\n",
       "      <th></th>\n",
       "      <th></th>\n",
       "    </tr>\n",
       "  </thead>\n",
       "  <tbody>\n",
       "    <tr>\n",
       "      <th>-3VBPAZPTQI</th>\n",
       "      <th>GB</th>\n",
       "      <td>2017-12-31</td>\n",
       "      <td>2018-01-15</td>\n",
       "      <td>[17.31.12, 18.01.01, 18.02.01, 18.03.01, 18.04...</td>\n",
       "      <td>14</td>\n",
       "      <td>10</td>\n",
       "    </tr>\n",
       "    <tr>\n",
       "      <th>-8X32zNup1o</th>\n",
       "      <th>GB</th>\n",
       "      <td>2018-05-23</td>\n",
       "      <td>2018-06-11</td>\n",
       "      <td>[18.23.05, 18.04.06, 18.05.06, 18.06.06, 18.07...</td>\n",
       "      <td>9</td>\n",
       "      <td>8</td>\n",
       "    </tr>\n",
       "    <tr>\n",
       "      <th>-BDImdAfodA</th>\n",
       "      <th>GB</th>\n",
       "      <td>2018-02-02</td>\n",
       "      <td>2018-03-07</td>\n",
       "      <td>[18.02.02, 18.03.02, 18.04.02, 18.05.02, 18.06...</td>\n",
       "      <td>32</td>\n",
       "      <td>29</td>\n",
       "    </tr>\n",
       "    <tr>\n",
       "      <th>-DRsfNObKIQ</th>\n",
       "      <th>GB</th>\n",
       "      <td>2018-05-12</td>\n",
       "      <td>2018-06-14</td>\n",
       "      <td>[18.12.05, 18.13.05, 18.15.05, 18.16.05, 18.17...</td>\n",
       "      <td>33</td>\n",
       "      <td>31</td>\n",
       "    </tr>\n",
       "    <tr>\n",
       "      <th>-F9cQpO-Pdw</th>\n",
       "      <th>CA</th>\n",
       "      <td>2018-05-13</td>\n",
       "      <td>2018-05-15</td>\n",
       "      <td>[18.13.05, 18.15.05]</td>\n",
       "      <td>2</td>\n",
       "      <td>1</td>\n",
       "    </tr>\n",
       "  </tbody>\n",
       "</table>\n",
       "</div>"
      ],
      "text/plain": [
       "                    First_Trend_Date Last_Trend_Date  \\\n",
       "video_id    country                                    \n",
       "-3VBPAZPTQI GB            2017-12-31      2018-01-15   \n",
       "-8X32zNup1o GB            2018-05-23      2018-06-11   \n",
       "-BDImdAfodA GB            2018-02-02      2018-03-07   \n",
       "-DRsfNObKIQ GB            2018-05-12      2018-06-14   \n",
       "-F9cQpO-Pdw CA            2018-05-13      2018-05-15   \n",
       "\n",
       "                                                 Trending_Dates_String  \\\n",
       "video_id    country                                                      \n",
       "-3VBPAZPTQI GB       [17.31.12, 18.01.01, 18.02.01, 18.03.01, 18.04...   \n",
       "-8X32zNup1o GB       [18.23.05, 18.04.06, 18.05.06, 18.06.06, 18.07...   \n",
       "-BDImdAfodA GB       [18.02.02, 18.03.02, 18.04.02, 18.05.02, 18.06...   \n",
       "-DRsfNObKIQ GB       [18.12.05, 18.13.05, 18.15.05, 18.16.05, 18.17...   \n",
       "-F9cQpO-Pdw CA                                    [18.13.05, 18.15.05]   \n",
       "\n",
       "                     Total_Trend_Days  Max_Period_of_Cont_Treanding  \n",
       "video_id    country                                                  \n",
       "-3VBPAZPTQI GB                     14                            10  \n",
       "-8X32zNup1o GB                      9                             8  \n",
       "-BDImdAfodA GB                     32                            29  \n",
       "-DRsfNObKIQ GB                     33                            31  \n",
       "-F9cQpO-Pdw CA                      2                             1  "
      ]
     },
     "execution_count": 71,
     "metadata": {},
     "output_type": "execute_result"
    }
   ],
   "source": [
    "Trending_Pattern_DF[Trending_Pattern_DF['Total_Trend_Days']==Trending_Pattern_DF['Max_Period_of_Cont_Treanding']].head()\n",
    "\n",
    "Trending_Pattern_DF[Trending_Pattern_DF['Total_Trend_Days']!=Trending_Pattern_DF['Max_Period_of_Cont_Treanding']].head()\n"
   ]
  },
  {
   "cell_type": "markdown",
   "metadata": {},
   "source": [
    "## Plotting to demonstrate correlation"
   ]
  },
  {
   "cell_type": "markdown",
   "metadata": {},
   "source": [
    "### Simple scatter plot doesn't capture this well as it doesn't show the density for large datasets with same values"
   ]
  },
  {
   "cell_type": "code",
   "execution_count": 72,
   "metadata": {},
   "outputs": [],
   "source": [
    "above = 20 \n",
    "below = Trending_Pattern_DF['Total_Trend_Days'].value_counts().index.max()\n",
    "Target = Trending_Pattern_DF[(Trending_Pattern_DF['Total_Trend_Days']>=above) & (Trending_Pattern_DF['Total_Trend_Days']<=below)]\n",
    "\n",
    "x = Target['Total_Trend_Days']\n",
    "y = Target['Max_Period_of_Cont_Treanding']"
   ]
  },
  {
   "cell_type": "code",
   "execution_count": 73,
   "metadata": {},
   "outputs": [
    {
     "data": {
      "text/plain": [
       "<Figure size 432x288 with 0 Axes>"
      ]
     },
     "execution_count": 73,
     "metadata": {},
     "output_type": "execute_result"
    },
    {
     "data": {
      "text/plain": [
       "<matplotlib.collections.PathCollection at 0x16715f7c0>"
      ]
     },
     "execution_count": 73,
     "metadata": {},
     "output_type": "execute_result"
    },
    {
     "data": {
      "image/png": "[encoded data removed]",
      "text/plain": [
       "<Figure size 432x288 with 1 Axes>"
      ]
     },
     "metadata": {
      "needs_background": "light"
     },
     "output_type": "display_data"
    }
   ],
   "source": [
    "plt.figure()\n",
    "plt.scatter(x,y)\n",
    "plt.show()"
   ]
  },
  {
   "cell_type": "code",
   "execution_count": 74,
   "metadata": {},
   "outputs": [
    {
     "data": {
      "image/png": "[encoded data removed]",
      "text/plain": [
       "<Figure size 1080x720 with 6 Axes>"
      ]
     },
     "metadata": {
      "needs_background": "light"
     },
     "output_type": "display_data"
    }
   ],
   "source": [
    "above_below = [2,3,5,10,15,20,Trending_Pattern_DF['Total_Trend_Days'].value_counts().index.max()]\n",
    "\n",
    "fig, axes = plt.subplots(2,3, figsize=(15,10))\n",
    "Axes = axes.flat\n",
    "\n",
    "for index, val in enumerate(above_below[:-1]):\n",
    "    above =  val\n",
    "    below = above_below[index+1]\n",
    "    Target = Trending_Pattern_DF[(Trending_Pattern_DF['Total_Trend_Days']>=above) & (Trending_Pattern_DF['Total_Trend_Days']<=below)]\n",
    "\n",
    "    \n",
    "    x = Target['Total_Trend_Days']\n",
    "    y = Target['Max_Period_of_Cont_Treanding']\n",
    "    \n",
    "    _ = sns.kdeplot(x,y, cmap=\"Reds\", shade=True, ax=Axes[index])\n",
    "\n",
    "    #Disable individual labels\n",
    "    _=Axes[index].set_xlabel('')\n",
    "    _=Axes[index].set_ylabel('')\n",
    "    \n",
    "    #Custom xticks\n",
    "    stepx = (1 if len(range(x.min(), x.max()+1))<=6 else  len(range(x.min(), x.max()+1))//6)\n",
    "    stepy = (1 if len(range(y.min(), y.max()+1))<=6 else  len(range(y.min(), y.max()+1))//6)\n",
    "    \n",
    "    _=Axes[index].set_xticks(list(range(x.min(), x.max()+1, stepx)))\n",
    "    _=Axes[index].set_yticks(list(range(y.min(), y.max()+1, stepy)))\n",
    "    \n",
    "#Common Labels\n",
    "_ = fig.suptitle('Total Trending Vs Continuous Trending', fontsize=20)\n",
    "_ = fig.text(0.5, 0.055, 'Total Trend Days', ha='center', fontsize=15)\n",
    "_ = fig.text(0.055, 0.5, 'Longest Continuous Trending (in Days)', va='center', rotation='vertical', fontsize=15)\n",
    "\n",
    "#Save figure\n",
    "fig.savefig('../Image/Total_Trending_Vs_Continuous_Trending.png')"
   ]
  },
  {
   "cell_type": "markdown",
   "metadata": {},
   "source": [
    "## Find the correlation between Max_Perid_of_Cont_Treanding (\"Popularity\") Vs. Total_Trend_Days"
   ]
  },
  {
   "cell_type": "code",
   "execution_count": 75,
   "metadata": {},
   "outputs": [
    {
     "data": {
      "text/plain": [
       "(0.9869677068193605, 0.0)"
      ]
     },
     "execution_count": 75,
     "metadata": {},
     "output_type": "execute_result"
    }
   ],
   "source": [
    "st.pearsonr(Trending_Pattern_DF['Total_Trend_Days'], Trending_Pattern_DF['Max_Period_of_Cont_Treanding'])"
   ]
  },
  {
   "cell_type": "code",
   "execution_count": 76,
   "metadata": {},
   "outputs": [
    {
     "data": {
      "text/plain": [
       "99.20969237903849"
      ]
     },
     "execution_count": 76,
     "metadata": {},
     "output_type": "execute_result"
    },
    {
     "data": {
      "text/plain": [
       "0.7903076209615087"
      ]
     },
     "execution_count": 76,
     "metadata": {},
     "output_type": "execute_result"
    }
   ],
   "source": [
    "#Percentge wise comparison on continuity\n",
    "100*Trending_Pattern_DF[Trending_Pattern_DF['Total_Trend_Days']==Trending_Pattern_DF['Max_Period_of_Cont_Treanding']].shape[0]/Trending_Pattern_DF.shape[0]\n",
    "\n",
    "100*Trending_Pattern_DF[Trending_Pattern_DF['Total_Trend_Days']!=Trending_Pattern_DF['Max_Period_of_Cont_Treanding']].shape[0]/Trending_Pattern_DF.shape[0]"
   ]
  }
 ],
 "metadata": {
  "kernelspec": {
   "display_name": "Python 3",
   "language": "python",
   "name": "python3"
  },
  "language_info": {
   "codemirror_mode": {
    "name": "ipython",
    "version": 3
   },
   "file_extension": ".py",
   "mimetype": "text/x-python",
   "name": "python",
   "nbconvert_exporter": "python",
   "pygments_lexer": "ipython3",
   "version": "3.8.1"
  }
 },
 "nbformat": 4,
 "nbformat_minor": 4
}
