{
 "cells": [
  {
   "cell_type": "markdown",
   "metadata": {},
   "source": [
    "# Data Exploration to understand  which Videos trend the longest"
   ]
  },
  {
   "cell_type": "code",
   "execution_count": 2,
   "metadata": {},
   "outputs": [],
   "source": [
    "import pandas as pd\n",
    "import matplotlib\n",
    "from datapackage import Package\n",
    "import matplotlib.pyplot as plt\n",
    "import numpy as np\n",
    "import scipy.stats as stats\n",
    "from iso3166 import countries\n",
    "import re\n",
    "\n",
    "package = Package('https://datahub.io/core/country-list/datapackage.json')\n",
    "\n",
    "# print list of all resources:\n",
    "#print(package.resource_names)\n",
    "\n",
    "# print processed tabular data (if exists any)\n",
    "for resource in package.resources:\n",
    "    if resource.descriptor['datahub']['type'] == 'derived/csv':\n",
    "        content = resource.read()\n",
    "ISO_Alpha2_Country_Mapping = {item[1]:item[0] for item in content}\n",
    "ISO_Alpha2_Country_Mapping['KR']='Korea' #From 'Korea, Republic of' to Korea"
   ]
  },
  {
   "cell_type": "code",
   "execution_count": 3,
   "metadata": {},
   "outputs": [],
   "source": [
    "!source activate python38"
   ]
  },
  {
   "cell_type": "markdown",
   "metadata": {},
   "source": [
    "This dataset consists of youtube trending videos and has the following columns. The video_id can have multiple entries as the same video can trend in more than one country"
   ]
  },
  {
   "cell_type": "code",
   "execution_count": 4,
   "metadata": {},
   "outputs": [
    {
     "data": {
      "text/plain": [
       "Index(['video_id', 'viewing_country', 'Total_Trend_Days', 'Video_Title',\n",
       "       'Publish_Time', 'PublishedAfter_in_Days', 'Origin_Country', 'Category',\n",
       "       'Tags', 'Duration', 'Language', 'Views', 'Likes', 'Dislikes',\n",
       "       'Comment_Count', 'Comments_Disabled', 'Ratings_Disabled',\n",
       "       'Caption_Enabled', 'Video_Description', 'Blocked', 'Allowed',\n",
       "       'Channel_Title', 'Channel_Description', 'Channel_PublishedAt',\n",
       "       'Channel_Keywords', 'ChannelTopicCategories', 'GoogleAnalyticsUsed',\n",
       "       'IsmoderatingComments'],\n",
       "      dtype='object')"
      ]
     },
     "execution_count": 4,
     "metadata": {},
     "output_type": "execute_result"
    }
   ],
   "source": [
    "#import data into a dataframe\n",
    "df=pd.read_pickle(\"../Data/Popularity_DF.pkl\")\n",
    "df.columns"
   ]
  },
  {
   "cell_type": "markdown",
   "metadata": {},
   "source": [
    "## Analyzing the top ten videos with the longest maximum trending time"
   ]
  },
  {
   "cell_type": "code",
   "execution_count": 5,
   "metadata": {},
   "outputs": [],
   "source": [
    "#sorting dataframe by total trending days in decsending order\n",
    "dfmax= df.sort_values(by=\"Total_Trend_Days\", ascending=False)\n",
    "#droping repeating entries for the trend time in each country so that we have the highest trend time for each unique video_id \n",
    "dfmax.drop_duplicates(\"video_id\", inplace=True)"
   ]
  },
  {
   "cell_type": "markdown",
   "metadata": {},
   "source": [
    "Creating a list of top ten longest trendinding videos"
   ]
  },
  {
   "cell_type": "code",
   "execution_count": 6,
   "metadata": {},
   "outputs": [],
   "source": [
    "#Taking the top ten unique video_ids\n",
    "dfmax10=dfmax.head(10)\n",
    "topTitlesList= dfmax10[\"Video_Title\"]\n",
    "topTitlesList=topTitlesList.tolist()\n",
    "topVideoIdList=dfmax10[\"video_id\"]\n",
    "topVideoIdList=topVideoIdList.tolist()\n",
    "topTitlesList= [re.sub(' +', ' ',name)[0:40] for name in topTitlesList]"
   ]
  },
  {
   "cell_type": "code",
   "execution_count": 7,
   "metadata": {},
   "outputs": [
    {
     "data": {
      "text/plain": [
       "['Justin Timberlake’s FULL Pepsi Super Bow',\n",
       " 'To Our Daughter | Kylie Jenner',\n",
       " 'Jurassic World: Fallen Kingdom - Officia',\n",
       " '[OFFICIAL VIDEO] HAVANA - PENTATONIX',\n",
       " 'Whethan, Dua Lipa - High (Audio)',\n",
       " 'Maroon 5 - Wait',\n",
       " 'Miguel - Come Through and Chill ft. J. C',\n",
       " 'Incredibles 2 - Olympics Sneak Peek',\n",
       " 'Rich Brian - Cold (Official Music Video)',\n",
       " 'VENOM - Official Teaser Trailer (HD)']"
      ]
     },
     "execution_count": 7,
     "metadata": {},
     "output_type": "execute_result"
    }
   ],
   "source": [
    "kylie=df[df[\"Video_Title\"]==\"To Our Daughter\"]\n",
    "topTitlesList[1]=topTitlesList[1]+\" | \"+kylie.iloc[0,8].split('|')[0]\n",
    "topTitlesList"
   ]
  },
  {
   "cell_type": "markdown",
   "metadata": {},
   "source": [
    "There are 10 countries for which the trending data was collected to create this dataset. Creating a list of all the countries vidoes trend in, in this dataset"
   ]
  },
  {
   "cell_type": "code",
   "execution_count": 8,
   "metadata": {},
   "outputs": [],
   "source": [
    "countryCodeList= df[\"viewing_country\"].value_counts().index\n",
    "countryCodeList=countryCodeList.tolist()"
   ]
  },
  {
   "cell_type": "code",
   "execution_count": 9,
   "metadata": {},
   "outputs": [
    {
     "data": {
      "text/plain": [
       "['Russian Federation',\n",
       " 'Germany',\n",
       " 'France',\n",
       " 'Mexico',\n",
       " 'Canada',\n",
       " 'India',\n",
       " 'Korea',\n",
       " 'Japan',\n",
       " 'United States',\n",
       " 'United Kingdom']"
      ]
     },
     "execution_count": 9,
     "metadata": {},
     "output_type": "execute_result"
    }
   ],
   "source": [
    "countryList = [ISO_Alpha2_Country_Mapping[cc] for cc in countryCodeList]\n",
    "countryList"
   ]
  },
  {
   "cell_type": "markdown",
   "metadata": {},
   "source": [
    "Creating a 2D array that has video_id as the row No. and the each of the 10 countries as the columns. The values stored in the 2D array are total trending days that correspond to the video_id and the country that the video trended in. "
   ]
  },
  {
   "cell_type": "code",
   "execution_count": 10,
   "metadata": {},
   "outputs": [],
   "source": [
    "list1=[]\n",
    "list2=[]\n",
    "temp=[]\n",
    "count=0\n",
    "for videoid in topVideoIdList:\n",
    "    dftemp= df[df[\"video_id\"]==videoid]\n",
    "    for country in countryCodeList:\n",
    "        try:\n",
    "            dftemp2=dftemp[dftemp[\"viewing_country\"]==country]\n",
    "            list2.append(int(dftemp2[\"Total_Trend_Days\"]))\n",
    "        except:\n",
    "            list2.append(0)\n",
    "    list1.append(list2)\n",
    "    list2=[]"
   ]
  },
  {
   "cell_type": "code",
   "execution_count": 11,
   "metadata": {},
   "outputs": [
    {
     "data": {
      "text/plain": [
       "array([[ 2,  5,  5,  3,  6,  0,  0,  0,  4, 38],\n",
       "       [ 2,  5,  4,  3,  6,  0,  1,  0, 10, 38],\n",
       "       [ 2,  5,  3,  3,  6,  6,  2,  0, 10, 38],\n",
       "       [ 1,  3,  2,  1,  5,  0,  2,  1, 13, 37],\n",
       "       [ 0,  0,  0,  0,  0,  0,  0,  0,  0, 37],\n",
       "       [ 1,  3,  2,  1,  5,  0,  1,  1, 10, 37],\n",
       "       [ 0,  0,  1,  0,  4,  0,  0,  0, 17, 37],\n",
       "       [ 0,  5,  4,  2,  7,  6,  5,  1, 11, 37],\n",
       "       [ 0,  1,  1,  0,  4,  0,  0,  0,  0, 37],\n",
       "       [ 0,  3,  3,  2,  5,  5,  2,  1, 10, 37]])"
      ]
     },
     "execution_count": 11,
     "metadata": {},
     "output_type": "execute_result"
    }
   ],
   "source": [
    "list1= np.array(list1)\n",
    "list1"
   ]
  },
  {
   "cell_type": "code",
   "execution_count": 12,
   "metadata": {},
   "outputs": [],
   "source": [
    "def heatmap(data, row_labels, col_labels, ax=None,\n",
    "            cbar_kw={}, cbarlabel=\"\", **kwargs):\n",
    "    \"\"\"\n",
    "    Create a heatmap from a numpy array and two lists of labels.\n",
    "\n",
    "    Parameters\n",
    "    ----------\n",
    "    data\n",
    "        A 2D numpy array of shape (N, M).\n",
    "    row_labels\n",
    "        A list or array of length N with the labels for the rows.\n",
    "    col_labels\n",
    "        A list or array of length M with the labels for the columns.\n",
    "    ax\n",
    "        A `matplotlib.axes.Axes` instance to which the heatmap is plotted.  If\n",
    "        not provided, use current axes or create a new one.  Optional.\n",
    "    cbar_kw\n",
    "        A dictionary with arguments to `matplotlib.Figure.colorbar`.  Optional.\n",
    "    cbarlabel\n",
    "        The label for the colorbar.  Optional.\n",
    "    **kwargs\n",
    "        All other arguments are forwarded to `imshow`.\n",
    "    \"\"\"\n",
    "\n",
    "    if not ax:\n",
    "        ax = plt.gca()\n",
    "\n",
    "    # Plot the heatmap\n",
    "    im = ax.imshow(data, **kwargs)\n",
    "\n",
    "    # Create colorbar\n",
    "    cbar = ax.figure.colorbar(im, ax=ax, **cbar_kw)\n",
    "    cbar.ax.set_ylabel(cbarlabel, rotation=-90, va=\"bottom\")\n",
    "\n",
    "    # We want to show all ticks...\n",
    "    ax.set_xticks(np.arange(data.shape[1]))\n",
    "    ax.set_yticks(np.arange(data.shape[0]))\n",
    "    # ... and label them with the respective list entries.\n",
    "    ax.set_xticklabels(col_labels)\n",
    "    ax.set_yticklabels(row_labels)\n",
    "\n",
    "    # Let the horizontal axes labeling appear on top.\n",
    "    ax.tick_params(top=True, bottom=False,\n",
    "                   labeltop=True, labelbottom=False)\n",
    "\n",
    "    # Rotate the tick labels and set their alignment.\n",
    "    plt.setp(ax.get_xticklabels(), rotation=-30, ha=\"right\",\n",
    "             rotation_mode=\"anchor\")\n",
    "\n",
    "    # Turn spines off and create white grid.\n",
    "    for edge, spine in ax.spines.items():\n",
    "        spine.set_visible(True)\n",
    "\n",
    "    ax.set_xticks(np.arange(data.shape[1]+1)-.5, minor=True)\n",
    "    ax.set_yticks(np.arange(data.shape[0]+1)-.5, minor=True)\n",
    "    ax.grid(which=\"minor\", color=\"w\", linestyle='-', linewidth=3)\n",
    "    ax.tick_params(which=\"minor\", bottom=False, left=False)\n",
    "    \n",
    "\n",
    "    return im, cbar"
   ]
  },
  {
   "cell_type": "markdown",
   "metadata": {},
   "source": [
    "### Creatimg a Heatmap to show the number of Total trending days for each Video in each Country"
   ]
  },
  {
   "cell_type": "code",
   "execution_count": 13,
   "metadata": {},
   "outputs": [
    {
     "data": {
      "image/png": "[encoded data removed]",
      "text/plain": [
       "<Figure size 432x288 with 2 Axes>"
      ]
     },
     "metadata": {
      "needs_background": "light"
     },
     "output_type": "display_data"
    }
   ],
   "source": [
    "fig, ax = plt.subplots()\n",
    "\n",
    "im, cbar = heatmap(list1, topTitlesList, countryList, ax=ax,\n",
    "                   cmap=\"YlGn\", cbarlabel=\"Total Trending Days\")\n",
    "#texts = annotate_heatmap(im)\n",
    "\n",
    "fig.tight_layout()\n",
    "plt.title(\"Popularity of videos based on viewing country\")\n",
    "plt.xlabel(\"Viewing Country\")\n",
    "plt.ylabel(\"Video Name\")\n",
    "plt.show()"
   ]
  },
  {
   "attachments": {},
   "cell_type": "markdown",
   "metadata": {},
   "source": [
    "### Approach:\n",
    "* Created a list of all the 10 countries videos trend in.\n",
    "* Created a list of the top ten video_ids that have the highest total number of trending days\n",
    "* Used the list of video_ids and countries to generate a 2D array to store the number of days a video trends in each country.\n",
    "* Generated a heatmap to represent the total number of trending days for each video in each of the countries \n",
    "\n",
    "### Insights:\n",
    "* Each of the top longest trending videos have trended the longest in the UK\n",
    "* The same videos that achieves such a high popularity in the UK by trending for 38 days only trends for 0 to 6 days in most other countries and in the US trends for about 10 to 20 days \n",
    "* There is a very large difference in the number of days videos trend in UK compared to other countries\n",
    "* This raises the question do all occurrences of total trending days that are higher than 20 occur in UK ? If this is the case why does this happen?"
   ]
  },
  {
   "cell_type": "markdown",
   "metadata": {},
   "source": [
    "## Further investigating the number of total trending days by Country"
   ]
  },
  {
   "cell_type": "code",
   "execution_count": 14,
   "metadata": {},
   "outputs": [],
   "source": [
    "def gendata(sample,population):\n",
    "    #population = stats.norm.rvs(size=1000, random_state=42)\n",
    "    #sample = stats.norm.rvs(loc=loc, size=200, random_state=42)\n",
    "\n",
    "    # Scatter Plot of Data\n",
    "    plt.subplot(2, 1, 1)\n",
    "    #plt.figure(figsize=(6,6))\n",
    "    plt.title(\"Comparing the number of days videos trend in UK vs other countries\")\n",
    "    plt.scatter(range(len(population)), population, label=\"other\")\n",
    "    plt.scatter(range(len(sample)), sample, label=\"UK\")\n",
    "    plt.legend(title=\"Viewing Country\")\n",
    "\n",
    "    # Histogram Plot of Data\n",
    "    plt.subplot(2, 1, 2)\n",
    "    #plt.figure(figsize=(6,6))\n",
    "    plt.hist(population, 20, density=True, alpha=0.7, label=\"other\")\n",
    "    plt.hist(sample, 20, density=True, alpha=0.7, label=\"UK\")\n",
    "    plt.axvline(population.mean(), color='k', linestyle='dashed', linewidth=1)\n",
    "    plt.axvline(sample.mean(), color='k', linestyle='dashed', linewidth=1)\n",
    "    plt.legend(title=\"Viewing Country\")  \n",
    "    \n",
    "    return population, sample"
   ]
  },
  {
   "cell_type": "code",
   "execution_count": 15,
   "metadata": {},
   "outputs": [
    {
     "data": {
      "image/png": "[encoded data removed]",
      "text/plain": [
       "<Figure size 432x288 with 2 Axes>"
      ]
     },
     "metadata": {
      "needs_background": "light"
     },
     "output_type": "display_data"
    }
   ],
   "source": [
    "sample= df[df[\"viewing_country\"]==\"GB\"][\"Total_Trend_Days\"]\n",
    "population=df[df[\"viewing_country\"]!=\"GB\"][\"Total_Trend_Days\"]\n",
    "\n",
    "population, sample= gendata(sample,population)"
   ]
  },
  {
   "attachments": {},
   "cell_type": "markdown",
   "metadata": {},
   "source": [
    "### Approach:\n",
    "* Created a dataframe with all the rows that have viewing country set to GB \n",
    "* Created a dataframe with all the rows that don't have viewing country set to GB \n",
    "* Created a Scatter plot that has the row number as the x-axis and the total trending days as the y-axis. UK is represented by an orange color and all other countries are represented with the blue color\n",
    "* Created a histogram plot that has the total trending days as the x-axis and frequency of occurrence as the y-axis. UK is represented by an orange color and all other countries are represented with the blue color\n",
    "\n",
    "### Insights:\n",
    "* All videos that trend longer than 29 days have trended in UK\n",
    "* This is not a normal distribution so we cannot do a T-test to check whether there is a significant difference between the mean value of total trending days in UK verses the total trending days in other countries"
   ]
  },
  {
   "cell_type": "code",
   "execution_count": 16,
   "metadata": {},
   "outputs": [
    {
     "data": {
      "text/plain": [
       "viewing_country\n",
       "GB    38\n",
       "US    29\n",
       "IN    10\n",
       "CA     8\n",
       "KR     7\n",
       "DE     7\n",
       "FR     5\n",
       "RU     4\n",
       "MX     4\n",
       "JP     3\n",
       "Name: Total_Trend_Days, dtype: int64"
      ]
     },
     "execution_count": 16,
     "metadata": {},
     "output_type": "execute_result"
    }
   ],
   "source": [
    "dfmaxCountry= df.groupby(\"viewing_country\")[\"Total_Trend_Days\"].max()\n",
    "dfmaxCountry.sort_values(ascending=False, inplace=True)\n",
    "dfmaxCountry"
   ]
  },
  {
   "cell_type": "code",
   "execution_count": 17,
   "metadata": {},
   "outputs": [
    {
     "data": {
      "text/plain": [
       "Text(0.5, 1.0, 'The longest videos trend in each country')"
      ]
     },
     "execution_count": 17,
     "metadata": {},
     "output_type": "execute_result"
    },
    {
     "data": {
      "image/png": "[encoded data removed]",
      "text/plain": [
       "<Figure size 432x288 with 1 Axes>"
      ]
     },
     "metadata": {
      "needs_background": "light"
     },
     "output_type": "display_data"
    }
   ],
   "source": [
    "plt.bar(dfmaxCountry.index, dfmaxCountry)\n",
    "plt.xlabel(\"Viewing Country\")\n",
    "plt.ylabel(\"Maximum Total Number of Days videos have trended\")\n",
    "plt.title(\"The longest videos trend in each country\")\n"
   ]
  },
  {
   "attachments": {},
   "cell_type": "markdown",
   "metadata": {},
   "source": [
    "### Approach:\n",
    "* Created a series that has the max value of total trending days for each country \n",
    "* Sorted the vales in the series in desending order and created a bar graph\n",
    "\n",
    "### Insights:\n",
    "* Videos trend in UK from 1 to 38 days\n",
    "* Videos trend in US from 1 to 29 days\n",
    "* Videos trend in India from 1 to 10 days\n",
    "* Videos trend in Canada from 1 to 8 days\n",
    "* Videos trend in all other countries for less than 8 days"
   ]
  }
 ],
 "metadata": {
  "kernelspec": {
   "display_name": "Python 3",
   "language": "python",
   "name": "python3"
  },
  "language_info": {
   "codemirror_mode": {
    "name": "ipython",
    "version": 3
   },
   "file_extension": ".py",
   "mimetype": "text/x-python",
   "name": "python",
   "nbconvert_exporter": "python",
   "pygments_lexer": "ipython3",
   "version": "3.8.2"
  }
 },
 "nbformat": 4,
 "nbformat_minor": 4
}
