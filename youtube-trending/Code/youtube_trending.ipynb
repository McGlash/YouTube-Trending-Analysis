{
 "cells": [
  {
   "cell_type": "code",
   "execution_count": 1,
   "metadata": {},
   "outputs": [],
   "source": [
    "import pandas as pd\n",
    "import os\n",
    "import re\n",
    "from datetime import datetime as dt\n",
    "import scipy.stats as st\n",
    "import matplotlib.pyplot as plt\n",
    "import numpy as np\n",
    "import seaborn as sns\n",
    "\n",
    "from IPython.core.interactiveshell import InteractiveShell\n",
    "InteractiveShell.ast_node_interactivity = 'all'"
   ]
  },
  {
   "cell_type": "markdown",
   "metadata": {},
   "source": [
    "# Merging the Data to a single DF"
   ]
  },
  {
   "cell_type": "code",
   "execution_count": 2,
   "metadata": {},
   "outputs": [],
   "source": [
    "def find_all_files(path, ty='csv', Name='Merged_DF.csv'):\n",
    "    #Iteratively appends all files with ty extention to list_of_files\n",
    "    for root,dirs,files in os.walk(path):\n",
    "        [list_of_files.append(file) for file in files if (file.endswith(f\".{ty}\") and (file!=Name))]"
   ]
  },
  {
   "cell_type": "code",
   "execution_count": 3,
   "metadata": {},
   "outputs": [],
   "source": [
    "Name = 'Merged_DF.csv' #Name of Final DF\n",
    "list_of_files = []\n",
    "data_path = os.path.join('..', 'Data')\n",
    "find_all_files(data_path, Name=Name)\n",
    "\n",
    "Total_DF = pd.DataFrame()\n",
    "for file in list_of_files:\n",
    "    try:\n",
    "        DF = pd.read_csv(os.path.join('..', 'Data', file), encoding='utf-8')\n",
    "    except:\n",
    "        DF = pd.read_csv(os.path.join('..', 'Data', file), encoding='latin1')\n",
    "    Total_DF = (DF if Total_DF.empty else pd.concat([Total_DF, DF]))"
   ]
  },
  {
   "cell_type": "markdown",
   "metadata": {},
   "source": [
    "# Total DF Cleaning"
   ]
  },
  {
   "cell_type": "code",
   "execution_count": 4,
   "metadata": {},
   "outputs": [],
   "source": [
    "#Total_DF['video_id'].map(lambda x: type(x)!=str).sum() #All values are string\n",
    "#Total_DF['trending_date'].map(lambda x: type(x)!=str).sum() #All values are string\n",
    "#Convert the 'trending_date' to date format\n",
    "Total_DF['trending_date'] = Total_DF['trending_date'].map(lambda x: dt.strptime(x, \"%y.%d.%m\"))\n",
    "\n",
    "#Total_DF['title'].map(lambda x: type(x)!=str).sum() #All values are string\n",
    "#Total_DF['channel_title'].map(lambda x: type(x)!=str).sum() #All values are string\n",
    "#Total_DF['category_id'].map(lambda x: type(x)!=int).sum() #All values are int\n",
    "#Total_DF['publish_time'].map(lambda x: type(x)!=str).sum() #All values are string\n",
    "#Convert the 'publish_time' to date format\n",
    "Total_DF['publish_time'] = pd.to_datetime(Total_DF['publish_time'], format='%Y-%m-%dT%H:%M:%S.%fZ') #%f means microsecond which means 6 digits. This works here as it is always 0 microseconds\n",
    "#Total_DF['tags'].map(lambda x: type(x)!=str).sum() #All values are string\n",
    "#Total_DF['views'].map(lambda x: type(x)!=int).sum() #All values are int64\n",
    "#Total_DF['likes'].map(lambda x: type(x)!=int).sum() #All values are int64\n",
    "#Total_DF['dislikes'].map(lambda x: type(x)!=int).sum() #All values are int64\n",
    "#Total_DF['comment_count'].map(lambda x: type(x)!=int).sum() #All values are int64\n",
    "#Total_DF['likes'].isnull().sum()\n",
    "#Total_DF['dislikes'].isnull().sum()\n",
    "#Total_DF['comment_count'].isnull().sum()\n",
    "#Total_DF['thumbnail_link'].isnull().sum()\n",
    "#Total_DF['comments_disabled'].map(lambda x: type(x)!=bool).sum() #All values are boolean\n",
    "#Total_DF['ratings_disabled'].map(lambda x: type(x)!=bool).sum() #All values are boolean\n",
    "#Total_DF['video_error_or_removed'].map(lambda x: type(x)!=bool).sum() #All values are boolean\n",
    "#Total_DF['comments_disabled'].isnull().sum()\n",
    "#Total_DF['ratings_disabled'].isnull().sum()\n",
    "#Total_DF['video_error_or_removed'].isnull().sum()\n",
    "\n",
    "#Convert NaN values in 'description' to ''\n",
    "Total_DF['description'].fillna(value='', inplace=True)\n",
    "#Total_DF['description'].isna().sum()\n",
    "#Total_DF[Total_DF['description'] == ''].shape"
   ]
  },
  {
   "cell_type": "markdown",
   "metadata": {},
   "source": [
    "# Removing for duplicate rows"
   ]
  },
  {
   "cell_type": "code",
   "execution_count": 5,
   "metadata": {},
   "outputs": [
    {
     "data": {
      "text/plain": [
       "(323518, 16)"
      ]
     },
     "execution_count": 5,
     "metadata": {},
     "output_type": "execute_result"
    }
   ],
   "source": [
    "#Drop the duplicate rows\n",
    "Total_DF.drop_duplicates(subset=['video_id', 'trending_date'], keep='last', inplace=True)\n",
    "Total_DF.reset_index(drop=True, inplace=True)\n",
    "to_drop = Total_DF[(Total_DF['video_id']=='#NAME?') | (Total_DF['video_id']=='#VALUE!')].index\n",
    "Total_DF.drop(to_drop, inplace=True)\n",
    "Total_DF.reset_index(drop=True, inplace=True)\n",
    "Total_DF.shape\n",
    "#375942 - 52212 - 205 -7  = 323518"
   ]
  },
  {
   "cell_type": "code",
   "execution_count": 6,
   "metadata": {},
   "outputs": [
    {
     "data": {
      "text/plain": [
       "video_id                          object\n",
       "trending_date             datetime64[ns]\n",
       "title                             object\n",
       "channel_title                     object\n",
       "category_id                        int64\n",
       "publish_time              datetime64[ns]\n",
       "tags                              object\n",
       "views                              int64\n",
       "likes                              int64\n",
       "dislikes                           int64\n",
       "comment_count                      int64\n",
       "thumbnail_link                    object\n",
       "comments_disabled                   bool\n",
       "ratings_disabled                    bool\n",
       "video_error_or_removed              bool\n",
       "description                       object\n",
       "dtype: object"
      ]
     },
     "execution_count": 6,
     "metadata": {},
     "output_type": "execute_result"
    }
   ],
   "source": [
    "Total_DF.dtypes"
   ]
  },
  {
   "cell_type": "markdown",
   "metadata": {},
   "source": [
    "# Save the DataFrame as pickle "
   ]
  },
  {
   "cell_type": "code",
   "execution_count": 7,
   "metadata": {},
   "outputs": [],
   "source": [
    "Total_DF.to_pickle(\"../Data/VideoDF.pkl\")"
   ]
  },
  {
   "cell_type": "markdown",
   "metadata": {},
   "source": [
    "# Read from pickle"
   ]
  },
  {
   "cell_type": "code",
   "execution_count": 8,
   "metadata": {},
   "outputs": [],
   "source": [
    "Video_DF = pd.read_pickle(\"../Data/VideoDF.pkl\")"
   ]
  },
  {
   "cell_type": "code",
   "execution_count": 9,
   "metadata": {},
   "outputs": [
    {
     "data": {
      "text/plain": [
       "video_id                          object\n",
       "trending_date             datetime64[ns]\n",
       "title                             object\n",
       "channel_title                     object\n",
       "category_id                        int64\n",
       "publish_time              datetime64[ns]\n",
       "tags                              object\n",
       "views                              int64\n",
       "likes                              int64\n",
       "dislikes                           int64\n",
       "comment_count                      int64\n",
       "thumbnail_link                    object\n",
       "comments_disabled                   bool\n",
       "ratings_disabled                    bool\n",
       "video_error_or_removed              bool\n",
       "description                       object\n",
       "dtype: object"
      ]
     },
     "execution_count": 9,
     "metadata": {},
     "output_type": "execute_result"
    },
    {
     "data": {
      "text/plain": [
       "0"
      ]
     },
     "execution_count": 9,
     "metadata": {},
     "output_type": "execute_result"
    }
   ],
   "source": [
    "Video_DF.dtypes\n",
    "Video_DF.duplicated(subset=['video_id', 'trending_date'], keep='last').sum()"
   ]
  },
  {
   "cell_type": "markdown",
   "metadata": {},
   "source": [
    "##  Total Trend Days Vs Maximum Continuous Trend Days\n",
    "\n",
    "What is typically the pattern of trend ? Is it continuous trending or sporadic ?\n",
    "\n",
    "A very high correlation (0.98) between the total trend days and the maximum of  continuous trend days show Trending is a continuous pattern. \n",
    "\n",
    "Also, 99% of the trendings was continuous without a break and only 1% had a break in trending"
   ]
  },
  {
   "cell_type": "markdown",
   "metadata": {},
   "source": [
    "### Derive Total Trending Days"
   ]
  },
  {
   "cell_type": "code",
   "execution_count": 10,
   "metadata": {},
   "outputs": [],
   "source": [
    "Trending_Days = Video_DF.groupby('video_id').aggregate(First_Trend_Date=('trending_date', 'min'), Last_Trend_Date=('trending_date', 'max'), Total_Trend_Days=('trending_date', 'count'))\n"
   ]
  },
  {
   "cell_type": "code",
   "execution_count": 11,
   "metadata": {},
   "outputs": [
    {
     "data": {
      "text/html": [
       "<div>\n",
       "<style scoped>\n",
       "    .dataframe tbody tr th:only-of-type {\n",
       "        vertical-align: middle;\n",
       "    }\n",
       "\n",
       "    .dataframe tbody tr th {\n",
       "        vertical-align: top;\n",
       "    }\n",
       "\n",
       "    .dataframe thead th {\n",
       "        text-align: right;\n",
       "    }\n",
       "</style>\n",
       "<table border=\"1\" class=\"dataframe\">\n",
       "  <thead>\n",
       "    <tr style=\"text-align: right;\">\n",
       "      <th></th>\n",
       "      <th>First_Trend_Date</th>\n",
       "      <th>Last_Trend_Date</th>\n",
       "      <th>Total_Trend_Days</th>\n",
       "    </tr>\n",
       "    <tr>\n",
       "      <th>video_id</th>\n",
       "      <th></th>\n",
       "      <th></th>\n",
       "      <th></th>\n",
       "    </tr>\n",
       "  </thead>\n",
       "  <tbody>\n",
       "    <tr>\n",
       "      <th>--1skHapGUc</th>\n",
       "      <td>2018-02-10</td>\n",
       "      <td>2018-02-10</td>\n",
       "      <td>1</td>\n",
       "    </tr>\n",
       "    <tr>\n",
       "      <th>--2K8l6BWfw</th>\n",
       "      <td>2018-03-06</td>\n",
       "      <td>2018-03-06</td>\n",
       "      <td>1</td>\n",
       "    </tr>\n",
       "    <tr>\n",
       "      <th>--45ws7CEN0</th>\n",
       "      <td>2018-06-12</td>\n",
       "      <td>2018-06-12</td>\n",
       "      <td>1</td>\n",
       "    </tr>\n",
       "    <tr>\n",
       "      <th>--6vcer7XYQ</th>\n",
       "      <td>2018-03-23</td>\n",
       "      <td>2018-03-25</td>\n",
       "      <td>3</td>\n",
       "    </tr>\n",
       "    <tr>\n",
       "      <th>--728h8mnDY</th>\n",
       "      <td>2017-12-06</td>\n",
       "      <td>2017-12-07</td>\n",
       "      <td>2</td>\n",
       "    </tr>\n",
       "  </tbody>\n",
       "</table>\n",
       "</div>"
      ],
      "text/plain": [
       "            First_Trend_Date Last_Trend_Date  Total_Trend_Days\n",
       "video_id                                                      \n",
       "--1skHapGUc       2018-02-10      2018-02-10                 1\n",
       "--2K8l6BWfw       2018-03-06      2018-03-06                 1\n",
       "--45ws7CEN0       2018-06-12      2018-06-12                 1\n",
       "--6vcer7XYQ       2018-03-23      2018-03-25                 3\n",
       "--728h8mnDY       2017-12-06      2017-12-07                 2"
      ]
     },
     "execution_count": 11,
     "metadata": {},
     "output_type": "execute_result"
    }
   ],
   "source": [
    "Trending_Days.head()"
   ]
  },
  {
   "cell_type": "markdown",
   "metadata": {},
   "source": [
    "### Continuity of Trending"
   ]
  },
  {
   "cell_type": "code",
   "execution_count": 12,
   "metadata": {},
   "outputs": [],
   "source": [
    "Videos_Trended_more_than_1day =  Trending_Days[Trending_Days['Total_Trend_Days']>1].index.to_list()\n",
    "Sorted_Video_DF = Video_DF.sort_values(by=['video_id', 'trending_date'])  \n",
    "Video_grp = Sorted_Video_DF.groupby('video_id')\n",
    "Video_Trending_Dates = Video_grp.aggregate(Trending_Dates = ('trending_date', lambda x: x.to_list()))"
   ]
  },
  {
   "cell_type": "code",
   "execution_count": 13,
   "metadata": {},
   "outputs": [],
   "source": [
    "#Maximum Continuous Days of Trending\n",
    "def find_max_period(dates):\n",
    "    period=1\n",
    "    max_periods = 1\n",
    "    for index, date in enumerate(dates[:-1]):\n",
    "        diff = dates[index+1] - date\n",
    "        \n",
    "        if diff.days == 1:\n",
    "            period+=1\n",
    "        else:\n",
    "            if max_periods < period:\n",
    "                max_periods = period\n",
    "            period=1\n",
    "        \n",
    "    return (max_periods if max_periods>period else period)\n",
    "#find_max_period(Video_Trending_Dates.loc['zxwfDlhJIpw', :][0])"
   ]
  },
  {
   "cell_type": "code",
   "execution_count": 14,
   "metadata": {},
   "outputs": [],
   "source": [
    "Video_Trending_Dates['Max_Perid_of_Cont_Treanding'] = Video_Trending_Dates.apply(lambda x: find_max_period(x[0]), axis=1)\n",
    "Video_Trending_Dates['Trending_Dates_String'] = Video_Trending_Dates['Trending_Dates'].map(lambda L: [item.strftime(\"%y.%d.%m\") for item in L])            \n",
    "Video_Trending_Dates = Video_Trending_Dates[['Trending_Dates', 'Trending_Dates_String', 'Max_Perid_of_Cont_Treanding']]                             \n"
   ]
  },
  {
   "cell_type": "code",
   "execution_count": 15,
   "metadata": {},
   "outputs": [
    {
     "data": {
      "text/html": [
       "<div>\n",
       "<style scoped>\n",
       "    .dataframe tbody tr th:only-of-type {\n",
       "        vertical-align: middle;\n",
       "    }\n",
       "\n",
       "    .dataframe tbody tr th {\n",
       "        vertical-align: top;\n",
       "    }\n",
       "\n",
       "    .dataframe thead th {\n",
       "        text-align: right;\n",
       "    }\n",
       "</style>\n",
       "<table border=\"1\" class=\"dataframe\">\n",
       "  <thead>\n",
       "    <tr style=\"text-align: right;\">\n",
       "      <th></th>\n",
       "      <th>Trending_Dates</th>\n",
       "      <th>Trending_Dates_String</th>\n",
       "      <th>Max_Perid_of_Cont_Treanding</th>\n",
       "    </tr>\n",
       "    <tr>\n",
       "      <th>video_id</th>\n",
       "      <th></th>\n",
       "      <th></th>\n",
       "      <th></th>\n",
       "    </tr>\n",
       "  </thead>\n",
       "  <tbody>\n",
       "    <tr>\n",
       "      <th>--1skHapGUc</th>\n",
       "      <td>[2018-02-10 00:00:00]</td>\n",
       "      <td>[18.10.02]</td>\n",
       "      <td>1</td>\n",
       "    </tr>\n",
       "    <tr>\n",
       "      <th>--2K8l6BWfw</th>\n",
       "      <td>[2018-03-06 00:00:00]</td>\n",
       "      <td>[18.06.03]</td>\n",
       "      <td>1</td>\n",
       "    </tr>\n",
       "    <tr>\n",
       "      <th>--45ws7CEN0</th>\n",
       "      <td>[2018-06-12 00:00:00]</td>\n",
       "      <td>[18.12.06]</td>\n",
       "      <td>1</td>\n",
       "    </tr>\n",
       "    <tr>\n",
       "      <th>--6vcer7XYQ</th>\n",
       "      <td>[2018-03-23 00:00:00, 2018-03-24 00:00:00, 201...</td>\n",
       "      <td>[18.23.03, 18.24.03, 18.25.03]</td>\n",
       "      <td>3</td>\n",
       "    </tr>\n",
       "    <tr>\n",
       "      <th>--728h8mnDY</th>\n",
       "      <td>[2017-12-06 00:00:00, 2017-12-07 00:00:00]</td>\n",
       "      <td>[17.06.12, 17.07.12]</td>\n",
       "      <td>2</td>\n",
       "    </tr>\n",
       "  </tbody>\n",
       "</table>\n",
       "</div>"
      ],
      "text/plain": [
       "                                                Trending_Dates  \\\n",
       "video_id                                                         \n",
       "--1skHapGUc                              [2018-02-10 00:00:00]   \n",
       "--2K8l6BWfw                              [2018-03-06 00:00:00]   \n",
       "--45ws7CEN0                              [2018-06-12 00:00:00]   \n",
       "--6vcer7XYQ  [2018-03-23 00:00:00, 2018-03-24 00:00:00, 201...   \n",
       "--728h8mnDY         [2017-12-06 00:00:00, 2017-12-07 00:00:00]   \n",
       "\n",
       "                      Trending_Dates_String  Max_Perid_of_Cont_Treanding  \n",
       "video_id                                                                  \n",
       "--1skHapGUc                      [18.10.02]                            1  \n",
       "--2K8l6BWfw                      [18.06.03]                            1  \n",
       "--45ws7CEN0                      [18.12.06]                            1  \n",
       "--6vcer7XYQ  [18.23.03, 18.24.03, 18.25.03]                            3  \n",
       "--728h8mnDY            [17.06.12, 17.07.12]                            2  "
      ]
     },
     "execution_count": 15,
     "metadata": {},
     "output_type": "execute_result"
    }
   ],
   "source": [
    "Video_Trending_Dates.head()"
   ]
  },
  {
   "cell_type": "markdown",
   "metadata": {},
   "source": [
    "### Merge Total_Trend_Days and Max_Perid_of_Cont_Treanding into a single DF"
   ]
  },
  {
   "cell_type": "code",
   "execution_count": 16,
   "metadata": {},
   "outputs": [],
   "source": [
    "Trending_Pattern_DF = Trending_Days.join(Video_Trending_Dates[['Trending_Dates_String', 'Max_Perid_of_Cont_Treanding']])\n",
    "Trending_Pattern_DF = Trending_Pattern_DF[['First_Trend_Date', 'Last_Trend_Date', 'Trending_Dates_String', 'Total_Trend_Days','Max_Perid_of_Cont_Treanding']]\n"
   ]
  },
  {
   "cell_type": "code",
   "execution_count": 17,
   "metadata": {},
   "outputs": [
    {
     "data": {
      "text/html": [
       "<div>\n",
       "<style scoped>\n",
       "    .dataframe tbody tr th:only-of-type {\n",
       "        vertical-align: middle;\n",
       "    }\n",
       "\n",
       "    .dataframe tbody tr th {\n",
       "        vertical-align: top;\n",
       "    }\n",
       "\n",
       "    .dataframe thead th {\n",
       "        text-align: right;\n",
       "    }\n",
       "</style>\n",
       "<table border=\"1\" class=\"dataframe\">\n",
       "  <thead>\n",
       "    <tr style=\"text-align: right;\">\n",
       "      <th></th>\n",
       "      <th>First_Trend_Date</th>\n",
       "      <th>Last_Trend_Date</th>\n",
       "      <th>Trending_Dates_String</th>\n",
       "      <th>Total_Trend_Days</th>\n",
       "      <th>Max_Perid_of_Cont_Treanding</th>\n",
       "    </tr>\n",
       "    <tr>\n",
       "      <th>video_id</th>\n",
       "      <th></th>\n",
       "      <th></th>\n",
       "      <th></th>\n",
       "      <th></th>\n",
       "      <th></th>\n",
       "    </tr>\n",
       "  </thead>\n",
       "  <tbody>\n",
       "    <tr>\n",
       "      <th>--1skHapGUc</th>\n",
       "      <td>2018-02-10</td>\n",
       "      <td>2018-02-10</td>\n",
       "      <td>[18.10.02]</td>\n",
       "      <td>1</td>\n",
       "      <td>1</td>\n",
       "    </tr>\n",
       "    <tr>\n",
       "      <th>--2K8l6BWfw</th>\n",
       "      <td>2018-03-06</td>\n",
       "      <td>2018-03-06</td>\n",
       "      <td>[18.06.03]</td>\n",
       "      <td>1</td>\n",
       "      <td>1</td>\n",
       "    </tr>\n",
       "    <tr>\n",
       "      <th>--45ws7CEN0</th>\n",
       "      <td>2018-06-12</td>\n",
       "      <td>2018-06-12</td>\n",
       "      <td>[18.12.06]</td>\n",
       "      <td>1</td>\n",
       "      <td>1</td>\n",
       "    </tr>\n",
       "    <tr>\n",
       "      <th>--6vcer7XYQ</th>\n",
       "      <td>2018-03-23</td>\n",
       "      <td>2018-03-25</td>\n",
       "      <td>[18.23.03, 18.24.03, 18.25.03]</td>\n",
       "      <td>3</td>\n",
       "      <td>3</td>\n",
       "    </tr>\n",
       "    <tr>\n",
       "      <th>--728h8mnDY</th>\n",
       "      <td>2017-12-06</td>\n",
       "      <td>2017-12-07</td>\n",
       "      <td>[17.06.12, 17.07.12]</td>\n",
       "      <td>2</td>\n",
       "      <td>2</td>\n",
       "    </tr>\n",
       "  </tbody>\n",
       "</table>\n",
       "</div>"
      ],
      "text/plain": [
       "            First_Trend_Date Last_Trend_Date           Trending_Dates_String  \\\n",
       "video_id                                                                       \n",
       "--1skHapGUc       2018-02-10      2018-02-10                      [18.10.02]   \n",
       "--2K8l6BWfw       2018-03-06      2018-03-06                      [18.06.03]   \n",
       "--45ws7CEN0       2018-06-12      2018-06-12                      [18.12.06]   \n",
       "--6vcer7XYQ       2018-03-23      2018-03-25  [18.23.03, 18.24.03, 18.25.03]   \n",
       "--728h8mnDY       2017-12-06      2017-12-07            [17.06.12, 17.07.12]   \n",
       "\n",
       "             Total_Trend_Days  Max_Perid_of_Cont_Treanding  \n",
       "video_id                                                    \n",
       "--1skHapGUc                 1                            1  \n",
       "--2K8l6BWfw                 1                            1  \n",
       "--45ws7CEN0                 1                            1  \n",
       "--6vcer7XYQ                 3                            3  \n",
       "--728h8mnDY                 2                            2  "
      ]
     },
     "execution_count": 17,
     "metadata": {},
     "output_type": "execute_result"
    },
    {
     "data": {
      "text/html": [
       "<div>\n",
       "<style scoped>\n",
       "    .dataframe tbody tr th:only-of-type {\n",
       "        vertical-align: middle;\n",
       "    }\n",
       "\n",
       "    .dataframe tbody tr th {\n",
       "        vertical-align: top;\n",
       "    }\n",
       "\n",
       "    .dataframe thead th {\n",
       "        text-align: right;\n",
       "    }\n",
       "</style>\n",
       "<table border=\"1\" class=\"dataframe\">\n",
       "  <thead>\n",
       "    <tr style=\"text-align: right;\">\n",
       "      <th></th>\n",
       "      <th>First_Trend_Date</th>\n",
       "      <th>Last_Trend_Date</th>\n",
       "      <th>Trending_Dates_String</th>\n",
       "      <th>Total_Trend_Days</th>\n",
       "      <th>Max_Perid_of_Cont_Treanding</th>\n",
       "    </tr>\n",
       "    <tr>\n",
       "      <th>video_id</th>\n",
       "      <th></th>\n",
       "      <th></th>\n",
       "      <th></th>\n",
       "      <th></th>\n",
       "      <th></th>\n",
       "    </tr>\n",
       "  </thead>\n",
       "  <tbody>\n",
       "    <tr>\n",
       "      <th>-3VBPAZPTQI</th>\n",
       "      <td>2017-12-31</td>\n",
       "      <td>2018-01-15</td>\n",
       "      <td>[17.31.12, 18.01.01, 18.02.01, 18.03.01, 18.04...</td>\n",
       "      <td>14</td>\n",
       "      <td>10</td>\n",
       "    </tr>\n",
       "    <tr>\n",
       "      <th>-8X32zNup1o</th>\n",
       "      <td>2018-05-23</td>\n",
       "      <td>2018-06-11</td>\n",
       "      <td>[18.23.05, 18.04.06, 18.05.06, 18.06.06, 18.07...</td>\n",
       "      <td>9</td>\n",
       "      <td>8</td>\n",
       "    </tr>\n",
       "    <tr>\n",
       "      <th>-BDImdAfodA</th>\n",
       "      <td>2018-02-02</td>\n",
       "      <td>2018-03-07</td>\n",
       "      <td>[18.02.02, 18.03.02, 18.04.02, 18.05.02, 18.06...</td>\n",
       "      <td>32</td>\n",
       "      <td>29</td>\n",
       "    </tr>\n",
       "    <tr>\n",
       "      <th>-CS84oCtjvc</th>\n",
       "      <td>2018-02-16</td>\n",
       "      <td>2018-02-23</td>\n",
       "      <td>[18.16.02, 18.21.02, 18.22.02, 18.23.02]</td>\n",
       "      <td>4</td>\n",
       "      <td>3</td>\n",
       "    </tr>\n",
       "    <tr>\n",
       "      <th>-DRsfNObKIQ</th>\n",
       "      <td>2018-05-09</td>\n",
       "      <td>2018-06-14</td>\n",
       "      <td>[18.09.05, 18.10.05, 18.11.05, 18.12.05, 18.13...</td>\n",
       "      <td>36</td>\n",
       "      <td>31</td>\n",
       "    </tr>\n",
       "  </tbody>\n",
       "</table>\n",
       "</div>"
      ],
      "text/plain": [
       "            First_Trend_Date Last_Trend_Date  \\\n",
       "video_id                                       \n",
       "-3VBPAZPTQI       2017-12-31      2018-01-15   \n",
       "-8X32zNup1o       2018-05-23      2018-06-11   \n",
       "-BDImdAfodA       2018-02-02      2018-03-07   \n",
       "-CS84oCtjvc       2018-02-16      2018-02-23   \n",
       "-DRsfNObKIQ       2018-05-09      2018-06-14   \n",
       "\n",
       "                                         Trending_Dates_String  \\\n",
       "video_id                                                         \n",
       "-3VBPAZPTQI  [17.31.12, 18.01.01, 18.02.01, 18.03.01, 18.04...   \n",
       "-8X32zNup1o  [18.23.05, 18.04.06, 18.05.06, 18.06.06, 18.07...   \n",
       "-BDImdAfodA  [18.02.02, 18.03.02, 18.04.02, 18.05.02, 18.06...   \n",
       "-CS84oCtjvc           [18.16.02, 18.21.02, 18.22.02, 18.23.02]   \n",
       "-DRsfNObKIQ  [18.09.05, 18.10.05, 18.11.05, 18.12.05, 18.13...   \n",
       "\n",
       "             Total_Trend_Days  Max_Perid_of_Cont_Treanding  \n",
       "video_id                                                    \n",
       "-3VBPAZPTQI                14                           10  \n",
       "-8X32zNup1o                 9                            8  \n",
       "-BDImdAfodA                32                           29  \n",
       "-CS84oCtjvc                 4                            3  \n",
       "-DRsfNObKIQ                36                           31  "
      ]
     },
     "execution_count": 17,
     "metadata": {},
     "output_type": "execute_result"
    }
   ],
   "source": [
    "Trending_Pattern_DF[Trending_Pattern_DF['Total_Trend_Days']==Trending_Pattern_DF['Max_Perid_of_Cont_Treanding']].head()\n",
    "\n",
    "Trending_Pattern_DF[Trending_Pattern_DF['Total_Trend_Days']!=Trending_Pattern_DF['Max_Perid_of_Cont_Treanding']].head()\n"
   ]
  },
  {
   "cell_type": "code",
   "execution_count": 18,
   "metadata": {},
   "outputs": [
    {
     "data": {
      "text/plain": [
       "Index(['First_Trend_Date', 'Last_Trend_Date', 'Trending_Dates_String',\n",
       "       'Total_Trend_Days', 'Max_Perid_of_Cont_Treanding'],\n",
       "      dtype='object')"
      ]
     },
     "execution_count": 18,
     "metadata": {},
     "output_type": "execute_result"
    }
   ],
   "source": [
    "Trending_Pattern_DF.columns"
   ]
  },
  {
   "cell_type": "markdown",
   "metadata": {},
   "source": [
    "### Plotting to demonstrate correlation"
   ]
  },
  {
   "cell_type": "markdown",
   "metadata": {},
   "source": [
    "### Simple scatter plot doesn't capture this well as it doesn't show the density for large datasets with same values"
   ]
  },
  {
   "cell_type": "code",
   "execution_count": 19,
   "metadata": {},
   "outputs": [],
   "source": [
    "above = 20 \n",
    "below = Trending_Pattern_DF['Total_Trend_Days'].value_counts().index.max()\n",
    "Target = Trending_Pattern_DF[(Trending_Pattern_DF['Total_Trend_Days']>=above) & (Trending_Pattern_DF['Total_Trend_Days']<=below)]\n",
    "\n",
    "x = Target['Total_Trend_Days']\n",
    "y = Target['Max_Perid_of_Cont_Treanding']"
   ]
  },
  {
   "cell_type": "code",
   "execution_count": 20,
   "metadata": {},
   "outputs": [
    {
     "data": {
      "text/plain": [
       "<Figure size 432x288 with 0 Axes>"
      ]
     },
     "execution_count": 20,
     "metadata": {},
     "output_type": "execute_result"
    },
    {
     "data": {
      "text/plain": [
       "<matplotlib.collections.PathCollection at 0x1295bbfa0>"
      ]
     },
     "execution_count": 20,
     "metadata": {},
     "output_type": "execute_result"
    },
    {
     "data": {
      "image/png": "[encoded data removed]",
      "text/plain": [
       "<Figure size 432x288 with 1 Axes>"
      ]
     },
     "metadata": {
      "needs_background": "light"
     },
     "output_type": "display_data"
    }
   ],
   "source": [
    "plt.figure()\n",
    "plt.scatter(x,y)\n",
    "plt.show()"
   ]
  },
  {
   "cell_type": "code",
   "execution_count": 22,
   "metadata": {},
   "outputs": [
    {
     "data": {
      "image/png": "[encoded data removed]",
      "text/plain": [
       "<Figure size 1080x720 with 6 Axes>"
      ]
     },
     "metadata": {
      "needs_background": "light"
     },
     "output_type": "display_data"
    }
   ],
   "source": [
    "above_below = [2,3,5,10,15,20,Trending_Pattern_DF['Total_Trend_Days'].value_counts().index.max()]\n",
    "\n",
    "fig, axes = plt.subplots(2,3, figsize=(15,10))\n",
    "Axes = axes.flat\n",
    "\n",
    "for index, val in enumerate(above_below[:-1]):\n",
    "    above =  val\n",
    "    below = above_below[index+1]\n",
    "    Target = Trending_Pattern_DF[(Trending_Pattern_DF['Total_Trend_Days']>=above) & (Trending_Pattern_DF['Total_Trend_Days']<=below)]\n",
    "\n",
    "    \n",
    "    x = Target['Total_Trend_Days']\n",
    "    y = Target['Max_Perid_of_Cont_Treanding']\n",
    "    \n",
    "    _ = sns.kdeplot(x,y, cmap=\"Reds\", shade=True, ax=Axes[index])\n",
    "\n",
    "    #Disable individual labels\n",
    "    _=Axes[index].set_xlabel('')\n",
    "    _=Axes[index].set_ylabel('')\n",
    "    \n",
    "    #Custom xticks\n",
    "    stepx = (1 if len(range(x.min(), x.max()+1))<=6 else  len(range(x.min(), x.max()+1))//6)\n",
    "    stepy = (1 if len(range(y.min(), y.max()+1))<=6 else  len(range(y.min(), y.max()+1))//6)\n",
    "    \n",
    "    _=Axes[index].set_xticks(list(range(x.min(), x.max()+1, stepx)))\n",
    "    _=Axes[index].set_yticks(list(range(y.min(), y.max()+1, stepy)))\n",
    "    \n",
    "#Common Labels\n",
    "_ = fig.suptitle('Total Trending Vs Continuous Trending', fontsize=20)\n",
    "_ = fig.text(0.5, 0.055, 'Total Trend Days', ha='center', fontsize=15)\n",
    "_ = fig.text(0.055, 0.5, 'Longest Continuous Trending (in Days)', va='center', rotation='vertical', fontsize=15)\n",
    "\n",
    "#Save figure\n",
    "fig.savefig('../Image/Total_Trending_Vs_Continuous_Trending.png')"
   ]
  },
  {
   "cell_type": "markdown",
   "metadata": {},
   "source": [
    "### Find the correlation between Max_Perid_of_Cont_Treanding (\"Popularity\") Vs. Total_Trend_Days"
   ]
  },
  {
   "cell_type": "code",
   "execution_count": 23,
   "metadata": {},
   "outputs": [
    {
     "data": {
      "text/plain": [
       "(0.9856997456497165, 0.0)"
      ]
     },
     "execution_count": 23,
     "metadata": {},
     "output_type": "execute_result"
    }
   ],
   "source": [
    "st.pearsonr(Trending_Pattern_DF['Total_Trend_Days'], Trending_Pattern_DF['Max_Perid_of_Cont_Treanding'])"
   ]
  },
  {
   "cell_type": "code",
   "execution_count": 24,
   "metadata": {},
   "outputs": [
    {
     "data": {
      "text/plain": [
       "99.06394986027078"
      ]
     },
     "execution_count": 24,
     "metadata": {},
     "output_type": "execute_result"
    },
    {
     "data": {
      "text/plain": [
       "0.9360501397292238"
      ]
     },
     "execution_count": 24,
     "metadata": {},
     "output_type": "execute_result"
    }
   ],
   "source": [
    "#Percentge wise comparison on continuity\n",
    "100*Trending_Pattern_DF[Trending_Pattern_DF['Total_Trend_Days']==Trending_Pattern_DF['Max_Perid_of_Cont_Treanding']].shape[0]/Trending_Pattern_DF.shape[0]\n",
    "\n",
    "100*Trending_Pattern_DF[Trending_Pattern_DF['Total_Trend_Days']!=Trending_Pattern_DF['Max_Perid_of_Cont_Treanding']].shape[0]/Trending_Pattern_DF.shape[0]"
   ]
  }
 ],
 "metadata": {
  "kernelspec": {
   "display_name": "Python 3",
   "language": "python",
   "name": "python3"
  },
  "language_info": {
   "codemirror_mode": {
    "name": "ipython",
    "version": 3
   },
   "file_extension": ".py",
   "mimetype": "text/x-python",
   "name": "python",
   "nbconvert_exporter": "python",
   "pygments_lexer": "ipython3",
   "version": "3.8.1"
  }
 },
 "nbformat": 4,
 "nbformat_minor": 4
}
