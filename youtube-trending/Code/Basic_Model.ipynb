{
 "cells": [
  {
   "cell_type": "markdown",
   "metadata": {},
   "source": [
    "# Model Building"
   ]
  },
  {
   "cell_type": "markdown",
   "metadata": {},
   "source": [
    "**Here we built a model to predict the popularity bucket**\n",
    "\n",
    "- **1Day Trending -> 'JustTrending'**\n",
    "- **1 to 5 Days Trending-> 'Popular'**\n",
    "- **5 to 14 Days Trending -> 'UlraPopular'**\n",
    "- **>14 Days Trending -> 'Phenomenon'**\n",
    "\n",
    "**Our model has 82% accuracy on train data and 78% accuracy in test data**\n",
    "**Most of the misidentification are to the adjacent classes**"
   ]
  },
  {
   "cell_type": "markdown",
   "metadata": {},
   "source": [
    "### Dependencies"
   ]
  },
  {
   "cell_type": "code",
   "execution_count": 149,
   "metadata": {},
   "outputs": [],
   "source": [
    "#Show all outputs\n",
    "from IPython.core.interactiveshell import InteractiveShell\n",
    "InteractiveShell.ast_node_interactivity = \"all\"\n",
    "\n",
    "\n",
    "import pandas as pd\n",
    "import missingno as msno\n",
    "from sklearn.preprocessing import LabelEncoder, OneHotEncoder\n",
    "from copy import deepcopy\n",
    "#from datapackage import Package\n",
    "import matplotlib.pyplot as plt\n",
    "import numpy as np\n",
    "import seaborn as sns\n",
    "#from iso3166 import countries\n",
    "#import plotly.io as pio\n",
    "#import math\n",
    "#from sklearn.feature_selection import f_classif\n",
    "#from scipy.stats import chi2_contingency\n",
    "from sklearn.model_selection import train_test_split\n",
    "from xgboost import XGBClassifier, plot_importance\n",
    "from sklearn.metrics import accuracy_score\n",
    "from yellowbrick.classifier import ConfusionMatrix"
   ]
  },
  {
   "cell_type": "markdown",
   "metadata": {},
   "source": [
    "### Import and Cleanup"
   ]
  },
  {
   "cell_type": "code",
   "execution_count": 150,
   "metadata": {},
   "outputs": [],
   "source": [
    "DF = pd.read_pickle(\"../Data/Popularity_DF.pkl\")"
   ]
  },
  {
   "cell_type": "code",
   "execution_count": 151,
   "metadata": {},
   "outputs": [],
   "source": [
    "##Basic cleanup\n",
    "\n",
    "#Language fill NaN and cleanup\n",
    "DF['Language'].fillna('Unknown', inplace=True)\n",
    "DF['Language'].replace({'English (United Kingdom)':'English', 'Spanish (Latin America)':'Spanish', 'Spanish (Spain)':'Spanish'}, inplace=True)\n",
    "\n",
    "#Origin Country\n",
    "DF['Origin_Country'].fillna(value='Not_Disclosed', inplace=True)\n",
    "\n",
    "#Create Trended_After(Days)\n",
    "def indays(x,y):\n",
    "    z=x.date()-y.date()\n",
    "    return z.days\n",
    "DF['Trended_After(Days)'] = DF.apply(lambda x: indays(x['First_Trending'],x['Publish_Time']), axis=1)\n",
    "\n",
    "\n",
    "#Censorship \n",
    "DF['censorship'] = DF.apply(lambda x: (False if ((x['Blocked']!=x['Blocked']) and (x['Allowed']!=x['Allowed'])) else True),axis=1)\n",
    "#Create output variable\n",
    "def map_to_cat(x):\n",
    "    #np.quantile(Country_Category_Popularity_DF['Total_Trend_Days'], [0.95, 0.999])\n",
    "    #1 -> 'JustTrending'\n",
    "    #(1 to 5] -> 'Popular' #5 is 95th %\n",
    "    #(5 to 14] -> 'UlraPopular' #14 is 99.1%\n",
    "    #>14 -> 'Phenomenon'\n",
    "    return ('JustTrending' if x==1 else ('Popular' if x<=5 else ('UltraPopular' if x<=14 else \"Phenomenon\")))\n",
    "DF['Popularity_Category'] = DF['Total_Trend_Days'].map(lambda x: map_to_cat(x))      \n",
    "\n",
    "#Drop uncecessary columns\n",
    "DF.drop(['Blocked', 'Allowed', 'Total_Trend_Days'], inplace=True, axis=1)\n",
    "\n",
    "#Check missing values\n",
    "#_=msno.matrix(DF)"
   ]
  },
  {
   "cell_type": "code",
   "execution_count": 152,
   "metadata": {},
   "outputs": [
    {
     "data": {
      "text/plain": [
       "array(['FR', 'Not_Disclosed', 'US', 'RU', 'Others', 'DE', 'JP', 'CA',\n",
       "       'GB', 'KR', 'IN', 'MX', 'UA', 'TR', 'ES', 'MA'], dtype=object)"
      ]
     },
     "execution_count": 152,
     "metadata": {},
     "output_type": "execute_result"
    }
   ],
   "source": [
    "#Consider only countries that produces huge content and code everything else as 'Others'\n",
    "Top_Origin_Countries = ['Not_Disclosed', 'US', 'RU', 'IN', 'FR', 'DE', 'MX', 'KR', 'JP', 'TR',\n",
    "       'GB', 'CA', 'ES', 'UA', 'MA']\n",
    "DF['Origin_Country'] = DF['Origin_Country'].map(lambda x:(x if x in Top_Origin_Countries else 'Others'))\n",
    "DF['Origin_Country'].unique()"
   ]
  },
  {
   "cell_type": "code",
   "execution_count": 153,
   "metadata": {},
   "outputs": [
    {
     "data": {
      "text/plain": [
       "array(['French', 'English', 'Russian', 'Others', 'German', 'Icelandic',\n",
       "       'Japanese', 'Spanish', 'Unknown', 'Korean', 'Hindi', 'Arabic',\n",
       "       'Turkish'], dtype=object)"
      ]
     },
     "execution_count": 153,
     "metadata": {},
     "output_type": "execute_result"
    }
   ],
   "source": [
    "#Consider only languages that produces huge content and code everything else as 'Others'\n",
    "Top_Lang = ['English', 'Spanish', 'French', 'Russian', 'German', 'Icelandic',\n",
    "       'Unknown', 'Korean', 'Japanese', 'Turkish', 'Arabic', 'Hindi']\n",
    "\n",
    "DF['Language'] = DF['Language'].map(lambda x:(x if x in Top_Lang else 'Others'))\n",
    "DF['Language'].unique()"
   ]
  },
  {
   "cell_type": "code",
   "execution_count": 154,
   "metadata": {},
   "outputs": [],
   "source": [
    "#Convert Duration to minutes\n",
    "DF['Duration'] = DF['Duration']/60\n",
    "#Consider only duration <=130 (to remove live sessions)\n",
    "DF = DF[DF['Duration']<=130]\n",
    "\n",
    "#Reset Index\n",
    "DF.reset_index(drop=True, inplace=True)"
   ]
  },
  {
   "cell_type": "markdown",
   "metadata": {},
   "source": [
    "### Select only the required columns"
   ]
  },
  {
   "cell_type": "code",
   "execution_count": 155,
   "metadata": {},
   "outputs": [],
   "source": [
    "cat_columns=['viewing_country', 'Category', 'Origin_Country', 'Language', 'Comments_Disabled', 'Ratings_Disabled', 'GoogleAnalyticsUsed', 'IsmoderatingComments']\n",
    "num_columns=['Duration', 'Views', 'Likes', 'Dislikes', 'Comment_Count', 'Trended_After(Days)', 'PublishedAfter_in_Days']\n",
    "bin_columns=['Comments_Disabled', 'Ratings_Disabled', 'GoogleAnalyticsUsed', 'IsmoderatingComments']\n",
    "target=['Popularity_Category']    \n"
   ]
  },
  {
   "cell_type": "code",
   "execution_count": 156,
   "metadata": {},
   "outputs": [],
   "source": [
    "Base_Model_DF = DF[num_columns + cat_columns +target].copy()\n",
    "\n",
    "#Convert target to categorical\n",
    "Base_Model_DF['Popularity_Category'] = Base_Model_DF['Popularity_Category'].astype(pd.Categorical(['JustTrending', 'Popular', 'UltraPopular', 'Phenomenon'], ordered=True))   \n",
    "\n",
    "#Convert all other categorical variables to categories (without any order)\n",
    "Base_Model_DF.loc[:,cat_columns]=Base_Model_DF[cat_columns].astype('category')\n"
   ]
  },
  {
   "cell_type": "markdown",
   "metadata": {},
   "source": [
    "### Encoding the Categorical Variables"
   ]
  },
  {
   "cell_type": "code",
   "execution_count": 157,
   "metadata": {},
   "outputs": [],
   "source": [
    "#OneHotEncoder from SciKit library only takes numerical categorical values, \n",
    "#hence any value of string type should be label encoded before one hot encoded.\n",
    "def encoding(DataFrame, list_of_label_encoding=None, list_of_onehot_encoding=None, drop_first_col=None):\n",
    "    #This function takes a DF, list of to be label encoding columns, list of one hot encoding columns, \n",
    "    #list of  columns with first value to be dropped (in case of binary)\n",
    "    #Reference:- #https://stats.stackexchange.com/questions/438875/one-hot-encoding-of-a-binary-feature-when-using-xgboost\n",
    "    #New:- New Data (Need to use the same encoding)\n",
    "    #Label_Encoder:- Only for new Data\n",
    "    \n",
    "    DF = DataFrame.copy()\n",
    "    Dict_Label_Enc = dict()\n",
    "    \n",
    "    if list_of_label_encoding:\n",
    "        Label_enc = LabelEncoder()\n",
    "        for col in list_of_label_encoding:\n",
    "            Label_enc.fit(DF[col])\n",
    "            DF.loc[:,col] = Label_enc.transform(DF[col])\n",
    "            Dict_Label_Enc[col] = deepcopy(Label_enc)\n",
    "       \n",
    "    if list_of_onehot_encoding:\n",
    "        no_drop = (list(set(list_of_onehot_encoding).difference(set(drop_first_col))) if drop_first_col else list_of_onehot_encoding)\n",
    "        DF= pd.get_dummies(DF, columns=no_drop )\n",
    "        if drop_first_col: \n",
    "            DF = pd.get_dummies(DF, columns=drop_first_col, drop_first=True)\n",
    "        \n",
    "    return DF, Dict_Label_Enc\n",
    "        \n",
    "    \n",
    "    \n",
    "    "
   ]
  },
  {
   "cell_type": "code",
   "execution_count": 158,
   "metadata": {},
   "outputs": [],
   "source": [
    "Encoded_Base_Model_DF, Dict_Label_Enc= encoding(Base_Model_DF, list_of_label_encoding=target, list_of_onehot_encoding=cat_columns, drop_first_col=bin_columns)\n"
   ]
  },
  {
   "cell_type": "code",
   "execution_count": 159,
   "metadata": {},
   "outputs": [],
   "source": [
    "Encoded_Cat_Columns=['Category_Autos & Vehicles', 'Category_Comedy', 'Category_Education',\n",
    "       'Category_Entertainment', 'Category_Film & Animation',\n",
    "       'Category_Gaming', 'Category_Howto & Style', 'Category_Movies',\n",
    "       'Category_Music', 'Category_News & Politics',\n",
    "       'Category_Nonprofits & Activism', 'Category_People & Blogs',\n",
    "       'Category_Pets & Animals', 'Category_Science & Technology',\n",
    "       'Category_Shows', 'Category_Sports', 'Category_Trailers',\n",
    "       'Category_Travel & Events', 'Language_Arabic', 'Language_English',\n",
    "       'Language_French', 'Language_German', 'Language_Hindi',\n",
    "       'Language_Icelandic', 'Language_Japanese', 'Language_Korean',\n",
    "       'Language_Others', 'Language_Russian', 'Language_Spanish',\n",
    "       'Language_Turkish', 'Language_Unknown', 'viewing_country_CA',\n",
    "       'viewing_country_DE', 'viewing_country_FR', 'viewing_country_GB',\n",
    "       'viewing_country_IN', 'viewing_country_JP', 'viewing_country_KR',\n",
    "       'viewing_country_MX', 'viewing_country_RU', 'viewing_country_US',\n",
    "       'Origin_Country_CA', 'Origin_Country_DE', 'Origin_Country_ES',\n",
    "       'Origin_Country_FR', 'Origin_Country_GB', 'Origin_Country_IN',\n",
    "       'Origin_Country_JP', 'Origin_Country_KR', 'Origin_Country_MA',\n",
    "       'Origin_Country_MX', 'Origin_Country_Not_Disclosed',\n",
    "       'Origin_Country_Others', 'Origin_Country_RU', 'Origin_Country_TR',\n",
    "       'Origin_Country_UA', 'Origin_Country_US', 'Comments_Disabled_True',\n",
    "       'Ratings_Disabled_True', 'GoogleAnalyticsUsed_True',\n",
    "       'IsmoderatingComments_True']"
   ]
  },
  {
   "cell_type": "markdown",
   "metadata": {},
   "source": [
    "### Train Test Split"
   ]
  },
  {
   "cell_type": "code",
   "execution_count": 160,
   "metadata": {},
   "outputs": [],
   "source": [
    "X_train, X_test, y_train, y_test = train_test_split(Encoded_Base_Model_DF[num_columns+Encoded_Cat_Columns], Encoded_Base_Model_DF[target] , test_size=0.3, random_state=100)  \n"
   ]
  },
  {
   "cell_type": "markdown",
   "metadata": {},
   "source": [
    "### Simple XGBoost Model"
   ]
  },
  {
   "cell_type": "code",
   "execution_count": 162,
   "metadata": {},
   "outputs": [
    {
     "data": {
      "text/plain": [
       "XGBClassifier(base_score=0.5, booster='gbtree', colsample_bylevel=1,\n",
       "              colsample_bynode=1, colsample_bytree=1, gamma=0, gpu_id=-1,\n",
       "              importance_type='gain', interaction_constraints='',\n",
       "              learning_rate=0.300000012, max_delta_step=0, max_depth=6,\n",
       "              min_child_weight=1, missing=nan, monotone_constraints='()',\n",
       "              n_estimators=100, n_jobs=0, num_parallel_tree=1,\n",
       "              objective='multi:softprob', random_state=0, reg_alpha=0,\n",
       "              reg_lambda=1, scale_pos_weight=None, subsample=1,\n",
       "              tree_method='exact', validate_parameters=1, verbosity=None)"
      ]
     },
     "execution_count": 162,
     "metadata": {},
     "output_type": "execute_result"
    }
   ],
   "source": [
    "# Train the XGBoost Model\n",
    "model = XGBClassifier()\n",
    "y_train = np.array(y_train).ravel()#XGBoost expects a col vector\n",
    "model.fit(X_train, y_train)"
   ]
  },
  {
   "cell_type": "code",
   "execution_count": 163,
   "metadata": {},
   "outputs": [],
   "source": [
    "# make predictions for train data\n",
    "y_train_pred = model.predict(X_train)"
   ]
  },
  {
   "cell_type": "code",
   "execution_count": 121,
   "metadata": {},
   "outputs": [],
   "source": [
    "# evaluate predictions on train data\n",
    "accuracy = accuracy_score(y_train, y_train_pred)"
   ]
  },
  {
   "cell_type": "code",
   "execution_count": 164,
   "metadata": {},
   "outputs": [
    {
     "data": {
      "text/plain": [
       "0.7805508363044674"
      ]
     },
     "execution_count": 164,
     "metadata": {},
     "output_type": "execute_result"
    }
   ],
   "source": [
    "accuracy#Train accuracy"
   ]
  },
  {
   "cell_type": "code",
   "execution_count": 165,
   "metadata": {},
   "outputs": [],
   "source": [
    "# make predictions for test data\n",
    "y_test_pred = model.predict(X_test)"
   ]
  },
  {
   "cell_type": "code",
   "execution_count": 166,
   "metadata": {},
   "outputs": [],
   "source": [
    "# evaluate predictions on test data\n",
    "accuracy = accuracy_score(y_test, y_test_pred)"
   ]
  },
  {
   "cell_type": "code",
   "execution_count": 167,
   "metadata": {},
   "outputs": [
    {
     "data": {
      "text/plain": [
       "0.7805508363044674"
      ]
     },
     "execution_count": 167,
     "metadata": {},
     "output_type": "execute_result"
    }
   ],
   "source": [
    "accuracy#Test accuracy"
   ]
  },
  {
   "cell_type": "markdown",
   "metadata": {},
   "source": [
    "### Confusion Matrix"
   ]
  },
  {
   "cell_type": "code",
   "execution_count": 168,
   "metadata": {},
   "outputs": [
    {
     "name": "stderr",
     "output_type": "stream",
     "text": [
      "/Users/bincynarath/opt/miniconda3/lib/python3.8/site-packages/sklearn/base.py:209: FutureWarning: From version 0.24, get_params will raise an AttributeError if a parameter cannot be retrieved as an instance attribute. Previously it would return None.\n",
      "  warnings.warn('From version 0.24, get_params will raise an '\n"
     ]
    },
    {
     "data": {
      "text/plain": [
       "ConfusionMatrix(ax=<matplotlib.axes._subplots.AxesSubplot object at 0x1202ecdf0>,\n",
       "                classes=array(['JustTrending', 'Phenomenon', 'Popular', 'UltraPopular'],\n",
       "      dtype=object),\n",
       "                cmap=<matplotlib.colors.ListedColormap object at 0x1202ec130>,\n",
       "                model=None)"
      ]
     },
     "execution_count": 168,
     "metadata": {},
     "output_type": "execute_result"
    },
    {
     "data": {
      "text/plain": [
       "0.7805508363044674"
      ]
     },
     "execution_count": 168,
     "metadata": {},
     "output_type": "execute_result"
    },
    {
     "data": {
      "image/png": "[encoded data removed]",
      "text/plain": [
       "<Figure size 432x432 with 1 Axes>"
      ]
     },
     "metadata": {},
     "output_type": "display_data"
    },
    {
     "data": {
      "text/plain": [
       "<matplotlib.axes._subplots.AxesSubplot at 0x1202ecdf0>"
      ]
     },
     "execution_count": 168,
     "metadata": {},
     "output_type": "execute_result"
    }
   ],
   "source": [
    "fig, ax = plt.subplots(figsize=(6,6))\n",
    "CM = ConfusionMatrix(\n",
    "    model, classes=Dict_Label_Enc['Popularity_Category'].classes_,\n",
    "    label_encoder=Dict_Label_Enc['Popularity_Category'], ax=ax, cmap=\"YlGn\"\n",
    ")\n",
    "CM.fit(X_train, y_train)\n",
    "CM.score(X_test, y_test)\n",
    "\n",
    "_=plt.ylabel('True Class', fontsize=14)\n",
    "_=plt.xlabel('Predicted Class', fontsize=14)\n",
    "\n",
    "\n",
    "_=plt.tight_layout()\n",
    "plt.savefig('../Image/Confusion_Matrix.png', bbox_inches = \"tight\" )\n",
    "CM.show()\n"
   ]
  },
  {
   "cell_type": "code",
   "execution_count": 169,
   "metadata": {},
   "outputs": [
    {
     "data": {
      "text/plain": [
       "array([0, 1, 2, 3])"
      ]
     },
     "execution_count": 169,
     "metadata": {},
     "output_type": "execute_result"
    }
   ],
   "source": [
    "Dict_Label_Enc['Popularity_Category'].transform(Dict_Label_Enc['Popularity_Category'].classes_)"
   ]
  },
  {
   "cell_type": "code",
   "execution_count": 170,
   "metadata": {},
   "outputs": [
    {
     "data": {
      "text/plain": [
       "array(['JustTrending', 'Phenomenon', 'Popular', 'UltraPopular'],\n",
       "      dtype=object)"
      ]
     },
     "execution_count": 170,
     "metadata": {},
     "output_type": "execute_result"
    }
   ],
   "source": [
    "Dict_Label_Enc['Popularity_Category'].classes_"
   ]
  },
  {
   "cell_type": "markdown",
   "metadata": {},
   "source": [
    "## Feature Importance"
   ]
  },
  {
   "cell_type": "code",
   "execution_count": 171,
   "metadata": {},
   "outputs": [
    {
     "data": {
      "text/plain": [
       "<matplotlib.axes._subplots.AxesSubplot at 0x11e64afd0>"
      ]
     },
     "execution_count": 171,
     "metadata": {},
     "output_type": "execute_result"
    },
    {
     "data": {
      "image/png": "[encoded data removed]",
      "text/plain": [
       "<Figure size 720x1080 with 1 Axes>"
      ]
     },
     "metadata": {},
     "output_type": "display_data"
    }
   ],
   "source": [
    "fig, ax = plt.subplots(figsize=(10,15))\n",
    "plot_importance(model, color='lightcoral', ax=ax)\n",
    "plt.show()"
   ]
  },
  {
   "cell_type": "markdown",
   "metadata": {},
   "source": [
    "### Checking a specific video"
   ]
  },
  {
   "cell_type": "markdown",
   "metadata": {},
   "source": [
    "#### One of the most popular Kylie Jenner Video"
   ]
  },
  {
   "cell_type": "code",
   "execution_count": 188,
   "metadata": {},
   "outputs": [
    {
     "data": {
      "text/plain": [
       "array(['UltraPopular', 'Popular', 'Popular', 'Phenomenon', 'JustTrending',\n",
       "       'Popular', 'Popular', 'UltraPopular'], dtype=object)"
      ]
     },
     "execution_count": 188,
     "metadata": {},
     "output_type": "execute_result"
    },
    {
     "data": {
      "text/html": [
       "<div>\n",
       "<style scoped>\n",
       "    .dataframe tbody tr th:only-of-type {\n",
       "        vertical-align: middle;\n",
       "    }\n",
       "\n",
       "    .dataframe tbody tr th {\n",
       "        vertical-align: top;\n",
       "    }\n",
       "\n",
       "    .dataframe thead th {\n",
       "        text-align: right;\n",
       "    }\n",
       "</style>\n",
       "<table border=\"1\" class=\"dataframe\">\n",
       "  <thead>\n",
       "    <tr style=\"text-align: right;\">\n",
       "      <th></th>\n",
       "      <th>Duration</th>\n",
       "      <th>Views</th>\n",
       "      <th>Likes</th>\n",
       "      <th>Dislikes</th>\n",
       "      <th>Comment_Count</th>\n",
       "      <th>Trended_After(Days)</th>\n",
       "      <th>PublishedAfter_in_Days</th>\n",
       "      <th>viewing_country</th>\n",
       "      <th>Category</th>\n",
       "      <th>Origin_Country</th>\n",
       "      <th>Language</th>\n",
       "      <th>Comments_Disabled</th>\n",
       "      <th>Ratings_Disabled</th>\n",
       "      <th>GoogleAnalyticsUsed</th>\n",
       "      <th>IsmoderatingComments</th>\n",
       "      <th>Popularity_Category</th>\n",
       "      <th>Predicted_Popularity</th>\n",
       "    </tr>\n",
       "  </thead>\n",
       "  <tbody>\n",
       "    <tr>\n",
       "      <th>28366</th>\n",
       "      <td>11.55</td>\n",
       "      <td>20921796</td>\n",
       "      <td>0</td>\n",
       "      <td>0</td>\n",
       "      <td>0</td>\n",
       "      <td>1</td>\n",
       "      <td>954</td>\n",
       "      <td>CA</td>\n",
       "      <td>People &amp; Blogs</td>\n",
       "      <td>Not_Disclosed</td>\n",
       "      <td>English</td>\n",
       "      <td>True</td>\n",
       "      <td>True</td>\n",
       "      <td>False</td>\n",
       "      <td>False</td>\n",
       "      <td>UltraPopular</td>\n",
       "      <td>UltraPopular</td>\n",
       "    </tr>\n",
       "    <tr>\n",
       "      <th>28367</th>\n",
       "      <td>11.55</td>\n",
       "      <td>20921796</td>\n",
       "      <td>0</td>\n",
       "      <td>0</td>\n",
       "      <td>0</td>\n",
       "      <td>1</td>\n",
       "      <td>954</td>\n",
       "      <td>DE</td>\n",
       "      <td>People &amp; Blogs</td>\n",
       "      <td>Not_Disclosed</td>\n",
       "      <td>English</td>\n",
       "      <td>True</td>\n",
       "      <td>True</td>\n",
       "      <td>False</td>\n",
       "      <td>False</td>\n",
       "      <td>Popular</td>\n",
       "      <td>Popular</td>\n",
       "    </tr>\n",
       "    <tr>\n",
       "      <th>28368</th>\n",
       "      <td>11.55</td>\n",
       "      <td>20921796</td>\n",
       "      <td>0</td>\n",
       "      <td>0</td>\n",
       "      <td>0</td>\n",
       "      <td>1</td>\n",
       "      <td>954</td>\n",
       "      <td>FR</td>\n",
       "      <td>People &amp; Blogs</td>\n",
       "      <td>Not_Disclosed</td>\n",
       "      <td>English</td>\n",
       "      <td>True</td>\n",
       "      <td>True</td>\n",
       "      <td>False</td>\n",
       "      <td>False</td>\n",
       "      <td>Popular</td>\n",
       "      <td>Popular</td>\n",
       "    </tr>\n",
       "    <tr>\n",
       "      <th>28369</th>\n",
       "      <td>11.55</td>\n",
       "      <td>20921796</td>\n",
       "      <td>0</td>\n",
       "      <td>0</td>\n",
       "      <td>0</td>\n",
       "      <td>1</td>\n",
       "      <td>954</td>\n",
       "      <td>GB</td>\n",
       "      <td>People &amp; Blogs</td>\n",
       "      <td>Not_Disclosed</td>\n",
       "      <td>English</td>\n",
       "      <td>True</td>\n",
       "      <td>True</td>\n",
       "      <td>False</td>\n",
       "      <td>False</td>\n",
       "      <td>Phenomenon</td>\n",
       "      <td>Phenomenon</td>\n",
       "    </tr>\n",
       "    <tr>\n",
       "      <th>28370</th>\n",
       "      <td>11.55</td>\n",
       "      <td>35832484</td>\n",
       "      <td>0</td>\n",
       "      <td>0</td>\n",
       "      <td>0</td>\n",
       "      <td>2</td>\n",
       "      <td>954</td>\n",
       "      <td>KR</td>\n",
       "      <td>People &amp; Blogs</td>\n",
       "      <td>Not_Disclosed</td>\n",
       "      <td>English</td>\n",
       "      <td>True</td>\n",
       "      <td>True</td>\n",
       "      <td>False</td>\n",
       "      <td>False</td>\n",
       "      <td>JustTrending</td>\n",
       "      <td>JustTrending</td>\n",
       "    </tr>\n",
       "    <tr>\n",
       "      <th>28371</th>\n",
       "      <td>11.55</td>\n",
       "      <td>20921796</td>\n",
       "      <td>0</td>\n",
       "      <td>0</td>\n",
       "      <td>0</td>\n",
       "      <td>1</td>\n",
       "      <td>954</td>\n",
       "      <td>MX</td>\n",
       "      <td>People &amp; Blogs</td>\n",
       "      <td>Not_Disclosed</td>\n",
       "      <td>English</td>\n",
       "      <td>True</td>\n",
       "      <td>True</td>\n",
       "      <td>False</td>\n",
       "      <td>False</td>\n",
       "      <td>Popular</td>\n",
       "      <td>Popular</td>\n",
       "    </tr>\n",
       "    <tr>\n",
       "      <th>28372</th>\n",
       "      <td>11.55</td>\n",
       "      <td>20921796</td>\n",
       "      <td>0</td>\n",
       "      <td>0</td>\n",
       "      <td>0</td>\n",
       "      <td>1</td>\n",
       "      <td>954</td>\n",
       "      <td>RU</td>\n",
       "      <td>People &amp; Blogs</td>\n",
       "      <td>Not_Disclosed</td>\n",
       "      <td>English</td>\n",
       "      <td>True</td>\n",
       "      <td>True</td>\n",
       "      <td>False</td>\n",
       "      <td>False</td>\n",
       "      <td>Popular</td>\n",
       "      <td>Popular</td>\n",
       "    </tr>\n",
       "    <tr>\n",
       "      <th>28373</th>\n",
       "      <td>11.55</td>\n",
       "      <td>20921796</td>\n",
       "      <td>0</td>\n",
       "      <td>0</td>\n",
       "      <td>0</td>\n",
       "      <td>1</td>\n",
       "      <td>954</td>\n",
       "      <td>US</td>\n",
       "      <td>People &amp; Blogs</td>\n",
       "      <td>Not_Disclosed</td>\n",
       "      <td>English</td>\n",
       "      <td>True</td>\n",
       "      <td>True</td>\n",
       "      <td>False</td>\n",
       "      <td>False</td>\n",
       "      <td>UltraPopular</td>\n",
       "      <td>UltraPopular</td>\n",
       "    </tr>\n",
       "  </tbody>\n",
       "</table>\n",
       "</div>"
      ],
      "text/plain": [
       "       Duration     Views  Likes  Dislikes  Comment_Count  \\\n",
       "28366     11.55  20921796      0         0              0   \n",
       "28367     11.55  20921796      0         0              0   \n",
       "28368     11.55  20921796      0         0              0   \n",
       "28369     11.55  20921796      0         0              0   \n",
       "28370     11.55  35832484      0         0              0   \n",
       "28371     11.55  20921796      0         0              0   \n",
       "28372     11.55  20921796      0         0              0   \n",
       "28373     11.55  20921796      0         0              0   \n",
       "\n",
       "       Trended_After(Days)  PublishedAfter_in_Days viewing_country  \\\n",
       "28366                    1                     954              CA   \n",
       "28367                    1                     954              DE   \n",
       "28368                    1                     954              FR   \n",
       "28369                    1                     954              GB   \n",
       "28370                    2                     954              KR   \n",
       "28371                    1                     954              MX   \n",
       "28372                    1                     954              RU   \n",
       "28373                    1                     954              US   \n",
       "\n",
       "             Category Origin_Country Language  Comments_Disabled  \\\n",
       "28366  People & Blogs  Not_Disclosed  English               True   \n",
       "28367  People & Blogs  Not_Disclosed  English               True   \n",
       "28368  People & Blogs  Not_Disclosed  English               True   \n",
       "28369  People & Blogs  Not_Disclosed  English               True   \n",
       "28370  People & Blogs  Not_Disclosed  English               True   \n",
       "28371  People & Blogs  Not_Disclosed  English               True   \n",
       "28372  People & Blogs  Not_Disclosed  English               True   \n",
       "28373  People & Blogs  Not_Disclosed  English               True   \n",
       "\n",
       "       Ratings_Disabled  GoogleAnalyticsUsed  IsmoderatingComments  \\\n",
       "28366              True                False                 False   \n",
       "28367              True                False                 False   \n",
       "28368              True                False                 False   \n",
       "28369              True                False                 False   \n",
       "28370              True                False                 False   \n",
       "28371              True                False                 False   \n",
       "28372              True                False                 False   \n",
       "28373              True                False                 False   \n",
       "\n",
       "      Popularity_Category Predicted_Popularity  \n",
       "28366        UltraPopular         UltraPopular  \n",
       "28367             Popular              Popular  \n",
       "28368             Popular              Popular  \n",
       "28369          Phenomenon           Phenomenon  \n",
       "28370        JustTrending         JustTrending  \n",
       "28371             Popular              Popular  \n",
       "28372             Popular              Popular  \n",
       "28373        UltraPopular         UltraPopular  "
      ]
     },
     "execution_count": 188,
     "metadata": {},
     "output_type": "execute_result"
    }
   ],
   "source": [
    "KJ = DF[DF['video_id']=='BhIEIO0vaBE'].copy()\n",
    "\n",
    "#This Madeup Data Frame is used to append with all new data before encoding so that dummies get the right names (It is a smart trick!!) \n",
    "#Later, this is removed\n",
    "NO_DUP_DF = DF[cat_columns].drop_duplicates(keep='first').reset_index(drop=True)\n",
    "NO_DUP_DF[num_columns]=DF.loc[NO_DUP_DF.index,num_columns]\n",
    "#NO_DUP_DF[num_columns+cat_columns]\n",
    "\n",
    "KJ_Test=KJ[num_columns+cat_columns]\n",
    "To_encode = pd.concat([NO_DUP_DF, KJ_Test])\n",
    "To_encode.reset_index(drop=True, inplace=True)\n",
    "\n",
    "encoded,_ = encoding(To_encode, list_of_label_encoding=None, list_of_onehot_encoding=cat_columns, drop_first_col=bin_columns)   \n",
    "KJ_encoded =  encoded.iloc[-len(KJ):,:]\n",
    "\n",
    "KJ_encoded=KJ_encoded[model.get_booster().feature_names]\n",
    "\n",
    "KJ_pred=model.predict(KJ_encoded)\n",
    "\n",
    "Dict_Label_Enc['Popularity_Category'].inverse_transform(KJ_pred)\n",
    "\n",
    "KJ['Predicted_Popularity'] = Dict_Label_Enc['Popularity_Category'].inverse_transform(KJ_pred)\n",
    "\n",
    "KJ[num_columns+cat_columns+target+['Predicted_Popularity']]\n"
   ]
  },
  {
   "cell_type": "markdown",
   "metadata": {},
   "source": [
    "### Random sample of 10 videos"
   ]
  },
  {
   "cell_type": "code",
   "execution_count": 183,
   "metadata": {},
   "outputs": [
    {
     "data": {
      "text/plain": [
       "array(['JustTrending', 'JustTrending', 'JustTrending', 'Popular',\n",
       "       'JustTrending', 'JustTrending', 'Popular', 'JustTrending',\n",
       "       'JustTrending', 'JustTrending'], dtype=object)"
      ]
     },
     "execution_count": 183,
     "metadata": {},
     "output_type": "execute_result"
    },
    {
     "data": {
      "text/html": [
       "<div>\n",
       "<style scoped>\n",
       "    .dataframe tbody tr th:only-of-type {\n",
       "        vertical-align: middle;\n",
       "    }\n",
       "\n",
       "    .dataframe tbody tr th {\n",
       "        vertical-align: top;\n",
       "    }\n",
       "\n",
       "    .dataframe thead th {\n",
       "        text-align: right;\n",
       "    }\n",
       "</style>\n",
       "<table border=\"1\" class=\"dataframe\">\n",
       "  <thead>\n",
       "    <tr style=\"text-align: right;\">\n",
       "      <th></th>\n",
       "      <th>Duration</th>\n",
       "      <th>Views</th>\n",
       "      <th>Likes</th>\n",
       "      <th>Dislikes</th>\n",
       "      <th>Comment_Count</th>\n",
       "      <th>Trended_After(Days)</th>\n",
       "      <th>PublishedAfter_in_Days</th>\n",
       "      <th>viewing_country</th>\n",
       "      <th>Category</th>\n",
       "      <th>Origin_Country</th>\n",
       "      <th>Language</th>\n",
       "      <th>Comments_Disabled</th>\n",
       "      <th>Ratings_Disabled</th>\n",
       "      <th>GoogleAnalyticsUsed</th>\n",
       "      <th>IsmoderatingComments</th>\n",
       "      <th>Popularity_Category</th>\n",
       "      <th>Predicted_Popularity</th>\n",
       "    </tr>\n",
       "  </thead>\n",
       "  <tbody>\n",
       "    <tr>\n",
       "      <th>132397</th>\n",
       "      <td>3.633333</td>\n",
       "      <td>9390</td>\n",
       "      <td>880</td>\n",
       "      <td>13</td>\n",
       "      <td>88</td>\n",
       "      <td>0</td>\n",
       "      <td>2630</td>\n",
       "      <td>RU</td>\n",
       "      <td>News &amp; Politics</td>\n",
       "      <td>RU</td>\n",
       "      <td>Icelandic</td>\n",
       "      <td>False</td>\n",
       "      <td>False</td>\n",
       "      <td>False</td>\n",
       "      <td>True</td>\n",
       "      <td>JustTrending</td>\n",
       "      <td>JustTrending</td>\n",
       "    </tr>\n",
       "    <tr>\n",
       "      <th>54369</th>\n",
       "      <td>33.316667</td>\n",
       "      <td>20673</td>\n",
       "      <td>817</td>\n",
       "      <td>17</td>\n",
       "      <td>77</td>\n",
       "      <td>1</td>\n",
       "      <td>212</td>\n",
       "      <td>DE</td>\n",
       "      <td>Film &amp; Animation</td>\n",
       "      <td>DE</td>\n",
       "      <td>English</td>\n",
       "      <td>False</td>\n",
       "      <td>False</td>\n",
       "      <td>False</td>\n",
       "      <td>True</td>\n",
       "      <td>JustTrending</td>\n",
       "      <td>JustTrending</td>\n",
       "    </tr>\n",
       "    <tr>\n",
       "      <th>89208</th>\n",
       "      <td>11.416667</td>\n",
       "      <td>33008</td>\n",
       "      <td>2029</td>\n",
       "      <td>127</td>\n",
       "      <td>265</td>\n",
       "      <td>1</td>\n",
       "      <td>855</td>\n",
       "      <td>FR</td>\n",
       "      <td>People &amp; Blogs</td>\n",
       "      <td>CA</td>\n",
       "      <td>English</td>\n",
       "      <td>False</td>\n",
       "      <td>False</td>\n",
       "      <td>False</td>\n",
       "      <td>False</td>\n",
       "      <td>JustTrending</td>\n",
       "      <td>JustTrending</td>\n",
       "    </tr>\n",
       "    <tr>\n",
       "      <th>38657</th>\n",
       "      <td>22.483333</td>\n",
       "      <td>458103</td>\n",
       "      <td>37045</td>\n",
       "      <td>4601</td>\n",
       "      <td>5616</td>\n",
       "      <td>1</td>\n",
       "      <td>1618</td>\n",
       "      <td>RU</td>\n",
       "      <td>Autos &amp; Vehicles</td>\n",
       "      <td>RU</td>\n",
       "      <td>Russian</td>\n",
       "      <td>False</td>\n",
       "      <td>False</td>\n",
       "      <td>False</td>\n",
       "      <td>False</td>\n",
       "      <td>Popular</td>\n",
       "      <td>Popular</td>\n",
       "    </tr>\n",
       "    <tr>\n",
       "      <th>17645</th>\n",
       "      <td>12.883333</td>\n",
       "      <td>44402</td>\n",
       "      <td>597</td>\n",
       "      <td>20</td>\n",
       "      <td>0</td>\n",
       "      <td>1</td>\n",
       "      <td>3014</td>\n",
       "      <td>CA</td>\n",
       "      <td>News &amp; Politics</td>\n",
       "      <td>US</td>\n",
       "      <td>English</td>\n",
       "      <td>True</td>\n",
       "      <td>False</td>\n",
       "      <td>True</td>\n",
       "      <td>False</td>\n",
       "      <td>JustTrending</td>\n",
       "      <td>JustTrending</td>\n",
       "    </tr>\n",
       "    <tr>\n",
       "      <th>27308</th>\n",
       "      <td>2.966667</td>\n",
       "      <td>29152</td>\n",
       "      <td>1023</td>\n",
       "      <td>7</td>\n",
       "      <td>23</td>\n",
       "      <td>1</td>\n",
       "      <td>1507</td>\n",
       "      <td>FR</td>\n",
       "      <td>Entertainment</td>\n",
       "      <td>FR</td>\n",
       "      <td>French</td>\n",
       "      <td>False</td>\n",
       "      <td>False</td>\n",
       "      <td>False</td>\n",
       "      <td>False</td>\n",
       "      <td>JustTrending</td>\n",
       "      <td>JustTrending</td>\n",
       "    </tr>\n",
       "    <tr>\n",
       "      <th>31248</th>\n",
       "      <td>2.016667</td>\n",
       "      <td>45470</td>\n",
       "      <td>0</td>\n",
       "      <td>0</td>\n",
       "      <td>0</td>\n",
       "      <td>0</td>\n",
       "      <td>3321</td>\n",
       "      <td>JP</td>\n",
       "      <td>Entertainment</td>\n",
       "      <td>JP</td>\n",
       "      <td>Others</td>\n",
       "      <td>True</td>\n",
       "      <td>True</td>\n",
       "      <td>False</td>\n",
       "      <td>False</td>\n",
       "      <td>Popular</td>\n",
       "      <td>Popular</td>\n",
       "    </tr>\n",
       "    <tr>\n",
       "      <th>107272</th>\n",
       "      <td>46.666667</td>\n",
       "      <td>78290</td>\n",
       "      <td>296</td>\n",
       "      <td>41</td>\n",
       "      <td>49</td>\n",
       "      <td>1</td>\n",
       "      <td>4201</td>\n",
       "      <td>DE</td>\n",
       "      <td>Entertainment</td>\n",
       "      <td>IN</td>\n",
       "      <td>Hindi</td>\n",
       "      <td>False</td>\n",
       "      <td>False</td>\n",
       "      <td>True</td>\n",
       "      <td>False</td>\n",
       "      <td>JustTrending</td>\n",
       "      <td>JustTrending</td>\n",
       "    </tr>\n",
       "    <tr>\n",
       "      <th>82496</th>\n",
       "      <td>9.033333</td>\n",
       "      <td>63252</td>\n",
       "      <td>5004</td>\n",
       "      <td>60</td>\n",
       "      <td>1088</td>\n",
       "      <td>1</td>\n",
       "      <td>1812</td>\n",
       "      <td>DE</td>\n",
       "      <td>Entertainment</td>\n",
       "      <td>DE</td>\n",
       "      <td>German</td>\n",
       "      <td>False</td>\n",
       "      <td>False</td>\n",
       "      <td>True</td>\n",
       "      <td>False</td>\n",
       "      <td>Popular</td>\n",
       "      <td>JustTrending</td>\n",
       "    </tr>\n",
       "    <tr>\n",
       "      <th>4525</th>\n",
       "      <td>2.100000</td>\n",
       "      <td>278147</td>\n",
       "      <td>10515</td>\n",
       "      <td>245</td>\n",
       "      <td>814</td>\n",
       "      <td>1</td>\n",
       "      <td>1602</td>\n",
       "      <td>CA</td>\n",
       "      <td>Comedy</td>\n",
       "      <td>Others</td>\n",
       "      <td>English</td>\n",
       "      <td>False</td>\n",
       "      <td>False</td>\n",
       "      <td>False</td>\n",
       "      <td>True</td>\n",
       "      <td>JustTrending</td>\n",
       "      <td>JustTrending</td>\n",
       "    </tr>\n",
       "  </tbody>\n",
       "</table>\n",
       "</div>"
      ],
      "text/plain": [
       "         Duration   Views  Likes  Dislikes  Comment_Count  \\\n",
       "132397   3.633333    9390    880        13             88   \n",
       "54369   33.316667   20673    817        17             77   \n",
       "89208   11.416667   33008   2029       127            265   \n",
       "38657   22.483333  458103  37045      4601           5616   \n",
       "17645   12.883333   44402    597        20              0   \n",
       "27308    2.966667   29152   1023         7             23   \n",
       "31248    2.016667   45470      0         0              0   \n",
       "107272  46.666667   78290    296        41             49   \n",
       "82496    9.033333   63252   5004        60           1088   \n",
       "4525     2.100000  278147  10515       245            814   \n",
       "\n",
       "        Trended_After(Days)  PublishedAfter_in_Days viewing_country  \\\n",
       "132397                    0                    2630              RU   \n",
       "54369                     1                     212              DE   \n",
       "89208                     1                     855              FR   \n",
       "38657                     1                    1618              RU   \n",
       "17645                     1                    3014              CA   \n",
       "27308                     1                    1507              FR   \n",
       "31248                     0                    3321              JP   \n",
       "107272                    1                    4201              DE   \n",
       "82496                     1                    1812              DE   \n",
       "4525                      1                    1602              CA   \n",
       "\n",
       "                Category Origin_Country   Language  Comments_Disabled  \\\n",
       "132397   News & Politics             RU  Icelandic              False   \n",
       "54369   Film & Animation             DE    English              False   \n",
       "89208     People & Blogs             CA    English              False   \n",
       "38657   Autos & Vehicles             RU    Russian              False   \n",
       "17645    News & Politics             US    English               True   \n",
       "27308      Entertainment             FR     French              False   \n",
       "31248      Entertainment             JP     Others               True   \n",
       "107272     Entertainment             IN      Hindi              False   \n",
       "82496      Entertainment             DE     German              False   \n",
       "4525              Comedy         Others    English              False   \n",
       "\n",
       "        Ratings_Disabled  GoogleAnalyticsUsed  IsmoderatingComments  \\\n",
       "132397             False                False                  True   \n",
       "54369              False                False                  True   \n",
       "89208              False                False                 False   \n",
       "38657              False                False                 False   \n",
       "17645              False                 True                 False   \n",
       "27308              False                False                 False   \n",
       "31248               True                False                 False   \n",
       "107272             False                 True                 False   \n",
       "82496              False                 True                 False   \n",
       "4525               False                False                  True   \n",
       "\n",
       "       Popularity_Category Predicted_Popularity  \n",
       "132397        JustTrending         JustTrending  \n",
       "54369         JustTrending         JustTrending  \n",
       "89208         JustTrending         JustTrending  \n",
       "38657              Popular              Popular  \n",
       "17645         JustTrending         JustTrending  \n",
       "27308         JustTrending         JustTrending  \n",
       "31248              Popular              Popular  \n",
       "107272        JustTrending         JustTrending  \n",
       "82496              Popular         JustTrending  \n",
       "4525          JustTrending         JustTrending  "
      ]
     },
     "execution_count": 183,
     "metadata": {},
     "output_type": "execute_result"
    }
   ],
   "source": [
    "Random = DF.sample(n = 10, random_state=100) \n",
    "\n",
    "Random_Test=Random[num_columns+cat_columns]\n",
    "To_encode = pd.concat([NO_DUP_DF, Random_Test])\n",
    "To_encode.reset_index(drop=True, inplace=True)\n",
    "\n",
    "\n",
    "encoded,_ = encoding(To_encode, list_of_label_encoding=None, list_of_onehot_encoding=cat_columns, drop_first_col=bin_columns)   \n",
    "Random_encoded = encoded.iloc[-len(Random):,:]\n",
    "Random_encoded = Random_encoded[model.get_booster().feature_names]\n",
    "Random_pred=model.predict(Random_encoded)\n",
    "\n",
    "Dict_Label_Enc['Popularity_Category'].inverse_transform(Random_pred)\n",
    "\n",
    "Random.loc[:,'Predicted_Popularity'] = Dict_Label_Enc['Popularity_Category'].inverse_transform(Random_pred)\n",
    "\n",
    "Random[num_columns+cat_columns+target+['Predicted_Popularity']]\n"
   ]
  }
 ],
 "metadata": {
  "kernelspec": {
   "display_name": "Python 3",
   "language": "python",
   "name": "python3"
  },
  "language_info": {
   "codemirror_mode": {
    "name": "ipython",
    "version": 3
   },
   "file_extension": ".py",
   "mimetype": "text/x-python",
   "name": "python",
   "nbconvert_exporter": "python",
   "pygments_lexer": "ipython3",
   "version": "3.8.1"
  }
 },
 "nbformat": 4,
 "nbformat_minor": 4
}
